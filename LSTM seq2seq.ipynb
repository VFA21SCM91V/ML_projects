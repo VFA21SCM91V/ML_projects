{
  "nbformat": 4,
  "nbformat_minor": 0,
  "metadata": {
    "colab": {
      "name": "Untitled2.ipynb",
      "provenance": [],
      "machine_shape": "hm",
      "authorship_tag": "ABX9TyM0lJCXexIbbQ0b5uzEONXj",
      "include_colab_link": true
    },
    "kernelspec": {
      "name": "python3",
      "display_name": "Python 3"
    },
    "language_info": {
      "name": "python"
    },
    "accelerator": "GPU"
  },
  "cells": [
    {
      "cell_type": "markdown",
      "metadata": {
        "id": "view-in-github",
        "colab_type": "text"
      },
      "source": [
        "<a href=\"https://colab.research.google.com/github/VFA21SCM91V/ML_projects/blob/main/LSTM%20seq2seq.ipynb\" target=\"_parent\"><img src=\"https://colab.research.google.com/assets/colab-badge.svg\" alt=\"Open In Colab\"/></a>"
      ]
    },
    {
      "cell_type": "code",
      "metadata": {
        "colab": {
          "base_uri": "https://localhost:8080/"
        },
        "id": "nHIbn9ARx9AB",
        "outputId": "5a4e70b7-7d11-4022-f870-0a1292a2099d"
      },
      "source": [
        "!pip install sentencepiece\n",
        "!pip install plotly"
      ],
      "execution_count": 1,
      "outputs": [
        {
          "output_type": "stream",
          "name": "stdout",
          "text": [
            "Collecting sentencepiece\n",
            "  Downloading sentencepiece-0.1.96-cp37-cp37m-manylinux_2_17_x86_64.manylinux2014_x86_64.whl (1.2 MB)\n",
            "\u001b[?25l\r\u001b[K     |▎                               | 10 kB 25.4 MB/s eta 0:00:01\r\u001b[K     |▌                               | 20 kB 20.6 MB/s eta 0:00:01\r\u001b[K     |▉                               | 30 kB 11.1 MB/s eta 0:00:01\r\u001b[K     |█                               | 40 kB 9.1 MB/s eta 0:00:01\r\u001b[K     |█▍                              | 51 kB 4.2 MB/s eta 0:00:01\r\u001b[K     |█▋                              | 61 kB 4.0 MB/s eta 0:00:01\r\u001b[K     |██                              | 71 kB 3.9 MB/s eta 0:00:01\r\u001b[K     |██▏                             | 81 kB 4.4 MB/s eta 0:00:01\r\u001b[K     |██▍                             | 92 kB 4.8 MB/s eta 0:00:01\r\u001b[K     |██▊                             | 102 kB 4.1 MB/s eta 0:00:01\r\u001b[K     |███                             | 112 kB 4.1 MB/s eta 0:00:01\r\u001b[K     |███▎                            | 122 kB 4.1 MB/s eta 0:00:01\r\u001b[K     |███▌                            | 133 kB 4.1 MB/s eta 0:00:01\r\u001b[K     |███▉                            | 143 kB 4.1 MB/s eta 0:00:01\r\u001b[K     |████                            | 153 kB 4.1 MB/s eta 0:00:01\r\u001b[K     |████▎                           | 163 kB 4.1 MB/s eta 0:00:01\r\u001b[K     |████▋                           | 174 kB 4.1 MB/s eta 0:00:01\r\u001b[K     |████▉                           | 184 kB 4.1 MB/s eta 0:00:01\r\u001b[K     |█████▏                          | 194 kB 4.1 MB/s eta 0:00:01\r\u001b[K     |█████▍                          | 204 kB 4.1 MB/s eta 0:00:01\r\u001b[K     |█████▊                          | 215 kB 4.1 MB/s eta 0:00:01\r\u001b[K     |██████                          | 225 kB 4.1 MB/s eta 0:00:01\r\u001b[K     |██████▏                         | 235 kB 4.1 MB/s eta 0:00:01\r\u001b[K     |██████▌                         | 245 kB 4.1 MB/s eta 0:00:01\r\u001b[K     |██████▊                         | 256 kB 4.1 MB/s eta 0:00:01\r\u001b[K     |███████                         | 266 kB 4.1 MB/s eta 0:00:01\r\u001b[K     |███████▎                        | 276 kB 4.1 MB/s eta 0:00:01\r\u001b[K     |███████▋                        | 286 kB 4.1 MB/s eta 0:00:01\r\u001b[K     |███████▉                        | 296 kB 4.1 MB/s eta 0:00:01\r\u001b[K     |████████                        | 307 kB 4.1 MB/s eta 0:00:01\r\u001b[K     |████████▍                       | 317 kB 4.1 MB/s eta 0:00:01\r\u001b[K     |████████▋                       | 327 kB 4.1 MB/s eta 0:00:01\r\u001b[K     |█████████                       | 337 kB 4.1 MB/s eta 0:00:01\r\u001b[K     |█████████▏                      | 348 kB 4.1 MB/s eta 0:00:01\r\u001b[K     |█████████▌                      | 358 kB 4.1 MB/s eta 0:00:01\r\u001b[K     |█████████▊                      | 368 kB 4.1 MB/s eta 0:00:01\r\u001b[K     |██████████                      | 378 kB 4.1 MB/s eta 0:00:01\r\u001b[K     |██████████▎                     | 389 kB 4.1 MB/s eta 0:00:01\r\u001b[K     |██████████▌                     | 399 kB 4.1 MB/s eta 0:00:01\r\u001b[K     |██████████▉                     | 409 kB 4.1 MB/s eta 0:00:01\r\u001b[K     |███████████                     | 419 kB 4.1 MB/s eta 0:00:01\r\u001b[K     |███████████▍                    | 430 kB 4.1 MB/s eta 0:00:01\r\u001b[K     |███████████▋                    | 440 kB 4.1 MB/s eta 0:00:01\r\u001b[K     |███████████▉                    | 450 kB 4.1 MB/s eta 0:00:01\r\u001b[K     |████████████▏                   | 460 kB 4.1 MB/s eta 0:00:01\r\u001b[K     |████████████▍                   | 471 kB 4.1 MB/s eta 0:00:01\r\u001b[K     |████████████▊                   | 481 kB 4.1 MB/s eta 0:00:01\r\u001b[K     |█████████████                   | 491 kB 4.1 MB/s eta 0:00:01\r\u001b[K     |█████████████▎                  | 501 kB 4.1 MB/s eta 0:00:01\r\u001b[K     |█████████████▌                  | 512 kB 4.1 MB/s eta 0:00:01\r\u001b[K     |█████████████▊                  | 522 kB 4.1 MB/s eta 0:00:01\r\u001b[K     |██████████████                  | 532 kB 4.1 MB/s eta 0:00:01\r\u001b[K     |██████████████▎                 | 542 kB 4.1 MB/s eta 0:00:01\r\u001b[K     |██████████████▋                 | 552 kB 4.1 MB/s eta 0:00:01\r\u001b[K     |██████████████▉                 | 563 kB 4.1 MB/s eta 0:00:01\r\u001b[K     |███████████████▏                | 573 kB 4.1 MB/s eta 0:00:01\r\u001b[K     |███████████████▍                | 583 kB 4.1 MB/s eta 0:00:01\r\u001b[K     |███████████████▋                | 593 kB 4.1 MB/s eta 0:00:01\r\u001b[K     |████████████████                | 604 kB 4.1 MB/s eta 0:00:01\r\u001b[K     |████████████████▏               | 614 kB 4.1 MB/s eta 0:00:01\r\u001b[K     |████████████████▌               | 624 kB 4.1 MB/s eta 0:00:01\r\u001b[K     |████████████████▊               | 634 kB 4.1 MB/s eta 0:00:01\r\u001b[K     |█████████████████               | 645 kB 4.1 MB/s eta 0:00:01\r\u001b[K     |█████████████████▎              | 655 kB 4.1 MB/s eta 0:00:01\r\u001b[K     |█████████████████▌              | 665 kB 4.1 MB/s eta 0:00:01\r\u001b[K     |█████████████████▉              | 675 kB 4.1 MB/s eta 0:00:01\r\u001b[K     |██████████████████              | 686 kB 4.1 MB/s eta 0:00:01\r\u001b[K     |██████████████████▍             | 696 kB 4.1 MB/s eta 0:00:01\r\u001b[K     |██████████████████▋             | 706 kB 4.1 MB/s eta 0:00:01\r\u001b[K     |███████████████████             | 716 kB 4.1 MB/s eta 0:00:01\r\u001b[K     |███████████████████▏            | 727 kB 4.1 MB/s eta 0:00:01\r\u001b[K     |███████████████████▍            | 737 kB 4.1 MB/s eta 0:00:01\r\u001b[K     |███████████████████▊            | 747 kB 4.1 MB/s eta 0:00:01\r\u001b[K     |████████████████████            | 757 kB 4.1 MB/s eta 0:00:01\r\u001b[K     |████████████████████▎           | 768 kB 4.1 MB/s eta 0:00:01\r\u001b[K     |████████████████████▌           | 778 kB 4.1 MB/s eta 0:00:01\r\u001b[K     |████████████████████▉           | 788 kB 4.1 MB/s eta 0:00:01\r\u001b[K     |█████████████████████           | 798 kB 4.1 MB/s eta 0:00:01\r\u001b[K     |█████████████████████▎          | 808 kB 4.1 MB/s eta 0:00:01\r\u001b[K     |█████████████████████▋          | 819 kB 4.1 MB/s eta 0:00:01\r\u001b[K     |█████████████████████▉          | 829 kB 4.1 MB/s eta 0:00:01\r\u001b[K     |██████████████████████▏         | 839 kB 4.1 MB/s eta 0:00:01\r\u001b[K     |██████████████████████▍         | 849 kB 4.1 MB/s eta 0:00:01\r\u001b[K     |██████████████████████▊         | 860 kB 4.1 MB/s eta 0:00:01\r\u001b[K     |███████████████████████         | 870 kB 4.1 MB/s eta 0:00:01\r\u001b[K     |███████████████████████▏        | 880 kB 4.1 MB/s eta 0:00:01\r\u001b[K     |███████████████████████▌        | 890 kB 4.1 MB/s eta 0:00:01\r\u001b[K     |███████████████████████▊        | 901 kB 4.1 MB/s eta 0:00:01\r\u001b[K     |████████████████████████        | 911 kB 4.1 MB/s eta 0:00:01\r\u001b[K     |████████████████████████▎       | 921 kB 4.1 MB/s eta 0:00:01\r\u001b[K     |████████████████████████▋       | 931 kB 4.1 MB/s eta 0:00:01\r\u001b[K     |████████████████████████▉       | 942 kB 4.1 MB/s eta 0:00:01\r\u001b[K     |█████████████████████████       | 952 kB 4.1 MB/s eta 0:00:01\r\u001b[K     |█████████████████████████▍      | 962 kB 4.1 MB/s eta 0:00:01\r\u001b[K     |█████████████████████████▋      | 972 kB 4.1 MB/s eta 0:00:01\r\u001b[K     |██████████████████████████      | 983 kB 4.1 MB/s eta 0:00:01\r\u001b[K     |██████████████████████████▏     | 993 kB 4.1 MB/s eta 0:00:01\r\u001b[K     |██████████████████████████▌     | 1.0 MB 4.1 MB/s eta 0:00:01\r\u001b[K     |██████████████████████████▊     | 1.0 MB 4.1 MB/s eta 0:00:01\r\u001b[K     |███████████████████████████     | 1.0 MB 4.1 MB/s eta 0:00:01\r\u001b[K     |███████████████████████████▎    | 1.0 MB 4.1 MB/s eta 0:00:01\r\u001b[K     |███████████████████████████▌    | 1.0 MB 4.1 MB/s eta 0:00:01\r\u001b[K     |███████████████████████████▉    | 1.1 MB 4.1 MB/s eta 0:00:01\r\u001b[K     |████████████████████████████    | 1.1 MB 4.1 MB/s eta 0:00:01\r\u001b[K     |████████████████████████████▍   | 1.1 MB 4.1 MB/s eta 0:00:01\r\u001b[K     |████████████████████████████▋   | 1.1 MB 4.1 MB/s eta 0:00:01\r\u001b[K     |████████████████████████████▉   | 1.1 MB 4.1 MB/s eta 0:00:01\r\u001b[K     |█████████████████████████████▏  | 1.1 MB 4.1 MB/s eta 0:00:01\r\u001b[K     |█████████████████████████████▍  | 1.1 MB 4.1 MB/s eta 0:00:01\r\u001b[K     |█████████████████████████████▊  | 1.1 MB 4.1 MB/s eta 0:00:01\r\u001b[K     |██████████████████████████████  | 1.1 MB 4.1 MB/s eta 0:00:01\r\u001b[K     |██████████████████████████████▎ | 1.1 MB 4.1 MB/s eta 0:00:01\r\u001b[K     |██████████████████████████████▌ | 1.2 MB 4.1 MB/s eta 0:00:01\r\u001b[K     |██████████████████████████████▊ | 1.2 MB 4.1 MB/s eta 0:00:01\r\u001b[K     |███████████████████████████████ | 1.2 MB 4.1 MB/s eta 0:00:01\r\u001b[K     |███████████████████████████████▎| 1.2 MB 4.1 MB/s eta 0:00:01\r\u001b[K     |███████████████████████████████▋| 1.2 MB 4.1 MB/s eta 0:00:01\r\u001b[K     |███████████████████████████████▉| 1.2 MB 4.1 MB/s eta 0:00:01\r\u001b[K     |████████████████████████████████| 1.2 MB 4.1 MB/s \n",
            "\u001b[?25hInstalling collected packages: sentencepiece\n",
            "Successfully installed sentencepiece-0.1.96\n",
            "Requirement already satisfied: plotly in /usr/local/lib/python3.7/dist-packages (4.4.1)\n",
            "Requirement already satisfied: six in /usr/local/lib/python3.7/dist-packages (from plotly) (1.15.0)\n",
            "Requirement already satisfied: retrying>=1.3.3 in /usr/local/lib/python3.7/dist-packages (from plotly) (1.3.3)\n"
          ]
        }
      ]
    },
    {
      "cell_type": "code",
      "metadata": {
        "id": "NivZ0EYXx89F"
      },
      "source": [
        ""
      ],
      "execution_count": 1,
      "outputs": []
    },
    {
      "cell_type": "code",
      "metadata": {
        "id": "_fGIGE3XdBvq"
      },
      "source": [
        "import numpy as np # linear algebra\n",
        "import pandas as pd # data processing, CSV file I/O (e.g. pd.read_csv)\n"
      ],
      "execution_count": 2,
      "outputs": []
    },
    {
      "cell_type": "code",
      "metadata": {
        "id": "LLQguk2gx393"
      },
      "source": [
        "import sentencepiece as sp\n",
        "import time\n",
        "import plotly.graph_objs as go\n",
        "from plotly.offline import init_notebook_mode, iplot\n",
        "from numpy.random import shuffle"
      ],
      "execution_count": 3,
      "outputs": []
    },
    {
      "cell_type": "code",
      "metadata": {
        "colab": {
          "resources": {
            "http://localhost:8080/nbextensions/google.colab/files.js": {
              "data": "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",
              "ok": true,
              "headers": [
                [
                  "content-type",
                  "application/javascript"
                ]
              ],
              "status": 200,
              "status_text": ""
            }
          },
          "base_uri": "https://localhost:8080/",
          "height": 73
        },
        "id": "UHdte12qyF9z",
        "outputId": "13eb74c5-8762-45e5-d6e5-9b0638d8b571"
      },
      "source": [
        "from google.colab import files\n",
        "uploaded = files.upload()"
      ],
      "execution_count": 4,
      "outputs": [
        {
          "output_type": "display_data",
          "data": {
            "text/html": [
              "\n",
              "     <input type=\"file\" id=\"files-463e3536-3d27-4f43-84d6-a860582b944e\" name=\"files[]\" multiple disabled\n",
              "        style=\"border:none\" />\n",
              "     <output id=\"result-463e3536-3d27-4f43-84d6-a860582b944e\">\n",
              "      Upload widget is only available when the cell has been executed in the\n",
              "      current browser session. Please rerun this cell to enable.\n",
              "      </output>\n",
              "      <script src=\"/nbextensions/google.colab/files.js\"></script> "
            ],
            "text/plain": [
              "<IPython.core.display.HTML object>"
            ]
          },
          "metadata": {}
        },
        {
          "output_type": "stream",
          "name": "stdout",
          "text": [
            "Saving cmn.txt to cmn.txt\n"
          ]
        }
      ]
    },
    {
      "cell_type": "code",
      "metadata": {
        "id": "mHPYz9f-yJkM"
      },
      "source": [
        "data_path = \"cmn.txt\""
      ],
      "execution_count": 5,
      "outputs": []
    },
    {
      "cell_type": "code",
      "metadata": {
        "colab": {
          "base_uri": "https://localhost:8080/"
        },
        "id": "YdfpjR3qyR5v",
        "outputId": "c86f81e2-e579-4f06-c14d-ff331dfd2bb2"
      },
      "source": [
        "start_time = time.time()\n",
        "train_df = pd.read_csv(data_path, sep='\\t', names=[\"EN\",\"NL\"])\n",
        "print(f\"File loading time: {time.time()-start_time}\")\n",
        "print(train_df.shape)"
      ],
      "execution_count": 6,
      "outputs": [
        {
          "output_type": "stream",
          "name": "stdout",
          "text": [
            "File loading time: 0.03905224800109863\n",
            "(26388, 2)\n"
          ]
        }
      ]
    },
    {
      "cell_type": "code",
      "metadata": {
        "colab": {
          "base_uri": "https://localhost:8080/",
          "height": 203
        },
        "id": "XfhEMPgsyddm",
        "outputId": "9198c5c3-4f8c-4445-a02d-7c16b9abbb86"
      },
      "source": [
        "train_df.head()"
      ],
      "execution_count": 7,
      "outputs": [
        {
          "output_type": "execute_result",
          "data": {
            "text/html": [
              "<div>\n",
              "<style scoped>\n",
              "    .dataframe tbody tr th:only-of-type {\n",
              "        vertical-align: middle;\n",
              "    }\n",
              "\n",
              "    .dataframe tbody tr th {\n",
              "        vertical-align: top;\n",
              "    }\n",
              "\n",
              "    .dataframe thead th {\n",
              "        text-align: right;\n",
              "    }\n",
              "</style>\n",
              "<table border=\"1\" class=\"dataframe\">\n",
              "  <thead>\n",
              "    <tr style=\"text-align: right;\">\n",
              "      <th></th>\n",
              "      <th>EN</th>\n",
              "      <th>NL</th>\n",
              "    </tr>\n",
              "  </thead>\n",
              "  <tbody>\n",
              "    <tr>\n",
              "      <th>0</th>\n",
              "      <td>Hi.</td>\n",
              "      <td>嗨 。</td>\n",
              "    </tr>\n",
              "    <tr>\n",
              "      <th>1</th>\n",
              "      <td>Hi.</td>\n",
              "      <td>你好 。</td>\n",
              "    </tr>\n",
              "    <tr>\n",
              "      <th>2</th>\n",
              "      <td>Run.</td>\n",
              "      <td>你 用 跑 的 。</td>\n",
              "    </tr>\n",
              "    <tr>\n",
              "      <th>3</th>\n",
              "      <td>Wait!</td>\n",
              "      <td>等等 ！</td>\n",
              "    </tr>\n",
              "    <tr>\n",
              "      <th>4</th>\n",
              "      <td>Wait!</td>\n",
              "      <td>等 一下 ！</td>\n",
              "    </tr>\n",
              "  </tbody>\n",
              "</table>\n",
              "</div>"
            ],
            "text/plain": [
              "      EN         NL\n",
              "0    Hi.        嗨 。\n",
              "1    Hi.       你好 。\n",
              "2   Run.  你 用 跑 的 。\n",
              "3  Wait!       等等 ！\n",
              "4  Wait!     等 一下 ！"
            ]
          },
          "metadata": {},
          "execution_count": 7
        }
      ]
    },
    {
      "cell_type": "code",
      "metadata": {
        "colab": {
          "base_uri": "https://localhost:8080/",
          "height": 35
        },
        "id": "4keYdqMS3s0Q",
        "outputId": "e85b2356-02f6-4d6f-aea1-1230168ce7ca"
      },
      "source": [
        "train_df.iloc[-1, 1]"
      ],
      "execution_count": 19,
      "outputs": [
        {
          "output_type": "execute_result",
          "data": {
            "application/vnd.google.colaboratory.intrinsic+json": {
              "type": "string"
            },
            "text/plain": [
              "'如果 一個 人 在 成人 前 沒 有 機會習 得 目標 語言 ， 他 對 該 語言 的 認識 達 到 母語者 程度 的 機會 是 相當 小 的 。'"
            ]
          },
          "metadata": {},
          "execution_count": 19
        }
      ]
    },
    {
      "cell_type": "code",
      "metadata": {
        "id": "Fh2nTf1Gyk4c"
      },
      "source": [
        "def write_trainer_file(col, filename):\n",
        "    texts = list(col.values)\n",
        "    with open(filename, 'w',encoding='utf-8') as f:\n",
        "        for text in texts:\n",
        "            f.write(text + \"\\n\")"
      ],
      "execution_count": 8,
      "outputs": []
    },
    {
      "cell_type": "code",
      "metadata": {
        "id": "01q1bUiXynth"
      },
      "source": [
        "en_sp_trainer = \"en_spm.txt\"\n",
        "write_trainer_file(train_df[\"EN\"], en_sp_trainer)"
      ],
      "execution_count": 9,
      "outputs": []
    },
    {
      "cell_type": "code",
      "metadata": {
        "id": "WUaBnfU1ypPx"
      },
      "source": [
        "nl_sp_trainer = \"nl_spm.txt\"\n",
        "write_trainer_file(train_df[\"NL\"], nl_sp_trainer)"
      ],
      "execution_count": 10,
      "outputs": []
    },
    {
      "cell_type": "code",
      "metadata": {
        "id": "tBf8KpobyrwO"
      },
      "source": [
        "def createSPModel(trainer_file, model_prefix, vocab_size, sp):\n",
        "    spm_train_param = f\"--input={trainer_file} --model_prefix={model_prefix} --vocab_size={vocab_size}\"\n",
        "    sp.SentencePieceTrainer.Train(spm_train_param)\n",
        "    lang_sp = sp.SentencePieceProcessor()\n",
        "    lang_sp.Load(f\"{model_prefix}.model\")\n",
        "    return lang_sp"
      ],
      "execution_count": 11,
      "outputs": []
    },
    {
      "cell_type": "code",
      "metadata": {
        "id": "e2XJVG3TywCb"
      },
      "source": [
        "en_sp = createSPModel(en_sp_trainer, \"en_sp\", 6100, sp)"
      ],
      "execution_count": 13,
      "outputs": []
    },
    {
      "cell_type": "code",
      "metadata": {
        "colab": {
          "base_uri": "https://localhost:8080/"
        },
        "id": "r5hE-oZyyxXa",
        "outputId": "34485807-ee66-434d-c522-e6482a5654d3"
      },
      "source": [
        "print(en_sp.EncodeAsPieces(\"This is a test.\"))\n",
        "print(en_sp.EncodeAsIds(\"This is a test.\"))\n",
        "print(en_sp.DecodeIds(en_sp.EncodeAsIds(\"This is a test.\")))"
      ],
      "execution_count": 14,
      "outputs": [
        {
          "output_type": "stream",
          "name": "stdout",
          "text": [
            "['▁Thi', 's', '▁is', '▁a', '▁test', '.']\n",
            "[79, 10, 12, 8, 748, 3]\n",
            "This is a test.\n"
          ]
        }
      ]
    },
    {
      "cell_type": "code",
      "metadata": {
        "id": "iDMmdwEWyy07"
      },
      "source": [
        "nl_sp = createSPModel(nl_sp_trainer, \"nl_sp\", 6500, sp)"
      ],
      "execution_count": 16,
      "outputs": []
    },
    {
      "cell_type": "code",
      "metadata": {
        "colab": {
          "base_uri": "https://localhost:8080/"
        },
        "id": "RuDNF4ery008",
        "outputId": "1361f3ea-c9b0-47a8-e0a7-135173611e97"
      },
      "source": [
        "nl_sp.EncodeAsPieces(\"如果 一個 人 在 成人 前 沒 有 機會習 得 目標 語言 ， 他 對 該 語言 的 認識 達 到 母語者 程度 的 機會 是 相當 小 的 。\")"
      ],
      "execution_count": 20,
      "outputs": [
        {
          "output_type": "execute_result",
          "data": {
            "text/plain": [
              "['▁如',\n",
              " '果',\n",
              " '▁一個',\n",
              " '▁人',\n",
              " '▁在',\n",
              " '▁成',\n",
              " '人',\n",
              " '▁前',\n",
              " '▁沒',\n",
              " '▁有',\n",
              " '▁機會',\n",
              " '習',\n",
              " '▁得',\n",
              " '▁目',\n",
              " '標',\n",
              " '▁語言',\n",
              " '▁',\n",
              " ',',\n",
              " '▁他',\n",
              " '▁對',\n",
              " '▁該',\n",
              " '▁語言',\n",
              " '▁的',\n",
              " '▁認識',\n",
              " '▁達',\n",
              " '▁到',\n",
              " '▁母語',\n",
              " '者',\n",
              " '▁程',\n",
              " '度',\n",
              " '▁的',\n",
              " '▁機會',\n",
              " '▁是',\n",
              " '▁相',\n",
              " '當',\n",
              " '▁小',\n",
              " '▁的',\n",
              " '▁。']"
            ]
          },
          "metadata": {},
          "execution_count": 20
        }
      ]
    },
    {
      "cell_type": "code",
      "metadata": {
        "id": "84HMuFogy2SU"
      },
      "source": [
        "from keras.preprocessing.sequence import pad_sequences\n",
        "from keras.models import Sequential\n",
        "from keras.layers import Dense, LSTM, Embedding, RepeatVector\n",
        "from keras.callbacks import ModelCheckpoint\n",
        "from keras.models import load_model\n",
        "from keras import optimizers\n",
        "from sklearn.model_selection import train_test_split\n",
        "import tensorflow as tf"
      ],
      "execution_count": 21,
      "outputs": []
    },
    {
      "cell_type": "code",
      "metadata": {
        "id": "yvBr9ikiy9fV"
      },
      "source": [
        "def encode_sentence(df, lang, spm):\n",
        "    lang_pieces = []\n",
        "    lang_lens = []\n",
        "    for index, row in df.iterrows():\n",
        "        lang_piece = spm.EncodeAsIds(row[lang])\n",
        "        lang_pieces.append(lang_piece)\n",
        "        lang_lens.append(len(lang_piece)) \n",
        "    df[f\"{lang}_pieces\"] = lang_pieces\n",
        "    df[f\"{lang}_len\"] = lang_lens"
      ],
      "execution_count": 22,
      "outputs": []
    },
    {
      "cell_type": "code",
      "metadata": {
        "colab": {
          "base_uri": "https://localhost:8080/"
        },
        "id": "LlaBfchcy-3m",
        "outputId": "380edc2a-7c53-4144-ad1e-adc9ce9f1beb"
      },
      "source": [
        "start_time = time.time()\n",
        "encode_sentence(train_df, \"EN\", en_sp)\n",
        "encode_sentence(train_df, \"NL\", nl_sp)\n",
        "print(f\"Encoding time: {time.time()-start_time} sec\")"
      ],
      "execution_count": 23,
      "outputs": [
        {
          "output_type": "stream",
          "name": "stdout",
          "text": [
            "Encoding time: 4.119035005569458 sec\n"
          ]
        }
      ]
    },
    {
      "cell_type": "code",
      "metadata": {
        "colab": {
          "base_uri": "https://localhost:8080/",
          "height": 287
        },
        "id": "doqoYqlHzBJy",
        "outputId": "1fc15ab2-ad34-4155-b92a-1e5f3c0e4311"
      },
      "source": [
        "train_df.tail()"
      ],
      "execution_count": 24,
      "outputs": [
        {
          "output_type": "execute_result",
          "data": {
            "text/html": [
              "<div>\n",
              "<style scoped>\n",
              "    .dataframe tbody tr th:only-of-type {\n",
              "        vertical-align: middle;\n",
              "    }\n",
              "\n",
              "    .dataframe tbody tr th {\n",
              "        vertical-align: top;\n",
              "    }\n",
              "\n",
              "    .dataframe thead th {\n",
              "        text-align: right;\n",
              "    }\n",
              "</style>\n",
              "<table border=\"1\" class=\"dataframe\">\n",
              "  <thead>\n",
              "    <tr style=\"text-align: right;\">\n",
              "      <th></th>\n",
              "      <th>EN</th>\n",
              "      <th>NL</th>\n",
              "      <th>EN_pieces</th>\n",
              "      <th>EN_len</th>\n",
              "      <th>NL_pieces</th>\n",
              "      <th>NL_len</th>\n",
              "    </tr>\n",
              "  </thead>\n",
              "  <tbody>\n",
              "    <tr>\n",
              "      <th>26383</th>\n",
              "      <td>Tom didn't know how to translate the word \"com...</td>\n",
              "      <td>汤姆 不知 如何 翻译 “ 计算机 ” 一词 ， 因为 同 他 谈话 的 人 从未见过 一台 。</td>\n",
              "      <td>[14, 52, 19, 5, 13, 55, 185, 6, 1604, 7, 538, ...</td>\n",
              "      <td>27</td>\n",
              "      <td>[15, 3458, 120, 466, 2129, 325, 3373, 330, 18,...</td>\n",
              "      <td>26</td>\n",
              "    </tr>\n",
              "    <tr>\n",
              "      <th>26384</th>\n",
              "      <td>Even now, I occasionally think I'd like to see...</td>\n",
              "      <td>即使 是 现在 ， 我 偶尔 还是 想 见到 你 。 不是 今天 的 你 ， 而是 我 记忆...</td>\n",
              "      <td>[995, 19, 109, 21, 4, 2037, 73, 4, 5, 44, 39, ...</td>\n",
              "      <td>32</td>\n",
              "      <td>[1957, 1156, 12, 189, 41, 4, 16, 5, 1784, 1457...</td>\n",
              "      <td>33</td>\n",
              "    </tr>\n",
              "    <tr>\n",
              "      <th>26385</th>\n",
              "      <td>It's very easy to sound natural in your own na...</td>\n",
              "      <td>你 很 容易 把 母语 说 得 通顺 流畅 ， 却 很 容易 把 非 母语 说 得 不 自然 。</td>\n",
              "      <td>[50, 5, 10, 64, 376, 6, 885, 1605, 264, 16, 34...</td>\n",
              "      <td>32</td>\n",
              "      <td>[8, 19, 445, 413, 42, 422, 530, 52, 78, 427, 3...</td>\n",
              "      <td>28</td>\n",
              "    </tr>\n",
              "    <tr>\n",
              "      <th>26386</th>\n",
              "      <td>I got fired from the company, but since I have...</td>\n",
              "      <td>虽然 我 被 公司 解雇 了 ， 但是 我 还 有点 存款 ， 所以 目前 不用 担心 生计...</td>\n",
              "      <td>[4, 102, 1413, 84, 7, 662, 21, 136, 609, 4, 23...</td>\n",
              "      <td>33</td>\n",
              "      <td>[4, 2280, 320, 5, 74, 770, 492, 3518, 7, 4, 16...</td>\n",
              "      <td>30</td>\n",
              "    </tr>\n",
              "    <tr>\n",
              "      <th>26387</th>\n",
              "      <td>If a person has not had a chance to acquire hi...</td>\n",
              "      <td>如果 一個 人 在 成人 前 沒 有 機會習 得 目標 語言 ， 他 對 該 語言 的 認識...</td>\n",
              "      <td>[4, 166, 8, 342, 58, 51, 80, 8, 635, 6, 4359, ...</td>\n",
              "      <td>40</td>\n",
              "      <td>[120, 114, 88, 39, 11, 203, 33, 271, 75, 17, 1...</td>\n",
              "      <td>38</td>\n",
              "    </tr>\n",
              "  </tbody>\n",
              "</table>\n",
              "</div>"
            ],
            "text/plain": [
              "                                                      EN  ... NL_len\n",
              "26383  Tom didn't know how to translate the word \"com...  ...     26\n",
              "26384  Even now, I occasionally think I'd like to see...  ...     33\n",
              "26385  It's very easy to sound natural in your own na...  ...     28\n",
              "26386  I got fired from the company, but since I have...  ...     30\n",
              "26387  If a person has not had a chance to acquire hi...  ...     38\n",
              "\n",
              "[5 rows x 6 columns]"
            ]
          },
          "metadata": {},
          "execution_count": 24
        }
      ]
    },
    {
      "cell_type": "code",
      "metadata": {
        "id": "5wXFmUqLzC1k"
      },
      "source": [
        "def plotLangLen(lang1, lang2):\n",
        "    trace1 = go.Histogram(\n",
        "        x=train_df[f\"{lang1}_len\"].values,\n",
        "        opacity=0.75,\n",
        "        name = f\"Length of {lang1} sentences\",\n",
        "        marker=dict(color='rgba(171, 50, 96, 0.6)'))\n",
        "    trace2 = go.Histogram(\n",
        "        x=train_df[f\"{lang2}_len\"].values,\n",
        "        opacity=0.75,\n",
        "        name = f\"Length of {lang2} sentences\",\n",
        "        marker=dict(color='rgba(12, 50, 196, 0.6)'))\n",
        "\n",
        "    data = [trace1, trace2]\n",
        "    layout = go.Layout(barmode='overlay',\n",
        "                       title=f\"Lengths of {lang1} and {lang2} sentences\",\n",
        "                       xaxis=dict(title='Length'),\n",
        "                       yaxis=dict( title='Count'),\n",
        "    )\n",
        "    fig = go.Figure(data=data, layout=layout)\n",
        "    iplot(fig, config={'showLink': True})"
      ],
      "execution_count": 25,
      "outputs": []
    },
    {
      "cell_type": "code",
      "metadata": {
        "colab": {
          "base_uri": "https://localhost:8080/",
          "height": 542
        },
        "id": "TRfPqoSxzKZK",
        "outputId": "219748ca-8cb7-4f4f-f32d-a633ed403803"
      },
      "source": [
        "plotLangLen(\"EN\", \"NL\")"
      ],
      "execution_count": 26,
      "outputs": [
        {
          "output_type": "display_data",
          "data": {
            "text/html": [
              "<html>\n",
              "<head><meta charset=\"utf-8\" /></head>\n",
              "<body>\n",
              "    <div>\n",
              "            <script src=\"https://cdnjs.cloudflare.com/ajax/libs/mathjax/2.7.5/MathJax.js?config=TeX-AMS-MML_SVG\"></script><script type=\"text/javascript\">if (window.MathJax) {MathJax.Hub.Config({SVG: {font: \"STIX-Web\"}});}</script>\n",
              "                <script type=\"text/javascript\">window.PlotlyConfig = {MathJaxConfig: 'local'};</script>\n",
              "        <script src=\"https://cdn.plot.ly/plotly-latest.min.js\"></script>    \n",
              "            <div id=\"8e1def5e-068d-4fef-a012-e9844c340407\" class=\"plotly-graph-div\" style=\"height:525px; width:100%;\"></div>\n",
              "            <script type=\"text/javascript\">\n",
              "                \n",
              "                    window.PLOTLYENV=window.PLOTLYENV || {};\n",
              "                    window.PLOTLYENV.BASE_URL='https://plot.ly';\n",
              "                    \n",
              "                if (document.getElementById(\"8e1def5e-068d-4fef-a012-e9844c340407\")) {\n",
              "                    Plotly.newPlot(\n",
              "                        '8e1def5e-068d-4fef-a012-e9844c340407',\n",
              "                        [{\"marker\": {\"color\": \"rgba(171, 50, 96, 0.6)\"}, \"name\": \"Length of EN sentences\", \"opacity\": 0.75, \"type\": \"histogram\", \"x\": [2, 2, 2, 2, 2, 2, 2, 3, 3, 3, 3, 4, 3, 3, 3, 3, 3, 5, 5, 2, 3, 3, 3, 2, 4, 3, 3, 4, 3, 3, 3, 3, 3, 3, 4, 4, 3, 3, 3, 3, 3, 3, 3, 3, 2, 2, 4, 4, 4, 3, 3, 4, 4, 4, 4, 4, 4, 3, 5, 5, 5, 5, 5, 4, 4, 3, 3, 3, 4, 4, 3, 4, 4, 3, 3, 2, 3, 3, 3, 3, 4, 4, 3, 4, 4, 3, 3, 3, 3, 3, 3, 3, 3, 3, 3, 3, 4, 4, 3, 3, 3, 4, 3, 3, 3, 4, 3, 3, 5, 5, 5, 5, 5, 5, 5, 5, 5, 5, 5, 5, 5, 3, 5, 5, 5, 3, 4, 3, 3, 3, 4, 3, 3, 3, 3, 3, 3, 3, 4, 4, 4, 4, 5, 3, 4, 4, 4, 4, 4, 3, 3, 4, 4, 6, 4, 4, 4, 4, 4, 4, 3, 3, 4, 4, 4, 6, 6, 4, 3, 3, 4, 4, 4, 4, 3, 4, 4, 4, 3, 3, 4, 4, 5, 6, 5, 5, 5, 6, 5, 5, 5, 4, 3, 3, 7, 5, 5, 5, 5, 5, 4, 4, 4, 4, 3, 4, 4, 4, 4, 3, 4, 3, 3, 3, 3, 3, 3, 4, 3, 3, 3, 3, 3, 3, 3, 3, 5, 3, 3, 3, 5, 4, 4, 3, 3, 3, 3, 3, 5, 3, 3, 4, 4, 4, 4, 3, 4, 4, 4, 3, 6, 6, 6, 6, 5, 4, 4, 4, 3, 3, 5, 5, 5, 4, 4, 4, 4, 5, 3, 5, 3, 5, 4, 4, 4, 6, 4, 4, 5, 5, 4, 4, 4, 4, 4, 4, 4, 4, 4, 4, 4, 4, 4, 4, 4, 6, 6, 6, 5, 5, 5, 5, 5, 5, 6, 5, 5, 4, 4, 4, 4, 5, 5, 3, 4, 5, 5, 4, 4, 4, 4, 4, 4, 4, 5, 5, 5, 3, 3, 3, 3, 3, 3, 4, 4, 4, 3, 3, 3, 3, 3, 5, 3, 3, 5, 3, 3, 3, 4, 4, 4, 3, 6, 5, 5, 4, 3, 4, 5, 5, 4, 4, 5, 4, 4, 4, 4, 5, 5, 4, 4, 4, 4, 4, 4, 4, 4, 3, 4, 4, 4, 3, 4, 4, 5, 6, 6, 6, 6, 6, 6, 6, 6, 3, 3, 3, 4, 4, 6, 5, 4, 4, 4, 4, 3, 3, 4, 5, 6, 6, 4, 4, 4, 4, 4, 4, 4, 4, 4, 4, 4, 4, 4, 4, 4, 4, 4, 4, 3, 3, 4, 4, 4, 4, 4, 4, 4, 4, 4, 5, 6, 8, 7, 6, 6, 5, 5, 5, 5, 5, 5, 5, 4, 4, 4, 4, 4, 4, 4, 6, 6, 6, 5, 4, 4, 4, 5, 5, 5, 5, 5, 3, 5, 4, 4, 5, 4, 5, 4, 4, 4, 4, 4, 4, 4, 5, 5, 5, 5, 5, 5, 3, 3, 5, 4, 3, 4, 4, 4, 4, 3, 4, 4, 5, 5, 5, 5, 5, 4, 5, 4, 4, 4, 4, 4, 4, 4, 4, 4, 4, 4, 4, 5, 5, 5, 5, 5, 5, 4, 5, 4, 4, 5, 5, 5, 4, 5, 4, 5, 5, 5, 4, 4, 4, 4, 4, 4, 4, 4, 4, 3, 3, 4, 5, 5, 4, 4, 4, 4, 4, 4, 4, 4, 4, 7, 7, 6, 7, 3, 3, 4, 4, 5, 3, 3, 3, 4, 5, 4, 4, 4, 6, 3, 3, 5, 4, 5, 4, 5, 5, 4, 4, 5, 5, 7, 4, 6, 6, 6, 6, 5, 4, 5, 5, 5, 5, 4, 5, 4, 4, 4, 4, 5, 5, 5, 5, 3, 3, 5, 5, 5, 6, 6, 5, 6, 6, 5, 6, 6, 7, 6, 6, 6, 5, 6, 6, 6, 6, 6, 6, 6, 5, 5, 6, 6, 4, 4, 4, 4, 4, 4, 4, 5, 5, 5, 5, 5, 5, 6, 6, 4, 4, 4, 4, 4, 4, 6, 5, 3, 4, 4, 5, 4, 5, 4, 4, 3, 3, 5, 4, 4, 4, 4, 5, 5, 5, 4, 6, 4, 4, 4, 3, 4, 4, 5, 3, 3, 3, 4, 3, 4, 4, 4, 4, 5, 4, 5, 5, 5, 5, 3, 6, 5, 5, 5, 5, 5, 5, 5, 3, 4, 4, 4, 4, 4, 4, 4, 4, 4, 4, 4, 5, 5, 5, 5, 5, 5, 5, 5, 5, 4, 4, 4, 4, 4, 3, 3, 3, 5, 6, 5, 6, 5, 3, 3, 4, 4, 4, 4, 4, 4, 4, 4, 4, 4, 5, 4, 4, 4, 4, 4, 4, 4, 4, 4, 5, 4, 4, 5, 4, 4, 4, 4, 5, 7, 7, 7, 7, 5, 5, 4, 5, 6, 6, 5, 5, 5, 5, 5, 5, 5, 5, 5, 5, 5, 4, 4, 4, 6, 5, 4, 4, 4, 4, 3, 4, 6, 5, 5, 4, 5, 7, 7, 6, 4, 5, 7, 7, 6, 4, 5, 5, 5, 5, 5, 5, 5, 4, 5, 5, 5, 4, 4, 4, 4, 4, 5, 5, 4, 5, 4, 4, 5, 5, 5, 6, 5, 5, 5, 5, 5, 5, 6, 6, 6, 6, 8, 8, 6, 6, 5, 5, 5, 7, 7, 6, 6, 6, 6, 6, 6, 4, 4, 4, 4, 5, 4, 6, 6, 4, 4, 4, 4, 4, 5, 6, 6, 5, 6, 5, 6, 6, 6, 6, 6, 6, 6, 6, 5, 5, 5, 5, 6, 5, 5, 5, 5, 5, 5, 5, 5, 5, 5, 7, 5, 6, 5, 4, 5, 4, 4, 4, 4, 4, 5, 5, 5, 4, 4, 6, 6, 6, 6, 5, 5, 4, 3, 3, 5, 3, 4, 3, 3, 4, 4, 4, 5, 4, 4, 6, 4, 4, 4, 4, 5, 7, 5, 4, 4, 5, 5, 4, 7, 4, 3, 6, 4, 4, 4, 5, 4, 4, 7, 4, 4, 5, 3, 4, 4, 4, 4, 5, 4, 4, 5, 5, 4, 5, 4, 5, 3, 4, 4, 6, 6, 5, 5, 5, 5, 5, 5, 5, 4, 5, 4, 5, 4, 4, 4, 4, 4, 4, 4, 4, 4, 5, 6, 6, 5, 6, 5, 6, 4, 4, 4, 7, 7, 7, 5, 5, 4, 5, 6, 6, 5, 5, 5, 5, 5, 5, 5, 5, 5, 4, 5, 5, 5, 5, 5, 5, 5, 5, 5, 5, 5, 5, 5, 4, 4, 7, 5, 3, 5, 5, 3, 5, 5, 4, 4, 5, 4, 6, 6, 6, 4, 5, 4, 4, 4, 5, 5, 5, 4, 7, 6, 5, 5, 5, 4, 6, 6, 5, 5, 5, 5, 5, 6, 6, 5, 5, 4, 5, 5, 4, 7, 5, 4, 5, 5, 5, 4, 5, 5, 5, 5, 5, 5, 5, 5, 5, 5, 5, 4, 4, 4, 4, 4, 5, 5, 5, 5, 4, 5, 6, 4, 5, 5, 5, 5, 5, 7, 5, 5, 4, 5, 5, 5, 5, 4, 5, 4, 5, 5, 5, 4, 7, 5, 7, 6, 6, 6, 7, 7, 6, 6, 7, 7, 8, 6, 6, 6, 6, 6, 7, 6, 6, 8, 6, 6, 6, 6, 7, 6, 6, 6, 6, 6, 4, 5, 4, 4, 7, 5, 5, 5, 6, 5, 5, 6, 6, 6, 6, 6, 7, 7, 6, 6, 6, 6, 6, 6, 6, 4, 4, 5, 5, 5, 6, 4, 4, 5, 5, 5, 5, 6, 6, 6, 4, 5, 5, 5, 5, 5, 5, 5, 5, 5, 4, 5, 5, 4, 4, 5, 4, 5, 5, 5, 4, 4, 4, 4, 5, 4, 3, 4, 4, 5, 4, 4, 4, 6, 5, 6, 5, 6, 6, 6, 4, 5, 5, 4, 5, 5, 5, 5, 5, 4, 4, 4, 4, 4, 6, 6, 6, 6, 4, 6, 6, 6, 5, 5, 4, 5, 4, 5, 5, 5, 4, 7, 4, 4, 4, 4, 4, 5, 4, 4, 4, 6, 7, 6, 6, 5, 6, 5, 6, 6, 4, 4, 4, 3, 4, 5, 5, 4, 4, 5, 6, 6, 7, 5, 5, 4, 4, 5, 6, 6, 5, 4, 6, 6, 5, 5, 5, 6, 5, 5, 4, 5, 4, 4, 5, 5, 6, 6, 5, 6, 5, 5, 5, 4, 4, 4, 4, 4, 6, 4, 4, 4, 7, 6, 5, 4, 4, 5, 5, 5, 6, 5, 5, 5, 5, 5, 5, 5, 5, 5, 5, 5, 5, 5, 5, 6, 6, 3, 3, 3, 6, 4, 4, 5, 5, 5, 5, 5, 5, 5, 4, 4, 7, 7, 7, 7, 7, 8, 7, 7, 7, 3, 3, 5, 6, 5, 6, 6, 6, 4, 5, 4, 5, 5, 5, 5, 7, 5, 5, 5, 5, 5, 5, 4, 4, 4, 4, 5, 5, 5, 4, 5, 4, 7, 7, 7, 7, 7, 6, 6, 6, 6, 6, 5, 5, 5, 3, 4, 5, 5, 5, 3, 6, 5, 6, 5, 5, 5, 5, 6, 5, 4, 6, 5, 5, 5, 6, 5, 5, 7, 7, 5, 7, 7, 4, 4, 6, 5, 4, 5, 4, 5, 5, 5, 5, 5, 6, 7, 6, 5, 4, 4, 5, 5, 5, 5, 4, 5, 6, 5, 5, 5, 5, 4, 6, 5, 5, 6, 4, 5, 5, 5, 5, 7, 6, 6, 5, 5, 5, 5, 5, 4, 7, 5, 5, 4, 6, 7, 6, 6, 6, 7, 8, 6, 6, 7, 7, 7, 7, 7, 6, 6, 6, 7, 7, 6, 6, 7, 6, 6, 6, 6, 6, 6, 6, 6, 6, 6, 6, 6, 7, 6, 6, 4, 5, 5, 5, 4, 4, 5, 5, 5, 4, 5, 7, 6, 4, 5, 4, 5, 6, 6, 7, 7, 7, 6, 7, 7, 6, 6, 5, 6, 7, 7, 6, 7, 7, 6, 5, 5, 5, 8, 4, 6, 5, 5, 4, 6, 7, 6, 6, 6, 5, 4, 5, 5, 6, 5, 5, 4, 7, 5, 6, 5, 6, 5, 9, 4, 5, 5, 4, 5, 5, 5, 6, 8, 6, 4, 5, 5, 3, 5, 6, 4, 4, 5, 4, 4, 6, 7, 7, 5, 6, 5, 5, 5, 7, 5, 6, 6, 6, 5, 6, 6, 5, 5, 5, 5, 5, 6, 6, 6, 5, 6, 4, 5, 5, 5, 5, 4, 5, 7, 6, 6, 6, 6, 6, 5, 8, 8, 8, 8, 4, 5, 4, 3, 4, 4, 5, 4, 5, 4, 6, 6, 6, 5, 5, 5, 5, 4, 5, 5, 4, 4, 5, 7, 7, 4, 4, 4, 5, 5, 5, 4, 4, 4, 7, 4, 7, 4, 5, 6, 6, 6, 5, 4, 4, 4, 7, 5, 5, 6, 5, 5, 4, 4, 5, 5, 6, 7, 6, 4, 5, 5, 5, 5, 4, 5, 5, 5, 5, 5, 5, 6, 6, 6, 5, 5, 5, 6, 5, 5, 4, 4, 5, 5, 5, 5, 5, 5, 4, 5, 5, 5, 5, 4, 4, 4, 6, 6, 6, 6, 6, 6, 6, 6, 7, 6, 5, 6, 6, 6, 7, 6, 5, 5, 4, 5, 5, 4, 5, 5, 6, 5, 5, 5, 4, 5, 5, 4, 4, 4, 4, 7, 6, 6, 5, 6, 5, 4, 5, 5, 5, 5, 4, 5, 5, 5, 5, 5, 5, 5, 5, 6, 6, 5, 5, 5, 5, 5, 5, 6, 5, 5, 5, 5, 4, 6, 7, 8, 5, 5, 5, 3, 4, 3, 6, 4, 5, 6, 6, 6, 6, 4, 6, 5, 5, 5, 5, 5, 5, 5, 5, 5, 4, 5, 5, 6, 5, 5, 5, 5, 4, 5, 5, 8, 5, 5, 4, 4, 4, 5, 5, 5, 5, 4, 5, 6, 5, 4, 5, 7, 7, 6, 5, 5, 6, 5, 6, 5, 5, 5, 5, 5, 5, 6, 5, 5, 6, 6, 5, 5, 7, 5, 5, 5, 5, 5, 5, 5, 7, 7, 7, 7, 6, 6, 7, 4, 5, 7, 7, 8, 8, 8, 8, 5, 7, 7, 7, 7, 7, 6, 7, 6, 5, 6, 4, 5, 6, 5, 5, 5, 6, 5, 7, 5, 5, 4, 5, 5, 5, 4, 5, 5, 5, 5, 5, 5, 5, 5, 5, 5, 5, 6, 5, 5, 5, 6, 5, 5, 6, 5, 7, 6, 6, 6, 7, 7, 8, 7, 8, 8, 6, 8, 6, 8, 7, 7, 7, 7, 7, 7, 8, 7, 6, 6, 6, 6, 6, 6, 6, 7, 7, 7, 5, 4, 4, 7, 5, 5, 5, 5, 5, 5, 5, 5, 7, 5, 5, 7, 6, 8, 7, 7, 7, 7, 7, 6, 7, 7, 7, 7, 7, 7, 6, 6, 6, 6, 6, 5, 6, 5, 6, 7, 6, 7, 7, 4, 3, 6, 5, 5, 5, 6, 5, 6, 6, 6, 6, 7, 5, 6, 5, 5, 5, 5, 6, 4, 4, 4, 3, 6, 6, 7, 7, 6, 6, 5, 5, 5, 5, 7, 4, 5, 4, 5, 5, 5, 6, 6, 6, 5, 5, 6, 5, 4, 6, 5, 4, 5, 5, 4, 5, 5, 6, 6, 5, 7, 5, 5, 5, 7, 6, 7, 6, 6, 6, 6, 5, 5, 5, 5, 4, 5, 5, 5, 6, 5, 5, 5, 5, 5, 5, 5, 5, 6, 6, 6, 5, 7, 4, 5, 4, 5, 6, 5, 5, 6, 7, 10, 6, 6, 6, 6, 6, 6, 6, 6, 8, 7, 7, 6, 6, 5, 5, 5, 5, 4, 5, 5, 6, 5, 4, 6, 7, 5, 5, 6, 5, 5, 6, 5, 8, 8, 7, 4, 5, 5, 7, 4, 5, 4, 4, 4, 4, 4, 5, 4, 6, 6, 6, 5, 6, 5, 5, 5, 5, 5, 5, 5, 4, 5, 5, 5, 5, 6, 4, 4, 6, 6, 6, 6, 6, 5, 7, 7, 7, 6, 7, 4, 5, 5, 5, 5, 5, 5, 5, 5, 5, 5, 5, 5, 5, 5, 5, 6, 6, 6, 6, 6, 5, 5, 6, 6, 6, 6, 4, 5, 5, 6, 5, 5, 5, 5, 5, 5, 7, 5, 5, 5, 7, 5, 7, 6, 6, 7, 6, 7, 5, 5, 5, 5, 7, 6, 4, 5, 5, 5, 5, 5, 5, 5, 5, 5, 5, 6, 5, 8, 5, 6, 6, 5, 5, 5, 5, 6, 5, 4, 6, 4, 6, 8, 6, 6, 6, 6, 6, 6, 5, 5, 5, 5, 5, 5, 5, 5, 5, 6, 6, 6, 5, 5, 5, 5, 4, 4, 8, 8, 8, 8, 8, 7, 7, 5, 4, 3, 4, 4, 4, 4, 6, 5, 6, 6, 6, 5, 4, 4, 5, 6, 5, 5, 6, 5, 6, 7, 5, 4, 7, 6, 5, 5, 5, 7, 6, 5, 6, 6, 6, 5, 6, 5, 4, 6, 6, 5, 5, 6, 5, 6, 5, 4, 6, 8, 9, 7, 7, 6, 4, 5, 5, 6, 7, 5, 5, 5, 6, 5, 5, 5, 5, 5, 7, 5, 5, 7, 6, 8, 6, 6, 5, 5, 5, 5, 5, 6, 6, 6, 6, 5, 5, 7, 7, 7, 7, 6, 8, 6, 7, 7, 7, 7, 7, 7, 7, 7, 7, 7, 7, 7, 7, 6, 6, 6, 5, 6, 4, 5, 5, 5, 5, 5, 5, 6, 5, 5, 6, 5, 7, 8, 6, 6, 6, 5, 5, 6, 5, 5, 5, 5, 5, 5, 6, 5, 5, 6, 5, 5, 6, 6, 6, 6, 5, 6, 5, 6, 5, 5, 7, 7, 7, 8, 8, 5, 6, 6, 6, 5, 6, 5, 5, 5, 5, 6, 6, 8, 5, 7, 6, 5, 5, 6, 6, 7, 8, 7, 7, 7, 7, 7, 7, 8, 7, 6, 6, 7, 7, 6, 7, 7, 9, 7, 6, 8, 8, 7, 7, 7, 6, 4, 6, 5, 5, 5, 6, 6, 5, 6, 6, 5, 7, 7, 8, 6, 5, 7, 6, 8, 7, 7, 7, 6, 6, 6, 7, 7, 7, 6, 7, 6, 6, 6, 6, 7, 6, 7, 7, 7, 5, 6, 7, 7, 5, 5, 6, 5, 6, 6, 5, 5, 7, 7, 5, 5, 5, 5, 4, 5, 6, 6, 5, 5, 4, 6, 7, 5, 5, 5, 5, 6, 6, 5, 6, 8, 5, 5, 5, 6, 4, 4, 4, 4, 5, 4, 6, 8, 7, 6, 7, 5, 5, 6, 6, 5, 5, 5, 5, 7, 5, 7, 5, 6, 6, 6, 6, 6, 5, 5, 4, 5, 4, 5, 6, 6, 5, 5, 4, 5, 6, 5, 4, 5, 5, 5, 5, 5, 5, 5, 7, 4, 5, 4, 6, 6, 6, 6, 6, 6, 8, 6, 5, 5, 5, 7, 6, 6, 6, 6, 6, 6, 6, 6, 9, 9, 7, 6, 6, 4, 5, 5, 7, 4, 5, 6, 6, 7, 5, 5, 5, 6, 5, 4, 6, 6, 5, 7, 6, 5, 5, 4, 6, 5, 7, 7, 7, 5, 5, 5, 4, 5, 5, 6, 5, 5, 5, 5, 5, 5, 5, 5, 5, 5, 5, 8, 5, 5, 7, 6, 6, 6, 6, 7, 8, 4, 5, 5, 4, 5, 7, 5, 6, 5, 4, 5, 5, 5, 5, 6, 5, 7, 7, 7, 6, 6, 6, 6, 5, 5, 5, 5, 5, 5, 5, 5, 6, 6, 6, 6, 7, 6, 6, 6, 6, 5, 4, 5, 5, 5, 5, 5, 5, 5, 6, 5, 5, 5, 5, 6, 6, 6, 4, 5, 5, 6, 6, 6, 6, 6, 6, 6, 6, 5, 5, 5, 5, 5, 5, 5, 5, 5, 5, 7, 6, 5, 5, 6, 5, 5, 5, 5, 5, 5, 5, 5, 6, 5, 5, 5, 5, 5, 5, 5, 7, 5, 7, 6, 6, 7, 6, 5, 5, 5, 5, 6, 5, 5, 7, 5, 5, 6, 6, 6, 6, 5, 5, 5, 5, 8, 6, 5, 5, 5, 5, 6, 6, 5, 5, 5, 5, 5, 5, 6, 6, 5, 5, 8, 8, 8, 8, 9, 8, 4, 4, 4, 4, 4, 4, 4, 3, 5, 7, 6, 6, 6, 6, 5, 5, 5, 5, 5, 5, 5, 5, 6, 6, 8, 5, 6, 7, 6, 6, 5, 8, 4, 6, 6, 5, 5, 6, 6, 4, 5, 6, 6, 6, 5, 6, 6, 5, 5, 5, 7, 4, 5, 5, 5, 5, 7, 8, 7, 7, 7, 10, 7, 6, 8, 7, 6, 5, 5, 5, 6, 5, 6, 6, 6, 5, 5, 5, 6, 5, 4, 6, 6, 6, 8, 9, 6, 6, 6, 8, 6, 5, 5, 6, 6, 7, 7, 7, 7, 5, 8, 8, 8, 7, 8, 8, 8, 7, 7, 8, 6, 6, 6, 4, 5, 4, 6, 5, 5, 6, 7, 7, 6, 7, 6, 5, 5, 6, 5, 6, 6, 6, 6, 6, 6, 6, 5, 6, 6, 5, 5, 5, 5, 5, 6, 6, 6, 8, 5, 4, 4, 5, 5, 6, 5, 5, 5, 5, 5, 6, 6, 5, 6, 6, 6, 5, 5, 5, 5, 6, 6, 6, 6, 6, 6, 6, 7, 7, 6, 6, 5, 6, 5, 6, 5, 7, 7, 6, 6, 6, 5, 6, 7, 6, 5, 7, 7, 7, 7, 7, 7, 7, 7, 7, 8, 7, 7, 7, 7, 7, 7, 8, 6, 6, 9, 7, 7, 7, 7, 6, 7, 7, 8, 8, 6, 8, 9, 7, 9, 8, 6, 8, 7, 7, 7, 7, 7, 4, 5, 5, 4, 5, 4, 5, 5, 6, 5, 5, 5, 6, 8, 7, 7, 7, 7, 7, 7, 6, 6, 6, 6, 6, 7, 6, 6, 5, 6, 6, 5, 5, 6, 5, 6, 6, 6, 7, 7, 7, 7, 6, 5, 5, 5, 4, 7, 6, 6, 6, 6, 7, 9, 7, 6, 6, 6, 7, 6, 6, 6, 5, 5, 4, 4, 4, 5, 6, 6, 8, 6, 7, 5, 6, 6, 6, 5, 5, 5, 5, 5, 5, 6, 5, 5, 5, 4, 6, 6, 6, 6, 4, 6, 5, 5, 4, 8, 8, 7, 6, 7, 6, 4, 5, 5, 5, 4, 4, 5, 5, 8, 7, 6, 5, 8, 6, 5, 5, 7, 7, 7, 7, 5, 7, 7, 7, 6, 7, 7, 7, 5, 6, 5, 6, 5, 6, 5, 5, 5, 8, 5, 5, 5, 5, 6, 5, 5, 5, 5, 5, 6, 6, 6, 7, 5, 7, 8, 8, 7, 6, 5, 4, 5, 5, 5, 5, 5, 4, 6, 6, 6, 6, 6, 6, 6, 6, 8, 6, 7, 5, 6, 6, 6, 6, 7, 6, 6, 9, 9, 6, 6, 6, 6, 6, 5, 4, 5, 5, 5, 6, 4, 5, 6, 6, 6, 5, 5, 5, 6, 6, 6, 6, 5, 6, 5, 9, 5, 7, 5, 9, 8, 5, 5, 4, 4, 6, 5, 7, 5, 5, 4, 5, 5, 5, 7, 7, 5, 7, 7, 6, 5, 5, 5, 5, 6, 5, 7, 8, 7, 7, 5, 5, 5, 6, 4, 6, 5, 5, 4, 5, 5, 6, 5, 5, 6, 6, 7, 6, 6, 6, 7, 7, 6, 6, 6, 6, 5, 6, 5, 5, 5, 5, 5, 4, 6, 4, 5, 5, 4, 5, 5, 6, 6, 7, 7, 6, 5, 5, 5, 5, 5, 5, 5, 5, 5, 5, 5, 5, 5, 5, 5, 5, 6, 6, 5, 5, 5, 5, 5, 5, 5, 5, 5, 5, 5, 6, 6, 6, 6, 6, 6, 5, 5, 5, 6, 7, 6, 6, 5, 5, 5, 6, 6, 6, 5, 5, 7, 5, 7, 5, 5, 6, 7, 5, 5, 7, 4, 6, 4, 5, 5, 5, 5, 5, 5, 5, 5, 6, 5, 5, 6, 6, 6, 7, 7, 7, 6, 6, 7, 6, 6, 9, 7, 7, 8, 6, 5, 5, 5, 5, 5, 5, 5, 7, 8, 8, 6, 6, 5, 4, 5, 7, 6, 5, 6, 5, 6, 6, 6, 6, 6, 6, 5, 5, 6, 5, 6, 6, 6, 5, 6, 6, 8, 8, 8, 8, 8, 8, 6, 5, 5, 4, 4, 5, 4, 5, 4, 4, 5, 9, 6, 6, 6, 6, 6, 5, 5, 5, 5, 6, 5, 6, 6, 5, 8, 6, 6, 8, 6, 5, 6, 6, 6, 6, 6, 6, 6, 6, 7, 6, 6, 6, 5, 7, 7, 5, 6, 6, 5, 5, 4, 6, 6, 6, 6, 6, 6, 5, 5, 5, 6, 5, 6, 6, 7, 7, 7, 7, 7, 8, 8, 6, 5, 8, 7, 5, 5, 8, 6, 5, 6, 6, 6, 6, 6, 6, 6, 6, 6, 5, 8, 6, 6, 6, 7, 6, 7, 5, 9, 6, 6, 7, 6, 5, 5, 6, 7, 7, 7, 8, 8, 8, 6, 5, 5, 5, 8, 8, 5, 7, 6, 5, 8, 7, 7, 7, 7, 7, 8, 8, 6, 6, 6, 6, 6, 6, 7, 5, 5, 6, 6, 6, 7, 7, 6, 5, 6, 6, 6, 6, 5, 6, 6, 9, 6, 6, 5, 6, 6, 6, 6, 5, 7, 5, 6, 5, 5, 6, 5, 7, 6, 5, 5, 6, 5, 6, 7, 7, 6, 7, 5, 5, 5, 5, 5, 5, 5, 6, 9, 6, 6, 6, 7, 6, 7, 8, 8, 7, 7, 7, 7, 7, 9, 8, 7, 7, 7, 7, 7, 6, 9, 8, 7, 7, 7, 7, 7, 7, 7, 7, 8, 7, 7, 7, 8, 7, 9, 8, 8, 7, 7, 7, 7, 7, 7, 7, 7, 7, 8, 8, 7, 7, 7, 7, 8, 7, 6, 5, 6, 5, 5, 5, 5, 5, 5, 8, 5, 4, 5, 4, 6, 7, 6, 6, 5, 7, 7, 7, 6, 8, 6, 8, 6, 7, 5, 5, 6, 8, 8, 7, 7, 6, 6, 6, 6, 9, 5, 5, 5, 5, 6, 5, 7, 6, 6, 5, 6, 7, 6, 6, 6, 9, 7, 6, 7, 5, 5, 7, 7, 8, 8, 5, 6, 6, 6, 6, 6, 6, 5, 5, 7, 6, 5, 5, 6, 8, 8, 6, 7, 10, 5, 6, 7, 6, 6, 6, 6, 6, 6, 6, 6, 5, 5, 5, 6, 4, 6, 5, 4, 8, 5, 5, 5, 5, 5, 6, 5, 5, 8, 8, 7, 7, 6, 7, 6, 6, 5, 5, 6, 6, 5, 6, 5, 5, 5, 6, 5, 6, 6, 6, 6, 5, 7, 6, 7, 7, 7, 6, 4, 7, 6, 7, 7, 6, 7, 7, 7, 6, 6, 6, 6, 7, 7, 7, 7, 7, 6, 8, 6, 6, 6, 5, 7, 8, 5, 4, 5, 6, 7, 5, 6, 6, 5, 5, 6, 4, 5, 5, 7, 6, 7, 6, 6, 6, 6, 6, 6, 5, 6, 6, 6, 5, 5, 7, 5, 5, 5, 6, 6, 7, 6, 5, 5, 5, 7, 5, 5, 5, 4, 6, 4, 5, 6, 6, 6, 6, 5, 6, 5, 5, 5, 7, 5, 6, 7, 7, 6, 7, 7, 6, 7, 7, 7, 5, 7, 5, 5, 8, 5, 5, 6, 6, 6, 6, 6, 6, 7, 7, 6, 6, 7, 5, 7, 5, 5, 5, 5, 6, 5, 6, 5, 4, 7, 6, 6, 5, 5, 5, 6, 8, 8, 8, 7, 6, 5, 6, 5, 5, 5, 5, 5, 5, 5, 5, 5, 5, 5, 8, 6, 5, 5, 5, 5, 5, 5, 5, 6, 6, 6, 5, 6, 6, 6, 6, 6, 6, 8, 6, 8, 5, 6, 6, 5, 6, 7, 6, 4, 5, 5, 5, 6, 4, 5, 5, 5, 5, 6, 5, 5, 5, 5, 5, 6, 6, 5, 5, 5, 5, 5, 5, 7, 7, 7, 7, 7, 7, 6, 6, 6, 6, 5, 5, 5, 5, 5, 6, 7, 5, 6, 5, 6, 6, 7, 6, 6, 6, 6, 6, 5, 7, 5, 6, 7, 6, 6, 5, 5, 6, 6, 6, 5, 7, 5, 6, 5, 5, 7, 8, 6, 5, 6, 5, 4, 6, 6, 6, 9, 5, 5, 5, 6, 7, 6, 6, 5, 5, 8, 6, 5, 5, 6, 5, 6, 5, 5, 5, 5, 5, 8, 8, 7, 9, 9, 8, 9, 8, 9, 8, 8, 5, 5, 4, 4, 8, 5, 6, 6, 5, 6, 4, 7, 5, 5, 5, 5, 7, 6, 6, 5, 6, 7, 7, 6, 5, 6, 6, 7, 5, 5, 5, 6, 6, 7, 6, 8, 7, 6, 6, 6, 5, 5, 5, 8, 6, 5, 6, 5, 6, 6, 6, 6, 7, 5, 6, 7, 5, 6, 7, 6, 6, 6, 5, 6, 6, 6, 7, 8, 7, 8, 7, 7, 5, 5, 8, 7, 6, 6, 5, 6, 6, 6, 6, 8, 6, 7, 6, 6, 6, 6, 5, 5, 7, 8, 5, 5, 5, 4, 6, 6, 6, 7, 6, 7, 6, 8, 5, 6, 6, 6, 7, 7, 7, 6, 8, 7, 8, 8, 8, 8, 8, 8, 8, 7, 8, 8, 9, 5, 7, 8, 8, 7, 7, 7, 7, 8, 8, 7, 6, 7, 6, 5, 7, 7, 7, 6, 5, 6, 6, 5, 6, 7, 6, 6, 6, 8, 6, 7, 5, 6, 6, 6, 6, 7, 6, 7, 6, 5, 6, 7, 6, 7, 6, 6, 5, 6, 6, 7, 6, 7, 6, 6, 6, 6, 7, 10, 7, 8, 6, 7, 5, 6, 6, 7, 6, 5, 5, 6, 5, 6, 6, 8, 7, 6, 7, 7, 7, 6, 8, 5, 6, 6, 7, 6, 6, 6, 6, 6, 5, 8, 6, 6, 6, 6, 8, 6, 9, 8, 8, 7, 7, 8, 8, 8, 8, 7, 7, 8, 8, 7, 8, 8, 8, 9, 8, 8, 7, 8, 8, 8, 8, 7, 6, 8, 7, 7, 8, 8, 6, 7, 8, 8, 7, 9, 9, 8, 7, 7, 7, 7, 7, 7, 8, 7, 8, 8, 9, 8, 7, 5, 6, 5, 6, 6, 6, 7, 5, 6, 6, 7, 8, 6, 5, 5, 6, 6, 7, 6, 7, 8, 8, 8, 9, 6, 8, 8, 8, 12, 7, 6, 6, 7, 6, 7, 7, 6, 6, 6, 7, 8, 7, 7, 7, 6, 6, 5, 6, 6, 7, 6, 6, 6, 7, 4, 9, 6, 7, 7, 6, 8, 7, 7, 6, 6, 6, 6, 6, 5, 8, 6, 6, 6, 6, 8, 6, 6, 6, 6, 6, 6, 6, 6, 5, 6, 6, 7, 5, 6, 6, 6, 7, 7, 6, 7, 6, 5, 7, 6, 6, 6, 6, 6, 6, 6, 6, 7, 7, 7, 8, 7, 7, 7, 6, 5, 5, 4, 6, 6, 7, 4, 5, 6, 5, 6, 5, 8, 6, 7, 7, 5, 6, 8, 7, 5, 5, 6, 6, 5, 8, 6, 6, 8, 6, 5, 6, 6, 9, 5, 7, 7, 6, 7, 5, 5, 8, 5, 6, 5, 5, 8, 5, 4, 6, 7, 6, 6, 5, 6, 7, 6, 7, 7, 7, 7, 10, 8, 9, 8, 8, 7, 6, 6, 7, 7, 6, 6, 5, 5, 5, 6, 8, 7, 6, 7, 5, 5, 5, 6, 5, 6, 7, 6, 6, 6, 6, 5, 6, 4, 6, 6, 7, 5, 5, 6, 6, 5, 5, 6, 4, 5, 6, 5, 6, 6, 6, 5, 6, 7, 6, 6, 6, 7, 6, 6, 7, 5, 5, 5, 8, 6, 7, 6, 6, 7, 6, 10, 6, 6, 5, 8, 8, 6, 6, 5, 6, 5, 6, 6, 6, 5, 5, 7, 6, 6, 7, 6, 7, 6, 7, 6, 7, 7, 5, 5, 5, 5, 5, 6, 6, 5, 5, 6, 7, 6, 6, 7, 7, 6, 6, 8, 7, 6, 5, 5, 5, 5, 6, 5, 6, 5, 5, 5, 5, 6, 6, 5, 8, 6, 6, 7, 6, 5, 5, 6, 6, 6, 6, 6, 6, 6, 8, 8, 6, 5, 7, 6, 6, 6, 7, 7, 6, 6, 6, 6, 6, 6, 6, 6, 7, 7, 8, 7, 7, 6, 6, 6, 5, 5, 6, 5, 6, 5, 4, 5, 8, 7, 7, 7, 7, 7, 7, 8, 8, 6, 7, 8, 8, 7, 6, 5, 5, 6, 6, 6, 4, 6, 10, 6, 7, 7, 6, 7, 5, 6, 5, 6, 6, 5, 5, 5, 5, 6, 5, 6, 6, 5, 6, 6, 7, 6, 6, 7, 7, 7, 6, 6, 6, 6, 6, 5, 6, 7, 6, 5, 4, 7, 6, 5, 7, 6, 6, 6, 6, 6, 6, 6, 6, 6, 5, 6, 6, 6, 6, 7, 6, 6, 6, 6, 6, 6, 6, 6, 5, 5, 6, 5, 8, 7, 9, 8, 8, 8, 9, 9, 8, 9, 8, 8, 8, 8, 8, 8, 6, 4, 4, 5, 6, 6, 7, 6, 6, 8, 6, 6, 6, 6, 6, 7, 6, 5, 5, 5, 8, 7, 6, 7, 6, 6, 7, 6, 6, 7, 5, 5, 5, 6, 8, 8, 9, 6, 7, 6, 7, 6, 6, 6, 5, 5, 6, 6, 6, 6, 6, 6, 6, 6, 7, 6, 6, 7, 6, 6, 7, 6, 5, 6, 8, 7, 7, 7, 5, 8, 5, 6, 6, 6, 6, 7, 8, 8, 7, 7, 5, 5, 6, 7, 6, 7, 6, 6, 6, 6, 6, 6, 6, 7, 6, 6, 6, 6, 6, 6, 5, 5, 7, 7, 6, 6, 6, 6, 6, 7, 6, 6, 7, 6, 6, 5, 7, 8, 7, 6, 8, 8, 8, 6, 6, 8, 8, 9, 9, 8, 5, 8, 8, 8, 7, 7, 8, 7, 7, 8, 7, 7, 8, 8, 7, 7, 7, 9, 8, 8, 7, 6, 7, 10, 8, 7, 7, 7, 6, 6, 7, 6, 6, 7, 5, 5, 6, 6, 6, 7, 6, 7, 8, 6, 7, 6, 6, 8, 5, 6, 8, 6, 6, 6, 5, 5, 6, 5, 7, 6, 6, 8, 7, 7, 5, 6, 6, 6, 6, 6, 7, 7, 6, 6, 6, 6, 5, 5, 5, 7, 5, 5, 6, 8, 8, 7, 6, 7, 7, 7, 7, 6, 6, 7, 6, 7, 7, 6, 6, 5, 6, 7, 7, 7, 7, 6, 7, 8, 6, 6, 5, 5, 6, 6, 7, 6, 8, 8, 8, 6, 6, 7, 7, 8, 9, 7, 7, 8, 7, 8, 8, 8, 8, 8, 7, 7, 7, 8, 8, 8, 9, 8, 8, 7, 9, 8, 8, 8, 8, 7, 8, 9, 7, 8, 7, 9, 7, 7, 8, 7, 7, 8, 6, 6, 5, 6, 6, 5, 6, 6, 5, 5, 7, 7, 7, 7, 6, 5, 7, 5, 6, 6, 6, 5, 8, 7, 9, 8, 8, 7, 7, 8, 6, 6, 7, 5, 6, 8, 7, 7, 7, 8, 6, 6, 6, 6, 6, 6, 5, 9, 6, 6, 6, 6, 6, 7, 6, 6, 6, 7, 7, 7, 7, 7, 7, 7, 7, 7, 6, 7, 5, 6, 6, 8, 10, 4, 4, 5, 6, 7, 7, 7, 7, 6, 7, 6, 6, 6, 6, 8, 8, 7, 7, 6, 6, 6, 6, 6, 6, 6, 5, 6, 9, 7, 7, 5, 7, 5, 6, 5, 6, 6, 5, 5, 7, 5, 7, 7, 6, 6, 6, 5, 6, 6, 5, 7, 6, 7, 6, 6, 9, 9, 6, 6, 7, 7, 6, 6, 5, 6, 7, 6, 9, 7, 8, 7, 7, 7, 5, 7, 7, 6, 6, 5, 7, 5, 5, 7, 4, 5, 6, 6, 6, 6, 5, 7, 8, 6, 7, 7, 7, 6, 5, 6, 6, 7, 7, 6, 5, 7, 8, 8, 7, 11, 6, 6, 6, 8, 5, 6, 5, 6, 5, 6, 5, 6, 6, 6, 6, 6, 6, 5, 8, 6, 5, 5, 6, 5, 6, 8, 6, 6, 6, 6, 6, 6, 5, 6, 7, 10, 7, 8, 6, 7, 7, 6, 6, 6, 6, 7, 6, 8, 7, 6, 8, 7, 7, 7, 5, 7, 7, 5, 5, 5, 6, 7, 7, 8, 5, 5, 7, 7, 7, 6, 6, 6, 7, 6, 6, 5, 5, 6, 6, 6, 6, 5, 8, 7, 6, 5, 6, 5, 7, 7, 6, 5, 8, 7, 6, 6, 8, 5, 6, 6, 6, 5, 7, 6, 6, 6, 5, 6, 6, 6, 6, 6, 6, 5, 6, 7, 7, 7, 7, 6, 8, 7, 6, 7, 7, 5, 6, 8, 7, 8, 7, 7, 6, 5, 6, 6, 6, 6, 6, 6, 5, 5, 7, 6, 7, 8, 6, 7, 7, 7, 10, 8, 6, 6, 5, 5, 6, 6, 7, 6, 5, 6, 4, 5, 6, 6, 7, 7, 7, 6, 6, 6, 5, 6, 5, 5, 5, 5, 5, 6, 6, 6, 6, 5, 5, 5, 5, 5, 8, 6, 5, 6, 5, 7, 6, 6, 6, 6, 6, 6, 6, 7, 8, 6, 6, 8, 8, 6, 6, 5, 5, 6, 6, 7, 5, 6, 6, 6, 5, 8, 8, 6, 6, 5, 6, 7, 6, 6, 5, 6, 9, 8, 7, 7, 8, 7, 7, 7, 7, 7, 6, 8, 7, 6, 6, 6, 7, 6, 6, 7, 7, 6, 7, 6, 6, 6, 6, 6, 5, 6, 6, 6, 6, 6, 6, 6, 9, 5, 7, 5, 6, 6, 6, 7, 6, 6, 6, 6, 6, 8, 8, 7, 7, 7, 6, 7, 7, 7, 6, 8, 7, 7, 6, 6, 7, 6, 6, 6, 6, 6, 7, 6, 6, 6, 6, 6, 6, 6, 6, 7, 8, 7, 7, 7, 8, 7, 5, 9, 9, 8, 8, 9, 9, 8, 9, 7, 8, 9, 9, 4, 5, 4, 4, 6, 7, 7, 6, 7, 7, 8, 7, 6, 4, 5, 6, 8, 6, 7, 7, 7, 5, 6, 9, 7, 7, 6, 6, 6, 7, 7, 7, 6, 6, 6, 6, 7, 8, 7, 7, 8, 6, 5, 7, 6, 8, 7, 7, 9, 6, 7, 8, 9, 7, 9, 7, 6, 7, 5, 8, 6, 5, 6, 7, 5, 6, 9, 5, 6, 6, 6, 6, 7, 6, 7, 6, 6, 6, 7, 7, 7, 8, 6, 7, 6, 7, 6, 6, 8, 8, 8, 8, 8, 8, 8, 9, 8, 9, 8, 8, 6, 8, 7, 8, 9, 6, 8, 8, 8, 8, 8, 8, 8, 8, 9, 8, 8, 8, 9, 7, 7, 9, 8, 8, 7, 6, 8, 7, 7, 7, 8, 6, 6, 8, 6, 6, 6, 9, 7, 6, 6, 6, 7, 6, 6, 8, 9, 7, 9, 5, 6, 7, 7, 7, 7, 6, 7, 6, 6, 7, 7, 7, 6, 6, 5, 6, 7, 6, 6, 6, 6, 7, 7, 6, 5, 7, 7, 7, 7, 6, 6, 6, 6, 5, 6, 7, 6, 7, 9, 7, 8, 7, 6, 7, 8, 7, 4, 7, 6, 5, 7, 6, 7, 6, 7, 7, 6, 6, 6, 7, 5, 5, 6, 7, 7, 7, 8, 6, 6, 7, 9, 9, 9, 8, 8, 7, 8, 7, 8, 7, 7, 7, 9, 8, 8, 8, 8, 10, 8, 8, 7, 8, 8, 8, 7, 8, 8, 9, 8, 8, 8, 10, 7, 7, 7, 7, 8, 8, 8, 8, 8, 7, 7, 5, 5, 6, 6, 6, 5, 8, 7, 7, 7, 6, 6, 7, 7, 6, 6, 8, 8, 7, 7, 8, 8, 8, 10, 6, 5, 7, 6, 6, 11, 8, 9, 8, 8, 8, 8, 7, 8, 8, 8, 7, 11, 6, 6, 7, 5, 7, 6, 7, 6, 7, 7, 7, 7, 7, 8, 6, 7, 9, 8, 10, 7, 9, 6, 6, 7, 5, 5, 6, 7, 8, 7, 7, 6, 5, 7, 7, 6, 6, 6, 6, 7, 7, 6, 8, 8, 6, 8, 9, 7, 7, 7, 7, 6, 6, 6, 5, 7, 7, 7, 7, 6, 7, 6, 5, 6, 6, 6, 7, 6, 5, 6, 6, 6, 6, 6, 6, 7, 7, 5, 9, 6, 7, 7, 6, 7, 9, 7, 6, 6, 5, 5, 5, 6, 7, 5, 6, 7, 7, 8, 6, 6, 6, 5, 6, 5, 6, 5, 10, 10, 7, 5, 5, 5, 7, 6, 5, 7, 7, 7, 8, 9, 11, 11, 7, 7, 7, 6, 6, 6, 6, 5, 5, 6, 6, 6, 7, 6, 7, 7, 8, 6, 7, 6, 7, 7, 7, 6, 6, 6, 6, 7, 6, 7, 5, 5, 5, 5, 6, 7, 7, 8, 6, 8, 6, 7, 6, 6, 5, 5, 5, 6, 5, 5, 5, 5, 8, 7, 8, 7, 6, 6, 6, 9, 7, 8, 7, 7, 8, 7, 7, 8, 7, 6, 8, 10, 7, 8, 8, 7, 6, 6, 7, 7, 7, 6, 6, 6, 6, 6, 8, 8, 8, 7, 7, 8, 6, 7, 8, 5, 7, 6, 6, 5, 7, 7, 6, 7, 7, 6, 6, 6, 11, 7, 7, 7, 7, 9, 5, 5, 6, 6, 7, 6, 7, 6, 9, 7, 6, 4, 6, 5, 6, 7, 7, 7, 5, 5, 5, 7, 6, 6, 6, 6, 6, 8, 6, 6, 6, 6, 6, 7, 7, 6, 6, 8, 5, 6, 8, 7, 7, 6, 5, 7, 7, 7, 8, 6, 7, 6, 6, 6, 7, 6, 6, 7, 6, 6, 5, 6, 8, 8, 8, 7, 9, 7, 9, 8, 6, 9, 5, 5, 6, 6, 6, 7, 7, 7, 7, 6, 6, 6, 6, 6, 6, 6, 6, 6, 7, 7, 8, 6, 6, 6, 6, 7, 7, 7, 7, 6, 6, 6, 6, 5, 6, 5, 7, 7, 6, 6, 6, 6, 6, 7, 6, 6, 6, 8, 8, 6, 6, 6, 6, 6, 7, 8, 6, 6, 6, 5, 6, 6, 6, 6, 5, 5, 7, 7, 7, 7, 6, 6, 6, 7, 6, 5, 8, 8, 8, 6, 6, 6, 6, 6, 9, 6, 6, 6, 7, 7, 6, 6, 7, 8, 6, 6, 8, 8, 6, 5, 7, 6, 6, 6, 8, 7, 7, 7, 8, 8, 8, 6, 7, 8, 5, 5, 5, 6, 7, 7, 6, 5, 6, 6, 6, 5, 5, 6, 6, 6, 7, 7, 6, 6, 6, 8, 8, 6, 6, 6, 6, 9, 5, 5, 6, 7, 7, 7, 7, 6, 7, 7, 6, 6, 6, 7, 7, 8, 6, 5, 7, 7, 7, 6, 7, 8, 7, 7, 6, 6, 6, 6, 6, 7, 7, 6, 6, 7, 7, 6, 6, 7, 8, 8, 6, 7, 7, 6, 6, 5, 6, 9, 8, 9, 9, 9, 8, 8, 8, 9, 11, 9, 10, 8, 10, 9, 8, 8, 8, 9, 6, 6, 5, 5, 7, 7, 7, 6, 8, 7, 7, 7, 7, 7, 7, 7, 7, 8, 6, 6, 6, 6, 6, 6, 6, 8, 6, 7, 8, 6, 6, 6, 6, 6, 6, 9, 6, 7, 6, 6, 6, 9, 8, 8, 6, 7, 7, 7, 6, 7, 7, 6, 6, 7, 6, 6, 6, 6, 6, 6, 7, 7, 6, 8, 6, 8, 7, 7, 6, 6, 6, 7, 7, 6, 5, 5, 6, 7, 7, 5, 5, 8, 5, 6, 8, 7, 6, 7, 8, 5, 6, 8, 6, 7, 6, 7, 7, 7, 8, 7, 7, 7, 7, 8, 8, 8, 7, 7, 8, 7, 8, 9, 6, 6, 8, 8, 5, 7, 6, 6, 7, 7, 6, 7, 6, 6, 6, 7, 7, 7, 9, 7, 7, 8, 7, 7, 7, 5, 6, 7, 7, 6, 8, 7, 6, 5, 8, 8, 8, 8, 9, 9, 9, 8, 8, 8, 5, 7, 9, 7, 8, 8, 8, 8, 7, 9, 10, 9, 8, 9, 8, 7, 6, 7, 7, 8, 8, 7, 7, 7, 7, 7, 7, 7, 5, 7, 7, 6, 6, 7, 7, 7, 6, 6, 8, 6, 7, 7, 6, 7, 7, 8, 7, 7, 6, 6, 7, 7, 7, 8, 9, 8, 7, 5, 7, 6, 6, 7, 6, 7, 7, 7, 7, 7, 6, 6, 7, 6, 7, 6, 6, 7, 7, 7, 6, 8, 6, 6, 6, 8, 7, 8, 7, 8, 7, 6, 7, 7, 7, 8, 7, 8, 6, 6, 8, 6, 6, 8, 7, 7, 7, 7, 7, 8, 8, 7, 7, 9, 9, 9, 8, 9, 6, 7, 6, 6, 6, 7, 7, 7, 7, 8, 6, 7, 9, 9, 8, 8, 8, 9, 9, 9, 9, 9, 7, 7, 11, 8, 8, 8, 8, 9, 8, 7, 8, 8, 7, 7, 7, 8, 8, 9, 9, 8, 8, 12, 9, 7, 7, 8, 8, 9, 7, 7, 7, 10, 11, 9, 8, 8, 9, 10, 8, 8, 8, 7, 8, 8, 7, 6, 6, 8, 7, 6, 6, 6, 8, 9, 4, 6, 6, 6, 7, 5, 7, 8, 7, 8, 10, 10, 8, 8, 9, 10, 9, 8, 6, 8, 8, 8, 8, 7, 7, 8, 5, 7, 7, 8, 7, 8, 7, 7, 9, 7, 6, 5, 7, 6, 7, 6, 6, 7, 6, 6, 6, 7, 6, 10, 6, 7, 9, 8, 7, 9, 9, 9, 7, 6, 7, 7, 5, 10, 7, 6, 5, 5, 7, 9, 7, 7, 8, 8, 7, 7, 7, 6, 6, 7, 7, 7, 7, 7, 6, 7, 7, 7, 7, 7, 8, 5, 6, 6, 8, 6, 6, 7, 8, 9, 7, 5, 7, 7, 7, 5, 6, 7, 7, 6, 5, 6, 7, 7, 6, 6, 7, 6, 6, 7, 5, 4, 8, 6, 7, 6, 6, 7, 6, 9, 8, 5, 6, 6, 6, 7, 8, 7, 6, 7, 8, 6, 7, 8, 5, 6, 7, 4, 7, 6, 6, 5, 6, 10, 9, 10, 6, 8, 7, 6, 5, 6, 7, 6, 7, 7, 6, 6, 6, 5, 7, 5, 7, 7, 6, 6, 6, 8, 5, 6, 6, 6, 6, 6, 5, 7, 7, 7, 6, 6, 12, 7, 7, 7, 6, 6, 7, 7, 7, 7, 7, 6, 6, 6, 6, 5, 8, 8, 5, 5, 6, 7, 5, 6, 5, 7, 6, 6, 7, 6, 7, 7, 7, 8, 9, 6, 7, 8, 8, 7, 7, 8, 7, 6, 7, 7, 8, 7, 7, 6, 6, 6, 7, 8, 7, 7, 8, 8, 9, 8, 6, 9, 9, 6, 6, 7, 7, 7, 8, 7, 6, 6, 6, 8, 7, 6, 6, 7, 7, 6, 6, 6, 7, 6, 6, 6, 6, 7, 7, 6, 6, 8, 7, 6, 6, 9, 9, 9, 7, 6, 7, 7, 6, 6, 7, 6, 6, 6, 7, 6, 6, 5, 7, 7, 6, 6, 8, 7, 8, 8, 6, 7, 7, 6, 6, 6, 8, 7, 7, 5, 7, 7, 7, 5, 7, 6, 9, 8, 8, 8, 7, 7, 6, 6, 6, 6, 7, 7, 8, 5, 5, 8, 6, 8, 8, 8, 7, 7, 7, 6, 7, 8, 5, 5, 6, 6, 7, 6, 6, 6, 6, 7, 7, 7, 7, 7, 7, 8, 7, 6, 6, 6, 7, 6, 9, 7, 6, 5, 6, 6, 7, 8, 7, 7, 9, 7, 7, 6, 7, 6, 6, 7, 7, 6, 7, 7, 7, 6, 6, 6, 8, 6, 6, 7, 6, 7, 6, 5, 6, 6, 6, 7, 6, 9, 8, 7, 7, 8, 8, 6, 6, 9, 8, 6, 8, 8, 7, 7, 5, 8, 6, 6, 9, 8, 8, 8, 9, 8, 8, 8, 5, 7, 9, 5, 5, 5, 6, 7, 5, 6, 6, 6, 7, 7, 8, 7, 6, 6, 6, 6, 6, 6, 6, 6, 6, 5, 6, 5, 6, 8, 6, 8, 8, 6, 6, 6, 7, 7, 6, 6, 8, 7, 7, 7, 8, 8, 7, 6, 7, 9, 7, 7, 6, 6, 9, 8, 7, 7, 7, 6, 5, 7, 6, 6, 5, 6, 6, 6, 6, 6, 5, 6, 6, 9, 8, 7, 6, 7, 9, 7, 7, 9, 7, 7, 7, 8, 7, 7, 6, 7, 7, 8, 7, 7, 7, 7, 7, 7, 7, 6, 6, 8, 7, 6, 9, 8, 7, 6, 7, 7, 7, 6, 7, 6, 7, 6, 8, 6, 6, 6, 6, 7, 6, 8, 7, 7, 6, 6, 6, 6, 6, 7, 7, 7, 7, 6, 5, 7, 6, 7, 7, 7, 6, 9, 9, 5, 6, 8, 6, 5, 8, 10, 8, 9, 9, 9, 9, 8, 9, 9, 9, 8, 9, 10, 7, 7, 7, 6, 8, 4, 5, 6, 6, 6, 5, 9, 8, 7, 8, 7, 7, 9, 7, 9, 6, 6, 8, 7, 8, 7, 7, 6, 7, 7, 8, 7, 7, 8, 6, 7, 6, 6, 7, 8, 7, 9, 7, 8, 8, 8, 7, 7, 6, 6, 7, 7, 6, 7, 6, 7, 6, 7, 6, 7, 6, 7, 8, 6, 6, 5, 7, 7, 7, 7, 5, 7, 6, 7, 6, 7, 7, 6, 7, 7, 8, 7, 7, 6, 8, 7, 6, 7, 7, 6, 5, 8, 7, 6, 8, 7, 7, 7, 7, 7, 7, 6, 6, 6, 7, 7, 9, 7, 9, 8, 8, 7, 5, 7, 7, 6, 6, 5, 5, 6, 6, 7, 6, 6, 8, 7, 7, 7, 8, 6, 7, 6, 6, 6, 6, 7, 7, 8, 7, 7, 7, 6, 6, 6, 7, 10, 7, 9, 9, 6, 7, 8, 7, 5, 7, 7, 7, 9, 7, 7, 8, 8, 9, 9, 9, 8, 8, 8, 8, 8, 7, 8, 10, 10, 10, 10, 10, 10, 8, 9, 8, 9, 8, 8, 9, 8, 8, 8, 8, 8, 8, 8, 12, 9, 10, 7, 8, 9, 9, 9, 8, 6, 6, 7, 8, 7, 7, 7, 7, 8, 8, 7, 6, 7, 6, 8, 9, 7, 9, 8, 7, 6, 6, 6, 6, 7, 7, 6, 8, 7, 8, 7, 5, 9, 9, 8, 6, 6, 7, 9, 9, 6, 7, 7, 8, 7, 8, 7, 8, 9, 7, 6, 6, 6, 7, 7, 7, 6, 7, 6, 9, 7, 8, 8, 6, 6, 7, 7, 8, 6, 6, 7, 7, 6, 6, 7, 5, 7, 7, 7, 7, 7, 9, 7, 7, 6, 7, 7, 9, 8, 7, 8, 7, 8, 7, 7, 7, 7, 6, 8, 10, 10, 7, 7, 6, 7, 6, 6, 6, 7, 7, 7, 7, 6, 8, 9, 7, 7, 6, 7, 7, 7, 7, 7, 7, 7, 7, 8, 9, 8, 8, 7, 7, 6, 9, 9, 6, 7, 9, 8, 8, 8, 9, 9, 9, 9, 8, 9, 8, 9, 9, 8, 7, 8, 8, 9, 8, 8, 9, 8, 7, 7, 10, 9, 9, 9, 6, 7, 9, 8, 9, 9, 9, 9, 9, 9, 8, 7, 8, 8, 9, 9, 9, 8, 8, 7, 7, 8, 10, 10, 10, 7, 9, 9, 8, 8, 8, 7, 10, 10, 9, 8, 7, 8, 7, 8, 7, 7, 8, 7, 6, 8, 7, 7, 7, 7, 6, 8, 7, 6, 8, 6, 6, 7, 7, 9, 8, 7, 12, 9, 9, 9, 8, 9, 9, 9, 7, 7, 6, 6, 7, 7, 8, 7, 7, 8, 8, 7, 7, 8, 7, 7, 7, 7, 6, 7, 7, 7, 7, 7, 7, 8, 6, 11, 9, 9, 9, 9, 7, 7, 9, 8, 7, 9, 9, 8, 8, 7, 7, 8, 7, 8, 6, 8, 8, 9, 7, 7, 9, 5, 6, 6, 5, 7, 8, 8, 8, 8, 6, 6, 9, 7, 7, 7, 7, 7, 7, 6, 6, 6, 7, 7, 8, 7, 7, 7, 7, 7, 6, 7, 7, 7, 7, 6, 6, 7, 6, 6, 6, 6, 5, 6, 6, 7, 6, 6, 7, 6, 7, 8, 7, 6, 6, 6, 6, 7, 7, 7, 6, 7, 7, 7, 6, 5, 9, 9, 6, 5, 5, 7, 6, 7, 7, 8, 7, 5, 6, 6, 6, 6, 6, 6, 6, 8, 8, 7, 8, 8, 8, 7, 8, 8, 8, 8, 9, 9, 7, 7, 6, 9, 6, 7, 7, 9, 8, 7, 7, 7, 7, 7, 6, 6, 7, 5, 7, 7, 5, 5, 9, 9, 6, 7, 6, 8, 6, 6, 6, 8, 8, 7, 8, 8, 7, 9, 6, 6, 7, 8, 8, 8, 8, 6, 6, 6, 8, 6, 7, 7, 6, 7, 7, 6, 9, 7, 8, 8, 11, 9, 9, 8, 8, 8, 9, 7, 8, 7, 7, 8, 8, 8, 8, 8, 9, 7, 9, 8, 6, 9, 6, 8, 6, 9, 9, 8, 8, 8, 7, 6, 6, 6, 7, 6, 7, 8, 9, 8, 6, 7, 8, 7, 6, 10, 6, 7, 8, 10, 11, 6, 9, 6, 5, 6, 7, 8, 5, 6, 7, 6, 6, 6, 6, 7, 7, 7, 9, 8, 7, 7, 6, 7, 7, 7, 5, 6, 5, 7, 6, 10, 8, 8, 7, 7, 7, 7, 7, 7, 7, 9, 9, 8, 7, 7, 6, 7, 6, 6, 6, 6, 7, 8, 7, 6, 7, 6, 7, 6, 6, 8, 5, 7, 6, 6, 7, 8, 7, 7, 8, 8, 9, 9, 8, 6, 6, 6, 6, 7, 6, 6, 6, 6, 6, 6, 7, 7, 7, 7, 7, 7, 7, 6, 6, 6, 7, 5, 6, 7, 7, 6, 7, 6, 6, 7, 7, 8, 8, 8, 7, 7, 7, 6, 6, 6, 6, 6, 7, 6, 7, 6, 5, 6, 7, 6, 8, 7, 7, 8, 9, 7, 7, 9, 8, 7, 8, 8, 8, 9, 9, 7, 7, 6, 7, 6, 7, 9, 10, 7, 7, 5, 6, 7, 7, 10, 7, 8, 9, 8, 9, 7, 7, 9, 8, 8, 6, 7, 7, 6, 5, 6, 8, 8, 7, 7, 11, 11, 7, 11, 11, 8, 8, 8, 7, 7, 6, 7, 7, 7, 6, 10, 7, 9, 8, 7, 6, 6, 8, 8, 8, 9, 6, 6, 6, 7, 5, 6, 7, 7, 8, 7, 7, 8, 7, 6, 7, 6, 7, 5, 8, 7, 7, 8, 7, 7, 7, 6, 6, 9, 6, 7, 8, 9, 7, 8, 7, 7, 6, 7, 6, 7, 8, 6, 6, 7, 7, 6, 7, 7, 6, 8, 7, 8, 7, 6, 8, 7, 7, 6, 8, 6, 6, 6, 6, 7, 7, 6, 7, 7, 7, 7, 6, 10, 10, 9, 9, 10, 9, 9, 9, 8, 8, 6, 6, 5, 6, 6, 6, 5, 8, 7, 7, 8, 8, 9, 7, 10, 8, 6, 6, 7, 9, 7, 8, 9, 6, 7, 7, 6, 7, 7, 6, 9, 9, 8, 9, 7, 7, 7, 7, 9, 8, 7, 8, 8, 7, 7, 7, 7, 8, 7, 6, 7, 7, 7, 7, 8, 9, 5, 7, 8, 7, 7, 7, 7, 7, 7, 7, 6, 7, 7, 8, 7, 7, 6, 7, 7, 7, 9, 8, 8, 9, 7, 8, 7, 8, 8, 8, 9, 8, 7, 9, 6, 6, 8, 7, 7, 8, 8, 7, 7, 7, 7, 7, 7, 7, 6, 7, 7, 6, 8, 6, 5, 7, 6, 6, 7, 8, 9, 9, 6, 7, 10, 6, 7, 7, 7, 7, 6, 5, 5, 8, 8, 7, 6, 7, 6, 8, 6, 7, 9, 10, 8, 8, 8, 9, 8, 8, 10, 7, 9, 6, 10, 10, 9, 10, 10, 8, 7, 9, 8, 9, 9, 8, 8, 9, 8, 9, 9, 8, 9, 9, 11, 8, 7, 8, 7, 6, 7, 7, 9, 8, 8, 7, 8, 6, 8, 7, 7, 6, 7, 6, 7, 6, 7, 8, 6, 9, 9, 10, 7, 8, 9, 7, 5, 8, 7, 7, 8, 7, 7, 8, 8, 6, 5, 7, 6, 7, 6, 6, 8, 7, 7, 9, 8, 7, 7, 7, 6, 6, 6, 7, 9, 7, 7, 8, 7, 7, 6, 6, 7, 7, 7, 7, 8, 7, 10, 9, 6, 7, 7, 8, 6, 7, 7, 8, 6, 7, 8, 7, 7, 7, 7, 6, 6, 6, 6, 8, 7, 7, 7, 7, 7, 8, 7, 8, 8, 7, 9, 9, 6, 7, 7, 7, 7, 7, 7, 7, 7, 7, 7, 6, 7, 6, 6, 9, 9, 9, 8, 9, 9, 8, 8, 8, 8, 8, 7, 8, 8, 9, 9, 8, 7, 8, 8, 8, 7, 9, 7, 9, 9, 9, 9, 8, 8, 8, 8, 11, 9, 10, 7, 8, 8, 8, 9, 9, 8, 9, 9, 9, 9, 9, 9, 8, 7, 8, 9, 8, 8, 8, 8, 10, 10, 7, 6, 7, 7, 9, 8, 8, 7, 6, 5, 8, 8, 8, 8, 8, 7, 10, 9, 8, 8, 10, 8, 6, 5, 7, 7, 8, 8, 7, 13, 8, 8, 10, 9, 8, 8, 9, 8, 7, 8, 8, 7, 10, 8, 8, 8, 8, 8, 7, 8, 10, 12, 7, 8, 7, 10, 10, 10, 6, 6, 6, 7, 8, 7, 9, 6, 8, 6, 7, 7, 7, 7, 9, 7, 7, 9, 8, 8, 7, 8, 9, 10, 8, 9, 7, 7, 7, 6, 6, 8, 8, 6, 6, 7, 8, 8, 8, 7, 8, 9, 8, 8, 8, 6, 6, 6, 9, 8, 7, 7, 7, 7, 7, 7, 6, 7, 7, 8, 7, 7, 7, 12, 12, 7, 7, 7, 6, 7, 6, 7, 7, 8, 8, 9, 8, 6, 7, 8, 7, 8, 9, 7, 6, 6, 7, 8, 5, 7, 8, 6, 7, 5, 7, 5, 8, 6, 6, 6, 7, 7, 7, 5, 7, 8, 8, 7, 6, 7, 6, 8, 6, 7, 7, 6, 8, 8, 7, 7, 6, 6, 5, 6, 7, 7, 6, 9, 9, 7, 8, 7, 9, 8, 8, 7, 7, 5, 7, 6, 5, 8, 7, 7, 5, 5, 10, 6, 6, 6, 6, 8, 7, 6, 6, 7, 7, 6, 6, 6, 7, 5, 6, 6, 6, 7, 6, 7, 7, 7, 7, 7, 6, 9, 9, 8, 7, 7, 6, 6, 8, 6, 8, 7, 6, 5, 6, 7, 7, 6, 6, 8, 8, 8, 8, 7, 8, 7, 8, 8, 10, 7, 7, 8, 10, 8, 8, 9, 9, 8, 11, 8, 6, 8, 6, 6, 6, 8, 9, 7, 7, 6, 7, 6, 7, 6, 6, 7, 7, 7, 10, 9, 9, 6, 8, 8, 8, 6, 6, 7, 7, 6, 6, 8, 6, 8, 7, 7, 6, 8, 9, 8, 6, 7, 8, 7, 7, 7, 7, 7, 8, 10, 9, 6, 6, 9, 6, 6, 6, 8, 7, 7, 6, 6, 7, 7, 6, 7, 7, 7, 6, 7, 8, 7, 10, 6, 7, 5, 7, 7, 8, 6, 9, 7, 7, 8, 8, 8, 9, 10, 6, 8, 5, 8, 7, 8, 8, 8, 8, 8, 8, 8, 10, 8, 7, 9, 7, 9, 9, 7, 7, 6, 9, 8, 8, 7, 7, 6, 6, 7, 7, 7, 6, 7, 7, 8, 6, 7, 6, 6, 6, 7, 7, 8, 8, 7, 7, 7, 9, 8, 9, 8, 9, 7, 8, 8, 7, 9, 6, 6, 7, 7, 7, 8, 6, 6, 7, 6, 6, 7, 8, 6, 7, 6, 7, 7, 8, 8, 7, 8, 9, 8, 8, 8, 7, 8, 7, 7, 6, 6, 6, 7, 7, 6, 7, 8, 7, 6, 8, 7, 8, 7, 9, 9, 7, 7, 6, 8, 8, 6, 7, 8, 7, 7, 5, 8, 7, 7, 6, 8, 9, 9, 9, 9, 6, 7, 7, 8, 6, 5, 7, 6, 8, 6, 7, 6, 6, 7, 8, 7, 8, 8, 8, 9, 7, 9, 7, 8, 8, 8, 7, 8, 8, 5, 6, 7, 8, 8, 9, 7, 8, 7, 8, 7, 7, 6, 6, 6, 8, 6, 6, 7, 7, 7, 9, 9, 8, 8, 6, 11, 7, 6, 6, 8, 8, 7, 7, 7, 7, 7, 7, 7, 8, 8, 8, 7, 7, 8, 6, 7, 7, 9, 6, 7, 8, 8, 8, 8, 8, 7, 8, 7, 7, 7, 7, 8, 7, 7, 7, 8, 8, 7, 7, 7, 8, 8, 7, 9, 7, 10, 7, 7, 6, 6, 7, 8, 7, 7, 6, 6, 8, 9, 9, 9, 10, 10, 9, 9, 9, 12, 10, 10, 8, 6, 7, 9, 6, 7, 7, 6, 9, 9, 7, 8, 7, 7, 8, 7, 8, 8, 7, 6, 6, 9, 7, 7, 6, 6, 8, 10, 8, 7, 7, 8, 8, 7, 8, 7, 8, 6, 7, 7, 8, 7, 7, 7, 6, 7, 7, 6, 7, 7, 12, 7, 10, 7, 5, 6, 6, 8, 8, 11, 8, 7, 7, 6, 6, 8, 8, 9, 7, 7, 9, 8, 7, 8, 8, 10, 7, 8, 7, 7, 8, 6, 7, 7, 6, 7, 7, 6, 6, 7, 6, 7, 7, 7, 7, 7, 7, 7, 7, 8, 10, 7, 7, 7, 8, 6, 8, 7, 7, 7, 6, 7, 7, 7, 7, 9, 8, 7, 9, 9, 10, 9, 9, 7, 7, 7, 7, 6, 9, 9, 10, 9, 9, 9, 8, 8, 9, 11, 9, 11, 9, 9, 8, 9, 8, 8, 9, 9, 10, 9, 9, 9, 7, 9, 7, 6, 7, 7, 7, 9, 6, 8, 8, 8, 9, 9, 8, 8, 8, 7, 8, 8, 8, 6, 6, 7, 7, 7, 8, 10, 8, 8, 8, 8, 10, 8, 7, 6, 8, 7, 7, 7, 8, 7, 9, 8, 7, 6, 7, 7, 8, 7, 8, 8, 8, 8, 8, 6, 6, 7, 9, 6, 6, 7, 7, 7, 7, 9, 7, 6, 8, 7, 6, 7, 8, 9, 7, 6, 6, 7, 7, 9, 7, 9, 8, 5, 8, 7, 8, 7, 7, 8, 8, 9, 8, 7, 8, 7, 7, 7, 8, 6, 7, 6, 6, 8, 7, 7, 7, 8, 8, 8, 8, 8, 7, 8, 8, 8, 8, 9, 7, 6, 7, 9, 9, 10, 10, 9, 9, 10, 10, 10, 8, 9, 9, 9, 9, 9, 8, 11, 7, 9, 8, 9, 8, 9, 13, 9, 9, 10, 8, 9, 8, 8, 8, 10, 9, 7, 8, 9, 8, 8, 11, 7, 9, 9, 9, 9, 10, 10, 8, 9, 12, 11, 8, 7, 7, 7, 8, 7, 7, 7, 6, 8, 7, 6, 9, 8, 8, 8, 7, 6, 6, 7, 8, 8, 7, 9, 9, 8, 8, 9, 8, 8, 13, 9, 8, 9, 7, 9, 8, 9, 8, 8, 10, 9, 5, 8, 7, 7, 9, 7, 7, 6, 8, 7, 7, 6, 5, 9, 8, 8, 7, 7, 8, 7, 7, 8, 8, 9, 9, 7, 9, 9, 8, 7, 8, 6, 8, 7, 7, 8, 8, 8, 8, 7, 9, 9, 9, 8, 7, 9, 7, 5, 7, 7, 8, 8, 7, 6, 7, 9, 10, 6, 11, 6, 6, 8, 9, 7, 8, 8, 8, 8, 7, 9, 9, 8, 7, 7, 8, 7, 7, 7, 7, 7, 7, 9, 7, 8, 9, 10, 6, 9, 7, 9, 9, 9, 6, 7, 7, 9, 8, 8, 7, 7, 8, 9, 8, 7, 8, 7, 8, 9, 7, 9, 7, 6, 8, 7, 7, 7, 8, 6, 6, 8, 7, 8, 6, 6, 7, 7, 9, 9, 7, 6, 9, 6, 7, 7, 6, 9, 6, 7, 7, 6, 7, 9, 7, 9, 11, 11, 9, 6, 6, 7, 8, 6, 6, 6, 7, 8, 7, 7, 7, 9, 8, 6, 8, 7, 7, 7, 6, 8, 6, 7, 6, 6, 9, 7, 8, 7, 5, 6, 7, 6, 7, 6, 5, 8, 7, 8, 7, 7, 7, 5, 7, 7, 6, 6, 7, 8, 8, 8, 7, 5, 6, 9, 8, 7, 10, 8, 6, 8, 7, 7, 6, 6, 8, 7, 7, 8, 9, 8, 8, 7, 8, 11, 8, 7, 8, 8, 9, 7, 7, 7, 8, 8, 8, 10, 10, 7, 7, 7, 8, 8, 7, 8, 7, 6, 7, 6, 8, 9, 8, 6, 9, 10, 9, 10, 9, 7, 7, 8, 8, 7, 7, 7, 7, 7, 6, 7, 7, 7, 6, 9, 8, 9, 7, 6, 6, 7, 11, 7, 6, 8, 7, 7, 8, 7, 9, 9, 7, 7, 8, 6, 7, 8, 7, 8, 7, 6, 7, 6, 7, 9, 7, 6, 7, 8, 8, 6, 6, 6, 7, 7, 7, 8, 7, 7, 6, 7, 6, 6, 7, 6, 9, 8, 6, 7, 7, 9, 8, 7, 9, 7, 8, 8, 8, 8, 6, 7, 6, 8, 9, 6, 7, 7, 8, 8, 6, 8, 8, 8, 7, 8, 8, 8, 7, 6, 5, 7, 8, 7, 9, 7, 6, 6, 8, 7, 10, 10, 8, 8, 7, 7, 6, 6, 8, 7, 7, 7, 7, 7, 8, 7, 7, 7, 7, 8, 8, 7, 6, 7, 8, 8, 9, 8, 8, 8, 8, 8, 9, 9, 7, 7, 6, 5, 7, 7, 6, 8, 6, 6, 7, 8, 7, 6, 6, 6, 7, 8, 7, 6, 6, 7, 6, 6, 7, 7, 9, 9, 9, 7, 7, 8, 8, 9, 9, 7, 6, 6, 9, 7, 8, 10, 7, 8, 7, 7, 8, 11, 8, 9, 7, 7, 7, 10, 6, 8, 6, 9, 9, 9, 6, 7, 9, 9, 11, 6, 7, 7, 7, 5, 8, 8, 6, 6, 9, 9, 6, 10, 10, 10, 7, 8, 10, 10, 9, 9, 8, 6, 9, 6, 8, 10, 7, 9, 8, 8, 7, 9, 9, 7, 7, 7, 7, 7, 7, 6, 7, 7, 6, 6, 7, 9, 9, 8, 9, 8, 9, 6, 7, 7, 6, 8, 6, 7, 8, 7, 10, 8, 7, 8, 8, 8, 8, 7, 8, 6, 8, 7, 7, 10, 6, 7, 7, 7, 7, 7, 9, 8, 8, 7, 7, 7, 7, 8, 7, 7, 8, 7, 8, 8, 9, 10, 9, 9, 8, 9, 9, 12, 7, 7, 7, 5, 7, 8, 6, 7, 10, 7, 7, 7, 11, 9, 7, 5, 6, 6, 7, 7, 6, 7, 7, 9, 5, 7, 7, 8, 6, 8, 8, 7, 9, 8, 8, 9, 9, 10, 9, 8, 8, 8, 10, 8, 8, 8, 8, 8, 8, 7, 8, 8, 9, 8, 8, 8, 7, 8, 7, 8, 9, 8, 7, 9, 6, 6, 7, 7, 8, 8, 8, 8, 6, 7, 7, 7, 8, 8, 7, 7, 9, 8, 10, 8, 6, 10, 9, 8, 9, 8, 8, 7, 7, 7, 8, 7, 7, 8, 10, 7, 9, 10, 10, 11, 8, 7, 8, 9, 9, 8, 8, 8, 8, 8, 7, 6, 7, 9, 9, 8, 6, 8, 7, 7, 8, 8, 7, 7, 7, 7, 7, 7, 7, 7, 7, 7, 7, 7, 7, 7, 7, 8, 7, 7, 7, 8, 8, 8, 8, 7, 6, 9, 8, 8, 8, 8, 7, 6, 9, 7, 7, 7, 8, 7, 8, 7, 7, 8, 8, 9, 9, 10, 9, 8, 9, 8, 9, 9, 7, 10, 10, 9, 9, 10, 10, 11, 9, 9, 9, 10, 10, 8, 9, 12, 11, 9, 11, 10, 9, 9, 9, 9, 11, 11, 9, 9, 10, 8, 8, 7, 8, 7, 6, 8, 7, 9, 10, 9, 8, 8, 7, 6, 8, 8, 8, 7, 9, 7, 7, 7, 8, 9, 6, 6, 8, 8, 8, 7, 7, 7, 7, 9, 10, 8, 9, 6, 6, 8, 9, 9, 9, 7, 7, 8, 9, 9, 7, 8, 7, 9, 8, 7, 7, 7, 6, 6, 8, 9, 7, 8, 6, 9, 8, 8, 9, 8, 9, 8, 7, 8, 9, 6, 7, 6, 7, 8, 7, 7, 8, 7, 8, 7, 10, 10, 8, 7, 7, 6, 6, 8, 8, 8, 8, 8, 8, 10, 8, 9, 9, 8, 8, 8, 8, 9, 9, 7, 7, 10, 9, 8, 7, 9, 7, 9, 8, 10, 8, 8, 8, 8, 8, 8, 8, 7, 7, 10, 12, 7, 7, 8, 7, 8, 10, 8, 8, 8, 7, 8, 8, 8, 8, 8, 9, 9, 8, 9, 7, 7, 7, 7, 8, 8, 10, 10, 10, 9, 9, 9, 9, 9, 10, 11, 9, 9, 8, 9, 10, 8, 8, 9, 9, 9, 9, 10, 8, 9, 10, 11, 9, 10, 9, 9, 9, 10, 11, 12, 9, 9, 8, 9, 9, 10, 8, 8, 9, 8, 10, 10, 10, 8, 9, 9, 9, 8, 10, 8, 8, 8, 11, 9, 10, 8, 10, 10, 8, 9, 11, 9, 10, 10, 9, 10, 10, 8, 7, 7, 8, 7, 7, 7, 7, 7, 7, 9, 7, 8, 8, 9, 9, 9, 7, 7, 7, 9, 7, 8, 8, 5, 5, 8, 7, 9, 10, 8, 8, 9, 9, 8, 11, 8, 8, 10, 8, 7, 7, 7, 7, 10, 8, 8, 11, 11, 9, 7, 6, 7, 7, 7, 6, 8, 8, 7, 9, 7, 8, 8, 8, 7, 9, 10, 9, 9, 9, 9, 8, 8, 14, 13, 8, 7, 8, 8, 9, 7, 7, 9, 7, 10, 10, 8, 8, 8, 8, 10, 7, 8, 9, 6, 8, 7, 8, 7, 7, 7, 7, 7, 7, 9, 8, 9, 7, 8, 11, 8, 8, 7, 7, 9, 6, 8, 9, 9, 7, 7, 8, 8, 7, 9, 9, 7, 8, 8, 7, 7, 7, 7, 7, 9, 9, 8, 9, 9, 9, 9, 8, 8, 8, 7, 9, 8, 8, 6, 6, 8, 7, 7, 8, 8, 6, 10, 7, 7, 8, 8, 8, 7, 7, 7, 7, 7, 7, 7, 8, 8, 8, 6, 6, 7, 6, 6, 9, 6, 7, 7, 10, 10, 7, 9, 7, 7, 7, 8, 7, 7, 8, 8, 9, 7, 7, 7, 9, 7, 8, 9, 8, 6, 8, 6, 7, 7, 5, 6, 7, 10, 8, 6, 11, 7, 7, 9, 8, 9, 9, 6, 9, 8, 7, 6, 8, 7, 8, 6, 8, 6, 7, 5, 7, 7, 8, 8, 7, 8, 7, 9, 7, 6, 8, 6, 7, 5, 8, 9, 9, 7, 9, 9, 8, 8, 6, 6, 6, 7, 7, 7, 6, 8, 7, 7, 6, 7, 8, 7, 7, 7, 7, 9, 6, 7, 8, 6, 7, 7, 7, 8, 6, 8, 8, 7, 9, 9, 6, 9, 10, 8, 7, 7, 7, 9, 7, 7, 8, 7, 8, 8, 12, 9, 7, 8, 9, 9, 9, 8, 6, 8, 9, 8, 9, 9, 7, 7, 8, 7, 8, 9, 6, 9, 10, 10, 9, 10, 8, 7, 7, 6, 8, 7, 7, 7, 7, 6, 8, 7, 8, 7, 6, 6, 8, 8, 9, 7, 8, 7, 7, 6, 6, 8, 7, 7, 6, 7, 7, 7, 12, 8, 7, 9, 10, 7, 7, 6, 8, 8, 7, 8, 8, 7, 8, 7, 7, 9, 6, 7, 6, 8, 6, 7, 8, 7, 9, 7, 7, 7, 7, 10, 9, 8, 9, 9, 12, 9, 9, 8, 9, 7, 10, 7, 9, 9, 9, 10, 6, 7, 7, 8, 7, 6, 8, 7, 6, 8, 7, 8, 7, 9, 7, 7, 7, 7, 6, 9, 8, 7, 8, 8, 5, 8, 11, 8, 8, 8, 8, 9, 8, 8, 8, 8, 7, 7, 9, 7, 6, 6, 7, 7, 7, 7, 8, 8, 8, 7, 6, 7, 7, 7, 7, 8, 7, 7, 6, 7, 7, 7, 7, 6, 7, 6, 8, 11, 8, 8, 8, 7, 8, 6, 6, 7, 6, 7, 7, 8, 7, 6, 6, 8, 7, 7, 8, 6, 8, 7, 6, 6, 8, 10, 6, 7, 7, 8, 9, 7, 8, 7, 7, 11, 7, 8, 8, 9, 8, 8, 6, 9, 8, 7, 8, 8, 8, 8, 7, 8, 9, 11, 10, 10, 8, 7, 6, 6, 7, 7, 7, 6, 7, 9, 6, 6, 7, 9, 7, 7, 10, 8, 10, 8, 8, 8, 8, 9, 7, 6, 6, 7, 6, 10, 8, 8, 10, 8, 8, 8, 12, 8, 7, 8, 8, 7, 6, 7, 6, 6, 7, 6, 6, 8, 8, 10, 9, 9, 8, 9, 8, 9, 7, 8, 7, 7, 8, 8, 7, 8, 9, 8, 8, 7, 10, 9, 7, 7, 7, 7, 8, 8, 9, 7, 7, 10, 8, 8, 8, 6, 7, 7, 6, 8, 7, 7, 8, 7, 7, 9, 10, 8, 9, 10, 10, 9, 10, 10, 10, 9, 9, 9, 7, 8, 8, 7, 6, 6, 7, 9, 9, 9, 9, 8, 8, 7, 6, 9, 8, 7, 7, 8, 7, 7, 11, 8, 7, 8, 7, 7, 7, 7, 7, 7, 7, 7, 7, 7, 6, 7, 9, 8, 10, 8, 9, 9, 9, 8, 9, 10, 7, 9, 8, 7, 8, 7, 9, 8, 9, 9, 7, 8, 9, 10, 7, 8, 7, 7, 8, 7, 8, 8, 8, 7, 8, 8, 8, 8, 8, 6, 13, 9, 7, 7, 9, 7, 8, 7, 10, 9, 7, 7, 9, 9, 7, 6, 6, 8, 8, 9, 10, 7, 6, 8, 8, 7, 8, 9, 8, 8, 8, 8, 8, 7, 8, 8, 8, 7, 7, 7, 7, 8, 6, 7, 9, 7, 8, 10, 10, 12, 8, 8, 7, 9, 9, 8, 8, 8, 9, 9, 8, 8, 7, 8, 9, 8, 8, 9, 8, 12, 10, 9, 9, 8, 9, 8, 6, 8, 7, 9, 10, 10, 8, 10, 9, 9, 12, 10, 11, 9, 11, 9, 10, 8, 9, 9, 9, 10, 11, 9, 10, 10, 10, 10, 9, 9, 9, 6, 9, 9, 7, 9, 8, 9, 7, 8, 8, 9, 8, 8, 9, 8, 7, 7, 7, 7, 7, 8, 7, 8, 9, 7, 7, 6, 7, 8, 8, 9, 10, 8, 7, 7, 8, 8, 7, 9, 10, 7, 7, 8, 10, 8, 7, 6, 9, 7, 8, 8, 8, 8, 7, 6, 8, 8, 6, 9, 7, 10, 10, 7, 7, 10, 6, 9, 7, 10, 8, 7, 6, 8, 10, 7, 8, 8, 8, 7, 6, 6, 7, 12, 7, 9, 8, 7, 7, 8, 8, 8, 8, 8, 7, 8, 8, 7, 7, 7, 7, 11, 8, 8, 7, 10, 7, 8, 7, 10, 9, 10, 10, 10, 9, 9, 8, 8, 8, 9, 9, 9, 9, 9, 8, 9, 11, 10, 9, 9, 10, 8, 10, 9, 9, 8, 9, 10, 8, 9, 9, 9, 10, 11, 11, 10, 9, 8, 9, 12, 13, 9, 10, 10, 9, 10, 7, 11, 11, 8, 10, 10, 10, 10, 8, 10, 8, 7, 9, 9, 9, 9, 11, 10, 12, 9, 9, 7, 8, 10, 7, 6, 6, 7, 7, 7, 7, 7, 7, 8, 8, 8, 8, 8, 8, 8, 9, 7, 9, 8, 7, 7, 8, 7, 9, 8, 9, 9, 10, 10, 9, 9, 9, 9, 10, 10, 9, 9, 6, 7, 9, 11, 8, 6, 6, 7, 11, 6, 8, 8, 8, 9, 7, 9, 8, 6, 10, 9, 7, 8, 8, 8, 8, 9, 7, 9, 7, 10, 8, 9, 9, 9, 7, 10, 9, 9, 7, 11, 7, 9, 6, 7, 5, 6, 9, 9, 8, 6, 8, 7, 8, 8, 8, 7, 7, 7, 8, 6, 7, 8, 7, 7, 7, 11, 8, 6, 7, 6, 7, 7, 8, 9, 7, 8, 9, 9, 8, 8, 9, 8, 8, 8, 8, 8, 9, 8, 5, 9, 7, 7, 8, 7, 7, 7, 9, 6, 7, 5, 9, 8, 9, 8, 9, 8, 8, 10, 8, 7, 6, 7, 6, 8, 8, 8, 9, 10, 7, 7, 7, 8, 9, 6, 7, 7, 6, 6, 6, 7, 8, 7, 6, 6, 11, 8, 8, 8, 13, 9, 7, 7, 6, 8, 8, 7, 7, 7, 8, 7, 8, 7, 8, 8, 8, 8, 7, 10, 7, 8, 8, 7, 7, 7, 7, 8, 7, 7, 8, 7, 8, 8, 7, 9, 8, 8, 7, 8, 8, 8, 8, 8, 8, 7, 8, 8, 7, 8, 8, 8, 10, 9, 9, 8, 9, 8, 7, 7, 7, 7, 6, 7, 7, 9, 8, 7, 9, 6, 8, 7, 8, 7, 9, 7, 8, 9, 8, 7, 8, 7, 8, 9, 7, 9, 8, 9, 7, 8, 7, 9, 7, 7, 8, 9, 8, 9, 6, 6, 8, 7, 7, 10, 10, 9, 10, 8, 9, 8, 9, 8, 8, 9, 7, 6, 8, 8, 8, 7, 8, 8, 7, 9, 7, 7, 6, 7, 7, 7, 10, 8, 8, 9, 7, 11, 8, 7, 8, 8, 7, 7, 9, 8, 7, 7, 9, 6, 8, 6, 8, 8, 6, 7, 7, 7, 7, 8, 7, 7, 8, 9, 7, 6, 5, 7, 7, 6, 7, 7, 7, 7, 7, 8, 8, 8, 9, 8, 8, 7, 6, 8, 8, 8, 8, 9, 6, 9, 8, 9, 9, 10, 6, 7, 8, 8, 6, 6, 8, 7, 10, 8, 6, 9, 7, 7, 10, 7, 7, 9, 8, 7, 10, 10, 11, 6, 6, 8, 8, 8, 7, 8, 8, 7, 7, 7, 7, 7, 8, 8, 8, 11, 9, 9, 9, 9, 7, 8, 8, 8, 8, 7, 7, 6, 9, 8, 8, 10, 10, 8, 8, 7, 8, 8, 7, 7, 8, 9, 10, 6, 8, 10, 8, 9, 7, 7, 7, 8, 10, 8, 9, 11, 8, 8, 7, 7, 8, 8, 8, 9, 7, 7, 8, 9, 9, 9, 8, 8, 7, 8, 7, 8, 7, 7, 7, 7, 8, 9, 8, 8, 8, 7, 7, 7, 7, 6, 6, 6, 7, 9, 8, 9, 9, 12, 6, 9, 8, 9, 11, 8, 9, 7, 8, 9, 12, 7, 7, 7, 10, 11, 8, 8, 8, 9, 12, 8, 9, 7, 7, 9, 9, 9, 7, 8, 6, 8, 8, 7, 7, 7, 7, 6, 6, 7, 7, 7, 10, 10, 8, 7, 7, 8, 7, 8, 6, 8, 8, 8, 8, 9, 8, 8, 8, 9, 8, 8, 7, 7, 6, 6, 8, 7, 7, 6, 7, 9, 8, 8, 7, 7, 7, 7, 7, 8, 8, 7, 9, 8, 8, 8, 7, 8, 8, 8, 14, 9, 10, 10, 10, 9, 9, 12, 13, 10, 11, 13, 9, 6, 6, 6, 7, 6, 9, 9, 8, 9, 9, 10, 9, 7, 8, 6, 8, 7, 7, 6, 7, 7, 6, 7, 8, 6, 6, 6, 8, 7, 8, 7, 8, 7, 7, 9, 9, 8, 8, 8, 6, 7, 10, 8, 8, 8, 8, 7, 9, 9, 8, 8, 8, 7, 7, 8, 7, 8, 9, 8, 9, 7, 8, 8, 9, 7, 7, 7, 8, 8, 8, 7, 8, 8, 7, 10, 8, 6, 7, 8, 8, 9, 9, 7, 6, 8, 7, 7, 8, 9, 8, 7, 8, 8, 7, 8, 8, 9, 8, 10, 7, 10, 9, 10, 10, 6, 8, 7, 8, 6, 7, 9, 9, 8, 7, 8, 8, 7, 7, 7, 7, 8, 8, 7, 8, 11, 11, 11, 12, 10, 8, 7, 6, 6, 8, 7, 10, 6, 5, 8, 7, 7, 7, 8, 7, 7, 7, 8, 8, 7, 8, 8, 7, 7, 7, 8, 8, 7, 7, 7, 7, 7, 7, 8, 7, 7, 6, 8, 7, 8, 6, 6, 7, 10, 7, 11, 8, 8, 9, 8, 7, 8, 8, 8, 7, 8, 7, 7, 8, 9, 7, 6, 8, 8, 10, 10, 10, 7, 7, 7, 10, 8, 9, 7, 10, 10, 9, 10, 9, 10, 10, 9, 9, 9, 12, 6, 8, 8, 7, 7, 6, 10, 10, 9, 10, 10, 12, 10, 11, 10, 7, 8, 9, 8, 8, 9, 10, 10, 9, 10, 11, 10, 11, 10, 9, 9, 10, 9, 8, 9, 10, 10, 10, 10, 10, 10, 10, 10, 10, 8, 6, 8, 8, 10, 9, 9, 10, 10, 6, 8, 7, 8, 8, 8, 8, 9, 8, 8, 8, 8, 8, 8, 8, 8, 6, 7, 7, 8, 8, 8, 8, 8, 8, 8, 10, 9, 8, 10, 10, 11, 11, 11, 11, 11, 8, 7, 8, 7, 10, 9, 8, 9, 10, 8, 8, 8, 10, 8, 7, 9, 7, 8, 7, 7, 8, 8, 8, 8, 7, 7, 9, 8, 8, 7, 8, 7, 10, 8, 7, 8, 7, 7, 7, 12, 8, 8, 8, 7, 8, 8, 7, 6, 7, 8, 7, 6, 8, 8, 8, 8, 7, 6, 9, 9, 8, 11, 8, 7, 8, 8, 8, 8, 7, 8, 8, 9, 7, 9, 9, 8, 8, 8, 9, 9, 8, 7, 6, 8, 9, 8, 8, 8, 8, 8, 7, 7, 7, 8, 9, 7, 8, 8, 8, 8, 8, 8, 8, 8, 9, 7, 8, 8, 8, 8, 9, 7, 9, 6, 9, 8, 8, 7, 8, 7, 8, 7, 8, 7, 7, 7, 8, 8, 8, 8, 8, 8, 10, 8, 8, 8, 9, 8, 9, 10, 10, 10, 9, 10, 11, 11, 9, 9, 10, 9, 9, 9, 10, 8, 9, 10, 9, 10, 10, 10, 10, 10, 10, 10, 9, 8, 8, 9, 9, 9, 10, 10, 10, 9, 10, 10, 10, 10, 9, 9, 8, 8, 9, 9, 10, 9, 7, 10, 10, 11, 10, 12, 9, 9, 9, 9, 11, 11, 10, 9, 8, 9, 8, 8, 8, 10, 10, 8, 10, 13, 11, 9, 11, 7, 11, 10, 7, 6, 7, 9, 10, 8, 9, 8, 8, 8, 8, 8, 8, 8, 8, 7, 8, 8, 8, 9, 8, 8, 8, 10, 9, 8, 11, 7, 7, 7, 7, 10, 9, 10, 9, 11, 10, 11, 11, 9, 9, 9, 10, 10, 9, 10, 13, 8, 7, 8, 7, 7, 8, 9, 11, 10, 10, 10, 10, 10, 10, 8, 10, 12, 10, 9, 7, 9, 7, 8, 6, 8, 6, 7, 7, 9, 7, 8, 9, 11, 7, 8, 8, 8, 10, 9, 9, 8, 8, 8, 9, 9, 9, 8, 7, 9, 9, 8, 7, 10, 8, 8, 9, 10, 9, 9, 8, 8, 10, 8, 14, 8, 8, 12, 8, 8, 11, 10, 8, 8, 9, 8, 7, 9, 7, 8, 6, 8, 9, 8, 8, 8, 8, 8, 10, 8, 7, 8, 8, 8, 9, 9, 7, 7, 8, 9, 8, 7, 8, 7, 9, 7, 6, 9, 8, 8, 6, 9, 9, 7, 10, 6, 8, 8, 7, 8, 9, 9, 9, 10, 10, 7, 9, 10, 5, 10, 9, 8, 8, 7, 7, 8, 9, 9, 7, 7, 7, 7, 9, 7, 11, 7, 10, 7, 7, 8, 8, 6, 6, 8, 8, 8, 8, 7, 8, 8, 6, 8, 7, 7, 8, 8, 9, 8, 8, 8, 7, 7, 8, 6, 8, 8, 6, 8, 8, 8, 7, 9, 8, 7, 8, 7, 7, 7, 8, 7, 7, 8, 7, 7, 9, 8, 8, 7, 8, 11, 12, 10, 9, 8, 12, 10, 9, 8, 9, 7, 8, 6, 7, 6, 7, 6, 7, 9, 10, 6, 7, 7, 9, 8, 8, 8, 8, 6, 6, 8, 6, 8, 9, 7, 8, 6, 8, 8, 8, 8, 8, 8, 8, 8, 7, 7, 7, 7, 7, 9, 8, 7, 8, 7, 7, 7, 7, 10, 7, 5, 8, 10, 8, 7, 8, 7, 7, 7, 7, 7, 10, 8, 7, 11, 7, 6, 8, 8, 9, 7, 7, 8, 7, 8, 7, 6, 7, 6, 8, 6, 11, 8, 8, 7, 7, 8, 8, 8, 8, 8, 8, 7, 7, 9, 9, 9, 8, 9, 9, 9, 9, 6, 9, 9, 9, 10, 7, 7, 7, 6, 8, 8, 9, 9, 8, 7, 7, 7, 8, 7, 7, 7, 8, 7, 8, 8, 8, 7, 10, 8, 9, 9, 8, 8, 10, 8, 12, 9, 7, 9, 9, 9, 10, 8, 8, 11, 8, 6, 9, 8, 7, 8, 8, 9, 9, 9, 10, 10, 10, 9, 9, 11, 9, 7, 8, 7, 8, 7, 7, 9, 8, 7, 8, 8, 13, 7, 7, 8, 8, 8, 9, 7, 8, 7, 9, 9, 8, 7, 9, 6, 8, 8, 9, 8, 8, 8, 8, 7, 7, 7, 8, 9, 9, 8, 8, 7, 5, 9, 10, 10, 10, 8, 8, 8, 7, 9, 8, 7, 8, 8, 9, 6, 8, 8, 8, 9, 7, 10, 9, 8, 11, 6, 9, 6, 8, 8, 9, 9, 9, 8, 8, 8, 7, 8, 6, 6, 8, 8, 8, 7, 7, 8, 7, 8, 7, 9, 7, 10, 7, 7, 9, 10, 11, 10, 9, 9, 8, 8, 9, 10, 7, 7, 10, 8, 8, 7, 8, 8, 7, 8, 8, 10, 8, 8, 7, 9, 8, 8, 8, 8, 7, 7, 7, 8, 8, 8, 9, 7, 8, 9, 7, 8, 8, 9, 8, 8, 10, 9, 11, 8, 8, 8, 7, 9, 7, 7, 7, 6, 7, 8, 6, 6, 7, 8, 10, 8, 7, 7, 10, 8, 10, 9, 9, 7, 7, 9, 7, 8, 7, 7, 8, 12, 7, 8, 9, 8, 8, 8, 9, 8, 11, 10, 9, 7, 8, 7, 8, 9, 7, 10, 8, 10, 9, 5, 8, 8, 9, 8, 8, 8, 7, 8, 7, 6, 7, 6, 7, 7, 7, 7, 7, 9, 9, 9, 11, 9, 9, 9, 9, 9, 10, 9, 10, 9, 9, 9, 9, 10, 12, 11, 8, 9, 9, 7, 7, 10, 8, 9, 8, 7, 6, 8, 11, 7, 9, 9, 7, 8, 9, 9, 9, 8, 8, 7, 8, 6, 7, 6, 7, 11, 9, 9, 8, 8, 8, 9, 8, 8, 7, 9, 9, 9, 8, 6, 8, 8, 7, 9, 9, 9, 6, 9, 8, 8, 9, 9, 8, 9, 8, 9, 9, 9, 9, 9, 10, 7, 7, 8, 7, 9, 8, 9, 9, 7, 8, 6, 9, 9, 8, 9, 10, 6, 10, 8, 10, 7, 8, 10, 9, 7, 8, 7, 8, 9, 9, 8, 7, 8, 10, 8, 10, 10, 11, 9, 10, 10, 10, 10, 11, 11, 10, 11, 11, 10, 9, 9, 8, 11, 10, 10, 8, 10, 7, 7, 7, 9, 7, 6, 7, 7, 7, 8, 7, 9, 8, 8, 8, 9, 9, 8, 9, 9, 8, 6, 8, 8, 7, 8, 7, 7, 7, 8, 7, 7, 9, 9, 9, 8, 7, 8, 9, 8, 10, 7, 7, 7, 8, 7, 9, 9, 9, 6, 8, 8, 7, 9, 8, 10, 10, 11, 11, 8, 8, 9, 9, 9, 9, 8, 7, 8, 8, 7, 7, 9, 9, 10, 10, 8, 8, 9, 9, 8, 8, 8, 8, 9, 9, 8, 8, 8, 9, 6, 8, 7, 8, 7, 8, 8, 8, 7, 11, 8, 7, 7, 9, 9, 8, 7, 8, 7, 10, 9, 9, 8, 7, 7, 6, 8, 7, 9, 9, 8, 9, 11, 13, 8, 9, 8, 10, 8, 8, 8, 7, 8, 9, 7, 7, 11, 7, 6, 8, 8, 9, 6, 8, 7, 8, 6, 7, 9, 9, 7, 8, 8, 8, 8, 8, 7, 9, 10, 10, 10, 11, 8, 7, 7, 8, 8, 6, 7, 8, 8, 12, 9, 8, 8, 8, 8, 7, 7, 9, 7, 8, 8, 8, 7, 12, 8, 8, 7, 8, 8, 6, 6, 8, 7, 8, 9, 10, 8, 10, 10, 8, 8, 10, 8, 10, 9, 9, 8, 8, 7, 8, 7, 7, 8, 8, 7, 7, 8, 7, 8, 8, 8, 8, 7, 8, 8, 8, 8, 8, 7, 7, 7, 9, 8, 8, 8, 9, 8, 7, 6, 7, 8, 7, 8, 8, 8, 8, 7, 8, 8, 8, 8, 9, 9, 8, 8, 7, 8, 10, 9, 8, 9, 7, 8, 8, 8, 8, 7, 8, 8, 7, 7, 8, 8, 7, 9, 6, 9, 9, 6, 8, 8, 10, 10, 9, 10, 10, 10, 10, 10, 9, 9, 6, 10, 10, 11, 10, 12, 9, 12, 9, 9, 9, 10, 10, 10, 12, 10, 10, 10, 10, 10, 10, 10, 8, 11, 11, 9, 9, 10, 10, 10, 8, 9, 10, 12, 8, 11, 9, 8, 8, 8, 8, 8, 10, 8, 8, 8, 7, 8, 10, 8, 8, 8, 8, 8, 11, 10, 8, 10, 9, 7, 9, 8, 8, 8, 8, 9, 10, 9, 7, 8, 10, 11, 9, 8, 8, 8, 8, 9, 8, 10, 9, 7, 10, 10, 8, 10, 10, 8, 7, 8, 11, 9, 9, 7, 8, 7, 7, 8, 9, 7, 9, 7, 9, 7, 8, 7, 7, 8, 9, 8, 9, 9, 8, 7, 10, 7, 8, 10, 8, 9, 10, 10, 9, 8, 9, 9, 8, 8, 8, 8, 10, 8, 7, 8, 9, 9, 8, 7, 8, 8, 8, 7, 7, 8, 8, 7, 7, 9, 9, 8, 8, 9, 8, 8, 9, 11, 8, 8, 8, 8, 7, 8, 9, 7, 7, 8, 9, 8, 7, 8, 8, 8, 8, 9, 8, 8, 9, 8, 8, 10, 8, 10, 7, 8, 7, 7, 9, 10, 10, 12, 10, 10, 9, 11, 9, 10, 10, 10, 10, 9, 11, 8, 9, 11, 8, 10, 9, 9, 11, 10, 9, 11, 8, 10, 11, 9, 9, 10, 10, 9, 9, 10, 9, 12, 10, 11, 11, 10, 10, 10, 10, 10, 10, 11, 11, 12, 12, 11, 10, 8, 9, 11, 11, 10, 10, 7, 10, 8, 10, 7, 10, 8, 8, 10, 9, 11, 13, 12, 10, 10, 10, 7, 7, 10, 8, 10, 8, 8, 9, 9, 8, 7, 8, 9, 9, 8, 8, 9, 9, 8, 8, 10, 7, 7, 9, 9, 8, 10, 7, 7, 7, 7, 8, 13, 10, 10, 11, 10, 11, 10, 8, 8, 10, 9, 8, 10, 9, 10, 9, 9, 9, 9, 9, 8, 8, 9, 9, 8, 11, 8, 8, 9, 8, 10, 7, 10, 7, 8, 7, 8, 8, 8, 9, 8, 8, 10, 10, 9, 10, 9, 8, 8, 7, 8, 8, 9, 9, 9, 8, 9, 8, 10, 9, 7, 7, 8, 9, 7, 9, 10, 8, 11, 10, 9, 8, 9, 8, 8, 9, 9, 9, 11, 7, 8, 8, 7, 8, 10, 8, 8, 7, 9, 9, 8, 10, 9, 12, 9, 8, 8, 9, 9, 9, 8, 9, 9, 9, 8, 8, 8, 10, 8, 8, 9, 9, 8, 8, 8, 9, 9, 7, 7, 7, 9, 8, 8, 8, 8, 8, 7, 9, 7, 11, 8, 9, 8, 8, 7, 8, 8, 7, 9, 9, 8, 8, 8, 8, 8, 7, 8, 8, 8, 8, 8, 7, 7, 10, 7, 9, 9, 8, 7, 7, 8, 8, 8, 8, 7, 8, 9, 8, 8, 11, 8, 7, 9, 8, 10, 9, 9, 7, 7, 7, 8, 8, 8, 8, 7, 8, 7, 8, 7, 8, 8, 8, 7, 8, 7, 8, 8, 8, 7, 9, 8, 8, 8, 8, 10, 9, 9, 7, 10, 8, 7, 8, 10, 9, 5, 8, 10, 6, 7, 7, 9, 7, 10, 8, 10, 9, 9, 7, 7, 7, 6, 6, 9, 7, 7, 7, 7, 5, 10, 9, 8, 11, 9, 13, 10, 8, 7, 7, 8, 10, 7, 8, 8, 8, 7, 8, 8, 8, 10, 7, 7, 7, 6, 9, 8, 9, 6, 7, 8, 9, 8, 7, 6, 7, 9, 6, 8, 8, 8, 9, 8, 9, 8, 9, 6, 7, 8, 9, 8, 8, 9, 8, 9, 7, 7, 10, 7, 9, 6, 8, 12, 7, 7, 7, 6, 8, 8, 8, 8, 8, 8, 8, 11, 10, 8, 8, 8, 7, 10, 9, 9, 8, 8, 9, 9, 11, 9, 9, 9, 10, 9, 8, 8, 9, 6, 6, 7, 7, 10, 10, 10, 7, 8, 6, 8, 8, 7, 6, 6, 8, 7, 9, 9, 9, 9, 8, 9, 11, 10, 7, 9, 10, 9, 9, 9, 8, 9, 7, 6, 9, 9, 9, 9, 9, 9, 9, 9, 9, 11, 9, 9, 8, 8, 8, 7, 9, 10, 6, 7, 10, 8, 8, 9, 8, 8, 7, 8, 7, 8, 6, 8, 8, 8, 9, 7, 10, 9, 6, 7, 9, 7, 11, 11, 7, 9, 8, 8, 7, 7, 9, 10, 7, 6, 8, 6, 7, 9, 10, 10, 8, 8, 11, 9, 10, 10, 7, 8, 6, 7, 8, 8, 8, 8, 8, 8, 7, 8, 6, 8, 8, 10, 11, 8, 9, 7, 8, 10, 7, 7, 10, 7, 10, 8, 8, 7, 8, 7, 9, 9, 9, 9, 11, 8, 7, 6, 7, 10, 7, 11, 9, 7, 7, 7, 8, 8, 9, 8, 8, 8, 7, 9, 7, 8, 8, 9, 7, 5, 9, 7, 8, 8, 8, 9, 8, 9, 8, 8, 8, 8, 8, 8, 10, 10, 10, 8, 8, 8, 7, 7, 10, 10, 9, 9, 8, 8, 8, 8, 7, 7, 7, 8, 7, 8, 7, 8, 7, 10, 8, 8, 8, 7, 7, 10, 6, 8, 8, 6, 6, 8, 8, 8, 7, 7, 8, 8, 8, 8, 8, 8, 8, 7, 7, 8, 8, 7, 8, 9, 9, 10, 9, 8, 9, 9, 8, 7, 7, 7, 7, 8, 10, 8, 7, 8, 7, 7, 8, 9, 8, 8, 8, 8, 8, 9, 9, 9, 8, 8, 8, 7, 9, 8, 8, 8, 10, 6, 7, 8, 8, 8, 7, 7, 9, 7, 8, 8, 9, 9, 8, 9, 9, 8, 8, 8, 11, 9, 10, 11, 10, 10, 10, 10, 13, 12, 9, 8, 7, 10, 8, 8, 7, 9, 7, 7, 8, 10, 6, 8, 7, 8, 8, 7, 6, 8, 7, 7, 10, 10, 9, 9, 10, 9, 8, 8, 12, 11, 9, 7, 7, 7, 11, 12, 8, 9, 7, 8, 8, 8, 8, 11, 9, 7, 7, 7, 9, 8, 9, 8, 8, 9, 7, 7, 6, 8, 8, 6, 6, 9, 7, 9, 9, 6, 7, 8, 7, 7, 8, 8, 12, 9, 9, 10, 10, 8, 10, 9, 8, 8, 9, 9, 11, 8, 9, 9, 9, 7, 8, 8, 9, 10, 8, 9, 7, 9, 7, 9, 13, 8, 10, 9, 8, 6, 6, 8, 8, 7, 8, 9, 7, 7, 7, 9, 8, 8, 7, 8, 8, 8, 7, 8, 7, 8, 7, 8, 9, 10, 7, 9, 8, 8, 8, 8, 6, 7, 7, 7, 7, 10, 10, 10, 11, 11, 11, 12, 10, 11, 9, 10, 8, 9, 9, 6, 7, 7, 7, 9, 9, 10, 8, 8, 8, 8, 10, 10, 10, 8, 7, 7, 8, 7, 9, 7, 8, 6, 6, 7, 9, 7, 9, 8, 9, 9, 7, 9, 7, 7, 9, 8, 7, 8, 8, 7, 8, 8, 7, 8, 10, 9, 9, 8, 8, 9, 10, 10, 9, 8, 9, 10, 8, 8, 9, 9, 10, 9, 8, 8, 6, 7, 8, 8, 8, 7, 9, 8, 9, 9, 8, 7, 9, 8, 8, 9, 9, 8, 8, 7, 11, 8, 8, 7, 7, 8, 8, 8, 8, 8, 8, 9, 7, 7, 8, 9, 8, 10, 9, 9, 7, 9, 8, 9, 10, 9, 9, 6, 6, 7, 9, 9, 8, 8, 9, 8, 8, 7, 6, 10, 8, 8, 11, 7, 9, 8, 7, 7, 8, 7, 10, 12, 8, 9, 9, 7, 8, 8, 8, 8, 8, 8, 7, 9, 8, 8, 10, 10, 10, 9, 8, 9, 9, 10, 10, 8, 9, 9, 9, 8, 7, 8, 9, 7, 13, 8, 8, 11, 7, 9, 9, 7, 7, 6, 9, 9, 7, 8, 8, 8, 8, 9, 8, 8, 8, 8, 8, 8, 8, 8, 8, 8, 7, 8, 10, 8, 8, 10, 9, 9, 8, 7, 8, 9, 9, 7, 9, 9, 7, 8, 8, 7, 8, 7, 8, 8, 8, 9, 8, 10, 9, 9, 12, 8, 6, 7, 7, 8, 10, 9, 11, 11, 10, 13, 11, 11, 11, 10, 10, 11, 14, 9, 10, 10, 10, 10, 9, 12, 12, 12, 12, 11, 9, 10, 10, 10, 9, 10, 10, 10, 10, 10, 7, 8, 8, 8, 10, 9, 7, 10, 9, 8, 11, 8, 8, 8, 8, 10, 8, 8, 8, 7, 9, 7, 7, 8, 8, 7, 8, 10, 10, 12, 8, 8, 8, 7, 8, 9, 10, 10, 7, 11, 9, 8, 7, 8, 9, 10, 8, 10, 8, 7, 8, 8, 8, 8, 9, 7, 10, 7, 8, 9, 9, 7, 6, 6, 7, 8, 9, 9, 9, 8, 7, 9, 9, 10, 8, 9, 8, 7, 8, 7, 8, 8, 8, 9, 8, 9, 9, 9, 9, 9, 9, 12, 9, 7, 7, 8, 7, 10, 9, 8, 9, 7, 10, 10, 10, 10, 11, 9, 10, 10, 11, 9, 10, 10, 9, 9, 10, 10, 10, 10, 8, 11, 10, 9, 10, 9, 9, 10, 14, 10, 8, 8, 11, 10, 9, 9, 10, 11, 9, 8, 8, 10, 9, 10, 10, 10, 11, 9, 11, 9, 9, 8, 9, 9, 9, 9, 8, 9, 11, 9, 14, 14, 10, 11, 11, 11, 9, 12, 11, 8, 7, 7, 7, 9, 9, 9, 9, 7, 8, 9, 9, 10, 7, 8, 11, 10, 8, 8, 9, 11, 10, 10, 10, 10, 11, 10, 8, 8, 9, 9, 9, 8, 7, 8, 8, 10, 7, 9, 9, 10, 9, 8, 9, 9, 9, 9, 7, 9, 9, 8, 9, 10, 8, 7, 7, 9, 8, 9, 10, 10, 10, 10, 8, 9, 10, 9, 11, 9, 8, 9, 8, 8, 7, 8, 8, 7, 9, 9, 10, 8, 8, 9, 9, 9, 11, 9, 9, 10, 11, 8, 7, 8, 8, 8, 11, 8, 8, 8, 7, 11, 9, 10, 7, 7, 9, 9, 7, 8, 7, 9, 8, 8, 9, 9, 8, 9, 8, 8, 8, 8, 9, 7, 8, 8, 8, 8, 9, 9, 9, 7, 8, 8, 11, 9, 10, 7, 7, 8, 7, 8, 10, 10, 8, 9, 7, 7, 8, 9, 11, 10, 9, 7, 11, 6, 9, 7, 8, 9, 9, 8, 9, 7, 7, 8, 7, 8, 7, 7, 8, 9, 8, 7, 9, 8, 7, 8, 7, 8, 8, 9, 8, 8, 9, 7, 7, 8, 9, 8, 8, 6, 9, 11, 7, 8, 9, 8, 8, 8, 9, 8, 7, 8, 9, 7, 8, 7, 8, 8, 7, 8, 9, 8, 11, 9, 9, 9, 9, 10, 8, 6, 8, 7, 9, 8, 8, 10, 11, 8, 8, 8, 8, 7, 6, 9, 10, 7, 10, 8, 8, 7, 8, 7, 9, 10, 8, 8, 7, 9, 8, 9, 8, 7, 8, 9, 9, 8, 8, 9, 8, 10, 8, 8, 10, 6, 8, 8, 11, 9, 7, 6, 8, 8, 7, 9, 7, 10, 8, 8, 8, 6, 10, 9, 8, 7, 7, 10, 9, 7, 9, 8, 8, 8, 8, 8, 7, 8, 8, 8, 8, 8, 8, 7, 8, 8, 8, 8, 8, 11, 10, 8, 9, 9, 9, 10, 8, 9, 9, 9, 9, 8, 8, 10, 10, 8, 11, 7, 8, 6, 7, 7, 6, 7, 6, 8, 10, 11, 9, 9, 7, 7, 6, 7, 8, 8, 8, 7, 7, 9, 8, 8, 9, 7, 8, 8, 8, 7, 9, 9, 7, 11, 10, 9, 9, 8, 9, 8, 8, 11, 9, 9, 12, 9, 8, 11, 9, 10, 10, 10, 9, 10, 10, 11, 8, 9, 9, 8, 8, 10, 10, 10, 9, 7, 8, 10, 8, 6, 8, 9, 10, 8, 10, 9, 7, 7, 9, 8, 8, 8, 7, 8, 8, 7, 7, 12, 7, 6, 10, 7, 11, 8, 8, 9, 9, 11, 10, 10, 7, 10, 9, 8, 8, 8, 10, 7, 7, 7, 8, 11, 11, 8, 7, 8, 8, 8, 8, 8, 10, 10, 10, 11, 9, 8, 7, 9, 9, 7, 8, 8, 8, 10, 10, 7, 10, 7, 9, 10, 9, 8, 9, 9, 8, 8, 7, 9, 8, 9, 8, 9, 7, 9, 7, 8, 6, 9, 9, 8, 9, 7, 8, 8, 9, 8, 8, 13, 12, 9, 10, 9, 10, 9, 9, 7, 8, 8, 7, 9, 8, 8, 8, 8, 8, 7, 8, 9, 8, 8, 8, 7, 7, 10, 8, 9, 7, 8, 7, 9, 9, 9, 8, 9, 7, 7, 7, 8, 7, 7, 8, 8, 8, 8, 7, 7, 8, 9, 9, 9, 8, 8, 10, 8, 8, 8, 8, 8, 8, 8, 8, 8, 10, 10, 10, 9, 9, 8, 8, 9, 8, 8, 9, 9, 7, 12, 6, 8, 9, 10, 10, 11, 9, 10, 10, 10, 10, 10, 9, 6, 8, 8, 9, 11, 11, 7, 9, 7, 7, 7, 7, 8, 7, 8, 10, 8, 6, 9, 9, 9, 14, 12, 10, 10, 10, 12, 9, 7, 9, 8, 9, 9, 9, 7, 8, 10, 12, 11, 8, 8, 8, 9, 9, 8, 10, 9, 9, 7, 9, 8, 10, 8, 9, 8, 8, 7, 7, 7, 8, 10, 9, 8, 13, 10, 10, 9, 8, 8, 7, 6, 9, 9, 7, 8, 9, 10, 9, 9, 9, 9, 7, 8, 7, 6, 8, 8, 11, 8, 7, 9, 9, 8, 9, 8, 8, 8, 10, 8, 7, 8, 7, 8, 8, 8, 8, 9, 8, 7, 7, 10, 11, 11, 10, 8, 11, 10, 11, 10, 7, 9, 9, 10, 8, 8, 8, 9, 9, 8, 7, 7, 8, 8, 8, 9, 8, 10, 10, 10, 8, 7, 8, 8, 10, 7, 8, 7, 7, 7, 8, 8, 9, 9, 8, 8, 7, 8, 8, 9, 8, 8, 8, 10, 8, 8, 9, 9, 15, 10, 10, 9, 9, 8, 8, 8, 9, 9, 9, 8, 7, 8, 8, 9, 8, 8, 8, 9, 8, 8, 8, 9, 10, 10, 7, 9, 8, 8, 9, 10, 9, 8, 9, 9, 8, 8, 8, 9, 7, 8, 7, 9, 10, 8, 8, 8, 11, 8, 9, 10, 10, 8, 9, 9, 7, 8, 7, 8, 9, 8, 9, 8, 8, 10, 9, 10, 8, 10, 12, 10, 8, 7, 8, 8, 8, 8, 8, 8, 10, 9, 7, 6, 10, 8, 9, 8, 9, 10, 9, 12, 8, 9, 9, 9, 9, 13, 9, 9, 7, 8, 9, 8, 8, 7, 8, 8, 9, 10, 8, 7, 8, 9, 8, 7, 8, 8, 9, 10, 11, 10, 11, 9, 11, 9, 9, 9, 7, 7, 8, 7, 7, 8, 10, 7, 7, 8, 8, 8, 8, 9, 8, 8, 8, 7, 7, 9, 7, 10, 10, 9, 7, 7, 8, 8, 7, 7, 11, 8, 9, 7, 9, 9, 8, 9, 7, 8, 7, 7, 8, 8, 6, 8, 8, 8, 8, 9, 10, 10, 12, 10, 10, 10, 11, 10, 10, 8, 11, 9, 7, 7, 7, 10, 11, 10, 11, 11, 12, 12, 8, 10, 12, 9, 9, 9, 10, 11, 12, 10, 10, 11, 10, 11, 10, 10, 10, 12, 10, 10, 10, 9, 9, 9, 8, 12, 7, 10, 8, 10, 11, 6, 8, 8, 8, 8, 9, 8, 8, 7, 9, 7, 7, 8, 10, 7, 8, 8, 7, 8, 8, 9, 11, 9, 10, 11, 10, 11, 9, 11, 9, 9, 7, 9, 10, 9, 8, 8, 7, 9, 7, 10, 8, 9, 8, 9, 8, 8, 8, 8, 9, 8, 7, 7, 9, 9, 8, 6, 7, 6, 8, 9, 8, 7, 8, 8, 9, 10, 9, 10, 10, 7, 8, 8, 8, 10, 8, 8, 10, 8, 8, 9, 9, 6, 9, 6, 8, 8, 8, 10, 10, 7, 10, 8, 9, 9, 7, 8, 8, 10, 8, 7, 11, 11, 9, 8, 10, 7, 7, 12, 7, 9, 10, 7, 8, 8, 10, 8, 8, 8, 9, 12, 10, 11, 10, 13, 9, 11, 10, 9, 10, 10, 12, 10, 9, 10, 11, 10, 10, 11, 11, 12, 9, 10, 12, 9, 9, 9, 9, 10, 10, 13, 10, 10, 9, 10, 9, 10, 9, 12, 12, 12, 10, 12, 11, 11, 9, 8, 8, 10, 8, 9, 9, 11, 11, 8, 9, 9, 8, 9, 8, 9, 11, 11, 12, 14, 15, 12, 10, 11, 10, 9, 8, 7, 8, 8, 8, 9, 7, 7, 9, 8, 8, 9, 8, 10, 8, 10, 7, 6, 8, 9, 9, 10, 9, 13, 8, 11, 10, 9, 10, 10, 11, 7, 8, 9, 10, 9, 8, 7, 9, 9, 10, 10, 8, 8, 11, 9, 7, 8, 8, 10, 8, 9, 8, 9, 8, 16, 8, 9, 11, 10, 10, 8, 10, 10, 8, 11, 10, 8, 9, 8, 10, 8, 11, 9, 9, 10, 11, 10, 10, 8, 9, 9, 9, 9, 9, 9, 8, 7, 7, 7, 9, 9, 11, 8, 9, 8, 8, 11, 8, 10, 8, 9, 13, 9, 9, 8, 8, 8, 8, 8, 9, 9, 9, 9, 10, 10, 9, 8, 8, 9, 10, 8, 9, 9, 9, 9, 8, 9, 9, 10, 10, 9, 8, 8, 8, 8, 9, 8, 8, 9, 8, 8, 8, 8, 8, 9, 9, 8, 8, 11, 9, 9, 10, 9, 8, 9, 9, 9, 9, 9, 9, 12, 10, 8, 8, 8, 7, 8, 11, 8, 9, 8, 7, 8, 8, 9, 8, 8, 8, 9, 8, 8, 10, 8, 7, 8, 7, 7, 9, 9, 8, 8, 8, 8, 9, 8, 8, 7, 7, 10, 9, 7, 8, 7, 8, 8, 10, 9, 8, 8, 8, 9, 9, 7, 8, 8, 8, 7, 8, 8, 11, 11, 11, 10, 9, 7, 10, 6, 7, 6, 6, 7, 7, 8, 8, 9, 8, 8, 9, 11, 6, 8, 8, 8, 9, 10, 9, 10, 9, 9, 9, 9, 7, 8, 8, 8, 9, 9, 11, 11, 11, 10, 9, 9, 7, 6, 8, 8, 7, 9, 7, 8, 8, 7, 8, 8, 10, 9, 8, 7, 10, 8, 7, 9, 7, 7, 9, 9, 8, 9, 8, 7, 8, 11, 8, 8, 8, 10, 8, 9, 6, 6, 9, 8, 8, 10, 10, 8, 9, 9, 8, 7, 9, 9, 8, 7, 7, 10, 8, 8, 8, 8, 7, 8, 8, 8, 9, 9, 10, 11, 7, 10, 9, 9, 10, 10, 9, 10, 7, 9, 8, 9, 7, 7, 8, 8, 8, 7, 9, 9, 8, 8, 9, 7, 9, 7, 7, 8, 7, 9, 9, 11, 10, 8, 9, 10, 8, 8, 9, 9, 10, 9, 10, 8, 9, 9, 8, 9, 10, 9, 9, 11, 9, 8, 8, 8, 7, 9, 7, 11, 11, 9, 10, 8, 9, 9, 11, 9, 7, 9, 8, 10, 10, 11, 11, 11, 11, 10, 11, 11, 10, 10, 9, 7, 8, 10, 10, 8, 8, 9, 8, 9, 8, 10, 6, 8, 8, 7, 8, 6, 8, 11, 9, 9, 8, 11, 7, 8, 8, 10, 7, 8, 9, 9, 11, 9, 8, 6, 9, 8, 7, 9, 7, 8, 8, 8, 8, 9, 7, 9, 9, 12, 8, 8, 8, 10, 11, 9, 10, 9, 8, 10, 13, 11, 9, 8, 7, 8, 8, 9, 10, 11, 8, 10, 7, 9, 7, 8, 8, 7, 8, 7, 7, 9, 9, 8, 10, 9, 8, 8, 9, 8, 7, 7, 7, 8, 8, 8, 8, 8, 9, 9, 8, 8, 7, 9, 10, 9, 9, 10, 9, 11, 8, 10, 9, 8, 8, 8, 8, 8, 8, 8, 8, 9, 8, 8, 8, 8, 8, 7, 8, 8, 7, 9, 9, 8, 9, 9, 8, 7, 7, 6, 8, 8, 8, 6, 9, 6, 8, 12, 6, 8, 8, 8, 7, 8, 9, 9, 9, 7, 9, 10, 9, 11, 8, 9, 8, 8, 7, 8, 8, 8, 10, 8, 10, 8, 9, 8, 8, 9, 9, 9, 8, 8, 9, 9, 9, 9, 9, 11, 8, 7, 8, 8, 8, 8, 10, 8, 10, 9, 11, 8, 8, 6, 8, 8, 7, 7, 9, 8, 10, 11, 9, 9, 9, 10, 9, 9, 7, 7, 7, 7, 7, 5, 12, 13, 12, 11, 9, 7, 8, 10, 9, 9, 7, 9, 9, 9, 9, 10, 9, 8, 9, 8, 8, 10, 8, 8, 8, 8, 8, 9, 7, 8, 10, 13, 11, 13, 9, 9, 9, 8, 9, 8, 8, 8, 8, 8, 8, 10, 7, 10, 8, 10, 11, 11, 11, 10, 6, 8, 10, 11, 10, 9, 8, 9, 8, 9, 9, 7, 13, 7, 8, 8, 7, 8, 6, 7, 7, 8, 9, 8, 10, 10, 8, 10, 9, 9, 8, 11, 8, 8, 8, 8, 8, 8, 9, 9, 8, 9, 10, 8, 8, 11, 9, 11, 10, 9, 10, 11, 8, 9, 9, 7, 8, 7, 7, 7, 7, 7, 7, 7, 8, 8, 8, 8, 8, 8, 10, 7, 7, 7, 7, 7, 8, 9, 8, 7, 9, 10, 8, 8, 8, 8, 8, 7, 9, 7, 10, 11, 9, 9, 10, 9, 8, 8, 8, 9, 8, 10, 10, 11, 10, 9, 10, 8, 9, 8, 8, 10, 9, 8, 10, 8, 8, 8, 7, 8, 11, 8, 8, 9, 8, 9, 8, 8, 8, 8, 8, 9, 8, 8, 11, 8, 8, 10, 9, 9, 8, 9, 8, 9, 10, 8, 9, 8, 9, 7, 8, 9, 8, 9, 9, 6, 8, 8, 9, 8, 10, 8, 9, 8, 11, 11, 9, 9, 7, 8, 8, 8, 10, 7, 8, 8, 9, 8, 10, 9, 11, 10, 9, 10, 10, 10, 10, 10, 9, 9, 10, 8, 8, 10, 11, 8, 7, 8, 8, 7, 8, 9, 6, 8, 7, 7, 9, 8, 8, 10, 8, 8, 8, 8, 9, 9, 8, 8, 9, 8, 8, 8, 9, 9, 8, 7, 8, 11, 9, 9, 7, 7, 10, 8, 9, 10, 12, 8, 10, 10, 9, 11, 8, 7, 8, 10, 10, 9, 8, 8, 8, 8, 11, 13, 11, 11, 11, 11, 11, 10, 9, 11, 9, 11, 9, 11, 11, 10, 11, 10, 10, 11, 10, 10, 11, 10, 11, 11, 10, 11, 10, 10, 7, 8, 7, 8, 8, 10, 9, 10, 10, 8, 8, 8, 7, 7, 10, 8, 8, 9, 8, 11, 9, 9, 8, 8, 8, 9, 8, 8, 10, 10, 7, 7, 9, 8, 8, 8, 8, 8, 9, 7, 8, 8, 7, 9, 11, 10, 8, 9, 9, 10, 9, 9, 7, 7, 8, 9, 11, 9, 8, 7, 8, 9, 8, 9, 8, 9, 9, 9, 7, 8, 10, 10, 9, 8, 7, 8, 8, 8, 9, 10, 9, 9, 7, 8, 8, 8, 10, 9, 8, 9, 9, 11, 9, 11, 9, 9, 8, 7, 7, 11, 10, 9, 9, 8, 7, 11, 7, 7, 8, 9, 7, 8, 9, 8, 10, 12, 9, 9, 9, 11, 10, 7, 8, 8, 7, 8, 9, 9, 8, 8, 8, 7, 11, 9, 11, 11, 11, 11, 10, 10, 9, 10, 10, 10, 11, 10, 10, 11, 11, 10, 9, 10, 12, 9, 10, 11, 11, 11, 10, 10, 10, 11, 11, 9, 12, 11, 9, 11, 9, 9, 9, 9, 11, 12, 8, 10, 10, 11, 11, 9, 9, 10, 10, 10, 10, 10, 9, 8, 10, 11, 9, 10, 10, 11, 9, 9, 9, 10, 10, 10, 12, 12, 9, 8, 7, 8, 8, 8, 11, 8, 8, 8, 12, 9, 7, 8, 9, 7, 7, 8, 8, 9, 11, 11, 12, 12, 10, 9, 8, 8, 10, 11, 12, 8, 10, 8, 8, 8, 10, 9, 8, 8, 8, 8, 9, 8, 10, 9, 10, 10, 10, 9, 11, 10, 8, 8, 9, 9, 9, 8, 9, 9, 9, 9, 9, 8, 9, 10, 9, 12, 9, 8, 9, 10, 9, 11, 11, 9, 12, 9, 7, 9, 10, 11, 8, 8, 9, 8, 9, 8, 8, 8, 8, 9, 9, 9, 8, 8, 7, 8, 10, 9, 11, 8, 9, 10, 10, 10, 10, 10, 8, 12, 10, 9, 8, 8, 8, 9, 10, 9, 8, 9, 8, 10, 8, 10, 9, 7, 10, 9, 9, 8, 7, 7, 9, 11, 8, 9, 9, 8, 8, 7, 7, 10, 8, 8, 8, 7, 7, 8, 9, 10, 7, 8, 9, 9, 8, 10, 9, 7, 9, 7, 8, 8, 11, 8, 10, 8, 6, 10, 9, 9, 11, 8, 8, 10, 9, 8, 8, 13, 10, 8, 7, 10, 9, 8, 10, 8, 9, 9, 9, 8, 8, 7, 6, 7, 6, 6, 9, 10, 9, 9, 10, 10, 8, 8, 6, 8, 8, 9, 7, 8, 10, 9, 7, 9, 9, 7, 7, 9, 8, 8, 8, 8, 8, 9, 8, 9, 9, 8, 8, 8, 8, 8, 8, 8, 9, 11, 8, 9, 8, 8, 9, 9, 10, 9, 10, 10, 7, 9, 11, 9, 8, 8, 11, 8, 9, 10, 8, 10, 7, 9, 7, 9, 10, 9, 8, 8, 11, 9, 10, 9, 9, 8, 10, 11, 10, 9, 11, 10, 9, 11, 8, 9, 10, 8, 10, 10, 9, 8, 9, 8, 10, 10, 11, 11, 11, 12, 10, 11, 12, 9, 10, 9, 10, 8, 9, 8, 8, 8, 10, 7, 7, 8, 10, 10, 9, 9, 8, 8, 7, 10, 9, 7, 9, 9, 9, 9, 8, 8, 11, 8, 9, 8, 8, 8, 9, 9, 9, 10, 9, 7, 9, 9, 8, 9, 8, 8, 9, 9, 8, 10, 7, 10, 10, 10, 8, 9, 10, 10, 8, 7, 10, 9, 8, 9, 10, 9, 6, 8, 8, 8, 7, 7, 8, 7, 9, 9, 12, 11, 8, 8, 9, 9, 8, 8, 8, 8, 7, 7, 9, 7, 7, 7, 9, 10, 10, 10, 9, 9, 12, 8, 8, 8, 7, 8, 10, 8, 8, 9, 9, 7, 8, 7, 7, 8, 8, 8, 7, 8, 9, 10, 9, 11, 8, 8, 9, 8, 8, 8, 8, 8, 8, 9, 9, 9, 9, 8, 8, 8, 8, 8, 8, 9, 10, 9, 10, 9, 9, 10, 10, 10, 9, 8, 7, 8, 7, 10, 8, 9, 8, 9, 10, 10, 8, 9, 9, 11, 9, 9, 8, 8, 10, 10, 11, 10, 9, 11, 8, 8, 8, 10, 8, 9, 8, 7, 7, 9, 14, 14, 10, 13, 12, 11, 13, 9, 13, 8, 10, 14, 9, 9, 8, 10, 8, 9, 11, 10, 8, 9, 7, 7, 7, 9, 10, 10, 8, 10, 9, 9, 8, 8, 8, 9, 7, 8, 8, 9, 9, 9, 9, 10, 10, 9, 10, 10, 9, 8, 10, 10, 7, 9, 8, 8, 9, 8, 7, 9, 8, 8, 8, 10, 8, 9, 10, 7, 8, 8, 9, 9, 9, 9, 9, 8, 8, 8, 10, 11, 10, 10, 11, 10, 11, 11, 11, 8, 9, 8, 7, 9, 7, 8, 11, 10, 11, 7, 7, 7, 7, 8, 8, 8, 8, 8, 9, 8, 9, 10, 8, 9, 8, 9, 10, 11, 9, 8, 8, 8, 9, 8, 10, 10, 8, 8, 8, 9, 7, 8, 8, 10, 10, 9, 8, 11, 8, 9, 8, 9, 9, 10, 9, 8, 7, 7, 9, 8, 8, 9, 10, 9, 7, 7, 7, 8, 9, 8, 8, 6, 8, 9, 13, 8, 11, 7, 8, 10, 10, 8, 7, 7, 10, 9, 9, 10, 9, 8, 8, 8, 8, 8, 9, 8, 8, 8, 8, 12, 9, 11, 7, 8, 8, 11, 11, 10, 9, 11, 10, 9, 8, 9, 9, 9, 8, 7, 8, 10, 8, 9, 9, 8, 8, 8, 8, 9, 9, 9, 11, 8, 8, 10, 9, 11, 8, 8, 9, 8, 10, 8, 8, 11, 9, 8, 7, 8, 10, 9, 8, 11, 7, 10, 8, 8, 9, 8, 9, 14, 10, 10, 11, 10, 10, 11, 12, 11, 11, 13, 11, 13, 12, 11, 10, 10, 11, 10, 11, 10, 14, 15, 12, 11, 10, 10, 10, 11, 11, 7, 7, 9, 8, 9, 10, 8, 10, 8, 8, 10, 8, 8, 8, 9, 9, 10, 10, 9, 9, 8, 11, 10, 10, 12, 10, 10, 8, 9, 10, 9, 8, 8, 7, 9, 10, 10, 10, 9, 9, 8, 9, 9, 8, 10, 11, 9, 9, 10, 8, 8, 10, 8, 9, 8, 7, 8, 10, 11, 8, 9, 9, 9, 12, 9, 9, 9, 10, 8, 8, 8, 10, 9, 9, 8, 8, 9, 8, 9, 9, 8, 8, 11, 11, 9, 10, 9, 12, 8, 9, 9, 8, 7, 9, 9, 8, 10, 8, 10, 9, 8, 8, 8, 9, 9, 9, 8, 8, 10, 10, 13, 11, 11, 10, 9, 9, 12, 11, 10, 11, 12, 8, 10, 11, 10, 10, 12, 11, 10, 10, 9, 11, 10, 12, 11, 10, 10, 11, 9, 9, 8, 12, 13, 13, 12, 9, 9, 11, 8, 8, 9, 8, 10, 8, 8, 8, 8, 11, 12, 11, 8, 7, 10, 8, 9, 13, 13, 12, 9, 10, 11, 11, 11, 10, 10, 9, 10, 10, 10, 11, 11, 10, 10, 9, 9, 7, 9, 8, 9, 9, 14, 11, 9, 10, 9, 8, 9, 11, 10, 10, 11, 10, 10, 10, 10, 9, 8, 11, 8, 8, 10, 10, 9, 10, 12, 11, 8, 8, 9, 9, 10, 9, 11, 11, 8, 10, 9, 9, 9, 10, 9, 10, 9, 9, 11, 8, 11, 9, 10, 9, 9, 9, 8, 10, 9, 10, 8, 8, 9, 9, 8, 9, 8, 8, 9, 9, 10, 9, 10, 9, 9, 9, 8, 8, 8, 9, 10, 8, 8, 8, 9, 8, 10, 8, 8, 9, 8, 8, 9, 11, 9, 7, 12, 9, 9, 8, 10, 9, 9, 9, 9, 9, 11, 8, 10, 7, 6, 8, 11, 11, 11, 10, 10, 9, 10, 8, 9, 9, 9, 8, 8, 8, 8, 10, 10, 10, 8, 8, 9, 10, 9, 8, 9, 7, 9, 8, 9, 9, 8, 8, 11, 8, 9, 9, 8, 9, 9, 10, 8, 8, 8, 8, 9, 9, 8, 8, 7, 8, 12, 8, 7, 9, 8, 8, 10, 10, 10, 10, 10, 8, 8, 8, 8, 7, 8, 9, 7, 7, 10, 8, 11, 8, 6, 6, 8, 8, 7, 7, 10, 12, 10, 9, 10, 7, 9, 8, 7, 8, 7, 10, 10, 7, 10, 8, 9, 8, 8, 10, 8, 8, 9, 10, 8, 7, 8, 8, 8, 11, 9, 8, 8, 8, 10, 8, 9, 8, 9, 7, 7, 11, 7, 8, 9, 8, 9, 9, 9, 9, 10, 10, 10, 9, 8, 9, 9, 8, 8, 10, 9, 9, 8, 9, 9, 10, 11, 7, 8, 9, 8, 8, 7, 7, 9, 9, 8, 9, 9, 8, 9, 8, 6, 7, 8, 8, 8, 8, 9, 8, 10, 8, 10, 9, 11, 10, 9, 7, 8, 8, 9, 8, 8, 10, 8, 8, 8, 9, 8, 9, 7, 10, 8, 10, 10, 8, 8, 8, 9, 9, 8, 10, 10, 8, 8, 8, 9, 7, 8, 8, 8, 10, 9, 10, 9, 8, 10, 10, 8, 10, 8, 8, 8, 8, 9, 6, 8, 8, 8, 10, 7, 8, 7, 9, 9, 8, 9, 9, 8, 8, 10, 10, 8, 11, 10, 8, 11, 12, 13, 9, 11, 9, 10, 10, 10, 10, 11, 11, 9, 9, 9, 11, 10, 9, 9, 12, 8, 11, 10, 10, 10, 9, 10, 10, 9, 9, 8, 8, 13, 11, 6, 10, 9, 10, 10, 10, 10, 9, 10, 10, 9, 7, 8, 9, 10, 11, 11, 8, 8, 9, 7, 9, 9, 8, 9, 8, 10, 8, 10, 11, 8, 12, 9, 10, 10, 7, 8, 9, 11, 11, 10, 11, 9, 11, 10, 8, 9, 8, 11, 8, 8, 9, 10, 10, 9, 9, 11, 9, 8, 9, 8, 11, 8, 10, 8, 10, 10, 9, 9, 8, 8, 8, 10, 9, 9, 9, 9, 9, 10, 8, 10, 9, 8, 9, 7, 9, 8, 9, 9, 8, 10, 11, 11, 9, 10, 11, 10, 13, 8, 10, 8, 8, 10, 11, 10, 8, 8, 9, 9, 8, 9, 8, 10, 11, 9, 9, 9, 12, 9, 10, 9, 10, 8, 8, 8, 9, 9, 8, 8, 8, 8, 9, 10, 9, 9, 10, 6, 10, 8, 7, 8, 8, 11, 10, 10, 8, 9, 8, 10, 9, 10, 9, 9, 10, 10, 10, 10, 10, 8, 9, 9, 8, 8, 9, 7, 9, 8, 9, 9, 8, 9, 9, 8, 12, 11, 10, 10, 11, 8, 10, 10, 9, 9, 9, 8, 12, 9, 11, 9, 9, 10, 10, 11, 10, 11, 9, 11, 12, 12, 12, 9, 10, 7, 7, 10, 10, 8, 8, 11, 12, 10, 9, 10, 12, 9, 7, 9, 10, 8, 8, 7, 9, 8, 10, 11, 11, 9, 9, 9, 8, 9, 11, 9, 9, 10, 10, 10, 9, 10, 10, 10, 9, 9, 11, 9, 8, 8, 11, 12, 12, 12, 10, 11, 10, 12, 12, 9, 8, 8, 8, 8, 8, 9, 8, 8, 9, 8, 10, 10, 10, 12, 9, 10, 8, 10, 9, 7, 10, 10, 10, 7, 7, 9, 10, 10, 10, 8, 12, 9, 8, 13, 8, 9, 9, 12, 9, 9, 9, 7, 9, 10, 9, 10, 14, 8, 10, 8, 8, 8, 8, 8, 8, 9, 12, 8, 8, 10, 11, 12, 7, 8, 11, 9, 11, 11, 9, 8, 11, 12, 9, 7, 11, 10, 8, 8, 9, 10, 9, 10, 9, 7, 7, 7, 9, 8, 10, 9, 11, 10, 13, 8, 8, 8, 12, 10, 10, 10, 8, 8, 9, 10, 11, 9, 9, 11, 11, 13, 11, 11, 11, 10, 12, 11, 13, 9, 12, 10, 12, 11, 11, 11, 11, 11, 11, 9, 7, 10, 10, 8, 10, 10, 9, 9, 9, 10, 9, 11, 9, 9, 9, 9, 10, 9, 9, 11, 10, 7, 9, 12, 12, 9, 9, 8, 12, 8, 8, 9, 10, 9, 9, 9, 9, 10, 10, 9, 10, 8, 8, 9, 9, 8, 8, 9, 12, 9, 8, 9, 10, 12, 9, 11, 8, 9, 8, 9, 9, 9, 8, 8, 9, 10, 12, 11, 11, 10, 10, 12, 11, 11, 11, 11, 12, 15, 11, 11, 10, 11, 12, 10, 10, 10, 11, 10, 12, 10, 8, 12, 12, 12, 11, 11, 11, 12, 9, 11, 9, 6, 6, 11, 9, 9, 12, 8, 9, 10, 9, 11, 9, 8, 10, 10, 11, 10, 12, 10, 13, 11, 8, 11, 10, 8, 9, 9, 12, 9, 9, 10, 10, 8, 11, 8, 10, 8, 10, 11, 9, 9, 9, 9, 9, 9, 8, 8, 8, 9, 9, 10, 11, 10, 12, 9, 9, 10, 8, 8, 8, 10, 9, 8, 10, 8, 9, 9, 7, 10, 8, 8, 9, 8, 10, 9, 9, 11, 9, 8, 9, 9, 8, 8, 9, 9, 9, 9, 10, 9, 9, 7, 9, 9, 8, 9, 8, 9, 10, 9, 10, 10, 11, 10, 7, 7, 8, 10, 9, 11, 8, 7, 12, 9, 8, 7, 8, 6, 10, 9, 7, 9, 8, 7, 10, 10, 12, 11, 9, 9, 7, 9, 9, 11, 8, 10, 7, 10, 9, 11, 11, 8, 8, 8, 11, 8, 10, 7, 10, 7, 8, 10, 7, 11, 10, 11, 9, 8, 7, 8, 9, 8, 8, 11, 9, 9, 9, 9, 9, 8, 8, 10, 7, 7, 7, 8, 11, 9, 8, 8, 9, 9, 11, 10, 10, 9, 10, 10, 8, 11, 12, 8, 9, 8, 8, 9, 11, 10, 10, 9, 14, 10, 10, 8, 9, 8, 10, 8, 7, 8, 8, 8, 11, 8, 9, 7, 11, 11, 9, 9, 10, 10, 8, 12, 10, 10, 7, 9, 7, 12, 11, 11, 11, 8, 10, 9, 9, 11, 8, 9, 8, 9, 11, 9, 9, 9, 10, 12, 11, 9, 8, 8, 11, 8, 8, 10, 11, 11, 9, 9, 9, 9, 9, 8, 10, 9, 8, 10, 8, 9, 10, 7, 9, 8, 9, 10, 8, 10, 9, 9, 9, 12, 10, 9, 9, 10, 9, 8, 8, 8, 9, 8, 8, 9, 7, 7, 7, 8, 8, 13, 10, 9, 10, 9, 9, 8, 10, 12, 11, 11, 10, 8, 8, 10, 10, 8, 9, 9, 9, 8, 8, 10, 10, 11, 10, 11, 7, 8, 9, 9, 10, 8, 7, 8, 9, 9, 11, 11, 11, 11, 11, 8, 14, 12, 14, 15, 10, 10, 11, 13, 9, 15, 11, 8, 10, 8, 8, 7, 8, 9, 8, 8, 9, 10, 10, 12, 9, 11, 10, 11, 8, 8, 8, 8, 8, 10, 10, 9, 11, 11, 9, 7, 8, 8, 9, 8, 9, 9, 9, 9, 10, 9, 9, 10, 10, 12, 12, 12, 12, 12, 12, 12, 11, 6, 8, 8, 10, 11, 11, 12, 10, 8, 9, 11, 8, 11, 7, 9, 10, 9, 7, 10, 9, 10, 10, 8, 9, 9, 8, 10, 10, 9, 9, 8, 9, 10, 8, 8, 9, 9, 8, 7, 9, 10, 9, 9, 8, 8, 10, 8, 11, 9, 9, 9, 9, 8, 13, 11, 9, 13, 8, 8, 9, 9, 10, 9, 9, 9, 10, 10, 10, 12, 10, 7, 8, 8, 8, 9, 10, 12, 11, 13, 13, 12, 10, 14, 14, 10, 12, 11, 11, 11, 12, 11, 12, 12, 12, 10, 9, 11, 10, 9, 10, 10, 9, 9, 9, 8, 12, 8, 13, 11, 11, 9, 12, 9, 10, 10, 8, 8, 11, 10, 9, 8, 9, 10, 7, 11, 10, 10, 9, 9, 8, 9, 11, 11, 10, 12, 10, 10, 9, 9, 6, 13, 9, 11, 10, 11, 8, 8, 12, 9, 9, 10, 10, 11, 9, 11, 8, 10, 10, 9, 12, 11, 10, 12, 10, 10, 12, 11, 12, 9, 11, 12, 10, 14, 10, 13, 12, 12, 14, 12, 10, 11, 11, 9, 13, 10, 11, 12, 12, 11, 12, 14, 16, 9, 9, 11, 7, 9, 9, 8, 8, 9, 9, 10, 7, 10, 11, 12, 10, 11, 11, 12, 10, 10, 10, 10, 10, 9, 12, 9, 11, 12, 7, 9, 11, 9, 10, 8, 11, 9, 10, 10, 12, 9, 12, 10, 8, 11, 8, 8, 10, 10, 11, 10, 10, 10, 9, 9, 9, 10, 9, 9, 9, 9, 12, 8, 7, 9, 9, 9, 10, 10, 9, 9, 9, 9, 10, 8, 10, 10, 10, 10, 9, 10, 9, 9, 10, 10, 8, 8, 8, 9, 8, 10, 10, 11, 10, 8, 9, 9, 10, 10, 8, 10, 8, 8, 10, 10, 8, 8, 9, 10, 10, 10, 10, 9, 9, 8, 7, 10, 8, 8, 10, 8, 8, 9, 9, 10, 12, 9, 9, 8, 9, 8, 9, 10, 9, 10, 8, 10, 9, 9, 7, 10, 8, 9, 9, 9, 9, 8, 9, 10, 10, 8, 8, 10, 6, 10, 13, 10, 8, 9, 10, 8, 8, 8, 9, 7, 9, 8, 10, 10, 9, 12, 9, 10, 10, 8, 10, 9, 8, 8, 9, 9, 11, 11, 10, 8, 8, 9, 8, 8, 10, 10, 9, 11, 7, 10, 9, 8, 8, 13, 11, 10, 11, 11, 11, 9, 8, 9, 9, 11, 11, 12, 12, 8, 11, 10, 11, 11, 11, 10, 10, 10, 8, 12, 10, 9, 8, 10, 10, 8, 9, 9, 8, 10, 8, 10, 9, 8, 12, 12, 8, 10, 8, 7, 9, 8, 8, 11, 11, 9, 11, 10, 10, 12, 8, 11, 9, 10, 10, 9, 9, 8, 9, 10, 9, 9, 10, 8, 10, 8, 7, 9, 9, 7, 9, 10, 13, 8, 9, 11, 9, 10, 9, 10, 12, 10, 8, 9, 10, 10, 11, 10, 8, 8, 9, 10, 11, 9, 10, 10, 10, 11, 10, 10, 11, 10, 8, 9, 11, 10, 10, 10, 10, 9, 9, 9, 9, 9, 9, 9, 8, 11, 8, 12, 9, 8, 12, 10, 11, 9, 12, 10, 8, 10, 8, 7, 10, 12, 8, 8, 10, 10, 12, 16, 12, 12, 13, 11, 8, 8, 13, 15, 14, 14, 10, 13, 8, 11, 9, 11, 7, 13, 11, 10, 8, 7, 9, 9, 8, 11, 12, 11, 11, 9, 9, 10, 10, 9, 10, 8, 9, 11, 10, 8, 10, 10, 9, 9, 10, 11, 11, 11, 8, 12, 12, 13, 14, 12, 9, 11, 9, 9, 12, 8, 8, 7, 8, 7, 10, 9, 16, 8, 9, 9, 10, 9, 9, 9, 8, 10, 11, 9, 8, 9, 8, 8, 9, 10, 8, 11, 10, 10, 11, 11, 12, 13, 10, 8, 10, 10, 8, 7, 10, 10, 11, 8, 12, 9, 9, 9, 9, 8, 11, 8, 11, 10, 11, 10, 10, 10, 10, 11, 10, 12, 12, 11, 14, 11, 13, 14, 13, 12, 14, 11, 10, 10, 11, 11, 11, 12, 12, 8, 9, 8, 10, 12, 10, 12, 9, 10, 9, 10, 9, 11, 11, 9, 10, 9, 13, 9, 9, 11, 10, 10, 9, 10, 8, 10, 8, 8, 9, 9, 10, 11, 10, 11, 8, 9, 10, 10, 10, 8, 9, 9, 12, 9, 9, 8, 8, 11, 8, 10, 9, 10, 11, 9, 8, 9, 11, 12, 11, 13, 12, 12, 11, 10, 13, 10, 12, 12, 12, 10, 11, 10, 11, 13, 12, 12, 10, 14, 11, 12, 12, 13, 10, 11, 11, 12, 11, 11, 8, 11, 9, 15, 11, 14, 10, 10, 9, 10, 8, 10, 10, 10, 10, 9, 9, 10, 12, 12, 9, 11, 12, 12, 11, 11, 11, 10, 11, 9, 8, 9, 9, 9, 11, 8, 10, 10, 9, 9, 9, 10, 10, 12, 10, 10, 10, 11, 9, 8, 8, 10, 8, 9, 10, 10, 9, 9, 10, 10, 16, 8, 8, 10, 9, 10, 8, 10, 9, 9, 10, 9, 8, 8, 9, 8, 12, 10, 8, 10, 10, 9, 9, 11, 14, 14, 14, 11, 10, 8, 9, 8, 8, 8, 8, 7, 10, 12, 12, 8, 8, 9, 10, 9, 10, 12, 9, 8, 8, 11, 9, 9, 11, 10, 8, 9, 7, 9, 8, 8, 9, 10, 9, 10, 9, 9, 8, 9, 9, 10, 9, 11, 9, 13, 13, 9, 11, 8, 9, 8, 8, 8, 10, 10, 8, 11, 9, 10, 10, 10, 9, 8, 8, 10, 8, 8, 10, 11, 10, 11, 13, 11, 11, 13, 9, 10, 9, 10, 9, 10, 11, 12, 9, 8, 8, 12, 10, 12, 12, 10, 10, 10, 9, 13, 11, 10, 10, 8, 10, 11, 14, 10, 11, 8, 9, 10, 11, 8, 9, 9, 12, 7, 11, 10, 10, 12, 14, 9, 10, 8, 8, 8, 9, 8, 9, 8, 11, 9, 9, 9, 12, 10, 10, 8, 8, 8, 9, 10, 10, 10, 9, 9, 8, 10, 10, 10, 9, 10, 9, 9, 10, 11, 10, 11, 10, 8, 9, 9, 9, 9, 9, 10, 11, 9, 10, 11, 10, 11, 8, 8, 11, 7, 9, 10, 8, 10, 9, 10, 10, 16, 10, 9, 10, 10, 11, 7, 9, 9, 11, 10, 11, 12, 13, 10, 8, 8, 9, 9, 9, 9, 11, 9, 9, 13, 10, 11, 8, 12, 12, 12, 10, 8, 9, 9, 11, 11, 9, 10, 12, 12, 8, 8, 10, 11, 11, 10, 13, 9, 9, 10, 11, 13, 10, 9, 13, 12, 8, 9, 9, 11, 8, 9, 12, 12, 13, 11, 11, 10, 10, 8, 9, 10, 11, 12, 15, 11, 8, 11, 9, 9, 11, 10, 14, 12, 12, 9, 8, 11, 10, 13, 9, 10, 9, 8, 10, 10, 9, 7, 9, 8, 7, 9, 7, 9, 10, 10, 10, 9, 12, 10, 9, 10, 12, 10, 10, 10, 10, 14, 9, 10, 8, 10, 9, 9, 10, 10, 7, 9, 8, 10, 9, 9, 9, 9, 9, 11, 9, 10, 13, 10, 10, 10, 8, 11, 9, 10, 13, 10, 11, 12, 11, 12, 11, 13, 11, 11, 14, 14, 10, 10, 12, 11, 12, 10, 11, 11, 8, 11, 9, 10, 8, 11, 10, 10, 9, 8, 10, 10, 10, 13, 9, 12, 10, 9, 9, 9, 11, 9, 10, 9, 8, 10, 14, 10, 10, 10, 13, 11, 9, 9, 10, 10, 9, 10, 9, 10, 9, 10, 8, 11, 8, 9, 13, 10, 9, 9, 14, 15, 11, 10, 11, 11, 13, 11, 13, 12, 13, 13, 11, 11, 12, 11, 11, 13, 12, 10, 11, 12, 9, 14, 10, 14, 11, 8, 11, 12, 11, 13, 14, 14, 11, 11, 7, 7, 9, 11, 10, 9, 9, 9, 10, 10, 11, 10, 13, 14, 12, 10, 8, 11, 12, 11, 10, 10, 9, 7, 10, 12, 11, 12, 9, 12, 10, 11, 11, 10, 10, 12, 10, 13, 11, 10, 9, 12, 10, 10, 9, 12, 12, 9, 8, 12, 11, 11, 9, 11, 11, 12, 8, 10, 10, 9, 9, 11, 11, 8, 8, 10, 12, 10, 11, 9, 10, 11, 14, 14, 14, 10, 9, 9, 8, 9, 8, 9, 10, 10, 9, 9, 9, 9, 9, 10, 8, 8, 8, 10, 10, 10, 10, 10, 9, 11, 11, 9, 9, 10, 10, 10, 8, 8, 11, 12, 10, 8, 7, 8, 12, 9, 8, 8, 12, 8, 8, 9, 9, 11, 8, 9, 9, 11, 11, 10, 9, 12, 9, 9, 8, 10, 9, 10, 10, 10, 9, 9, 8, 9, 11, 11, 12, 10, 9, 10, 8, 9, 11, 12, 10, 9, 12, 11, 11, 11, 8, 8, 11, 11, 11, 11, 8, 10, 13, 9, 10, 13, 9, 10, 11, 9, 10, 9, 7, 9, 11, 11, 8, 11, 11, 12, 11, 15, 10, 13, 10, 9, 12, 10, 11, 8, 12, 10, 12, 9, 8, 9, 10, 8, 8, 10, 10, 13, 11, 11, 11, 8, 8, 12, 10, 8, 10, 10, 9, 11, 9, 11, 10, 11, 11, 11, 11, 11, 8, 12, 9, 9, 9, 10, 10, 8, 7, 9, 12, 11, 10, 10, 12, 12, 11, 8, 10, 8, 11, 9, 10, 9, 8, 10, 11, 11, 9, 10, 9, 10, 9, 11, 7, 9, 10, 8, 9, 7, 9, 9, 9, 10, 12, 11, 8, 11, 9, 10, 8, 10, 10, 11, 10, 11, 11, 14, 12, 12, 12, 8, 8, 8, 11, 11, 8, 9, 9, 9, 8, 9, 10, 10, 10, 12, 10, 8, 9, 10, 10, 10, 8, 9, 10, 9, 9, 13, 9, 11, 10, 11, 9, 9, 10, 11, 11, 10, 8, 8, 10, 9, 10, 10, 10, 9, 11, 9, 11, 10, 9, 9, 11, 8, 13, 13, 13, 12, 11, 14, 12, 10, 9, 9, 10, 9, 12, 12, 13, 12, 12, 10, 16, 14, 13, 13, 12, 10, 10, 12, 10, 10, 11, 9, 10, 10, 8, 8, 9, 8, 10, 9, 10, 10, 11, 9, 9, 9, 10, 10, 12, 9, 8, 11, 9, 13, 10, 10, 10, 13, 10, 11, 9, 9, 11, 10, 10, 11, 11, 8, 11, 10, 9, 9, 13, 10, 9, 10, 11, 9, 10, 10, 11, 11, 13, 15, 11, 11, 10, 11, 11, 11, 12, 11, 14, 12, 9, 12, 11, 12, 10, 11, 11, 15, 15, 15, 15, 14, 12, 9, 10, 10, 11, 11, 11, 12, 12, 9, 8, 10, 11, 11, 13, 11, 9, 8, 10, 11, 9, 12, 13, 13, 10, 10, 12, 10, 10, 11, 12, 10, 9, 8, 11, 11, 10, 12, 11, 9, 9, 7, 12, 10, 10, 9, 9, 10, 8, 8, 11, 9, 9, 10, 10, 9, 10, 11, 10, 11, 11, 10, 9, 9, 9, 15, 9, 8, 12, 11, 13, 9, 9, 11, 12, 10, 9, 10, 9, 10, 12, 8, 10, 9, 10, 10, 12, 8, 9, 8, 12, 9, 8, 12, 11, 7, 10, 10, 9, 10, 10, 8, 9, 10, 10, 11, 9, 8, 9, 10, 11, 8, 9, 9, 10, 10, 10, 11, 9, 11, 10, 10, 11, 10, 11, 11, 10, 10, 10, 13, 12, 11, 10, 9, 12, 11, 10, 9, 12, 10, 9, 11, 10, 11, 13, 13, 11, 11, 11, 11, 9, 10, 10, 10, 10, 9, 14, 9, 13, 9, 10, 9, 10, 10, 10, 9, 10, 10, 10, 11, 11, 9, 11, 9, 9, 11, 10, 7, 9, 11, 10, 11, 10, 11, 10, 10, 13, 12, 11, 10, 10, 9, 9, 11, 12, 10, 12, 10, 11, 11, 11, 9, 15, 9, 10, 11, 9, 10, 8, 10, 9, 10, 10, 9, 9, 11, 11, 11, 13, 13, 9, 12, 7, 10, 10, 11, 12, 10, 12, 11, 10, 10, 8, 12, 9, 13, 13, 9, 8, 9, 9, 10, 9, 11, 11, 11, 11, 12, 11, 12, 10, 11, 11, 7, 10, 9, 12, 11, 13, 13, 9, 14, 9, 13, 11, 9, 11, 11, 12, 11, 14, 11, 10, 10, 10, 10, 11, 9, 11, 10, 11, 10, 10, 11, 11, 11, 10, 10, 10, 10, 13, 12, 12, 12, 13, 9, 10, 8, 11, 11, 10, 11, 11, 10, 9, 11, 9, 10, 9, 9, 10, 10, 13, 9, 13, 11, 11, 10, 10, 12, 9, 10, 10, 11, 9, 10, 12, 9, 10, 10, 10, 10, 12, 11, 12, 10, 10, 12, 9, 13, 11, 11, 12, 10, 10, 8, 14, 12, 10, 10, 13, 10, 13, 13, 11, 12, 14, 13, 11, 12, 12, 12, 12, 14, 13, 10, 9, 9, 8, 8, 12, 10, 10, 11, 11, 11, 11, 12, 11, 9, 9, 9, 11, 9, 12, 12, 9, 13, 14, 12, 12, 10, 10, 10, 11, 11, 11, 10, 11, 10, 11, 12, 12, 13, 10, 11, 12, 11, 14, 12, 15, 8, 11, 11, 12, 12, 15, 13, 12, 12, 11, 11, 10, 12, 8, 8, 8, 10, 10, 11, 11, 11, 12, 14, 12, 12, 13, 11, 10, 10, 9, 10, 13, 8, 12, 11, 10, 10, 11, 9, 12, 11, 11, 9, 10, 13, 11, 10, 7, 10, 11, 10, 10, 13, 11, 10, 10, 11, 8, 9, 11, 11, 9, 8, 10, 8, 8, 11, 11, 12, 10, 10, 8, 10, 10, 8, 12, 10, 9, 9, 10, 9, 9, 14, 11, 9, 11, 12, 11, 10, 10, 10, 9, 14, 10, 12, 11, 8, 10, 14, 11, 10, 10, 9, 9, 13, 9, 9, 9, 8, 10, 10, 12, 9, 9, 9, 12, 9, 9, 10, 11, 9, 9, 9, 13, 12, 8, 10, 8, 11, 11, 12, 8, 10, 9, 9, 8, 9, 9, 9, 12, 12, 11, 12, 11, 13, 10, 11, 11, 13, 9, 10, 11, 10, 13, 9, 8, 12, 13, 11, 9, 12, 13, 10, 10, 12, 9, 14, 10, 10, 10, 8, 15, 12, 11, 9, 10, 10, 13, 9, 8, 10, 9, 9, 11, 13, 12, 11, 8, 10, 12, 10, 11, 9, 11, 10, 12, 9, 13, 10, 11, 11, 9, 8, 13, 11, 8, 9, 10, 11, 11, 11, 11, 9, 12, 12, 11, 11, 11, 10, 10, 9, 10, 10, 11, 11, 11, 11, 11, 11, 9, 10, 11, 8, 11, 10, 10, 10, 10, 10, 9, 11, 10, 12, 13, 11, 12, 10, 10, 11, 11, 9, 10, 9, 10, 12, 11, 10, 13, 14, 8, 11, 12, 9, 10, 13, 11, 9, 10, 11, 13, 9, 10, 10, 13, 11, 11, 13, 11, 13, 9, 12, 11, 11, 11, 12, 10, 11, 10, 11, 12, 13, 10, 8, 8, 11, 10, 10, 13, 10, 8, 10, 11, 8, 9, 10, 10, 9, 9, 9, 11, 11, 9, 12, 8, 8, 11, 9, 10, 12, 10, 12, 12, 13, 11, 13, 15, 12, 10, 12, 10, 8, 11, 15, 13, 16, 11, 11, 15, 13, 10, 11, 13, 10, 8, 8, 10, 11, 8, 9, 10, 12, 10, 12, 13, 10, 12, 9, 11, 10, 11, 10, 8, 10, 13, 10, 10, 10, 10, 10, 9, 10, 11, 11, 12, 11, 10, 13, 12, 10, 12, 16, 17, 15, 15, 15, 12, 11, 11, 12, 8, 10, 10, 12, 10, 11, 10, 12, 14, 11, 14, 14, 10, 11, 10, 10, 12, 10, 8, 9, 12, 11, 12, 13, 11, 10, 12, 11, 11, 11, 10, 11, 10, 11, 10, 11, 11, 12, 12, 10, 8, 6, 10, 11, 12, 11, 9, 11, 12, 10, 9, 11, 10, 9, 11, 11, 8, 10, 12, 16, 13, 9, 12, 10, 9, 10, 13, 11, 11, 11, 9, 10, 9, 11, 10, 14, 13, 11, 10, 9, 10, 12, 11, 13, 11, 9, 15, 12, 11, 9, 10, 10, 12, 11, 10, 11, 13, 8, 13, 10, 8, 9, 12, 9, 10, 10, 10, 10, 9, 11, 11, 11, 8, 8, 11, 9, 10, 11, 13, 12, 13, 9, 10, 9, 12, 13, 11, 13, 12, 10, 9, 13, 14, 12, 11, 10, 12, 9, 11, 12, 13, 12, 11, 10, 9, 12, 12, 11, 9, 11, 11, 10, 13, 11, 9, 12, 9, 13, 9, 10, 13, 10, 10, 12, 9, 11, 9, 11, 12, 9, 10, 9, 10, 13, 10, 11, 8, 8, 11, 10, 11, 10, 11, 12, 11, 9, 12, 10, 13, 13, 12, 11, 10, 11, 9, 9, 10, 10, 12, 10, 9, 9, 11, 12, 12, 12, 10, 14, 11, 10, 11, 10, 9, 9, 9, 13, 12, 10, 8, 12, 10, 11, 10, 10, 9, 13, 11, 12, 13, 13, 14, 10, 10, 8, 10, 13, 10, 13, 10, 11, 10, 10, 11, 13, 10, 10, 11, 12, 11, 8, 8, 8, 9, 10, 10, 9, 9, 12, 10, 10, 11, 11, 11, 12, 9, 11, 11, 12, 13, 10, 11, 11, 11, 15, 10, 11, 12, 10, 9, 9, 10, 9, 16, 9, 10, 12, 10, 12, 10, 13, 12, 11, 13, 12, 12, 12, 13, 11, 15, 13, 12, 11, 12, 14, 10, 12, 10, 11, 11, 9, 10, 9, 13, 11, 10, 12, 11, 13, 10, 11, 10, 12, 10, 9, 13, 10, 12, 11, 10, 11, 11, 11, 11, 11, 13, 10, 12, 14, 10, 10, 12, 12, 12, 12, 11, 11, 12, 11, 9, 9, 11, 15, 15, 11, 16, 12, 14, 12, 11, 14, 12, 13, 13, 11, 13, 13, 12, 14, 17, 11, 10, 10, 14, 10, 14, 13, 9, 10, 11, 13, 12, 13, 9, 10, 10, 12, 12, 11, 12, 10, 10, 12, 11, 10, 10, 10, 11, 12, 13, 12, 13, 10, 12, 13, 8, 13, 11, 11, 10, 13, 13, 9, 13, 11, 8, 10, 10, 12, 10, 10, 9, 10, 10, 10, 9, 11, 14, 10, 9, 12, 12, 12, 11, 10, 10, 12, 11, 12, 13, 12, 10, 9, 11, 11, 11, 9, 9, 9, 9, 11, 11, 11, 10, 8, 11, 11, 8, 9, 11, 10, 9, 8, 8, 14, 10, 9, 11, 10, 9, 11, 9, 13, 10, 10, 12, 10, 10, 12, 12, 10, 14, 12, 13, 10, 12, 12, 14, 10, 11, 9, 12, 11, 10, 10, 14, 14, 14, 12, 11, 10, 11, 11, 13, 15, 9, 11, 11, 11, 10, 13, 9, 10, 12, 11, 12, 10, 8, 10, 9, 12, 12, 10, 9, 10, 15, 11, 15, 11, 10, 10, 11, 11, 13, 11, 12, 10, 11, 12, 11, 9, 9, 13, 9, 10, 10, 11, 11, 9, 11, 9, 7, 12, 14, 11, 10, 11, 12, 11, 12, 12, 10, 12, 13, 11, 9, 12, 12, 11, 9, 12, 9, 10, 9, 12, 11, 9, 9, 11, 11, 12, 14, 15, 8, 12, 11, 10, 13, 10, 8, 12, 12, 10, 11, 9, 10, 13, 12, 11, 11, 12, 13, 12, 11, 11, 13, 12, 8, 10, 11, 10, 11, 11, 10, 12, 11, 11, 11, 11, 11, 11, 12, 11, 11, 13, 15, 9, 10, 10, 11, 11, 12, 11, 10, 12, 12, 12, 11, 10, 11, 10, 12, 11, 12, 11, 10, 10, 12, 10, 10, 11, 11, 10, 12, 11, 9, 12, 11, 11, 14, 14, 12, 12, 14, 11, 15, 13, 13, 10, 16, 17, 15, 13, 10, 13, 14, 15, 9, 11, 11, 14, 14, 12, 11, 10, 11, 14, 12, 13, 13, 11, 14, 12, 12, 12, 12, 12, 12, 10, 14, 11, 13, 10, 10, 12, 10, 11, 9, 14, 11, 12, 10, 9, 8, 11, 10, 10, 10, 14, 15, 12, 8, 9, 11, 10, 9, 11, 12, 14, 12, 10, 9, 9, 11, 11, 10, 11, 12, 11, 11, 10, 10, 11, 8, 10, 11, 11, 12, 9, 15, 12, 12, 12, 10, 10, 9, 10, 9, 11, 11, 10, 10, 9, 12, 12, 9, 11, 10, 11, 11, 11, 11, 9, 13, 11, 7, 10, 13, 11, 10, 12, 11, 12, 10, 12, 13, 11, 12, 14, 12, 11, 11, 8, 10, 12, 10, 10, 12, 10, 13, 12, 11, 9, 8, 10, 11, 10, 10, 14, 12, 8, 10, 10, 10, 12, 15, 9, 10, 13, 12, 10, 10, 10, 11, 10, 11, 11, 10, 10, 11, 13, 13, 11, 12, 11, 15, 14, 17, 14, 14, 9, 10, 13, 13, 14, 12, 9, 11, 11, 11, 10, 11, 12, 14, 12, 11, 11, 10, 10, 9, 10, 11, 10, 15, 9, 10, 7, 9, 9, 11, 9, 11, 10, 11, 12, 12, 9, 11, 10, 11, 11, 11, 12, 12, 12, 11, 9, 11, 11, 11, 15, 13, 11, 10, 14, 14, 11, 9, 13, 13, 12, 13, 15, 16, 13, 11, 12, 15, 10, 12, 12, 13, 11, 10, 10, 11, 12, 11, 9, 10, 10, 11, 13, 12, 10, 10, 11, 12, 13, 13, 10, 12, 11, 11, 13, 13, 13, 15, 14, 12, 11, 13, 14, 15, 18, 13, 12, 13, 13, 13, 10, 14, 10, 11, 12, 10, 12, 13, 13, 13, 12, 15, 13, 13, 11, 10, 12, 12, 11, 10, 10, 10, 10, 9, 14, 10, 12, 13, 13, 11, 10, 8, 13, 12, 11, 12, 11, 10, 12, 11, 9, 11, 11, 11, 10, 10, 10, 13, 12, 10, 10, 11, 12, 10, 10, 10, 13, 11, 12, 10, 12, 9, 9, 11, 10, 11, 9, 15, 15, 13, 11, 11, 13, 12, 9, 11, 10, 12, 11, 10, 13, 11, 9, 12, 11, 13, 13, 18, 11, 9, 10, 10, 9, 10, 10, 12, 11, 15, 11, 9, 11, 13, 12, 12, 9, 11, 10, 11, 10, 11, 10, 11, 10, 12, 11, 10, 9, 10, 13, 11, 12, 16, 11, 9, 14, 10, 13, 13, 11, 10, 11, 15, 11, 10, 10, 12, 11, 11, 11, 9, 11, 13, 13, 11, 10, 12, 11, 10, 9, 8, 12, 10, 13, 11, 10, 12, 15, 11, 14, 11, 10, 12, 14, 11, 13, 11, 12, 12, 10, 11, 11, 14, 11, 11, 10, 10, 9, 9, 10, 10, 14, 12, 12, 12, 10, 14, 14, 10, 11, 13, 13, 11, 10, 12, 13, 11, 11, 12, 13, 10, 13, 8, 11, 11, 11, 14, 12, 14, 14, 11, 11, 12, 12, 13, 10, 13, 13, 14, 13, 14, 12, 12, 13, 13, 13, 11, 14, 14, 12, 12, 11, 12, 11, 12, 10, 10, 12, 11, 12, 11, 12, 9, 12, 12, 12, 12, 10, 11, 13, 11, 11, 11, 10, 13, 13, 11, 13, 18, 10, 13, 14, 11, 10, 10, 13, 11, 13, 13, 15, 20, 14, 13, 12, 11, 12, 15, 10, 13, 12, 11, 12, 10, 13, 13, 13, 14, 9, 13, 8, 13, 10, 12, 12, 11, 12, 11, 13, 10, 10, 11, 12, 15, 13, 16, 11, 12, 12, 13, 9, 13, 11, 10, 9, 11, 13, 10, 11, 11, 10, 9, 12, 11, 10, 10, 14, 10, 11, 9, 9, 11, 10, 11, 9, 12, 12, 13, 14, 13, 12, 11, 10, 11, 12, 16, 12, 14, 17, 11, 13, 13, 11, 11, 10, 9, 11, 11, 11, 11, 13, 13, 12, 12, 11, 11, 10, 15, 13, 12, 12, 12, 14, 20, 13, 11, 13, 12, 16, 10, 12, 13, 12, 11, 11, 10, 11, 15, 13, 10, 12, 13, 11, 9, 10, 10, 10, 12, 11, 12, 13, 14, 10, 10, 10, 13, 13, 12, 12, 13, 12, 11, 10, 11, 12, 13, 13, 13, 10, 14, 10, 10, 11, 13, 12, 10, 10, 11, 10, 13, 13, 10, 10, 12, 17, 17, 13, 9, 11, 13, 11, 10, 12, 13, 13, 10, 12, 14, 10, 13, 15, 10, 11, 14, 13, 10, 10, 12, 13, 11, 11, 15, 15, 11, 13, 14, 12, 11, 13, 15, 14, 10, 15, 14, 14, 12, 12, 13, 11, 14, 13, 15, 11, 15, 14, 13, 14, 13, 15, 13, 14, 15, 10, 12, 10, 14, 12, 13, 12, 12, 10, 13, 9, 11, 9, 13, 12, 12, 11, 12, 12, 12, 12, 11, 11, 14, 12, 11, 15, 11, 11, 11, 11, 13, 10, 8, 12, 11, 12, 11, 9, 8, 11, 10, 12, 12, 11, 11, 11, 9, 9, 12, 9, 11, 16, 11, 10, 12, 10, 11, 12, 12, 12, 11, 11, 13, 11, 10, 15, 17, 11, 12, 10, 11, 13, 11, 15, 12, 11, 15, 12, 12, 16, 10, 17, 12, 14, 12, 11, 11, 13, 12, 11, 13, 11, 12, 12, 14, 13, 11, 14, 14, 11, 11, 11, 10, 12, 10, 11, 12, 12, 9, 12, 13, 12, 12, 17, 12, 10, 12, 12, 11, 10, 13, 13, 13, 10, 14, 13, 13, 11, 12, 14, 9, 11, 10, 13, 12, 14, 11, 14, 12, 12, 11, 12, 12, 11, 13, 10, 11, 17, 11, 16, 14, 12, 9, 14, 9, 14, 14, 11, 13, 13, 12, 16, 13, 11, 13, 13, 11, 11, 12, 11, 11, 11, 11, 12, 14, 16, 11, 15, 15, 14, 13, 16, 15, 16, 17, 17, 16, 13, 11, 13, 12, 11, 10, 11, 14, 12, 13, 12, 12, 12, 13, 15, 10, 11, 12, 14, 13, 13, 16, 11, 15, 14, 14, 14, 15, 12, 16, 14, 13, 10, 14, 10, 11, 11, 12, 12, 12, 14, 11, 16, 10, 10, 13, 9, 13, 9, 12, 18, 10, 12, 10, 14, 13, 11, 8, 11, 12, 10, 10, 14, 12, 12, 11, 10, 13, 11, 11, 13, 13, 12, 16, 11, 11, 14, 11, 9, 12, 15, 12, 16, 11, 11, 12, 11, 15, 11, 10, 13, 12, 11, 9, 13, 9, 11, 12, 12, 14, 12, 11, 17, 13, 12, 10, 13, 12, 15, 11, 12, 14, 11, 16, 11, 11, 12, 15, 10, 9, 13, 12, 13, 11, 13, 11, 11, 11, 11, 13, 14, 12, 12, 11, 14, 12, 15, 14, 17, 13, 12, 13, 10, 13, 12, 13, 18, 13, 14, 14, 14, 17, 17, 12, 12, 10, 12, 14, 13, 14, 13, 13, 16, 16, 14, 14, 15, 10, 12, 11, 12, 10, 13, 16, 14, 9, 13, 10, 12, 14, 11, 13, 10, 14, 11, 11, 12, 11, 14, 10, 13, 10, 9, 11, 10, 12, 13, 15, 13, 15, 12, 12, 13, 14, 15, 13, 13, 11, 13, 13, 16, 16, 9, 15, 11, 12, 9, 10, 11, 14, 11, 12, 12, 9, 9, 9, 13, 12, 16, 12, 15, 14, 17, 18, 12, 14, 11, 13, 11, 15, 14, 13, 12, 16, 13, 13, 12, 14, 12, 13, 12, 16, 10, 14, 13, 12, 10, 12, 13, 11, 16, 11, 13, 11, 11, 9, 14, 14, 11, 12, 12, 11, 11, 11, 13, 8, 12, 12, 12, 11, 11, 12, 11, 9, 9, 9, 15, 12, 11, 12, 12, 12, 11, 12, 11, 15, 11, 13, 12, 12, 12, 10, 11, 12, 11, 14, 10, 15, 12, 14, 13, 11, 15, 14, 16, 12, 10, 12, 11, 8, 11, 11, 13, 12, 12, 11, 11, 15, 12, 15, 9, 18, 14, 13, 13, 14, 14, 19, 19, 13, 13, 12, 12, 11, 11, 12, 10, 16, 12, 13, 15, 12, 12, 12, 15, 14, 11, 16, 12, 11, 11, 13, 11, 12, 10, 11, 13, 13, 11, 14, 11, 12, 11, 10, 13, 14, 12, 16, 16, 19, 14, 13, 14, 11, 14, 13, 12, 13, 12, 14, 12, 14, 19, 16, 14, 11, 15, 14, 14, 13, 12, 9, 12, 18, 13, 12, 17, 12, 14, 16, 16, 15, 16, 15, 11, 13, 14, 11, 14, 11, 14, 11, 18, 18, 16, 10, 15, 12, 13, 13, 13, 10, 11, 10, 13, 10, 15, 13, 11, 12, 9, 12, 14, 12, 12, 14, 14, 10, 12, 11, 11, 14, 14, 12, 12, 12, 10, 12, 10, 14, 10, 14, 12, 13, 14, 15, 14, 11, 15, 14, 12, 12, 12, 13, 11, 12, 8, 12, 16, 13, 10, 14, 13, 14, 15, 12, 17, 9, 13, 12, 13, 12, 11, 12, 12, 15, 11, 10, 12, 13, 13, 13, 15, 13, 12, 14, 16, 17, 13, 14, 17, 16, 15, 14, 14, 15, 15, 12, 14, 14, 12, 13, 14, 11, 14, 11, 14, 13, 12, 11, 14, 10, 14, 11, 13, 12, 11, 13, 13, 13, 10, 13, 12, 14, 11, 11, 13, 10, 12, 13, 11, 13, 13, 12, 13, 13, 13, 14, 18, 12, 15, 15, 17, 15, 16, 13, 14, 15, 14, 12, 13, 11, 14, 14, 13, 10, 14, 15, 13, 16, 13, 13, 11, 10, 14, 11, 12, 12, 11, 12, 11, 12, 12, 11, 13, 12, 17, 13, 10, 10, 10, 12, 14, 16, 18, 17, 13, 15, 16, 14, 11, 12, 9, 13, 15, 11, 12, 15, 13, 10, 12, 11, 12, 13, 15, 14, 12, 13, 13, 19, 10, 12, 15, 12, 12, 11, 14, 13, 15, 14, 13, 13, 17, 13, 13, 15, 13, 13, 11, 11, 11, 11, 13, 13, 12, 11, 14, 13, 12, 12, 14, 14, 10, 13, 13, 12, 16, 15, 12, 15, 14, 12, 13, 12, 14, 11, 13, 12, 12, 14, 13, 14, 14, 13, 13, 13, 14, 12, 16, 14, 14, 11, 12, 12, 14, 14, 13, 13, 12, 12, 11, 15, 12, 13, 14, 13, 14, 11, 16, 14, 14, 15, 15, 15, 15, 14, 12, 15, 14, 14, 15, 14, 12, 15, 13, 12, 13, 12, 11, 13, 14, 13, 10, 15, 14, 14, 12, 9, 13, 14, 17, 14, 13, 13, 14, 15, 11, 13, 13, 11, 12, 13, 11, 11, 13, 11, 13, 14, 14, 16, 10, 13, 14, 10, 14, 14, 12, 11, 16, 9, 12, 12, 12, 16, 13, 13, 12, 11, 14, 13, 15, 13, 15, 14, 14, 14, 13, 12, 11, 18, 11, 13, 15, 14, 13, 14, 11, 17, 12, 13, 15, 17, 13, 13, 13, 11, 12, 12, 16, 15, 13, 13, 12, 17, 15, 14, 13, 18, 13, 14, 12, 15, 14, 13, 14, 13, 12, 15, 14, 13, 14, 12, 15, 14, 13, 15, 12, 15, 12, 10, 14, 13, 14, 17, 14, 15, 13, 11, 12, 14, 13, 11, 14, 10, 12, 12, 13, 14, 14, 15, 13, 13, 12, 12, 13, 17, 15, 16, 16, 13, 14, 12, 12, 13, 15, 9, 13, 17, 17, 15, 15, 14, 13, 12, 16, 15, 11, 13, 14, 15, 12, 12, 13, 19, 18, 12, 17, 13, 13, 13, 11, 18, 12, 15, 16, 11, 13, 12, 12, 12, 14, 13, 13, 14, 11, 16, 16, 14, 13, 12, 14, 10, 12, 16, 14, 17, 17, 15, 21, 17, 16, 20, 16, 16, 14, 11, 13, 13, 16, 12, 16, 13, 16, 16, 13, 14, 16, 11, 16, 14, 16, 15, 14, 15, 13, 13, 13, 15, 16, 13, 13, 10, 16, 14, 12, 12, 12, 15, 13, 13, 13, 15, 18, 17, 13, 14, 14, 11, 12, 13, 11, 16, 14, 10, 12, 14, 13, 13, 16, 13, 10, 11, 17, 14, 17, 17, 15, 14, 14, 13, 12, 13, 14, 15, 15, 13, 13, 12, 13, 13, 13, 16, 11, 15, 13, 15, 12, 14, 13, 14, 12, 16, 13, 16, 18, 15, 15, 13, 13, 13, 12, 21, 14, 12, 12, 13, 17, 15, 16, 15, 16, 12, 15, 16, 16, 13, 16, 14, 18, 17, 14, 15, 15, 15, 15, 13, 17, 13, 12, 14, 12, 14, 14, 14, 11, 12, 13, 14, 15, 17, 14, 13, 14, 12, 14, 16, 12, 11, 11, 13, 11, 16, 12, 12, 14, 14, 14, 13, 11, 13, 17, 15, 15, 13, 13, 12, 13, 15, 13, 13, 17, 13, 13, 14, 13, 13, 13, 15, 15, 13, 15, 12, 12, 14, 13, 11, 14, 15, 17, 14, 14, 13, 18, 11, 14, 15, 15, 13, 12, 15, 12, 14, 12, 15, 11, 13, 13, 12, 14, 17, 13, 19, 17, 17, 16, 12, 15, 14, 11, 16, 15, 18, 12, 14, 12, 13, 14, 14, 15, 15, 14, 14, 12, 14, 13, 11, 12, 13, 10, 14, 12, 13, 14, 15, 14, 14, 14, 14, 14, 15, 17, 15, 11, 11, 13, 15, 14, 14, 15, 13, 12, 13, 13, 14, 15, 11, 16, 16, 14, 14, 13, 19, 13, 13, 13, 14, 12, 12, 15, 15, 18, 12, 15, 14, 13, 15, 14, 15, 14, 14, 17, 16, 14, 12, 18, 15, 16, 14, 14, 13, 13, 12, 13, 15, 15, 15, 15, 13, 16, 17, 15, 13, 14, 11, 16, 16, 15, 16, 13, 16, 14, 12, 15, 18, 14, 16, 13, 13, 13, 12, 15, 15, 18, 12, 11, 17, 14, 15, 15, 15, 18, 15, 16, 13, 13, 14, 14, 15, 14, 13, 17, 15, 14, 14, 15, 17, 17, 11, 14, 13, 15, 17, 15, 18, 15, 20, 13, 20, 14, 16, 18, 16, 16, 18, 15, 13, 17, 19, 16, 12, 13, 13, 15, 17, 14, 18, 17, 12, 17, 11, 14, 12, 11, 16, 15, 13, 13, 18, 16, 14, 12, 12, 13, 14, 13, 14, 15, 13, 12, 14, 17, 11, 16, 14, 16, 16, 16, 15, 16, 14, 17, 17, 14, 16, 14, 15, 13, 14, 16, 16, 13, 19, 15, 15, 15, 14, 14, 17, 13, 16, 13, 14, 17, 19, 13, 15, 12, 16, 16, 12, 14, 17, 12, 17, 13, 13, 15, 13, 11, 14, 15, 12, 18, 13, 14, 17, 16, 16, 20, 15, 15, 15, 14, 19, 13, 18, 19, 16, 16, 11, 17, 15, 12, 14, 15, 18, 15, 11, 13, 17, 12, 14, 14, 17, 19, 16, 14, 13, 16, 16, 15, 12, 16, 13, 13, 18, 15, 17, 19, 17, 18, 16, 14, 14, 14, 14, 12, 17, 14, 12, 12, 12, 14, 16, 15, 16, 18, 14, 12, 15, 19, 14, 14, 15, 13, 16, 16, 13, 18, 21, 21, 15, 16, 16, 13, 20, 16, 20, 16, 14, 14, 15, 16, 15, 17, 17, 14, 16, 14, 16, 20, 17, 17, 16, 16, 16, 16, 18, 17, 19, 17, 15, 13, 13, 13, 16, 16, 13, 16, 15, 15, 12, 16, 14, 18, 15, 15, 17, 17, 14, 14, 14, 15, 15, 14, 15, 18, 13, 14, 13, 17, 18, 16, 14, 13, 14, 18, 21, 20, 13, 18, 17, 15, 17, 20, 13, 14, 13, 13, 12, 14, 15, 16, 19, 16, 15, 13, 13, 11, 17, 15, 17, 15, 17, 16, 13, 14, 15, 13, 15, 13, 16, 15, 17, 15, 12, 15, 18, 18, 17, 15, 17, 12, 15, 13, 14, 17, 18, 18, 15, 16, 17, 13, 14, 14, 19, 14, 16, 17, 16, 21, 18, 15, 14, 15, 17, 13, 21, 13, 14, 12, 13, 15, 16, 16, 16, 15, 13, 18, 16, 16, 17, 19, 15, 16, 15, 15, 18, 15, 14, 14, 19, 16, 18, 11, 19, 19, 14, 13, 14, 13, 19, 12, 14, 19, 13, 15, 14, 15, 15, 21, 14, 16, 23, 15, 15, 15, 15, 14, 20, 20, 16, 16, 22, 19, 14, 15, 17, 15, 19, 19, 15, 16, 19, 19, 23, 17, 17, 15, 16, 16, 15, 19, 17, 20, 14, 17, 15, 17, 18, 14, 16, 13, 20, 18, 16, 13, 20, 17, 20, 18, 21, 20, 16, 17, 19, 18, 18, 16, 16, 14, 15, 16, 14, 17, 16, 19, 17, 16, 16, 15, 18, 16, 18, 16, 16, 16, 17, 16, 20, 21, 16, 20, 17, 14, 20, 18, 18, 16, 17, 15, 14, 12, 15, 22, 14, 14, 17, 15, 15, 17, 16, 25, 15, 21, 18, 17, 19, 17, 14, 14, 18, 17, 21, 17, 17, 20, 19, 19, 15, 17, 17, 19, 13, 17, 15, 17, 16, 18, 20, 17, 21, 18, 17, 19, 21, 17, 19, 16, 16, 18, 14, 22, 16, 16, 19, 16, 24, 17, 19, 16, 18, 20, 16, 15, 19, 18, 17, 15, 18, 17, 15, 17, 22, 17, 15, 17, 14, 16, 18, 22, 17, 20, 17, 17, 19, 18, 20, 17, 18, 19, 20, 17, 18, 18, 19, 17, 20, 20, 19, 21, 20, 20, 18, 16, 22, 21, 29, 21, 17, 20, 20, 19, 19, 17, 15, 17, 17, 20, 24, 18, 16, 18, 20, 17, 18, 15, 18, 20, 22, 20, 15, 16, 21, 21, 16, 19, 18, 18, 18, 17, 20, 16, 16, 16, 15, 17, 23, 20, 20, 16, 24, 18, 19, 16, 18, 18, 18, 21, 23, 23, 17, 16, 17, 17, 20, 15, 17, 22, 23, 24, 21, 22, 21, 16, 24, 19, 23, 20, 24, 19, 18, 18, 23, 18, 20, 19, 21, 16, 20, 20, 18, 20, 17, 23, 21, 28, 19, 21, 20, 19, 17, 19, 17, 17, 23, 18, 22, 20, 21, 21, 20, 18, 22, 22, 19, 21, 23, 20, 18, 22, 22, 19, 21, 20, 22, 21, 23, 21, 18, 22, 22, 19, 23, 24, 22, 23, 20, 22, 26, 20, 32, 28, 25, 23, 20, 29, 26, 24, 24, 26, 18, 24, 25, 24, 25, 23, 24, 22, 27, 27, 26, 24, 31, 31, 30, 23, 27, 32, 32, 33, 40]}, {\"marker\": {\"color\": \"rgba(12, 50, 196, 0.6)\"}, \"name\": \"Length of NL sentences\", \"opacity\": 0.75, \"type\": \"histogram\", \"x\": [3, 3, 5, 3, 3, 3, 3, 3, 4, 3, 3, 5, 4, 3, 4, 4, 5, 4, 7, 3, 3, 3, 4, 2, 3, 5, 5, 4, 3, 3, 4, 4, 4, 4, 3, 4, 3, 4, 4, 2, 3, 3, 3, 3, 2, 4, 2, 3, 2, 4, 3, 4, 6, 4, 2, 4, 5, 4, 5, 5, 4, 4, 3, 7, 4, 4, 3, 2, 3, 3, 4, 3, 3, 5, 5, 4, 4, 4, 3, 5, 5, 5, 8, 5, 6, 3, 3, 3, 3, 3, 2, 2, 4, 3, 4, 4, 4, 4, 5, 4, 5, 9, 3, 3, 3, 5, 4, 4, 5, 5, 4, 3, 4, 4, 4, 6, 5, 5, 5, 4, 5, 9, 3, 5, 4, 3, 2, 3, 3, 3, 3, 5, 5, 5, 5, 5, 4, 5, 4, 2, 3, 4, 5, 4, 5, 4, 4, 3, 4, 3, 3, 4, 4, 3, 3, 3, 3, 6, 4, 6, 3, 3, 4, 5, 3, 6, 4, 3, 5, 4, 3, 4, 5, 5, 4, 5, 4, 6, 4, 6, 6, 4, 4, 6, 7, 4, 5, 4, 3, 5, 5, 4, 4, 4, 5, 4, 4, 6, 4, 4, 4, 3, 5, 6, 4, 4, 2, 2, 4, 6, 3, 5, 5, 4, 5, 5, 5, 3, 4, 2, 3, 6, 6, 4, 2, 6, 4, 4, 5, 5, 4, 3, 4, 5, 3, 4, 4, 4, 4, 3, 3, 7, 4, 6, 4, 5, 5, 8, 3, 4, 3, 3, 4, 4, 5, 5, 3, 5, 4, 3, 6, 6, 4, 4, 4, 3, 6, 8, 5, 4, 4, 6, 5, 5, 3, 4, 7, 5, 4, 6, 5, 5, 5, 4, 5, 5, 5, 5, 4, 4, 5, 5, 5, 7, 6, 4, 6, 6, 4, 4, 7, 3, 4, 4, 6, 5, 5, 4, 6, 5, 5, 4, 5, 5, 3, 2, 2, 3, 3, 5, 5, 6, 4, 4, 7, 9, 6, 4, 4, 4, 3, 4, 3, 9, 4, 4, 4, 4, 4, 3, 6, 3, 3, 3, 5, 5, 5, 5, 5, 4, 4, 4, 6, 5, 4, 4, 5, 6, 7, 4, 4, 4, 6, 4, 4, 4, 4, 5, 5, 5, 5, 7, 5, 6, 6, 6, 6, 4, 4, 3, 5, 3, 6, 5, 6, 3, 3, 4, 3, 5, 4, 4, 4, 5, 6, 4, 4, 5, 6, 5, 4, 7, 5, 5, 4, 4, 4, 5, 4, 5, 4, 5, 5, 5, 6, 5, 4, 4, 5, 6, 5, 8, 6, 6, 5, 5, 6, 6, 6, 6, 7, 8, 5, 5, 5, 6, 5, 7, 5, 3, 4, 6, 9, 4, 5, 5, 4, 4, 5, 5, 6, 4, 5, 6, 7, 5, 4, 5, 6, 4, 3, 7, 3, 5, 3, 5, 6, 3, 6, 6, 6, 5, 6, 3, 4, 4, 5, 6, 4, 3, 4, 5, 5, 5, 3, 4, 6, 5, 4, 4, 4, 5, 6, 4, 5, 5, 6, 5, 5, 4, 4, 7, 6, 4, 4, 3, 4, 4, 3, 5, 4, 5, 5, 6, 4, 7, 5, 6, 4, 5, 5, 6, 4, 4, 4, 4, 3, 5, 4, 4, 5, 4, 5, 5, 6, 5, 8, 5, 4, 5, 4, 6, 5, 5, 6, 6, 6, 6, 5, 4, 4, 4, 5, 7, 7, 6, 7, 6, 6, 6, 8, 5, 5, 5, 4, 4, 4, 5, 4, 5, 6, 7, 2, 4, 4, 3, 5, 5, 5, 4, 5, 6, 4, 4, 5, 5, 6, 5, 4, 5, 5, 5, 5, 6, 7, 7, 4, 5, 4, 5, 6, 6, 5, 7, 6, 7, 3, 5, 6, 6, 7, 4, 4, 5, 7, 7, 5, 3, 8, 7, 7, 5, 6, 5, 6, 7, 6, 6, 5, 4, 5, 5, 5, 5, 7, 4, 6, 5, 4, 5, 6, 6, 5, 5, 4, 5, 6, 6, 4, 5, 3, 6, 5, 6, 4, 4, 4, 5, 4, 4, 4, 3, 4, 4, 6, 6, 7, 6, 2, 5, 4, 8, 6, 6, 6, 6, 4, 6, 6, 4, 4, 4, 4, 5, 5, 5, 4, 6, 5, 5, 5, 5, 7, 8, 6, 5, 7, 5, 6, 6, 5, 5, 4, 4, 5, 5, 6, 5, 3, 2, 5, 6, 6, 7, 7, 5, 4, 5, 4, 4, 5, 6, 4, 3, 6, 4, 6, 5, 5, 5, 5, 5, 5, 7, 5, 3, 5, 4, 6, 3, 5, 5, 5, 5, 6, 7, 6, 3, 9, 5, 6, 5, 5, 6, 5, 4, 4, 5, 4, 3, 5, 6, 5, 7, 4, 5, 6, 6, 6, 6, 5, 7, 8, 7, 6, 6, 6, 5, 6, 5, 4, 7, 4, 6, 4, 4, 5, 4, 4, 7, 5, 2, 4, 6, 5, 6, 5, 6, 5, 4, 6, 6, 6, 4, 6, 6, 6, 6, 5, 4, 4, 5, 4, 4, 4, 5, 6, 5, 4, 5, 5, 7, 5, 4, 5, 10, 5, 4, 6, 7, 5, 7, 8, 6, 5, 6, 5, 5, 5, 6, 7, 4, 5, 5, 5, 6, 8, 7, 8, 6, 5, 6, 6, 10, 6, 8, 6, 6, 4, 3, 6, 4, 5, 7, 6, 7, 7, 7, 6, 5, 5, 4, 5, 5, 6, 5, 4, 6, 4, 4, 4, 4, 5, 4, 4, 7, 6, 6, 7, 4, 4, 5, 5, 6, 5, 5, 6, 4, 4, 6, 6, 4, 4, 4, 5, 4, 4, 4, 5, 2, 5, 4, 6, 4, 7, 8, 3, 6, 8, 5, 5, 4, 4, 4, 6, 8, 4, 5, 6, 6, 7, 2, 2, 5, 7, 9, 5, 3, 4, 6, 5, 6, 7, 6, 3, 5, 5, 4, 5, 6, 5, 5, 5, 5, 8, 5, 4, 7, 4, 6, 5, 6, 5, 6, 6, 5, 1, 4, 4, 5, 4, 5, 4, 5, 5, 7, 4, 8, 5, 5, 5, 5, 4, 4, 4, 6, 6, 5, 4, 6, 4, 6, 4, 3, 7, 6, 5, 4, 5, 7, 5, 5, 8, 5, 5, 5, 4, 6, 5, 6, 6, 7, 5, 5, 4, 5, 6, 5, 5, 4, 8, 5, 5, 4, 4, 7, 4, 4, 4, 5, 4, 6, 4, 6, 5, 6, 6, 5, 4, 5, 7, 6, 7, 8, 8, 7, 7, 6, 7, 7, 4, 3, 3, 7, 5, 4, 8, 6, 5, 5, 6, 7, 6, 5, 6, 5, 5, 5, 4, 4, 5, 8, 3, 6, 3, 5, 6, 6, 5, 4, 8, 5, 9, 9, 5, 7, 5, 4, 6, 8, 6, 5, 6, 6, 5, 6, 4, 4, 8, 5, 8, 6, 5, 5, 4, 5, 7, 5, 5, 6, 4, 7, 5, 7, 4, 5, 7, 5, 6, 6, 6, 5, 6, 5, 5, 5, 4, 6, 6, 8, 5, 4, 6, 6, 6, 6, 6, 6, 6, 6, 8, 4, 6, 6, 6, 5, 7, 6, 8, 8, 6, 8, 6, 6, 9, 9, 8, 6, 4, 6, 5, 5, 5, 6, 5, 4, 6, 5, 6, 6, 5, 5, 6, 6, 4, 7, 6, 7, 6, 4, 5, 5, 8, 7, 5, 5, 5, 4, 5, 4, 5, 6, 5, 4, 5, 5, 4, 6, 5, 4, 6, 8, 4, 5, 7, 6, 5, 4, 4, 7, 4, 4, 4, 7, 6, 3, 5, 5, 6, 5, 5, 5, 3, 7, 5, 5, 6, 4, 4, 4, 6, 5, 7, 7, 6, 6, 4, 8, 4, 4, 6, 4, 4, 5, 4, 5, 5, 5, 4, 4, 2, 6, 5, 5, 5, 6, 5, 5, 8, 6, 5, 7, 7, 5, 7, 5, 6, 6, 3, 6, 7, 5, 7, 6, 5, 5, 5, 5, 3, 7, 5, 6, 4, 5, 4, 5, 5, 6, 6, 5, 5, 6, 4, 4, 6, 4, 4, 4, 6, 6, 6, 5, 6, 6, 5, 4, 4, 4, 4, 6, 5, 8, 5, 8, 5, 5, 6, 8, 4, 8, 5, 6, 4, 6, 5, 3, 9, 6, 5, 5, 6, 5, 6, 6, 5, 5, 7, 5, 6, 8, 5, 6, 4, 4, 7, 5, 5, 6, 7, 5, 6, 6, 7, 7, 8, 6, 5, 8, 7, 8, 7, 6, 5, 4, 6, 6, 7, 5, 6, 6, 7, 4, 6, 7, 5, 9, 7, 4, 6, 5, 5, 6, 6, 4, 6, 5, 8, 6, 3, 3, 3, 8, 8, 8, 5, 7, 6, 7, 6, 7, 6, 7, 6, 8, 4, 3, 3, 7, 4, 7, 7, 5, 4, 6, 5, 6, 8, 5, 6, 5, 5, 5, 6, 5, 4, 4, 6, 6, 4, 5, 5, 7, 3, 5, 6, 6, 4, 4, 6, 7, 9, 6, 6, 7, 4, 5, 5, 5, 5, 4, 4, 8, 8, 6, 6, 5, 8, 5, 4, 4, 7, 6, 6, 8, 5, 5, 5, 5, 6, 8, 7, 5, 7, 5, 5, 5, 4, 5, 3, 6, 6, 6, 4, 5, 7, 5, 7, 6, 5, 7, 7, 7, 5, 4, 6, 9, 6, 6, 6, 5, 4, 6, 6, 5, 11, 5, 9, 4, 6, 6, 6, 6, 6, 6, 8, 6, 7, 5, 5, 6, 7, 7, 7, 7, 5, 5, 6, 6, 6, 8, 6, 9, 7, 8, 5, 6, 5, 5, 8, 8, 6, 6, 6, 7, 8, 4, 4, 4, 5, 6, 5, 6, 5, 6, 6, 5, 5, 6, 7, 7, 6, 4, 8, 6, 6, 7, 6, 6, 8, 6, 5, 6, 4, 6, 5, 4, 4, 6, 5, 6, 5, 5, 4, 5, 4, 6, 8, 6, 6, 7, 9, 6, 7, 7, 5, 6, 7, 6, 8, 7, 6, 6, 6, 5, 6, 4, 4, 7, 7, 7, 8, 5, 6, 6, 5, 7, 5, 5, 7, 6, 6, 4, 4, 8, 5, 4, 4, 6, 8, 7, 7, 6, 5, 5, 7, 8, 5, 8, 5, 4, 6, 6, 8, 6, 7, 6, 4, 9, 6, 5, 7, 6, 5, 7, 5, 5, 3, 3, 4, 3, 8, 6, 5, 9, 4, 5, 6, 5, 5, 6, 7, 6, 8, 6, 5, 7, 6, 5, 5, 9, 5, 7, 4, 4, 4, 8, 6, 7, 6, 5, 6, 7, 6, 6, 4, 6, 5, 3, 3, 6, 6, 8, 7, 6, 7, 6, 5, 5, 7, 7, 6, 8, 4, 4, 7, 3, 4, 4, 4, 5, 6, 6, 5, 6, 5, 6, 5, 4, 6, 6, 8, 5, 5, 5, 6, 4, 4, 4, 6, 4, 5, 8, 6, 5, 8, 6, 6, 6, 6, 5, 6, 6, 5, 5, 5, 6, 5, 5, 3, 5, 5, 6, 6, 4, 4, 5, 7, 8, 5, 5, 5, 5, 6, 5, 4, 5, 7, 7, 5, 5, 5, 5, 4, 5, 3, 5, 3, 3, 6, 3, 4, 4, 5, 8, 7, 7, 8, 6, 6, 6, 4, 7, 5, 5, 7, 5, 6, 4, 6, 6, 6, 7, 7, 7, 6, 5, 6, 4, 6, 7, 5, 6, 5, 6, 6, 4, 5, 6, 5, 5, 6, 7, 9, 4, 3, 6, 7, 6, 6, 8, 6, 8, 6, 6, 7, 6, 8, 6, 4, 6, 7, 8, 8, 7, 7, 9, 7, 6, 6, 5, 6, 4, 10, 5, 8, 5, 7, 7, 9, 8, 6, 5, 6, 5, 6, 6, 7, 7, 7, 7, 8, 7, 5, 6, 6, 6, 5, 6, 4, 5, 7, 8, 7, 8, 5, 3, 8, 5, 3, 5, 4, 3, 10, 7, 4, 4, 4, 7, 7, 5, 5, 7, 7, 7, 8, 7, 4, 5, 6, 6, 5, 5, 5, 6, 6, 6, 6, 6, 6, 7, 7, 8, 6, 5, 8, 5, 5, 5, 7, 7, 6, 5, 7, 8, 5, 8, 6, 5, 4, 4, 4, 4, 5, 5, 7, 9, 5, 6, 6, 6, 5, 4, 4, 6, 5, 7, 9, 9, 5, 5, 7, 6, 5, 5, 6, 5, 5, 5, 5, 6, 7, 6, 7, 5, 5, 6, 7, 6, 5, 4, 5, 11, 8, 5, 6, 6, 5, 5, 5, 6, 5, 8, 5, 6, 7, 7, 8, 5, 5, 9, 7, 7, 7, 8, 5, 6, 6, 6, 5, 7, 8, 8, 7, 6, 6, 5, 7, 5, 6, 7, 6, 7, 6, 8, 5, 7, 5, 6, 3, 6, 7, 8, 6, 4, 6, 7, 6, 6, 7, 6, 8, 5, 7, 7, 5, 4, 8, 6, 7, 8, 13, 6, 6, 6, 8, 6, 7, 7, 6, 6, 8, 6, 6, 6, 6, 6, 7, 4, 6, 6, 9, 9, 7, 7, 6, 5, 7, 7, 6, 6, 4, 5, 8, 5, 5, 7, 5, 6, 8, 5, 5, 5, 6, 4, 7, 4, 9, 7, 7, 8, 8, 8, 7, 10, 6, 5, 8, 4, 5, 6, 7, 7, 4, 9, 6, 7, 7, 7, 5, 6, 4, 5, 5, 6, 6, 4, 7, 5, 5, 4, 8, 6, 5, 6, 6, 7, 6, 5, 6, 4, 8, 7, 6, 7, 6, 5, 8, 4, 6, 6, 5, 6, 4, 6, 4, 8, 8, 5, 3, 7, 6, 5, 7, 7, 5, 5, 7, 6, 6, 4, 9, 5, 6, 5, 4, 7, 5, 6, 6, 6, 7, 4, 4, 3, 3, 6, 4, 6, 8, 5, 6, 5, 7, 7, 7, 7, 8, 6, 6, 4, 4, 4, 6, 6, 7, 4, 5, 5, 4, 5, 7, 10, 5, 8, 8, 13, 6, 8, 6, 6, 5, 6, 5, 5, 6, 4, 6, 4, 5, 5, 5, 4, 6, 6, 5, 7, 6, 5, 4, 6, 6, 4, 6, 4, 5, 5, 5, 4, 5, 6, 6, 9, 8, 6, 8, 5, 7, 5, 8, 7, 7, 7, 6, 8, 5, 7, 5, 5, 7, 6, 6, 8, 5, 4, 4, 8, 4, 7, 7, 5, 5, 5, 5, 4, 4, 6, 5, 5, 7, 5, 5, 6, 5, 5, 6, 6, 5, 6, 8, 6, 6, 7, 8, 6, 8, 9, 5, 6, 6, 5, 5, 6, 5, 7, 5, 7, 6, 6, 5, 9, 5, 5, 6, 4, 5, 6, 7, 6, 8, 10, 8, 6, 6, 6, 6, 9, 7, 6, 12, 7, 7, 4, 3, 4, 6, 5, 8, 6, 6, 9, 7, 6, 8, 7, 6, 4, 4, 8, 9, 7, 8, 7, 7, 6, 5, 6, 9, 9, 8, 8, 6, 5, 6, 7, 5, 5, 7, 7, 9, 6, 5, 7, 5, 7, 6, 6, 6, 7, 8, 4, 6, 6, 4, 5, 5, 6, 6, 4, 6, 7, 5, 5, 5, 5, 6, 6, 6, 6, 7, 10, 6, 6, 5, 4, 6, 9, 6, 7, 7, 7, 7, 7, 5, 7, 8, 9, 8, 6, 5, 5, 9, 7, 7, 7, 6, 6, 7, 5, 6, 6, 5, 9, 5, 5, 5, 9, 5, 5, 5, 7, 5, 7, 6, 9, 5, 5, 5, 7, 6, 7, 4, 5, 6, 6, 6, 5, 5, 7, 6, 6, 6, 7, 6, 5, 7, 5, 4, 5, 6, 6, 6, 7, 9, 6, 7, 5, 5, 5, 5, 6, 8, 7, 6, 5, 5, 7, 5, 8, 9, 10, 7, 7, 8, 7, 6, 6, 4, 6, 6, 10, 6, 4, 6, 5, 8, 5, 6, 8, 5, 4, 8, 5, 6, 7, 8, 8, 8, 6, 7, 6, 6, 8, 5, 6, 5, 9, 7, 7, 7, 8, 6, 4, 8, 7, 8, 5, 7, 6, 10, 6, 6, 8, 6, 5, 7, 4, 5, 4, 4, 5, 6, 8, 9, 5, 5, 7, 6, 5, 7, 7, 6, 7, 6, 5, 5, 5, 8, 6, 4, 6, 6, 6, 9, 6, 6, 4, 5, 7, 6, 6, 9, 8, 6, 7, 6, 5, 6, 8, 6, 8, 7, 4, 6, 5, 4, 4, 7, 8, 6, 8, 7, 5, 5, 7, 6, 5, 4, 5, 9, 4, 6, 7, 8, 6, 4, 6, 6, 4, 6, 7, 4, 5, 6, 6, 6, 6, 5, 4, 5, 7, 5, 11, 4, 6, 8, 10, 5, 9, 7, 5, 5, 6, 4, 5, 4, 3, 4, 5, 5, 5, 5, 6, 3, 6, 5, 5, 4, 7, 6, 7, 5, 8, 7, 8, 8, 5, 6, 7, 8, 4, 5, 4, 5, 5, 6, 4, 6, 4, 5, 6, 7, 7, 5, 6, 4, 6, 8, 4, 5, 4, 6, 5, 5, 8, 7, 4, 8, 6, 5, 4, 9, 6, 4, 5, 6, 5, 6, 8, 5, 9, 5, 3, 7, 7, 4, 6, 7, 7, 5, 8, 4, 7, 5, 6, 7, 5, 6, 4, 4, 4, 4, 7, 5, 6, 7, 6, 8, 6, 5, 6, 8, 6, 5, 6, 6, 5, 6, 4, 6, 5, 5, 5, 8, 6, 9, 5, 7, 9, 7, 5, 8, 6, 6, 7, 6, 8, 5, 6, 4, 4, 5, 6, 6, 6, 8, 6, 4, 7, 7, 6, 6, 6, 6, 7, 7, 6, 6, 5, 6, 5, 6, 5, 5, 6, 8, 3, 4, 4, 6, 7, 5, 5, 5, 6, 8, 7, 5, 7, 9, 7, 7, 8, 5, 6, 9, 8, 6, 7, 10, 8, 5, 7, 8, 8, 6, 5, 6, 6, 6, 6, 7, 5, 5, 4, 5, 5, 7, 3, 6, 7, 6, 7, 10, 9, 9, 9, 8, 5, 6, 3, 5, 3, 7, 7, 7, 8, 8, 5, 7, 10, 7, 8, 5, 7, 7, 7, 7, 8, 6, 6, 6, 6, 10, 6, 7, 7, 8, 7, 6, 4, 4, 4, 9, 4, 5, 6, 5, 7, 5, 5, 7, 7, 7, 6, 5, 9, 7, 5, 6, 6, 6, 7, 5, 4, 5, 8, 5, 6, 5, 5, 8, 5, 7, 6, 4, 7, 8, 8, 9, 7, 7, 6, 4, 6, 8, 7, 7, 10, 7, 7, 8, 6, 6, 8, 7, 7, 6, 8, 9, 5, 7, 5, 6, 6, 6, 5, 4, 8, 8, 8, 6, 6, 7, 7, 6, 7, 4, 7, 7, 5, 6, 7, 10, 5, 5, 5, 7, 6, 6, 6, 9, 4, 5, 8, 9, 8, 5, 8, 7, 4, 9, 9, 6, 8, 8, 5, 9, 4, 9, 6, 6, 7, 6, 6, 6, 7, 7, 8, 8, 4, 5, 7, 7, 8, 4, 6, 6, 6, 6, 7, 9, 5, 6, 8, 11, 6, 10, 6, 7, 4, 7, 6, 6, 6, 4, 8, 5, 7, 5, 8, 6, 6, 6, 6, 4, 5, 6, 7, 8, 5, 6, 5, 6, 6, 8, 6, 4, 4, 8, 5, 6, 4, 6, 4, 4, 7, 4, 6, 4, 4, 6, 8, 7, 5, 5, 4, 5, 4, 8, 6, 6, 7, 5, 7, 7, 9, 5, 9, 8, 7, 8, 7, 10, 6, 7, 7, 10, 8, 8, 5, 6, 7, 7, 7, 8, 7, 8, 5, 5, 6, 6, 6, 7, 7, 8, 6, 6, 10, 6, 9, 7, 5, 8, 8, 8, 6, 6, 6, 8, 10, 8, 8, 7, 8, 8, 7, 6, 4, 6, 7, 5, 5, 8, 9, 7, 8, 5, 4, 6, 6, 7, 7, 4, 6, 10, 5, 7, 8, 7, 9, 6, 8, 7, 5, 7, 5, 4, 5, 4, 7, 6, 9, 8, 7, 6, 5, 6, 6, 6, 8, 6, 6, 3, 5, 7, 7, 9, 6, 6, 7, 8, 8, 9, 9, 6, 9, 9, 7, 6, 7, 5, 10, 5, 5, 6, 7, 5, 11, 6, 5, 7, 7, 5, 7, 6, 4, 4, 5, 5, 4, 7, 5, 7, 6, 6, 7, 7, 6, 8, 6, 5, 6, 6, 8, 6, 8, 8, 7, 5, 6, 4, 6, 5, 7, 9, 10, 6, 8, 7, 7, 9, 7, 8, 8, 9, 6, 8, 6, 5, 6, 7, 5, 7, 4, 7, 8, 6, 5, 5, 6, 5, 6, 6, 6, 8, 9, 7, 4, 5, 6, 5, 5, 6, 9, 8, 10, 7, 5, 6, 6, 7, 6, 9, 9, 8, 7, 8, 6, 6, 8, 7, 8, 7, 6, 10, 10, 7, 6, 4, 8, 8, 8, 7, 7, 6, 7, 9, 10, 6, 12, 7, 8, 3, 6, 6, 7, 6, 7, 7, 7, 5, 9, 5, 5, 4, 7, 5, 4, 5, 7, 5, 4, 6, 5, 6, 7, 4, 7, 5, 7, 7, 5, 7, 8, 6, 8, 9, 6, 6, 7, 5, 7, 6, 6, 5, 5, 5, 6, 7, 7, 8, 7, 5, 5, 7, 4, 5, 5, 7, 6, 5, 6, 4, 5, 5, 8, 8, 7, 7, 7, 4, 6, 6, 6, 7, 7, 5, 8, 6, 7, 6, 7, 10, 9, 7, 6, 4, 5, 5, 4, 5, 5, 8, 6, 7, 6, 5, 7, 5, 5, 5, 6, 5, 6, 5, 6, 6, 5, 5, 6, 5, 4, 5, 5, 6, 3, 5, 9, 9, 6, 10, 7, 7, 6, 5, 7, 6, 8, 9, 6, 7, 11, 6, 6, 5, 10, 9, 10, 6, 6, 4, 6, 6, 6, 6, 5, 6, 6, 7, 9, 7, 5, 6, 6, 5, 5, 4, 5, 4, 8, 6, 8, 6, 4, 7, 6, 5, 6, 5, 7, 4, 8, 6, 6, 9, 9, 6, 6, 6, 6, 5, 5, 6, 3, 3, 6, 8, 6, 6, 7, 9, 8, 8, 9, 6, 8, 6, 6, 8, 7, 5, 5, 7, 8, 5, 6, 6, 8, 5, 5, 7, 6, 6, 7, 10, 6, 6, 6, 5, 6, 5, 5, 7, 6, 6, 7, 7, 6, 5, 11, 6, 9, 6, 9, 7, 7, 9, 7, 7, 8, 8, 8, 7, 8, 7, 8, 6, 4, 8, 7, 5, 6, 8, 4, 5, 4, 7, 6, 5, 9, 6, 8, 5, 6, 4, 9, 6, 10, 7, 5, 7, 5, 10, 6, 8, 6, 4, 8, 8, 7, 11, 6, 7, 8, 7, 7, 5, 10, 8, 8, 9, 8, 7, 7, 8, 7, 7, 5, 8, 6, 5, 7, 5, 7, 6, 6, 5, 7, 7, 7, 7, 7, 4, 7, 4, 10, 8, 6, 7, 7, 7, 8, 6, 6, 10, 4, 9, 10, 9, 7, 8, 9, 9, 5, 7, 9, 8, 8, 6, 7, 7, 8, 8, 6, 9, 5, 9, 5, 5, 6, 4, 5, 8, 7, 5, 4, 7, 6, 8, 8, 9, 8, 8, 7, 7, 6, 8, 5, 6, 8, 9, 4, 6, 6, 5, 5, 9, 8, 4, 9, 7, 9, 10, 7, 6, 5, 6, 5, 10, 9, 7, 7, 5, 8, 5, 5, 6, 6, 4, 7, 7, 5, 6, 6, 9, 9, 8, 6, 7, 5, 8, 6, 5, 6, 6, 9, 8, 7, 7, 5, 4, 5, 5, 7, 9, 4, 4, 4, 7, 7, 7, 7, 7, 7, 7, 5, 6, 7, 6, 6, 7, 6, 7, 6, 6, 8, 5, 8, 6, 5, 6, 7, 8, 5, 6, 13, 8, 8, 8, 7, 7, 8, 7, 7, 6, 6, 7, 6, 11, 7, 7, 6, 5, 9, 7, 6, 7, 6, 7, 5, 8, 10, 6, 8, 7, 7, 6, 8, 10, 6, 6, 7, 5, 6, 7, 6, 6, 7, 6, 7, 7, 10, 6, 6, 7, 6, 7, 8, 6, 8, 9, 8, 4, 4, 8, 4, 6, 7, 6, 6, 9, 6, 6, 8, 5, 8, 6, 6, 6, 6, 8, 8, 11, 7, 7, 5, 5, 7, 5, 5, 6, 5, 4, 4, 6, 7, 7, 7, 7, 8, 7, 7, 6, 6, 6, 8, 7, 6, 8, 8, 5, 5, 5, 7, 7, 5, 5, 5, 9, 5, 7, 7, 5, 6, 7, 8, 4, 6, 4, 7, 3, 5, 8, 8, 7, 7, 6, 8, 7, 7, 7, 7, 7, 7, 5, 9, 9, 9, 8, 7, 6, 6, 8, 5, 8, 8, 8, 8, 6, 6, 8, 8, 7, 6, 8, 6, 6, 5, 7, 4, 6, 6, 6, 6, 5, 6, 6, 4, 5, 8, 6, 6, 5, 8, 10, 9, 7, 7, 8, 9, 8, 8, 5, 4, 7, 7, 6, 4, 7, 5, 5, 6, 6, 7, 7, 11, 7, 9, 3, 8, 6, 7, 5, 6, 5, 7, 7, 7, 5, 8, 7, 7, 9, 6, 8, 5, 8, 5, 8, 5, 7, 7, 5, 6, 6, 6, 5, 5, 6, 3, 8, 7, 7, 9, 6, 7, 5, 5, 7, 7, 7, 6, 4, 4, 5, 7, 7, 5, 6, 7, 7, 6, 7, 6, 4, 9, 6, 6, 6, 6, 5, 6, 6, 9, 6, 6, 9, 8, 4, 8, 6, 5, 8, 7, 7, 5, 8, 7, 8, 6, 9, 5, 5, 5, 7, 8, 5, 6, 5, 8, 10, 8, 8, 7, 5, 6, 8, 6, 7, 7, 6, 8, 6, 6, 5, 7, 5, 7, 6, 7, 8, 7, 5, 6, 4, 6, 6, 5, 6, 7, 9, 9, 5, 6, 6, 5, 6, 6, 7, 6, 9, 5, 8, 6, 7, 7, 8, 9, 9, 13, 7, 6, 6, 6, 6, 6, 5, 9, 3, 6, 6, 6, 7, 5, 6, 6, 6, 7, 9, 6, 12, 6, 3, 5, 5, 7, 7, 4, 9, 5, 7, 8, 6, 6, 7, 5, 5, 6, 6, 7, 5, 6, 5, 7, 5, 6, 8, 6, 6, 8, 7, 6, 8, 8, 5, 6, 7, 7, 7, 12, 10, 7, 6, 7, 5, 9, 6, 6, 7, 7, 7, 9, 7, 5, 5, 11, 7, 5, 5, 5, 6, 6, 6, 10, 7, 7, 9, 9, 8, 5, 8, 7, 7, 6, 7, 7, 8, 6, 7, 7, 5, 5, 6, 5, 6, 4, 6, 8, 7, 7, 7, 8, 7, 5, 9, 9, 8, 7, 9, 8, 7, 8, 7, 5, 8, 7, 6, 6, 6, 6, 10, 7, 8, 10, 6, 6, 7, 7, 10, 5, 4, 6, 10, 9, 8, 9, 8, 7, 7, 8, 7, 7, 9, 6, 6, 8, 8, 6, 6, 6, 8, 7, 5, 7, 9, 6, 7, 8, 7, 5, 5, 7, 7, 7, 5, 5, 6, 9, 5, 5, 6, 6, 5, 5, 5, 10, 13, 4, 6, 5, 6, 6, 7, 7, 4, 10, 12, 6, 9, 7, 8, 9, 7, 9, 5, 10, 7, 5, 6, 8, 5, 6, 5, 7, 9, 7, 8, 9, 8, 7, 7, 7, 5, 6, 5, 6, 5, 6, 5, 3, 6, 6, 6, 8, 5, 8, 6, 5, 7, 9, 12, 7, 5, 9, 8, 5, 11, 7, 7, 6, 9, 8, 5, 8, 5, 8, 5, 6, 5, 10, 10, 10, 9, 6, 7, 5, 8, 7, 7, 4, 6, 7, 9, 9, 6, 9, 7, 4, 10, 7, 9, 10, 8, 8, 4, 4, 6, 6, 6, 7, 9, 7, 9, 12, 7, 8, 8, 6, 9, 6, 5, 5, 6, 6, 5, 5, 7, 5, 7, 5, 7, 5, 8, 6, 8, 6, 7, 6, 7, 6, 5, 5, 6, 7, 7, 8, 7, 5, 5, 10, 5, 4, 8, 9, 7, 8, 6, 7, 6, 9, 7, 5, 8, 8, 6, 9, 8, 8, 8, 6, 10, 6, 8, 6, 9, 7, 8, 7, 8, 7, 5, 8, 6, 6, 6, 7, 8, 7, 6, 7, 9, 6, 8, 7, 7, 8, 8, 4, 9, 7, 6, 6, 8, 6, 10, 7, 6, 7, 7, 8, 9, 7, 6, 10, 6, 6, 6, 6, 4, 5, 5, 5, 7, 6, 9, 7, 6, 8, 5, 6, 8, 7, 7, 9, 5, 7, 7, 6, 9, 7, 8, 9, 8, 6, 6, 7, 5, 7, 5, 10, 7, 6, 6, 6, 5, 5, 8, 4, 6, 5, 5, 6, 4, 6, 5, 9, 8, 7, 7, 7, 8, 5, 7, 6, 7, 6, 7, 9, 7, 6, 9, 9, 7, 7, 9, 11, 6, 8, 5, 5, 7, 7, 12, 8, 8, 5, 6, 8, 6, 6, 7, 6, 6, 8, 5, 5, 8, 6, 6, 11, 10, 6, 10, 8, 7, 8, 4, 3, 8, 5, 7, 10, 8, 8, 8, 8, 5, 6, 10, 9, 11, 4, 6, 8, 10, 8, 9, 7, 5, 11, 6, 7, 6, 6, 8, 7, 7, 8, 7, 8, 7, 5, 6, 10, 7, 8, 7, 6, 8, 6, 4, 6, 6, 3, 6, 5, 4, 9, 4, 5, 6, 8, 6, 4, 6, 8, 6, 7, 10, 6, 6, 9, 8, 8, 9, 9, 8, 7, 8, 6, 6, 11, 7, 7, 7, 8, 7, 5, 9, 11, 7, 3, 6, 7, 10, 7, 8, 7, 7, 5, 5, 7, 7, 5, 6, 6, 7, 11, 7, 9, 6, 10, 6, 6, 6, 5, 6, 6, 5, 7, 4, 5, 7, 5, 8, 9, 6, 6, 7, 7, 6, 5, 6, 8, 6, 8, 6, 7, 4, 6, 7, 8, 7, 7, 8, 6, 6, 8, 6, 7, 4, 8, 8, 8, 8, 7, 7, 11, 7, 8, 7, 6, 5, 7, 6, 6, 7, 11, 6, 7, 7, 5, 5, 10, 6, 10, 6, 8, 7, 7, 6, 7, 7, 9, 6, 7, 7, 5, 5, 6, 7, 7, 6, 8, 5, 6, 6, 6, 6, 6, 7, 5, 7, 7, 6, 6, 7, 5, 5, 9, 5, 7, 7, 6, 9, 10, 4, 4, 7, 13, 6, 6, 11, 8, 6, 6, 9, 9, 7, 9, 9, 6, 5, 5, 7, 5, 6, 5, 11, 8, 8, 7, 8, 5, 7, 6, 8, 5, 5, 5, 5, 5, 7, 7, 6, 6, 9, 6, 5, 5, 7, 6, 6, 8, 6, 8, 9, 6, 7, 7, 6, 6, 8, 7, 8, 6, 5, 4, 5, 8, 8, 6, 7, 7, 8, 6, 8, 5, 10, 8, 9, 11, 6, 7, 8, 9, 7, 10, 7, 6, 6, 8, 7, 7, 7, 5, 8, 8, 8, 7, 7, 7, 8, 7, 4, 6, 6, 7, 5, 6, 7, 7, 9, 8, 7, 9, 7, 7, 7, 6, 5, 6, 9, 6, 6, 8, 6, 5, 7, 10, 6, 6, 5, 5, 9, 8, 6, 6, 6, 8, 6, 6, 7, 9, 6, 7, 10, 5, 7, 8, 9, 9, 7, 7, 7, 6, 6, 9, 7, 7, 6, 8, 8, 8, 5, 7, 5, 7, 8, 8, 9, 6, 11, 11, 7, 10, 10, 7, 8, 6, 7, 5, 5, 8, 9, 9, 12, 11, 9, 8, 6, 7, 9, 7, 7, 6, 6, 8, 9, 10, 8, 10, 8, 8, 7, 7, 7, 5, 5, 6, 7, 6, 4, 6, 6, 5, 6, 6, 6, 7, 6, 6, 8, 8, 4, 9, 8, 9, 7, 8, 6, 7, 9, 8, 5, 5, 6, 6, 8, 6, 4, 6, 8, 8, 11, 9, 7, 9, 8, 7, 6, 7, 8, 6, 7, 7, 7, 5, 7, 6, 8, 9, 9, 8, 8, 6, 6, 5, 5, 6, 6, 7, 7, 8, 7, 8, 5, 6, 5, 6, 7, 7, 5, 7, 7, 8, 8, 9, 6, 9, 6, 9, 7, 5, 6, 8, 6, 5, 6, 11, 7, 7, 7, 5, 5, 7, 5, 7, 8, 11, 6, 6, 7, 6, 6, 7, 5, 6, 6, 5, 7, 4, 7, 6, 6, 9, 10, 5, 9, 9, 7, 6, 6, 6, 7, 6, 8, 7, 6, 8, 7, 7, 6, 7, 9, 7, 9, 8, 10, 9, 11, 8, 12, 7, 9, 8, 7, 7, 7, 10, 5, 7, 7, 7, 6, 7, 8, 7, 6, 7, 7, 7, 7, 8, 5, 6, 6, 6, 8, 9, 11, 10, 5, 7, 8, 9, 7, 7, 8, 6, 7, 6, 8, 7, 6, 7, 6, 8, 6, 6, 7, 10, 8, 7, 9, 8, 8, 8, 9, 8, 10, 5, 5, 5, 8, 10, 7, 9, 8, 6, 8, 11, 8, 8, 11, 13, 12, 7, 7, 8, 7, 7, 7, 7, 7, 6, 11, 9, 5, 5, 7, 7, 6, 8, 10, 8, 6, 6, 5, 6, 6, 5, 7, 7, 5, 5, 4, 6, 7, 5, 5, 7, 7, 8, 9, 7, 5, 6, 7, 6, 8, 7, 7, 8, 8, 6, 8, 7, 8, 6, 7, 10, 6, 7, 6, 8, 7, 6, 9, 6, 10, 6, 7, 7, 4, 6, 6, 7, 6, 6, 9, 12, 10, 9, 6, 4, 7, 4, 7, 4, 8, 7, 10, 7, 5, 6, 7, 8, 8, 5, 7, 6, 5, 9, 8, 6, 8, 8, 8, 7, 6, 7, 8, 8, 8, 6, 7, 10, 6, 8, 4, 9, 7, 8, 10, 8, 8, 8, 9, 5, 8, 7, 6, 6, 7, 10, 9, 7, 11, 7, 10, 9, 6, 11, 12, 7, 7, 7, 7, 4, 6, 11, 8, 7, 7, 8, 7, 8, 7, 8, 6, 6, 8, 7, 8, 7, 6, 6, 7, 6, 6, 7, 6, 6, 6, 6, 6, 4, 8, 8, 6, 6, 5, 4, 3, 6, 5, 7, 6, 5, 6, 7, 8, 3, 11, 7, 5, 8, 8, 5, 7, 7, 7, 6, 8, 7, 9, 6, 6, 6, 6, 5, 7, 9, 8, 8, 10, 6, 5, 9, 8, 9, 9, 5, 7, 7, 6, 7, 7, 6, 5, 9, 9, 11, 8, 6, 6, 7, 6, 9, 8, 6, 6, 7, 11, 11, 5, 4, 8, 4, 4, 11, 8, 6, 6, 7, 5, 7, 7, 6, 7, 6, 6, 8, 7, 6, 8, 8, 7, 6, 6, 5, 5, 5, 8, 6, 7, 4, 8, 7, 9, 7, 5, 7, 4, 6, 9, 7, 10, 5, 6, 6, 5, 10, 7, 10, 6, 7, 4, 4, 4, 8, 8, 7, 3, 6, 4, 7, 6, 5, 7, 7, 3, 8, 7, 8, 9, 7, 7, 7, 6, 7, 4, 4, 5, 5, 5, 6, 9, 7, 6, 8, 9, 7, 5, 6, 6, 7, 7, 6, 5, 5, 6, 7, 5, 5, 6, 4, 6, 6, 12, 6, 6, 5, 7, 7, 5, 5, 9, 10, 6, 6, 9, 8, 6, 9, 10, 6, 9, 10, 8, 7, 6, 5, 6, 8, 8, 7, 6, 6, 9, 8, 9, 6, 10, 8, 7, 6, 7, 5, 11, 4, 8, 6, 6, 8, 8, 8, 7, 8, 7, 9, 8, 7, 8, 14, 8, 8, 8, 8, 7, 6, 6, 9, 8, 7, 5, 10, 6, 9, 6, 9, 7, 6, 6, 8, 6, 10, 6, 6, 7, 11, 10, 8, 6, 5, 7, 6, 6, 6, 5, 6, 8, 8, 4, 12, 10, 8, 8, 8, 10, 8, 9, 5, 7, 6, 6, 6, 6, 6, 11, 9, 8, 8, 8, 6, 4, 8, 4, 7, 6, 7, 8, 7, 8, 7, 8, 7, 9, 6, 8, 8, 6, 9, 6, 7, 8, 8, 8, 10, 7, 7, 7, 6, 8, 7, 9, 6, 6, 9, 5, 4, 6, 8, 8, 7, 8, 11, 8, 7, 6, 7, 6, 9, 8, 10, 8, 5, 5, 7, 5, 5, 6, 7, 8, 7, 6, 6, 9, 10, 5, 7, 6, 9, 9, 9, 7, 5, 8, 9, 8, 7, 8, 8, 6, 7, 8, 8, 9, 12, 6, 12, 9, 6, 6, 8, 8, 6, 8, 7, 7, 6, 5, 4, 8, 10, 9, 7, 9, 10, 7, 11, 9, 9, 10, 9, 7, 9, 8, 6, 6, 7, 5, 8, 10, 9, 8, 6, 7, 7, 10, 8, 6, 7, 6, 7, 6, 8, 6, 8, 9, 7, 7, 8, 8, 9, 5, 6, 7, 4, 6, 8, 7, 4, 9, 9, 7, 4, 6, 6, 8, 7, 3, 7, 9, 8, 9, 7, 9, 8, 14, 7, 5, 7, 7, 7, 7, 7, 7, 9, 5, 5, 8, 9, 5, 6, 5, 9, 8, 5, 6, 12, 8, 9, 8, 9, 11, 9, 6, 7, 10, 6, 5, 6, 5, 6, 7, 7, 7, 11, 8, 6, 10, 9, 8, 8, 9, 8, 4, 8, 5, 7, 7, 6, 7, 6, 5, 7, 11, 6, 8, 9, 8, 10, 11, 9, 7, 7, 9, 8, 8, 7, 6, 8, 10, 9, 7, 7, 7, 6, 9, 8, 7, 7, 10, 7, 6, 9, 10, 7, 6, 6, 5, 7, 8, 8, 8, 5, 7, 6, 6, 7, 7, 7, 9, 7, 9, 8, 5, 6, 11, 10, 8, 8, 8, 8, 8, 12, 6, 7, 8, 7, 6, 7, 6, 7, 8, 10, 6, 11, 8, 9, 8, 9, 8, 9, 9, 6, 7, 12, 8, 7, 6, 9, 8, 7, 9, 7, 15, 12, 8, 8, 9, 7, 8, 9, 12, 7, 7, 9, 9, 7, 8, 8, 9, 9, 8, 11, 9, 11, 8, 8, 7, 8, 7, 9, 5, 9, 10, 8, 6, 4, 4, 4, 8, 7, 7, 6, 5, 5, 7, 6, 6, 7, 7, 8, 8, 8, 8, 6, 6, 6, 8, 5, 6, 7, 8, 8, 5, 8, 7, 6, 5, 8, 9, 5, 6, 7, 7, 10, 8, 9, 6, 6, 6, 8, 6, 6, 6, 9, 5, 8, 6, 7, 7, 9, 5, 7, 6, 9, 8, 9, 9, 8, 7, 9, 7, 8, 8, 6, 8, 8, 5, 6, 3, 8, 7, 6, 6, 7, 4, 4, 6, 7, 7, 6, 7, 6, 5, 9, 6, 8, 12, 9, 6, 7, 6, 7, 9, 8, 5, 12, 9, 7, 12, 6, 10, 9, 9, 9, 6, 11, 9, 11, 10, 8, 6, 9, 9, 7, 8, 9, 8, 8, 9, 9, 7, 8, 9, 7, 7, 8, 10, 12, 5, 6, 3, 4, 8, 5, 4, 6, 6, 8, 6, 5, 6, 7, 9, 7, 8, 8, 7, 10, 8, 11, 6, 7, 5, 6, 7, 8, 8, 5, 6, 9, 5, 6, 9, 6, 10, 8, 9, 10, 8, 5, 7, 8, 11, 6, 7, 10, 7, 9, 6, 8, 5, 7, 7, 10, 9, 6, 6, 10, 5, 5, 7, 7, 9, 8, 7, 8, 9, 5, 3, 6, 6, 7, 6, 6, 9, 6, 8, 10, 11, 5, 6, 6, 6, 4, 8, 8, 9, 9, 6, 9, 10, 7, 8, 10, 6, 4, 5, 7, 6, 6, 8, 7, 6, 6, 12, 7, 6, 5, 7, 5, 9, 5, 6, 5, 7, 6, 10, 7, 5, 5, 7, 5, 6, 7, 4, 8, 6, 6, 5, 5, 5, 6, 6, 10, 6, 6, 5, 6, 10, 9, 6, 7, 5, 7, 6, 9, 8, 7, 7, 7, 7, 7, 6, 8, 10, 6, 7, 6, 10, 6, 7, 8, 6, 11, 8, 6, 6, 6, 9, 6, 5, 7, 10, 8, 6, 7, 7, 9, 5, 9, 6, 8, 6, 7, 5, 5, 7, 7, 6, 10, 5, 9, 7, 8, 8, 8, 6, 6, 6, 8, 7, 7, 6, 9, 7, 4, 5, 5, 7, 7, 5, 7, 5, 7, 9, 8, 4, 7, 6, 6, 7, 5, 8, 7, 7, 5, 5, 7, 5, 4, 10, 6, 7, 10, 8, 10, 10, 5, 6, 7, 7, 8, 10, 9, 6, 4, 9, 10, 8, 4, 9, 7, 7, 8, 5, 5, 6, 8, 8, 8, 8, 7, 8, 9, 10, 7, 5, 9, 7, 9, 9, 9, 8, 6, 9, 12, 10, 8, 7, 7, 8, 6, 6, 6, 6, 5, 7, 6, 8, 8, 7, 7, 6, 6, 6, 8, 5, 8, 7, 6, 7, 8, 6, 7, 7, 10, 6, 8, 10, 4, 6, 5, 7, 9, 6, 8, 10, 7, 5, 5, 7, 8, 6, 7, 7, 10, 10, 10, 6, 7, 7, 6, 10, 8, 7, 7, 7, 9, 7, 5, 6, 9, 9, 7, 6, 6, 9, 8, 8, 6, 11, 8, 9, 5, 5, 7, 10, 7, 11, 7, 7, 10, 7, 6, 10, 10, 9, 8, 10, 6, 9, 8, 9, 7, 7, 6, 9, 8, 8, 5, 6, 9, 6, 8, 8, 10, 8, 6, 5, 5, 5, 9, 8, 8, 11, 9, 8, 10, 5, 11, 9, 8, 7, 8, 7, 7, 5, 9, 6, 7, 5, 7, 9, 9, 8, 4, 7, 9, 5, 4, 8, 9, 10, 10, 7, 9, 7, 7, 7, 6, 8, 6, 8, 4, 9, 10, 11, 10, 7, 5, 6, 9, 10, 9, 8, 10, 11, 8, 7, 7, 8, 7, 5, 8, 10, 9, 8, 7, 9, 11, 8, 9, 8, 7, 7, 6, 6, 7, 5, 4, 6, 7, 6, 5, 7, 7, 9, 8, 7, 8, 6, 11, 8, 9, 8, 9, 13, 6, 8, 7, 7, 5, 7, 9, 8, 10, 7, 8, 7, 7, 6, 7, 5, 9, 4, 4, 9, 9, 11, 9, 9, 8, 9, 7, 7, 9, 6, 11, 11, 8, 7, 7, 8, 7, 5, 6, 7, 8, 6, 10, 6, 6, 10, 11, 9, 7, 7, 7, 8, 7, 8, 6, 6, 7, 7, 11, 8, 9, 6, 8, 7, 8, 6, 6, 7, 8, 6, 6, 8, 11, 7, 8, 6, 8, 9, 12, 8, 9, 8, 6, 8, 8, 8, 7, 7, 5, 6, 7, 9, 8, 6, 5, 9, 8, 7, 10, 6, 6, 9, 9, 7, 6, 7, 5, 5, 7, 6, 6, 6, 8, 10, 9, 10, 7, 5, 5, 9, 8, 7, 6, 6, 4, 8, 6, 8, 6, 8, 9, 8, 5, 9, 10, 9, 9, 6, 8, 6, 8, 8, 7, 10, 6, 6, 10, 9, 8, 5, 8, 8, 6, 8, 7, 8, 7, 11, 5, 5, 5, 6, 8, 9, 6, 6, 8, 7, 7, 6, 6, 7, 5, 8, 6, 10, 8, 8, 9, 11, 10, 5, 9, 11, 10, 8, 8, 7, 8, 6, 10, 8, 6, 6, 6, 8, 8, 9, 9, 9, 9, 6, 6, 8, 8, 9, 6, 8, 9, 9, 10, 13, 8, 7, 11, 7, 7, 10, 9, 9, 8, 10, 12, 10, 10, 8, 8, 8, 9, 6, 8, 8, 12, 9, 11, 12, 6, 7, 6, 7, 9, 7, 8, 11, 12, 5, 7, 7, 8, 8, 7, 7, 8, 8, 8, 7, 7, 6, 7, 7, 8, 6, 6, 6, 5, 9, 8, 7, 8, 5, 5, 8, 8, 8, 7, 8, 6, 8, 9, 9, 9, 8, 8, 6, 6, 5, 8, 6, 8, 7, 6, 8, 7, 9, 5, 6, 7, 7, 6, 7, 8, 8, 9, 6, 6, 7, 8, 7, 7, 10, 6, 5, 8, 9, 8, 12, 8, 8, 6, 4, 4, 9, 9, 8, 6, 16, 9, 10, 8, 8, 10, 7, 8, 6, 6, 8, 10, 8, 7, 5, 6, 7, 9, 12, 6, 9, 10, 7, 7, 6, 8, 6, 6, 5, 6, 7, 10, 7, 6, 5, 7, 8, 6, 6, 7, 7, 6, 7, 9, 6, 9, 8, 8, 4, 9, 5, 7, 8, 9, 8, 9, 5, 9, 9, 7, 6, 10, 5, 7, 6, 9, 10, 12, 9, 9, 8, 6, 6, 7, 8, 7, 7, 9, 13, 11, 11, 12, 8, 8, 6, 5, 13, 7, 8, 6, 8, 7, 9, 8, 8, 6, 5, 6, 6, 6, 7, 5, 8, 6, 5, 6, 10, 8, 10, 6, 8, 5, 5, 8, 5, 6, 5, 7, 9, 7, 6, 11, 9, 8, 10, 7, 6, 11, 6, 9, 9, 6, 9, 7, 7, 11, 11, 10, 8, 7, 7, 8, 9, 8, 3, 8, 7, 6, 6, 6, 8, 8, 7, 9, 7, 5, 10, 8, 8, 12, 8, 6, 9, 5, 6, 8, 9, 10, 7, 8, 6, 6, 7, 5, 7, 8, 9, 6, 8, 8, 9, 8, 6, 7, 7, 8, 8, 8, 7, 8, 7, 7, 5, 7, 7, 6, 7, 13, 8, 6, 10, 5, 8, 7, 8, 9, 6, 4, 9, 9, 6, 6, 8, 9, 7, 5, 6, 7, 6, 4, 6, 8, 10, 11, 8, 9, 6, 5, 7, 8, 7, 8, 6, 8, 5, 9, 8, 6, 8, 5, 5, 7, 6, 5, 6, 6, 6, 9, 8, 7, 6, 8, 7, 7, 7, 7, 5, 6, 9, 7, 9, 6, 8, 6, 8, 5, 7, 7, 8, 6, 8, 8, 6, 8, 7, 5, 10, 11, 6, 7, 9, 10, 9, 9, 8, 8, 6, 6, 10, 6, 11, 11, 5, 7, 8, 9, 6, 7, 5, 10, 8, 7, 8, 8, 6, 5, 5, 6, 5, 7, 4, 7, 8, 9, 7, 7, 7, 6, 8, 6, 7, 6, 7, 9, 10, 12, 9, 7, 7, 8, 9, 8, 7, 8, 7, 7, 7, 6, 7, 5, 8, 8, 6, 4, 8, 5, 4, 7, 8, 9, 5, 7, 9, 9, 9, 7, 6, 9, 9, 6, 8, 8, 7, 7, 9, 10, 8, 9, 7, 6, 6, 7, 11, 8, 7, 7, 7, 5, 6, 9, 5, 5, 5, 11, 7, 6, 6, 10, 6, 6, 9, 7, 7, 9, 6, 5, 7, 10, 10, 7, 5, 6, 6, 9, 5, 7, 6, 7, 9, 4, 7, 6, 4, 6, 8, 7, 5, 5, 5, 5, 8, 9, 9, 6, 10, 5, 8, 6, 8, 9, 7, 8, 8, 7, 5, 6, 10, 9, 10, 8, 8, 7, 9, 7, 9, 9, 9, 11, 7, 6, 7, 5, 7, 9, 9, 9, 5, 6, 5, 8, 8, 5, 5, 11, 9, 10, 8, 8, 8, 6, 7, 9, 8, 7, 8, 7, 9, 7, 8, 13, 11, 9, 8, 9, 6, 9, 9, 8, 6, 7, 8, 9, 8, 8, 8, 7, 8, 6, 5, 7, 6, 7, 5, 8, 7, 6, 7, 8, 8, 7, 7, 9, 11, 5, 11, 9, 6, 6, 5, 6, 10, 8, 8, 10, 11, 7, 7, 9, 7, 6, 6, 12, 7, 9, 5, 7, 11, 6, 8, 9, 6, 7, 7, 11, 10, 9, 8, 10, 12, 12, 12, 7, 12, 11, 11, 9, 7, 11, 6, 9, 9, 9, 13, 9, 9, 7, 4, 9, 12, 8, 5, 5, 12, 10, 10, 9, 9, 7, 8, 12, 8, 8, 8, 6, 7, 7, 9, 10, 10, 5, 7, 6, 6, 7, 7, 10, 8, 9, 7, 8, 9, 9, 7, 12, 8, 6, 10, 10, 4, 8, 9, 11, 6, 9, 8, 6, 7, 8, 5, 9, 7, 7, 7, 6, 6, 7, 7, 7, 7, 7, 8, 7, 7, 11, 6, 6, 6, 6, 6, 6, 5, 8, 8, 10, 9, 8, 9, 10, 9, 7, 6, 9, 8, 10, 9, 8, 6, 7, 6, 10, 8, 8, 10, 9, 8, 8, 7, 7, 8, 6, 5, 6, 7, 10, 6, 6, 6, 11, 7, 7, 7, 9, 9, 9, 12, 10, 6, 9, 10, 8, 8, 8, 6, 7, 10, 10, 10, 7, 8, 7, 10, 8, 6, 6, 6, 8, 7, 8, 7, 9, 6, 8, 10, 8, 7, 7, 7, 7, 6, 7, 8, 8, 7, 7, 6, 8, 8, 10, 6, 7, 6, 6, 7, 7, 7, 7, 7, 6, 6, 7, 6, 8, 7, 7, 6, 5, 5, 4, 8, 8, 7, 7, 8, 7, 8, 8, 7, 8, 9, 7, 9, 6, 7, 4, 5, 12, 18, 8, 8, 8, 8, 8, 8, 10, 4, 5, 7, 4, 6, 8, 6, 7, 7, 6, 8, 8, 6, 9, 9, 6, 6, 7, 9, 8, 11, 7, 9, 8, 9, 8, 8, 8, 7, 10, 8, 6, 5, 5, 13, 6, 9, 7, 4, 8, 8, 7, 8, 7, 8, 7, 10, 9, 5, 7, 7, 6, 7, 7, 8, 6, 10, 10, 6, 7, 7, 6, 8, 9, 9, 12, 7, 7, 7, 9, 7, 10, 7, 6, 8, 8, 7, 9, 8, 5, 7, 7, 7, 7, 9, 5, 8, 8, 7, 8, 11, 6, 7, 13, 9, 10, 9, 8, 6, 8, 8, 8, 9, 8, 9, 6, 9, 9, 8, 8, 8, 8, 11, 10, 8, 11, 11, 8, 6, 8, 8, 7, 7, 8, 5, 11, 8, 7, 5, 9, 10, 8, 10, 10, 10, 8, 7, 10, 8, 7, 9, 7, 9, 7, 8, 8, 8, 8, 8, 11, 8, 8, 9, 9, 6, 8, 8, 9, 7, 8, 7, 7, 6, 8, 6, 6, 7, 9, 6, 8, 7, 5, 10, 6, 6, 8, 7, 6, 8, 10, 8, 8, 10, 9, 11, 8, 8, 10, 12, 7, 6, 6, 6, 8, 8, 8, 5, 5, 7, 9, 6, 8, 8, 6, 6, 10, 7, 7, 10, 9, 7, 6, 6, 7, 6, 9, 8, 11, 8, 9, 7, 8, 8, 8, 8, 5, 5, 8, 8, 5, 6, 9, 8, 7, 8, 6, 6, 6, 8, 8, 6, 10, 7, 11, 6, 9, 10, 9, 6, 6, 9, 9, 9, 9, 7, 7, 10, 7, 9, 6, 7, 9, 10, 9, 8, 7, 8, 6, 7, 7, 6, 8, 9, 8, 4, 6, 8, 9, 7, 8, 6, 9, 9, 7, 9, 6, 5, 9, 6, 7, 7, 7, 8, 7, 7, 6, 7, 7, 6, 6, 7, 9, 6, 5, 8, 7, 7, 10, 9, 10, 10, 9, 11, 11, 12, 7, 10, 13, 13, 11, 11, 7, 7, 9, 8, 6, 12, 9, 7, 8, 7, 8, 7, 8, 7, 8, 8, 9, 12, 7, 9, 8, 6, 7, 10, 6, 13, 9, 8, 5, 7, 8, 6, 8, 8, 10, 10, 4, 8, 8, 7, 7, 7, 9, 9, 7, 8, 6, 5, 6, 5, 4, 7, 11, 8, 8, 9, 8, 7, 10, 10, 7, 10, 8, 11, 5, 8, 9, 9, 7, 6, 5, 7, 8, 7, 8, 7, 8, 12, 10, 9, 7, 7, 6, 8, 6, 5, 9, 8, 8, 8, 8, 6, 6, 7, 10, 6, 9, 5, 6, 8, 5, 7, 6, 6, 10, 8, 9, 5, 7, 7, 7, 8, 6, 10, 5, 5, 7, 8, 7, 7, 9, 5, 10, 8, 5, 7, 6, 6, 6, 11, 9, 7, 6, 9, 10, 5, 7, 7, 5, 5, 7, 6, 5, 6, 8, 7, 6, 9, 7, 3, 5, 7, 6, 8, 8, 7, 8, 8, 8, 9, 8, 6, 6, 9, 6, 9, 13, 11, 6, 8, 9, 7, 8, 7, 6, 9, 9, 6, 9, 9, 7, 5, 6, 9, 9, 7, 6, 7, 8, 7, 8, 7, 5, 7, 9, 9, 3, 7, 8, 7, 7, 6, 7, 9, 8, 5, 5, 5, 11, 9, 12, 7, 10, 8, 8, 6, 10, 7, 10, 8, 9, 4, 12, 9, 8, 8, 9, 11, 10, 6, 7, 7, 7, 6, 8, 8, 9, 10, 7, 6, 6, 7, 7, 6, 10, 10, 7, 7, 6, 7, 7, 7, 5, 8, 6, 8, 5, 8, 8, 7, 7, 5, 7, 9, 10, 7, 8, 8, 9, 10, 6, 7, 7, 6, 7, 6, 10, 8, 9, 9, 9, 8, 11, 8, 7, 7, 8, 6, 7, 9, 7, 7, 8, 5, 10, 9, 7, 7, 10, 6, 7, 8, 6, 8, 6, 9, 8, 5, 7, 6, 6, 7, 7, 7, 7, 6, 5, 6, 8, 10, 6, 6, 8, 8, 8, 9, 6, 8, 5, 6, 4, 6, 7, 8, 8, 6, 4, 7, 8, 9, 8, 6, 7, 7, 6, 7, 5, 8, 7, 6, 6, 5, 8, 5, 7, 6, 9, 6, 8, 9, 9, 8, 9, 7, 7, 9, 10, 8, 7, 8, 8, 9, 7, 6, 9, 9, 10, 5, 6, 5, 8, 7, 6, 11, 9, 6, 7, 6, 4, 7, 7, 7, 11, 6, 11, 7, 8, 8, 7, 6, 6, 8, 6, 8, 10, 5, 6, 8, 6, 8, 7, 9, 8, 7, 7, 12, 9, 8, 8, 11, 10, 8, 6, 7, 7, 8, 9, 6, 10, 12, 8, 6, 6, 7, 7, 9, 7, 8, 8, 10, 6, 8, 6, 8, 6, 4, 5, 9, 10, 10, 8, 12, 9, 10, 10, 10, 6, 8, 11, 6, 7, 10, 10, 6, 10, 8, 7, 10, 7, 9, 12, 11, 7, 8, 4, 7, 10, 10, 8, 8, 12, 6, 6, 7, 12, 9, 11, 8, 8, 11, 7, 9, 9, 9, 9, 9, 8, 8, 7, 8, 8, 6, 9, 9, 6, 6, 6, 5, 9, 8, 7, 10, 8, 10, 7, 4, 10, 8, 14, 6, 8, 13, 10, 11, 8, 10, 10, 8, 7, 11, 9, 8, 7, 7, 8, 10, 7, 7, 7, 7, 7, 7, 5, 5, 11, 10, 9, 6, 6, 11, 9, 8, 8, 8, 8, 9, 11, 9, 6, 8, 9, 10, 9, 7, 8, 6, 5, 6, 8, 10, 6, 9, 7, 8, 8, 6, 7, 8, 6, 8, 7, 5, 7, 6, 10, 8, 7, 5, 6, 7, 5, 6, 14, 7, 6, 6, 8, 12, 6, 8, 9, 7, 9, 6, 10, 7, 9, 8, 8, 11, 5, 9, 8, 9, 8, 6, 6, 7, 9, 10, 8, 9, 10, 8, 8, 10, 9, 9, 9, 8, 7, 12, 6, 6, 7, 9, 9, 5, 11, 8, 7, 9, 10, 7, 10, 6, 9, 11, 8, 7, 10, 6, 6, 10, 10, 5, 8, 9, 7, 8, 10, 9, 7, 7, 9, 8, 8, 8, 6, 8, 8, 9, 6, 5, 6, 8, 10, 10, 7, 10, 6, 8, 7, 6, 5, 6, 9, 9, 10, 8, 12, 9, 7, 9, 12, 10, 7, 6, 15, 9, 5, 9, 7, 6, 8, 7, 10, 8, 8, 6, 11, 8, 8, 8, 7, 8, 9, 7, 7, 9, 8, 7, 7, 7, 7, 7, 8, 8, 6, 13, 7, 6, 9, 12, 9, 7, 8, 11, 7, 8, 6, 8, 6, 8, 6, 7, 11, 6, 9, 9, 11, 10, 11, 7, 12, 13, 12, 6, 9, 6, 6, 6, 6, 7, 11, 6, 8, 10, 8, 9, 10, 8, 8, 7, 8, 4, 7, 5, 7, 4, 9, 7, 9, 8, 10, 7, 10, 9, 7, 6, 8, 7, 6, 6, 7, 7, 7, 9, 8, 7, 8, 8, 10, 8, 5, 7, 7, 6, 7, 7, 10, 8, 8, 7, 6, 7, 9, 9, 7, 9, 7, 8, 8, 7, 6, 5, 8, 6, 10, 10, 8, 5, 4, 4, 7, 6, 13, 9, 7, 9, 9, 8, 10, 8, 9, 8, 7, 6, 9, 12, 7, 8, 8, 6, 7, 9, 6, 7, 6, 7, 12, 8, 7, 9, 9, 6, 7, 12, 9, 10, 8, 10, 12, 6, 6, 7, 8, 8, 7, 7, 8, 7, 9, 11, 8, 6, 7, 10, 8, 8, 8, 9, 6, 7, 5, 6, 5, 6, 6, 4, 6, 9, 10, 7, 5, 5, 7, 8, 7, 8, 5, 6, 6, 10, 7, 7, 5, 8, 9, 11, 10, 9, 7, 8, 8, 13, 12, 6, 6, 7, 11, 9, 7, 7, 7, 8, 8, 7, 10, 8, 8, 8, 7, 7, 7, 12, 8, 13, 9, 9, 8, 7, 9, 9, 9, 9, 8, 7, 10, 9, 10, 10, 10, 7, 9, 7, 7, 7, 9, 6, 8, 4, 7, 9, 7, 10, 9, 6, 8, 9, 4, 6, 11, 10, 11, 5, 7, 8, 6, 5, 10, 8, 9, 7, 11, 9, 7, 7, 6, 9, 7, 9, 4, 8, 6, 6, 6, 11, 9, 9, 12, 9, 6, 7, 6, 6, 7, 5, 6, 6, 9, 8, 8, 7, 5, 8, 6, 8, 6, 5, 8, 8, 9, 5, 10, 7, 11, 12, 7, 8, 7, 6, 5, 10, 10, 11, 6, 7, 10, 9, 9, 6, 6, 8, 7, 7, 7, 5, 8, 4, 5, 7, 6, 8, 11, 5, 9, 13, 8, 9, 9, 8, 9, 6, 6, 5, 8, 7, 12, 6, 9, 6, 5, 5, 6, 8, 8, 7, 6, 5, 5, 4, 5, 11, 8, 7, 6, 6, 8, 6, 8, 8, 9, 10, 9, 10, 8, 8, 10, 8, 9, 9, 6, 8, 8, 7, 9, 6, 7, 5, 7, 8, 7, 6, 7, 7, 8, 5, 7, 9, 9, 9, 8, 7, 5, 9, 7, 7, 8, 8, 6, 7, 12, 10, 6, 6, 7, 6, 8, 7, 6, 6, 5, 7, 4, 7, 8, 5, 7, 9, 10, 7, 6, 6, 5, 9, 8, 9, 6, 11, 10, 6, 6, 9, 10, 7, 10, 6, 9, 5, 9, 8, 7, 5, 7, 7, 6, 5, 7, 6, 7, 8, 9, 8, 8, 10, 8, 9, 6, 8, 6, 5, 9, 7, 7, 6, 5, 7, 6, 8, 9, 9, 8, 5, 10, 7, 7, 7, 8, 10, 4, 9, 5, 6, 4, 6, 5, 4, 6, 5, 6, 10, 9, 11, 7, 5, 9, 10, 9, 8, 10, 7, 5, 5, 6, 6, 8, 7, 7, 8, 8, 6, 7, 8, 8, 10, 7, 11, 7, 7, 6, 9, 9, 6, 8, 10, 8, 10, 15, 6, 9, 9, 10, 8, 9, 6, 8, 7, 7, 10, 6, 7, 6, 6, 8, 6, 10, 9, 8, 12, 7, 6, 5, 7, 8, 7, 7, 6, 6, 7, 9, 8, 9, 9, 10, 12, 9, 13, 8, 6, 10, 6, 5, 7, 8, 7, 9, 8, 10, 7, 10, 7, 7, 8, 8, 9, 13, 8, 5, 7, 12, 8, 9, 6, 6, 8, 7, 10, 9, 6, 5, 7, 8, 5, 7, 7, 8, 10, 9, 8, 6, 8, 8, 9, 8, 9, 8, 8, 9, 8, 6, 7, 6, 15, 7, 5, 6, 8, 10, 11, 6, 10, 7, 9, 9, 6, 7, 5, 13, 6, 8, 10, 6, 4, 6, 8, 7, 8, 8, 8, 6, 7, 8, 12, 6, 4, 7, 9, 10, 13, 5, 7, 10, 6, 11, 9, 8, 9, 8, 7, 11, 10, 10, 10, 10, 11, 9, 13, 11, 10, 13, 9, 8, 10, 7, 10, 9, 9, 11, 7, 11, 10, 9, 10, 9, 9, 8, 9, 11, 7, 7, 8, 8, 10, 7, 7, 9, 10, 10, 12, 10, 12, 9, 7, 8, 8, 8, 8, 7, 8, 8, 7, 4, 7, 7, 7, 11, 6, 6, 11, 9, 9, 7, 5, 8, 11, 6, 11, 6, 7, 9, 12, 7, 7, 9, 13, 9, 6, 9, 7, 7, 5, 8, 5, 8, 9, 9, 7, 8, 9, 11, 8, 9, 11, 6, 9, 11, 6, 6, 7, 9, 10, 9, 8, 8, 7, 12, 9, 8, 6, 6, 10, 5, 9, 12, 12, 9, 11, 8, 12, 8, 12, 13, 11, 8, 6, 7, 6, 10, 10, 8, 8, 11, 10, 8, 7, 9, 9, 7, 5, 7, 9, 8, 8, 9, 6, 9, 5, 9, 8, 9, 6, 9, 8, 8, 9, 6, 6, 7, 9, 9, 9, 8, 6, 9, 5, 9, 6, 8, 8, 11, 9, 7, 11, 8, 6, 6, 17, 15, 8, 5, 8, 9, 7, 9, 9, 8, 9, 7, 6, 5, 9, 6, 9, 6, 8, 10, 5, 9, 10, 9, 10, 8, 8, 9, 9, 10, 8, 8, 9, 8, 8, 6, 7, 10, 6, 10, 8, 8, 8, 8, 7, 5, 10, 12, 9, 6, 9, 9, 10, 8, 8, 12, 11, 8, 8, 9, 5, 8, 6, 11, 8, 7, 7, 7, 6, 9, 8, 6, 8, 7, 11, 8, 8, 8, 9, 10, 9, 7, 10, 7, 6, 7, 7, 11, 7, 8, 7, 6, 9, 8, 9, 11, 13, 13, 13, 10, 10, 7, 10, 10, 9, 9, 6, 10, 8, 7, 7, 9, 7, 9, 9, 8, 9, 10, 9, 8, 7, 10, 9, 10, 8, 7, 7, 7, 9, 8, 5, 8, 10, 8, 7, 7, 11, 8, 6, 7, 13, 9, 7, 9, 6, 9, 9, 8, 9, 10, 9, 9, 12, 12, 9, 11, 13, 9, 8, 8, 8, 8, 8, 6, 6, 8, 6, 10, 7, 9, 7, 6, 8, 8, 10, 6, 7, 9, 6, 5, 8, 10, 8, 9, 7, 6, 9, 5, 7, 10, 6, 9, 8, 8, 5, 8, 8, 8, 7, 8, 10, 10, 8, 6, 7, 10, 9, 10, 12, 7, 8, 8, 8, 11, 12, 9, 7, 8, 8, 9, 7, 10, 4, 8, 8, 6, 5, 8, 6, 9, 10, 7, 10, 8, 8, 8, 10, 6, 9, 8, 8, 8, 6, 8, 7, 9, 7, 7, 11, 7, 4, 5, 7, 8, 11, 8, 6, 7, 6, 8, 10, 10, 7, 8, 12, 8, 8, 6, 9, 8, 6, 8, 11, 7, 10, 8, 10, 10, 9, 9, 8, 7, 6, 8, 7, 8, 9, 8, 11, 11, 11, 6, 11, 12, 8, 6, 7, 9, 8, 12, 6, 7, 7, 10, 9, 10, 7, 13, 6, 12, 6, 6, 8, 13, 9, 10, 9, 7, 10, 6, 7, 7, 10, 8, 6, 5, 8, 8, 7, 8, 4, 6, 7, 5, 8, 11, 7, 6, 6, 10, 6, 7, 6, 6, 5, 5, 11, 10, 10, 7, 8, 9, 10, 9, 9, 7, 9, 9, 6, 8, 15, 10, 10, 8, 12, 9, 5, 10, 7, 6, 10, 10, 10, 5, 8, 6, 8, 8, 8, 8, 4, 7, 9, 12, 13, 6, 13, 13, 7, 4, 7, 8, 6, 8, 7, 9, 8, 11, 8, 9, 6, 6, 10, 7, 7, 9, 10, 12, 8, 8, 8, 6, 8, 4, 7, 6, 8, 7, 7, 9, 7, 6, 9, 10, 9, 7, 7, 8, 8, 9, 10, 9, 5, 5, 9, 7, 6, 8, 7, 5, 8, 7, 7, 6, 6, 6, 8, 6, 7, 7, 4, 6, 7, 5, 7, 9, 11, 6, 12, 7, 7, 9, 6, 6, 10, 8, 9, 7, 8, 9, 9, 10, 7, 7, 8, 11, 10, 9, 8, 9, 7, 8, 8, 8, 10, 10, 7, 6, 5, 9, 9, 9, 9, 10, 7, 9, 9, 7, 9, 11, 7, 6, 8, 7, 7, 6, 7, 10, 7, 10, 7, 7, 7, 8, 4, 6, 8, 8, 10, 6, 7, 11, 8, 8, 9, 7, 10, 10, 10, 6, 10, 8, 9, 10, 7, 6, 6, 6, 9, 9, 7, 8, 7, 8, 8, 7, 8, 8, 6, 6, 6, 7, 8, 7, 8, 14, 7, 10, 6, 12, 7, 8, 9, 10, 6, 14, 7, 9, 8, 10, 7, 7, 6, 7, 6, 6, 9, 8, 7, 9, 8, 4, 8, 6, 13, 7, 8, 9, 8, 8, 7, 6, 11, 12, 10, 7, 10, 11, 7, 6, 8, 9, 8, 7, 11, 7, 10, 8, 8, 9, 8, 8, 7, 12, 8, 6, 6, 8, 7, 7, 8, 7, 6, 8, 9, 7, 7, 8, 10, 7, 8, 6, 9, 10, 14, 9, 7, 7, 8, 6, 4, 6, 6, 11, 10, 10, 11, 7, 10, 6, 9, 9, 5, 8, 8, 6, 9, 9, 7, 7, 9, 6, 7, 10, 9, 8, 7, 9, 7, 6, 10, 8, 8, 6, 9, 8, 7, 10, 9, 9, 7, 7, 9, 7, 8, 12, 8, 11, 11, 7, 12, 12, 9, 8, 6, 12, 8, 7, 6, 7, 7, 5, 9, 4, 9, 8, 5, 5, 7, 7, 7, 7, 8, 12, 8, 9, 8, 12, 8, 9, 8, 7, 6, 9, 7, 8, 9, 9, 10, 6, 8, 6, 8, 9, 8, 10, 6, 6, 12, 10, 15, 8, 7, 7, 7, 9, 14, 6, 11, 9, 9, 8, 9, 8, 6, 8, 12, 8, 5, 8, 8, 7, 11, 9, 12, 10, 7, 9, 10, 10, 7, 8, 8, 8, 9, 13, 10, 9, 8, 10, 9, 9, 8, 9, 7, 8, 10, 9, 10, 8, 10, 10, 5, 6, 9, 7, 8, 11, 9, 9, 9, 9, 5, 9, 7, 8, 8, 8, 7, 8, 6, 10, 10, 8, 8, 9, 10, 8, 9, 8, 9, 8, 13, 8, 8, 15, 19, 12, 5, 11, 10, 10, 8, 8, 10, 6, 6, 7, 7, 8, 6, 9, 9, 8, 9, 5, 6, 8, 8, 6, 5, 4, 4, 7, 9, 11, 11, 12, 10, 8, 6, 10, 7, 9, 8, 7, 7, 9, 9, 7, 9, 9, 11, 5, 8, 7, 6, 9, 6, 7, 8, 7, 7, 7, 9, 9, 6, 10, 12, 10, 8, 10, 10, 9, 8, 8, 7, 8, 8, 11, 8, 7, 11, 12, 7, 8, 11, 7, 8, 11, 6, 7, 9, 7, 8, 5, 7, 9, 9, 5, 15, 10, 10, 10, 10, 12, 9, 11, 10, 11, 11, 8, 6, 5, 8, 9, 8, 7, 5, 12, 10, 8, 9, 6, 8, 6, 7, 8, 8, 9, 7, 8, 9, 8, 7, 7, 7, 7, 7, 9, 9, 6, 8, 8, 7, 6, 8, 6, 9, 8, 8, 7, 9, 9, 8, 12, 8, 8, 8, 13, 8, 7, 11, 9, 6, 7, 9, 7, 9, 8, 12, 9, 11, 10, 9, 7, 9, 7, 7, 11, 8, 10, 8, 9, 10, 8, 7, 8, 7, 13, 9, 9, 9, 12, 11, 10, 6, 10, 10, 9, 9, 8, 7, 7, 9, 8, 10, 5, 6, 10, 15, 12, 8, 14, 13, 12, 9, 10, 9, 11, 9, 10, 8, 8, 7, 6, 6, 10, 6, 9, 6, 5, 8, 9, 10, 10, 7, 8, 6, 16, 7, 9, 6, 8, 10, 11, 10, 11, 9, 9, 14, 14, 11, 9, 8, 9, 9, 9, 12, 10, 11, 7, 9, 9, 9, 7, 10, 8, 9, 11, 9, 10, 9, 8, 8, 9, 8, 9, 9, 7, 10, 6, 11, 13, 12, 10, 12, 9, 6, 7, 7, 8, 6, 6, 11, 8, 8, 7, 7, 10, 10, 10, 10, 10, 13, 6, 7, 9, 11, 9, 7, 12, 9, 6, 12, 9, 8, 8, 10, 9, 7, 11, 10, 7, 7, 8, 7, 7, 13, 9, 6, 11, 12, 11, 7, 7, 6, 8, 7, 9, 9, 9, 10, 7, 11, 10, 10, 5, 9, 8, 9, 6, 12, 11, 10, 10, 8, 7, 7, 8, 9, 8, 10, 8, 7, 8, 8, 8, 7, 8, 7, 6, 10, 10, 6, 8, 9, 5, 8, 7, 8, 7, 9, 7, 6, 8, 9, 10, 10, 13, 10, 10, 12, 8, 11, 9, 9, 6, 8, 10, 11, 9, 7, 8, 7, 10, 7, 9, 9, 6, 11, 9, 7, 8, 11, 9, 5, 9, 9, 7, 9, 8, 12, 11, 5, 9, 14, 10, 12, 10, 9, 7, 8, 8, 6, 6, 10, 11, 9, 11, 11, 10, 6, 9, 7, 10, 10, 8, 8, 8, 5, 6, 17, 6, 7, 6, 10, 10, 13, 8, 8, 6, 8, 5, 6, 12, 5, 7, 9, 6, 7, 9, 8, 7, 8, 12, 7, 10, 11, 9, 9, 6, 6, 6, 8, 7, 9, 11, 10, 12, 10, 11, 8, 11, 10, 10, 9, 11, 11, 13, 10, 7, 11, 16, 16, 8, 9, 10, 8, 13, 9, 11, 10, 9, 8, 6, 7, 11, 11, 7, 11, 10, 6, 8, 7, 9, 9, 9, 7, 9, 9, 11, 10, 9, 9, 14, 6, 8, 13, 14, 10, 10, 8, 10, 10, 8, 9, 7, 8, 10, 8, 13, 7, 9, 10, 17, 11, 8, 8, 11, 12, 5, 4, 7, 9, 10, 5, 6, 13, 13, 7, 9, 10, 11, 8, 7, 10, 10, 10, 9, 7, 10, 6, 9, 8, 6, 12, 8, 12, 9, 9, 12, 10, 4, 7, 8, 10, 9, 8, 6, 11, 7, 6, 6, 12, 8, 9, 8, 7, 8, 10, 7, 8, 7, 7, 7, 7, 10, 9, 7, 12, 8, 13, 9, 10, 9, 7, 13, 6, 7, 10, 8, 9, 10, 6, 7, 7, 6, 12, 11, 7, 9, 10, 8, 9, 8, 7, 7, 7, 9, 9, 8, 8, 5, 8, 6, 11, 7, 5, 8, 6, 6, 8, 6, 9, 14, 10, 12, 9, 10, 7, 6, 6, 8, 7, 10, 6, 7, 6, 8, 8, 8, 11, 10, 13, 7, 6, 7, 8, 4, 7, 7, 6, 8, 13, 8, 6, 6, 4, 7, 10, 7, 5, 6, 8, 6, 11, 8, 7, 10, 7, 7, 8, 8, 6, 8, 8, 9, 7, 9, 9, 8, 9, 7, 9, 5, 8, 10, 11, 14, 9, 9, 6, 6, 9, 7, 10, 7, 8, 9, 11, 9, 8, 8, 9, 9, 14, 12, 6, 6, 10, 8, 7, 10, 5, 7, 9, 10, 7, 9, 7, 7, 7, 8, 9, 9, 7, 8, 6, 8, 7, 6, 7, 8, 7, 9, 6, 10, 7, 9, 11, 10, 8, 7, 6, 10, 7, 9, 14, 9, 7, 8, 6, 5, 5, 8, 7, 8, 7, 8, 11, 8, 9, 8, 7, 8, 6, 5, 7, 9, 10, 7, 7, 9, 8, 8, 7, 9, 7, 6, 11, 9, 10, 7, 5, 9, 10, 11, 7, 11, 8, 9, 12, 13, 9, 7, 9, 7, 6, 12, 9, 8, 8, 12, 7, 8, 14, 8, 9, 6, 6, 10, 9, 11, 9, 9, 11, 9, 9, 8, 10, 8, 8, 6, 8, 7, 8, 8, 6, 8, 7, 7, 6, 9, 7, 7, 14, 7, 7, 7, 8, 10, 8, 7, 7, 7, 7, 9, 6, 7, 8, 7, 6, 8, 4, 6, 5, 8, 8, 9, 8, 6, 4, 10, 5, 11, 8, 8, 7, 9, 8, 8, 13, 10, 8, 7, 9, 9, 6, 8, 8, 9, 8, 8, 7, 7, 5, 8, 8, 7, 10, 6, 7, 7, 6, 11, 8, 9, 8, 6, 8, 7, 7, 8, 9, 7, 15, 7, 10, 7, 8, 7, 11, 10, 12, 5, 9, 8, 10, 11, 10, 8, 8, 7, 8, 9, 11, 8, 7, 12, 9, 8, 8, 9, 8, 9, 11, 10, 8, 6, 9, 10, 8, 11, 10, 9, 8, 7, 14, 8, 13, 14, 9, 11, 9, 6, 7, 10, 6, 10, 8, 10, 7, 8, 9, 11, 7, 9, 8, 9, 8, 9, 9, 11, 6, 9, 9, 7, 9, 12, 11, 9, 12, 12, 9, 9, 12, 9, 9, 7, 8, 11, 11, 6, 6, 10, 11, 8, 8, 9, 5, 9, 11, 10, 10, 8, 11, 8, 8, 7, 9, 6, 7, 7, 8, 7, 5, 6, 6, 4, 6, 8, 8, 7, 7, 11, 9, 9, 13, 5, 7, 10, 7, 12, 12, 16, 9, 12, 9, 9, 11, 8, 8, 10, 8, 7, 8, 11, 9, 13, 7, 10, 10, 7, 9, 7, 7, 6, 8, 7, 7, 7, 8, 8, 9, 6, 6, 8, 7, 9, 9, 11, 8, 9, 8, 12, 11, 8, 9, 11, 7, 8, 7, 6, 7, 8, 11, 7, 7, 10, 8, 8, 9, 6, 8, 10, 10, 9, 7, 8, 10, 12, 8, 8, 9, 9, 12, 10, 7, 10, 7, 10, 7, 8, 7, 11, 13, 7, 9, 6, 7, 6, 6, 13, 9, 9, 10, 11, 9, 9, 9, 8, 9, 10, 7, 7, 9, 6, 9, 7, 6, 7, 8, 7, 9, 7, 6, 9, 8, 7, 9, 8, 9, 9, 12, 11, 10, 13, 12, 5, 7, 7, 8, 7, 9, 10, 9, 7, 7, 12, 9, 9, 7, 7, 10, 8, 11, 12, 8, 7, 8, 8, 7, 9, 12, 7, 10, 6, 9, 8, 6, 9, 8, 8, 8, 10, 9, 10, 7, 10, 7, 8, 9, 10, 10, 8, 9, 9, 8, 7, 7, 7, 6, 8, 10, 6, 10, 10, 10, 11, 10, 7, 7, 12, 10, 8, 8, 12, 8, 9, 10, 7, 7, 7, 8, 10, 6, 8, 8, 7, 7, 8, 6, 8, 11, 10, 11, 11, 8, 10, 7, 5, 8, 10, 7, 9, 11, 9, 8, 9, 5, 9, 9, 7, 7, 6, 11, 8, 7, 10, 7, 9, 8, 9, 13, 12, 7, 10, 8, 7, 13, 7, 9, 9, 7, 9, 8, 9, 9, 7, 10, 10, 7, 8, 7, 9, 12, 6, 8, 10, 13, 10, 8, 10, 9, 7, 8, 8, 8, 9, 12, 12, 6, 7, 7, 10, 10, 7, 7, 11, 9, 8, 9, 7, 8, 7, 6, 7, 7, 8, 8, 8, 9, 9, 9, 11, 9, 7, 10, 8, 8, 11, 10, 6, 6, 8, 10, 6, 9, 8, 8, 11, 7, 6, 5, 9, 8, 10, 5, 7, 11, 6, 10, 12, 8, 10, 8, 10, 6, 9, 9, 9, 6, 7, 12, 11, 5, 8, 8, 10, 8, 10, 9, 16, 11, 12, 11, 10, 14, 10, 7, 6, 10, 7, 8, 8, 6, 11, 7, 10, 9, 10, 7, 7, 8, 6, 9, 7, 8, 7, 6, 10, 9, 9, 8, 8, 9, 6, 6, 3, 8, 7, 11, 6, 10, 6, 10, 8, 8, 7, 8, 5, 8, 10, 8, 6, 5, 7, 8, 11, 8, 9, 9, 9, 9, 9, 7, 9, 10, 10, 7, 8, 9, 8, 7, 7, 10, 9, 8, 7, 7, 8, 7, 8, 7, 7, 12, 7, 8, 9, 11, 8, 10, 11, 10, 10, 11, 7, 11, 9, 10, 10, 7, 13, 10, 10, 9, 6, 10, 8, 8, 5, 8, 9, 8, 11, 10, 12, 8, 8, 6, 6, 8, 11, 8, 7, 9, 9, 5, 6, 7, 8, 9, 12, 9, 10, 7, 7, 10, 6, 7, 6, 6, 11, 10, 6, 9, 11, 7, 11, 11, 7, 8, 7, 11, 10, 11, 10, 7, 9, 7, 11, 8, 8, 11, 11, 5, 13, 12, 7, 6, 10, 12, 7, 6, 6, 7, 5, 8, 8, 10, 11, 9, 9, 8, 8, 8, 6, 7, 8, 10, 7, 7, 8, 8, 11, 7, 6, 6, 8, 5, 8, 7, 6, 11, 13, 12, 9, 9, 10, 11, 7, 8, 9, 7, 10, 7, 7, 11, 9, 4, 8, 7, 6, 10, 8, 8, 12, 8, 9, 9, 9, 10, 12, 6, 8, 9, 6, 5, 6, 7, 7, 7, 5, 7, 6, 6, 8, 9, 7, 10, 6, 9, 7, 12, 11, 7, 9, 11, 8, 6, 7, 7, 6, 6, 7, 10, 9, 10, 9, 8, 7, 7, 8, 10, 8, 8, 7, 6, 8, 6, 8, 9, 8, 6, 6, 7, 10, 6, 5, 16, 8, 10, 6, 9, 7, 6, 7, 7, 9, 8, 7, 7, 10, 8, 11, 8, 5, 8, 5, 7, 8, 11, 7, 8, 7, 9, 7, 7, 8, 15, 8, 7, 6, 11, 9, 9, 6, 10, 7, 6, 6, 10, 7, 8, 8, 7, 6, 11, 8, 7, 7, 7, 10, 9, 8, 7, 9, 9, 8, 11, 10, 8, 9, 7, 9, 9, 9, 9, 7, 6, 10, 9, 7, 10, 10, 10, 11, 6, 4, 7, 9, 10, 8, 10, 8, 8, 8, 7, 7, 9, 7, 10, 15, 8, 5, 8, 11, 7, 5, 8, 10, 13, 11, 7, 6, 9, 8, 11, 6, 12, 7, 10, 14, 7, 8, 9, 7, 7, 7, 8, 8, 6, 8, 10, 8, 11, 7, 8, 7, 10, 9, 9, 7, 7, 8, 11, 9, 9, 10, 8, 8, 10, 7, 8, 8, 12, 14, 7, 10, 9, 8, 11, 8, 9, 12, 10, 7, 8, 8, 9, 8, 10, 14, 14, 11, 13, 13, 11, 11, 7, 11, 11, 10, 8, 8, 8, 7, 10, 11, 11, 9, 6, 7, 9, 8, 7, 7, 8, 9, 8, 10, 13, 6, 10, 8, 9, 10, 8, 8, 11, 7, 7, 5, 10, 7, 9, 7, 7, 8, 10, 8, 12, 8, 7, 6, 8, 8, 9, 7, 5, 8, 12, 9, 10, 7, 8, 14, 11, 10, 9, 8, 10, 8, 9, 11, 9, 8, 10, 10, 11, 9, 9, 7, 10, 13, 7, 7, 8, 7, 8, 6, 8, 8, 8, 11, 13, 10, 15, 12, 13, 10, 10, 12, 13, 8, 9, 12, 9, 14, 11, 10, 12, 11, 8, 10, 9, 10, 11, 9, 13, 9, 6, 8, 9, 10, 9, 6, 13, 9, 8, 11, 10, 9, 11, 9, 9, 10, 10, 10, 8, 8, 8, 9, 6, 8, 8, 8, 7, 7, 8, 12, 11, 7, 9, 13, 6, 9, 12, 11, 9, 9, 8, 7, 10, 12, 12, 9, 8, 9, 4, 14, 8, 10, 9, 9, 7, 7, 8, 9, 9, 6, 6, 6, 9, 7, 9, 5, 9, 10, 7, 14, 10, 10, 7, 7, 6, 9, 8, 7, 9, 11, 8, 8, 10, 10, 9, 8, 8, 11, 6, 9, 7, 4, 11, 6, 7, 9, 5, 8, 7, 9, 8, 9, 9, 9, 8, 6, 9, 6, 9, 9, 10, 11, 10, 11, 10, 7, 11, 9, 11, 8, 8, 6, 10, 9, 9, 3, 7, 7, 7, 9, 12, 10, 8, 10, 8, 12, 9, 8, 7, 6, 8, 7, 8, 11, 12, 13, 9, 8, 8, 11, 7, 5, 7, 7, 10, 7, 10, 6, 8, 9, 8, 14, 9, 10, 9, 8, 10, 10, 7, 8, 8, 9, 10, 10, 12, 10, 11, 7, 8, 7, 6, 6, 7, 10, 11, 7, 9, 8, 6, 6, 6, 8, 8, 9, 9, 8, 8, 5, 7, 10, 8, 9, 8, 6, 7, 8, 9, 9, 8, 14, 13, 8, 10, 8, 11, 10, 9, 6, 7, 9, 9, 9, 8, 6, 7, 7, 9, 10, 9, 11, 8, 5, 12, 16, 7, 10, 11, 9, 8, 12, 9, 9, 10, 8, 13, 9, 9, 11, 9, 9, 8, 8, 17, 8, 8, 8, 10, 9, 8, 10, 9, 8, 6, 9, 8, 6, 9, 8, 7, 5, 7, 6, 6, 9, 12, 10, 8, 7, 9, 8, 8, 8, 8, 9, 8, 6, 7, 6, 7, 9, 7, 9, 6, 6, 8, 7, 12, 7, 8, 8, 9, 10, 12, 9, 8, 8, 10, 9, 10, 11, 10, 8, 7, 11, 8, 9, 10, 8, 9, 12, 6, 8, 9, 5, 9, 11, 6, 12, 11, 9, 8, 8, 8, 8, 14, 12, 12, 10, 10, 11, 7, 9, 11, 8, 7, 8, 8, 9, 8, 8, 7, 8, 9, 10, 12, 8, 7, 7, 7, 9, 12, 7, 8, 7, 9, 9, 11, 11, 9, 10, 12, 11, 9, 9, 9, 8, 12, 7, 6, 6, 9, 13, 10, 11, 10, 13, 9, 6, 8, 10, 9, 10, 18, 9, 8, 10, 10, 6, 10, 8, 9, 10, 8, 10, 9, 9, 9, 7, 9, 10, 9, 13, 9, 12, 11, 11, 10, 11, 8, 10, 8, 7, 7, 8, 9, 6, 6, 6, 8, 8, 9, 6, 7, 7, 8, 10, 9, 11, 9, 9, 9, 7, 9, 11, 10, 7, 12, 9, 8, 8, 8, 9, 8, 8, 7, 7, 8, 8, 7, 9, 5, 7, 10, 10, 8, 7, 6, 9, 10, 12, 8, 7, 9, 10, 10, 8, 8, 10, 8, 4, 7, 8, 7, 9, 7, 7, 10, 11, 7, 14, 8, 9, 8, 8, 8, 10, 9, 8, 10, 8, 8, 11, 8, 6, 8, 9, 9, 11, 7, 6, 9, 9, 6, 10, 7, 7, 6, 6, 8, 7, 13, 9, 9, 6, 8, 9, 8, 8, 8, 7, 6, 9, 7, 8, 9, 8, 13, 6, 9, 10, 9, 7, 12, 7, 10, 14, 10, 15, 11, 13, 8, 8, 6, 8, 8, 6, 5, 7, 8, 7, 8, 8, 6, 3, 10, 5, 9, 8, 7, 8, 7, 9, 7, 7, 8, 10, 10, 7, 9, 9, 9, 10, 9, 5, 6, 9, 9, 7, 12, 7, 9, 7, 6, 6, 5, 9, 9, 9, 13, 9, 7, 12, 7, 8, 9, 8, 8, 10, 7, 7, 5, 4, 9, 7, 11, 8, 10, 12, 12, 7, 6, 6, 7, 10, 11, 8, 10, 6, 9, 8, 7, 8, 9, 10, 10, 10, 10, 14, 13, 12, 11, 7, 10, 9, 8, 7, 11, 9, 10, 9, 10, 8, 10, 8, 9, 8, 11, 8, 10, 7, 9, 6, 9, 9, 9, 12, 12, 8, 10, 12, 10, 11, 9, 7, 9, 9, 6, 9, 6, 10, 11, 12, 11, 10, 11, 10, 9, 9, 8, 6, 11, 9, 6, 8, 7, 9, 10, 8, 7, 12, 10, 8, 8, 10, 5, 9, 7, 9, 9, 7, 8, 8, 8, 10, 10, 9, 10, 6, 10, 11, 12, 8, 7, 10, 11, 7, 9, 7, 10, 12, 10, 8, 11, 5, 8, 10, 8, 7, 8, 7, 6, 12, 7, 10, 6, 8, 6, 7, 7, 8, 9, 7, 9, 10, 12, 13, 11, 11, 11, 9, 7, 6, 9, 7, 7, 13, 13, 8, 8, 7, 9, 14, 6, 7, 7, 7, 9, 9, 7, 7, 7, 7, 7, 7, 8, 7, 7, 11, 7, 7, 7, 8, 10, 9, 8, 7, 8, 10, 11, 11, 9, 6, 11, 10, 9, 10, 10, 9, 11, 7, 7, 10, 7, 12, 12, 7, 8, 8, 6, 5, 5, 10, 9, 9, 7, 5, 7, 6, 10, 11, 9, 10, 5, 15, 9, 9, 9, 8, 9, 12, 10, 12, 8, 8, 10, 7, 8, 7, 7, 7, 9, 8, 6, 7, 10, 7, 12, 9, 8, 6, 7, 7, 7, 18, 9, 9, 9, 10, 7, 11, 10, 13, 9, 10, 9, 10, 12, 12, 10, 6, 9, 8, 11, 9, 11, 8, 8, 7, 6, 5, 8, 9, 5, 7, 10, 8, 8, 6, 6, 6, 8, 7, 8, 6, 7, 7, 6, 5, 8, 8, 5, 7, 7, 7, 7, 8, 12, 8, 5, 9, 10, 8, 11, 6, 7, 9, 8, 8, 6, 10, 8, 7, 8, 7, 7, 7, 4, 6, 12, 10, 8, 9, 6, 9, 7, 10, 9, 9, 7, 11, 11, 7, 8, 9, 13, 8, 8, 9, 9, 8, 7, 7, 11, 5, 7, 5, 10, 6, 11, 5, 12, 6, 6, 9, 10, 8, 9, 6, 11, 11, 7, 8, 7, 11, 11, 8, 7, 8, 5, 7, 8, 7, 8, 13, 11, 8, 7, 10, 10, 8, 11, 7, 8, 11, 10, 9, 11, 9, 6, 9, 8, 6, 11, 8, 9, 9, 7, 11, 10, 10, 9, 9, 9, 5, 8, 11, 10, 7, 9, 9, 5, 9, 8, 8, 11, 7, 8, 5, 8, 10, 6, 9, 8, 6, 11, 7, 10, 9, 6, 9, 9, 5, 9, 12, 8, 12, 9, 12, 8, 9, 8, 8, 10, 7, 6, 8, 14, 6, 6, 9, 9, 10, 12, 7, 10, 7, 9, 9, 8, 9, 7, 8, 7, 7, 7, 11, 7, 5, 10, 7, 10, 10, 9, 9, 5, 9, 10, 8, 8, 9, 7, 8, 6, 5, 5, 7, 6, 8, 6, 7, 9, 8, 5, 6, 5, 10, 10, 15, 9, 9, 9, 10, 10, 11, 7, 11, 6, 7, 9, 7, 7, 14, 7, 8, 9, 5, 7, 11, 7, 11, 11, 8, 10, 12, 10, 12, 10, 10, 10, 12, 13, 6, 12, 8, 10, 9, 10, 9, 10, 12, 11, 8, 10, 10, 11, 11, 10, 12, 10, 9, 10, 5, 7, 8, 13, 7, 7, 11, 9, 6, 7, 9, 9, 10, 8, 9, 9, 9, 7, 7, 7, 8, 8, 10, 6, 10, 7, 8, 7, 7, 13, 11, 10, 8, 8, 10, 9, 10, 8, 8, 8, 8, 9, 11, 14, 9, 6, 12, 6, 8, 9, 8, 4, 11, 11, 9, 10, 7, 11, 10, 7, 12, 8, 11, 10, 8, 7, 12, 9, 9, 12, 6, 13, 7, 12, 10, 9, 9, 11, 10, 9, 14, 11, 9, 10, 18, 12, 8, 8, 9, 9, 7, 9, 11, 13, 9, 10, 10, 12, 13, 12, 10, 8, 13, 9, 9, 9, 9, 9, 11, 9, 10, 8, 8, 9, 6, 10, 12, 11, 12, 9, 8, 8, 9, 10, 11, 8, 10, 10, 12, 8, 9, 11, 12, 9, 13, 9, 12, 8, 8, 11, 10, 12, 8, 8, 10, 4, 12, 10, 5, 8, 9, 8, 9, 7, 5, 9, 11, 13, 9, 10, 11, 10, 9, 10, 10, 15, 8, 10, 8, 10, 8, 12, 10, 8, 5, 14, 10, 8, 8, 8, 8, 10, 11, 7, 10, 7, 9, 10, 11, 8, 10, 8, 11, 11, 7, 7, 9, 12, 7, 8, 9, 11, 9, 10, 7, 9, 10, 9, 10, 10, 10, 7, 9, 9, 10, 9, 12, 11, 10, 11, 13, 8, 8, 7, 8, 7, 9, 8, 7, 6, 10, 11, 11, 10, 11, 8, 9, 10, 9, 10, 11, 11, 12, 7, 8, 5, 7, 9, 10, 9, 8, 9, 10, 10, 10, 8, 12, 7, 11, 11, 10, 7, 12, 12, 9, 11, 9, 6, 10, 8, 6, 8, 8, 8, 9, 14, 7, 10, 8, 7, 6, 9, 13, 11, 9, 8, 8, 6, 7, 8, 11, 9, 9, 9, 9, 9, 12, 9, 8, 6, 9, 8, 12, 9, 6, 9, 10, 9, 10, 9, 7, 9, 8, 10, 8, 10, 10, 12, 13, 18, 7, 7, 8, 9, 10, 9, 11, 7, 10, 6, 14, 11, 6, 10, 6, 6, 8, 8, 11, 7, 9, 9, 9, 6, 11, 8, 7, 16, 7, 6, 8, 10, 10, 9, 12, 7, 9, 6, 8, 9, 10, 10, 10, 7, 9, 7, 8, 10, 12, 9, 6, 8, 9, 9, 8, 10, 7, 9, 9, 9, 10, 14, 6, 7, 9, 6, 8, 7, 7, 7, 8, 9, 8, 8, 7, 7, 7, 10, 6, 8, 8, 8, 10, 8, 10, 8, 8, 8, 11, 11, 7, 9, 8, 8, 9, 8, 6, 8, 10, 8, 8, 11, 9, 14, 9, 6, 10, 12, 9, 8, 12, 8, 8, 10, 9, 8, 7, 7, 11, 7, 9, 9, 7, 8, 11, 6, 9, 8, 8, 9, 7, 8, 13, 9, 6, 8, 11, 10, 7, 8, 10, 7, 6, 8, 8, 7, 10, 11, 12, 12, 10, 9, 9, 10, 7, 9, 10, 7, 7, 9, 7, 7, 12, 10, 9, 9, 9, 9, 14, 11, 11, 11, 11, 11, 11, 11, 7, 10, 9, 8, 8, 8, 11, 10, 7, 7, 9, 9, 8, 12, 8, 9, 9, 8, 6, 9, 9, 8, 11, 9, 7, 10, 10, 11, 9, 16, 7, 7, 9, 8, 10, 11, 9, 10, 9, 8, 10, 8, 6, 8, 9, 11, 9, 10, 12, 8, 9, 10, 8, 10, 8, 12, 9, 7, 8, 9, 9, 7, 5, 10, 9, 11, 10, 11, 11, 8, 12, 9, 8, 15, 5, 10, 9, 12, 11, 10, 7, 9, 10, 8, 9, 6, 10, 9, 10, 9, 9, 10, 9, 8, 12, 11, 13, 5, 6, 10, 6, 5, 6, 8, 6, 10, 10, 10, 9, 11, 8, 11, 10, 9, 9, 10, 7, 9, 6, 8, 11, 9, 8, 11, 9, 9, 6, 6, 8, 9, 10, 8, 9, 10, 10, 12, 7, 11, 12, 11, 10, 10, 10, 10, 10, 11, 10, 8, 5, 8, 9, 6, 9, 6, 9, 8, 10, 9, 7, 6, 11, 10, 11, 14, 12, 11, 8, 8, 8, 11, 9, 8, 6, 10, 8, 7, 7, 8, 9, 11, 8, 9, 7, 10, 9, 9, 8, 10, 10, 10, 8, 10, 10, 13, 11, 7, 9, 12, 11, 9, 7, 9, 7, 10, 10, 9, 10, 11, 8, 8, 10, 13, 14, 13, 9, 15, 10, 10, 6, 10, 6, 7, 12, 10, 8, 10, 10, 9, 6, 6, 7, 6, 9, 11, 12, 7, 10, 12, 11, 7, 9, 8, 7, 10, 5, 10, 5, 7, 10, 11, 9, 11, 8, 13, 6, 9, 6, 4, 6, 7, 6, 6, 10, 10, 10, 9, 8, 9, 7, 8, 9, 11, 13, 6, 8, 11, 7, 7, 9, 13, 10, 8, 6, 6, 9, 13, 12, 12, 4, 11, 7, 10, 9, 9, 15, 11, 8, 14, 9, 8, 9, 12, 8, 8, 8, 8, 8, 9, 11, 8, 7, 8, 13, 10, 10, 11, 8, 10, 9, 8, 7, 7, 10, 11, 12, 12, 10, 14, 10, 7, 11, 10, 12, 10, 10, 10, 10, 8, 8, 9, 10, 9, 13, 9, 8, 10, 6, 12, 12, 5, 9, 8, 8, 6, 9, 6, 8, 10, 14, 10, 12, 7, 6, 10, 7, 10, 6, 6, 5, 7, 11, 9, 9, 7, 9, 8, 10, 6, 13, 8, 9, 10, 11, 8, 7, 7, 9, 10, 13, 7, 9, 12, 11, 7, 8, 12, 9, 11, 7, 12, 13, 8, 10, 8, 7, 8, 6, 9, 8, 10, 10, 11, 7, 10, 5, 8, 8, 7, 9, 12, 7, 10, 7, 11, 12, 10, 16, 12, 8, 9, 10, 9, 8, 11, 9, 10, 10, 10, 9, 12, 10, 5, 8, 9, 10, 6, 4, 7, 7, 8, 9, 10, 9, 9, 10, 7, 11, 9, 8, 4, 6, 14, 5, 12, 9, 10, 8, 7, 8, 9, 8, 13, 11, 12, 8, 7, 7, 10, 6, 6, 9, 9, 9, 7, 11, 7, 8, 10, 9, 6, 8, 9, 8, 9, 11, 10, 9, 10, 9, 9, 7, 8, 6, 8, 7, 8, 5, 8, 8, 11, 12, 9, 9, 6, 9, 6, 10, 11, 7, 11, 9, 8, 8, 7, 10, 10, 9, 11, 8, 14, 7, 8, 7, 6, 5, 12, 10, 6, 8, 8, 10, 7, 9, 11, 8, 9, 9, 6, 9, 9, 9, 11, 6, 7, 8, 6, 8, 6, 7, 6, 6, 7, 6, 8, 8, 8, 6, 8, 8, 9, 8, 8, 8, 7, 7, 8, 5, 7, 6, 9, 9, 12, 10, 11, 11, 10, 8, 6, 10, 10, 9, 12, 8, 8, 8, 8, 10, 7, 10, 6, 9, 7, 9, 9, 11, 9, 13, 7, 7, 10, 6, 8, 7, 6, 9, 13, 7, 8, 9, 9, 10, 8, 8, 10, 10, 10, 8, 15, 8, 10, 7, 11, 5, 6, 8, 9, 9, 9, 12, 7, 13, 8, 6, 7, 11, 7, 8, 9, 5, 9, 8, 8, 6, 8, 9, 10, 8, 9, 7, 6, 11, 11, 11, 6, 8, 4, 11, 11, 7, 8, 8, 9, 9, 7, 9, 9, 6, 6, 10, 10, 7, 5, 6, 7, 10, 8, 8, 7, 8, 9, 11, 11, 6, 8, 10, 7, 8, 9, 9, 10, 7, 8, 6, 9, 5, 9, 10, 7, 9, 6, 9, 10, 11, 6, 8, 8, 14, 9, 6, 8, 12, 9, 10, 9, 6, 12, 10, 11, 7, 7, 10, 10, 9, 5, 7, 8, 10, 9, 8, 9, 8, 8, 10, 9, 8, 6, 10, 8, 7, 15, 10, 6, 5, 5, 11, 7, 10, 8, 9, 9, 8, 8, 9, 7, 8, 7, 5, 6, 11, 11, 9, 6, 9, 9, 9, 6, 5, 8, 8, 8, 9, 7, 9, 8, 5, 10, 7, 7, 9, 11, 7, 10, 5, 7, 6, 7, 6, 10, 8, 9, 10, 8, 8, 9, 8, 9, 8, 8, 7, 8, 6, 7, 5, 7, 9, 7, 6, 8, 13, 11, 12, 11, 9, 8, 9, 10, 11, 9, 14, 7, 8, 6, 12, 7, 14, 12, 7, 9, 8, 7, 8, 9, 9, 9, 7, 8, 11, 9, 11, 7, 8, 8, 8, 11, 11, 12, 10, 7, 9, 9, 10, 6, 8, 13, 8, 5, 7, 11, 9, 8, 8, 7, 9, 8, 13, 7, 7, 5, 8, 8, 13, 7, 7, 7, 8, 8, 11, 6, 8, 10, 11, 10, 9, 10, 9, 7, 12, 12, 10, 9, 8, 7, 7, 8, 8, 8, 9, 10, 5, 8, 8, 9, 11, 12, 9, 10, 8, 12, 14, 12, 10, 12, 8, 10, 8, 8, 18, 16, 7, 7, 9, 8, 13, 9, 11, 11, 7, 10, 8, 12, 9, 10, 10, 7, 8, 8, 10, 11, 11, 8, 6, 9, 9, 9, 10, 12, 10, 7, 9, 10, 14, 12, 10, 8, 9, 9, 13, 10, 11, 10, 10, 6, 9, 10, 11, 10, 15, 12, 7, 7, 9, 9, 11, 9, 11, 10, 11, 8, 11, 11, 8, 12, 10, 9, 9, 10, 8, 8, 8, 9, 10, 10, 7, 9, 9, 9, 9, 11, 12, 11, 9, 9, 6, 12, 9, 8, 9, 9, 7, 9, 9, 9, 9, 9, 9, 7, 7, 9, 11, 9, 7, 12, 9, 10, 7, 9, 11, 9, 17, 12, 12, 10, 5, 11, 11, 11, 5, 7, 9, 8, 9, 11, 13, 12, 11, 8, 7, 10, 7, 9, 9, 9, 9, 8, 11, 8, 9, 7, 7, 10, 9, 12, 8, 6, 9, 7, 13, 11, 10, 12, 8, 7, 7, 11, 5, 9, 13, 9, 6, 7, 6, 12, 13, 10, 9, 13, 9, 8, 11, 7, 7, 8, 10, 11, 10, 11, 9, 10, 6, 6, 8, 9, 7, 7, 8, 12, 12, 6, 11, 8, 10, 10, 8, 7, 13, 7, 12, 7, 7, 9, 7, 7, 9, 11, 8, 12, 7, 9, 13, 9, 7, 8, 10, 7, 9, 10, 9, 8, 9, 9, 9, 8, 6, 9, 10, 9, 9, 6, 9, 8, 8, 14, 7, 7, 9, 7, 12, 10, 10, 8, 10, 12, 8, 8, 7, 11, 9, 10, 5, 12, 7, 7, 7, 12, 16, 6, 10, 10, 10, 11, 8, 11, 8, 10, 11, 12, 6, 10, 8, 8, 10, 6, 9, 12, 8, 8, 11, 8, 11, 10, 8, 8, 10, 10, 10, 8, 9, 7, 8, 5, 6, 8, 6, 7, 9, 8, 7, 7, 7, 8, 7, 9, 8, 7, 9, 8, 7, 10, 10, 14, 9, 6, 10, 8, 8, 7, 6, 13, 9, 6, 10, 7, 7, 10, 8, 9, 11, 6, 11, 14, 8, 10, 8, 9, 9, 11, 11, 8, 10, 7, 11, 9, 9, 9, 11, 6, 7, 12, 8, 9, 8, 9, 7, 9, 8, 6, 8, 5, 8, 9, 11, 11, 9, 12, 11, 9, 7, 12, 8, 8, 9, 7, 7, 7, 7, 7, 10, 6, 9, 7, 11, 9, 9, 10, 12, 15, 15, 8, 10, 9, 11, 12, 10, 10, 9, 10, 9, 10, 9, 8, 8, 8, 12, 7, 7, 12, 11, 9, 11, 11, 9, 9, 10, 14, 12, 11, 7, 10, 9, 9, 9, 10, 11, 9, 15, 7, 12, 9, 8, 8, 12, 7, 10, 9, 13, 7, 8, 9, 9, 9, 8, 11, 9, 11, 7, 7, 9, 9, 10, 9, 10, 10, 10, 10, 11, 11, 8, 9, 10, 12, 7, 9, 10, 14, 9, 7, 12, 9, 8, 13, 8, 9, 9, 8, 8, 9, 10, 12, 7, 10, 8, 8, 9, 8, 12, 8, 9, 11, 12, 9, 11, 11, 8, 11, 11, 10, 7, 10, 10, 7, 9, 8, 6, 10, 7, 7, 9, 9, 12, 8, 10, 7, 6, 6, 9, 8, 12, 9, 9, 8, 10, 8, 10, 9, 10, 9, 8, 9, 10, 11, 7, 9, 7, 11, 11, 9, 13, 12, 9, 13, 14, 14, 9, 8, 8, 6, 8, 8, 7, 9, 6, 6, 10, 7, 9, 8, 14, 11, 8, 10, 9, 9, 8, 9, 7, 9, 8, 10, 10, 8, 8, 15, 10, 7, 9, 8, 4, 10, 11, 11, 10, 11, 10, 8, 9, 9, 7, 10, 7, 7, 8, 16, 8, 11, 14, 13, 11, 10, 10, 13, 8, 14, 10, 11, 11, 11, 13, 10, 8, 13, 15, 13, 10, 8, 10, 8, 8, 12, 6, 10, 9, 6, 11, 11, 11, 7, 10, 11, 13, 9, 10, 10, 11, 8, 8, 8, 8, 8, 9, 7, 8, 8, 9, 11, 7, 11, 11, 10, 10, 6, 7, 7, 5, 6, 8, 6, 8, 8, 8, 7, 7, 6, 10, 8, 7, 9, 9, 8, 7, 12, 10, 6, 10, 8, 9, 8, 6, 10, 7, 9, 8, 6, 6, 10, 12, 6, 7, 6, 8, 10, 10, 11, 8, 12, 9, 8, 8, 6, 10, 6, 7, 6, 7, 11, 13, 8, 11, 8, 9, 9, 8, 9, 7, 6, 9, 9, 7, 10, 10, 8, 12, 11, 9, 7, 8, 13, 6, 7, 12, 7, 9, 10, 6, 11, 9, 9, 9, 13, 7, 8, 9, 8, 10, 11, 8, 7, 6, 7, 7, 7, 11, 9, 11, 15, 9, 11, 12, 8, 9, 7, 7, 10, 10, 7, 9, 8, 7, 7, 12, 5, 7, 7, 11, 8, 7, 9, 6, 11, 10, 6, 8, 7, 11, 10, 7, 8, 9, 10, 10, 11, 9, 10, 8, 7, 11, 13, 7, 10, 9, 9, 9, 6, 13, 8, 8, 5, 9, 11, 6, 9, 8, 6, 9, 6, 9, 5, 12, 11, 6, 12, 8, 8, 6, 6, 6, 9, 10, 11, 7, 8, 9, 11, 10, 10, 13, 10, 10, 7, 6, 8, 5, 7, 9, 10, 7, 9, 8, 6, 7, 8, 12, 7, 8, 7, 6, 8, 9, 7, 6, 7, 5, 6, 9, 8, 7, 14, 11, 8, 9, 9, 7, 8, 8, 7, 9, 9, 7, 8, 7, 10, 10, 10, 7, 10, 8, 7, 9, 8, 9, 9, 10, 7, 9, 11, 10, 6, 7, 7, 7, 7, 8, 8, 8, 6, 6, 9, 13, 6, 9, 8, 9, 7, 8, 11, 9, 8, 9, 8, 8, 9, 8, 9, 10, 12, 13, 15, 12, 12, 11, 12, 7, 5, 10, 9, 10, 9, 9, 9, 10, 9, 8, 8, 7, 7, 5, 7, 10, 8, 11, 9, 7, 8, 10, 9, 10, 9, 9, 10, 10, 7, 9, 10, 8, 11, 9, 11, 10, 7, 6, 11, 7, 9, 8, 10, 7, 10, 10, 11, 10, 6, 6, 12, 9, 10, 9, 8, 9, 8, 8, 8, 7, 11, 9, 11, 8, 10, 10, 7, 9, 14, 9, 8, 10, 8, 12, 8, 10, 10, 11, 8, 7, 8, 12, 9, 10, 18, 11, 9, 9, 8, 8, 8, 10, 11, 8, 9, 7, 7, 8, 9, 12, 9, 7, 9, 8, 7, 12, 8, 12, 11, 13, 8, 9, 7, 10, 8, 9, 10, 9, 6, 8, 11, 9, 10, 11, 8, 11, 6, 8, 8, 8, 8, 8, 8, 8, 9, 5, 9, 9, 9, 6, 8, 7, 7, 7, 11, 12, 15, 7, 8, 7, 9, 8, 9, 7, 11, 8, 7, 10, 7, 12, 8, 10, 12, 10, 7, 9, 9, 9, 9, 11, 11, 11, 12, 13, 8, 10, 9, 10, 7, 11, 9, 8, 7, 8, 12, 7, 11, 6, 12, 11, 11, 7, 8, 7, 11, 12, 8, 15, 8, 10, 8, 9, 9, 10, 12, 11, 8, 6, 7, 6, 9, 9, 12, 9, 8, 6, 8, 10, 9, 9, 8, 11, 10, 12, 12, 11, 10, 11, 9, 12, 10, 10, 9, 9, 11, 9, 14, 15, 15, 8, 15, 11, 12, 11, 12, 12, 9, 8, 6, 7, 10, 12, 8, 10, 10, 8, 7, 10, 8, 10, 11, 9, 7, 13, 13, 11, 13, 10, 12, 10, 9, 14, 12, 14, 9, 18, 10, 10, 9, 11, 8, 11, 8, 7, 9, 13, 10, 9, 9, 9, 10, 11, 7, 14, 10, 11, 11, 8, 7, 11, 10, 8, 9, 9, 11, 11, 12, 11, 9, 8, 7, 6, 6, 8, 8, 10, 8, 10, 13, 11, 10, 11, 8, 11, 9, 12, 14, 14, 8, 8, 9, 10, 7, 5, 12, 7, 8, 7, 7, 13, 11, 8, 9, 12, 11, 8, 11, 11, 9, 11, 10, 12, 9, 8, 12, 10, 11, 13, 8, 11, 7, 7, 8, 10, 11, 9, 9, 11, 9, 12, 7, 8, 11, 11, 13, 15, 10, 8, 8, 10, 10, 9, 10, 10, 7, 8, 7, 10, 7, 11, 6, 8, 5, 11, 7, 7, 10, 11, 12, 9, 12, 9, 9, 10, 9, 6, 9, 11, 11, 10, 7, 9, 9, 12, 8, 12, 8, 9, 9, 8, 7, 17, 9, 7, 13, 10, 12, 8, 7, 13, 7, 6, 12, 12, 12, 11, 6, 12, 11, 13, 8, 9, 12, 13, 8, 9, 8, 8, 9, 7, 7, 10, 9, 9, 8, 11, 9, 11, 11, 7, 7, 6, 12, 7, 11, 10, 8, 7, 11, 7, 7, 11, 8, 9, 11, 8, 13, 9, 9, 8, 10, 11, 8, 7, 9, 10, 9, 11, 7, 8, 6, 7, 7, 9, 8, 9, 11, 11, 10, 7, 13, 11, 9, 12, 12, 12, 9, 11, 16, 10, 8, 11, 7, 9, 6, 8, 8, 8, 10, 7, 10, 9, 8, 6, 6, 12, 6, 9, 14, 10, 10, 10, 8, 8, 9, 10, 8, 9, 8, 6, 12, 8, 11, 8, 8, 9, 7, 9, 13, 8, 10, 8, 8, 11, 8, 8, 10, 7, 8, 8, 11, 8, 5, 12, 9, 10, 6, 11, 8, 10, 12, 6, 7, 9, 12, 10, 10, 9, 11, 10, 10, 8, 10, 10, 11, 8, 8, 9, 8, 7, 10, 8, 9, 8, 9, 9, 9, 10, 8, 8, 10, 15, 10, 14, 14, 12, 7, 6, 8, 10, 10, 11, 5, 9, 8, 9, 7, 9, 9, 9, 8, 8, 10, 8, 10, 8, 10, 12, 10, 9, 14, 14, 10, 10, 9, 10, 10, 10, 8, 10, 9, 10, 6, 7, 9, 11, 6, 9, 8, 10, 9, 8, 8, 12, 9, 9, 11, 11, 9, 13, 9, 8, 7, 12, 13, 11, 9, 8, 11, 9, 10, 12, 11, 11, 8, 11, 6, 10, 17, 10, 9, 8, 9, 10, 10, 11, 9, 9, 10, 9, 9, 7, 8, 8, 6, 9, 10, 7, 6, 12, 13, 8, 8, 8, 9, 9, 9, 8, 11, 10, 6, 9, 7, 10, 7, 10, 10, 10, 10, 10, 12, 13, 13, 9, 10, 13, 9, 6, 10, 12, 9, 8, 7, 10, 7, 9, 9, 17, 10, 8, 8, 11, 10, 9, 9, 7, 7, 6, 11, 12, 14, 13, 10, 11, 9, 7, 10, 7, 8, 8, 8, 11, 8, 7, 7, 9, 11, 6, 9, 10, 13, 12, 8, 11, 9, 8, 9, 9, 10, 8, 7, 13, 11, 13, 12, 12, 9, 11, 10, 9, 9, 12, 9, 9, 8, 8, 10, 7, 8, 7, 7, 9, 12, 7, 7, 8, 7, 8, 11, 7, 8, 7, 12, 8, 11, 8, 10, 9, 7, 7, 14, 10, 6, 9, 9, 13, 7, 8, 9, 7, 9, 7, 8, 8, 9, 7, 10, 9, 8, 12, 10, 8, 14, 10, 11, 9, 11, 11, 9, 9, 10, 9, 10, 9, 7, 11, 7, 8, 8, 6, 8, 13, 10, 12, 8, 12, 16, 7, 9, 10, 7, 10, 12, 11, 8, 9, 6, 9, 8, 12, 11, 12, 12, 9, 9, 8, 11, 8, 10, 10, 10, 6, 10, 10, 6, 7, 7, 9, 8, 9, 8, 6, 9, 11, 10, 10, 8, 10, 11, 8, 11, 4, 10, 8, 9, 9, 10, 9, 7, 7, 9, 10, 9, 8, 10, 12, 10, 9, 10, 10, 9, 13, 13, 9, 13, 7, 11, 7, 9, 7, 9, 11, 10, 10, 13, 10, 11, 15, 12, 6, 11, 14, 12, 10, 8, 10, 13, 10, 10, 8, 7, 11, 9, 7, 7, 7, 7, 6, 9, 10, 11, 9, 8, 11, 11, 10, 11, 14, 10, 7, 8, 8, 6, 15, 9, 11, 7, 9, 10, 7, 8, 7, 11, 8, 9, 8, 7, 6, 7, 6, 12, 9, 10, 7, 8, 8, 8, 7, 14, 9, 6, 12, 10, 7, 9, 10, 12, 8, 4, 9, 9, 9, 7, 7, 6, 7, 6, 11, 12, 11, 9, 9, 12, 12, 8, 12, 11, 9, 9, 9, 9, 10, 7, 9, 12, 10, 10, 9, 10, 12, 9, 6, 6, 8, 7, 10, 7, 7, 11, 7, 7, 9, 8, 9, 12, 8, 12, 7, 8, 7, 12, 8, 13, 9, 12, 12, 7, 8, 8, 9, 10, 8, 9, 8, 12, 7, 15, 9, 7, 12, 13, 10, 10, 11, 11, 9, 8, 8, 8, 10, 7, 11, 8, 6, 8, 13, 10, 7, 7, 7, 7, 9, 9, 9, 8, 11, 6, 8, 7, 5, 12, 10, 10, 8, 9, 8, 7, 10, 9, 9, 9, 7, 8, 7, 9, 10, 7, 9, 10, 10, 11, 7, 8, 12, 6, 6, 10, 8, 13, 8, 9, 10, 10, 5, 11, 8, 6, 8, 11, 9, 13, 9, 9, 7, 9, 7, 6, 9, 7, 7, 7, 8, 8, 10, 9, 7, 8, 11, 12, 8, 10, 11, 10, 6, 10, 9, 9, 9, 10, 10, 8, 13, 10, 10, 6, 9, 8, 13, 10, 10, 8, 9, 11, 10, 13, 13, 7, 10, 9, 16, 6, 10, 7, 9, 10, 5, 9, 8, 8, 12, 9, 10, 8, 9, 10, 7, 10, 12, 11, 8, 8, 8, 7, 13, 10, 10, 11, 11, 7, 12, 9, 9, 8, 9, 9, 6, 9, 10, 11, 8, 7, 8, 11, 9, 13, 10, 11, 8, 9, 9, 11, 7, 10, 13, 11, 8, 9, 10, 13, 8, 11, 8, 11, 8, 8, 10, 9, 9, 10, 10, 7, 8, 13, 11, 12, 10, 13, 9, 11, 8, 14, 7, 14, 9, 10, 9, 8, 7, 9, 9, 9, 9, 8, 7, 9, 8, 9, 11, 7, 8, 8, 6, 12, 9, 7, 8, 9, 8, 10, 7, 8, 9, 7, 6, 7, 10, 8, 9, 10, 7, 10, 7, 9, 8, 9, 8, 8, 8, 12, 15, 10, 8, 8, 8, 8, 13, 7, 6, 14, 8, 10, 10, 9, 7, 14, 14, 11, 9, 8, 8, 11, 11, 12, 11, 7, 9, 10, 12, 12, 13, 6, 7, 7, 8, 7, 10, 9, 9, 11, 8, 8, 15, 9, 10, 11, 11, 7, 7, 6, 9, 9, 12, 8, 10, 10, 14, 9, 7, 10, 11, 7, 9, 8, 10, 10, 10, 9, 8, 9, 10, 10, 9, 10, 6, 9, 6, 15, 10, 7, 8, 11, 11, 11, 17, 15, 16, 15, 8, 11, 8, 8, 8, 8, 8, 15, 9, 9, 9, 8, 7, 11, 10, 9, 12, 17, 8, 10, 9, 7, 9, 12, 6, 9, 12, 14, 11, 12, 8, 7, 8, 14, 12, 10, 10, 13, 11, 12, 11, 10, 10, 11, 8, 10, 13, 7, 9, 9, 8, 8, 10, 12, 13, 11, 15, 12, 13, 10, 12, 9, 10, 10, 13, 10, 12, 9, 10, 8, 12, 9, 9, 9, 8, 8, 8, 14, 9, 7, 11, 11, 14, 13, 9, 10, 10, 10, 10, 10, 9, 8, 8, 9, 10, 5, 10, 10, 10, 8, 9, 9, 9, 13, 10, 6, 14, 11, 9, 11, 9, 12, 11, 13, 11, 7, 16, 8, 7, 12, 5, 7, 10, 9, 11, 14, 10, 6, 15, 7, 9, 12, 11, 8, 10, 10, 10, 7, 9, 7, 15, 9, 11, 8, 7, 7, 10, 7, 7, 10, 7, 11, 10, 8, 11, 12, 12, 11, 8, 7, 8, 10, 13, 11, 8, 8, 7, 10, 8, 15, 11, 12, 9, 6, 7, 8, 8, 9, 13, 11, 7, 8, 8, 9, 7, 9, 9, 12, 7, 9, 11, 11, 9, 10, 9, 9, 13, 8, 14, 11, 15, 9, 11, 8, 11, 8, 12, 8, 13, 10, 12, 8, 12, 9, 11, 9, 7, 9, 10, 6, 7, 9, 12, 10, 7, 8, 7, 6, 9, 10, 10, 8, 10, 9, 6, 11, 12, 9, 11, 11, 7, 9, 10, 15, 11, 7, 14, 8, 10, 8, 9, 9, 10, 10, 8, 6, 9, 6, 7, 9, 8, 10, 8, 8, 5, 7, 8, 10, 13, 10, 9, 11, 9, 10, 10, 9, 7, 10, 9, 11, 8, 8, 11, 9, 11, 10, 11, 10, 9, 9, 11, 9, 8, 7, 8, 9, 7, 11, 19, 10, 9, 10, 9, 10, 8, 12, 10, 8, 10, 12, 9, 8, 7, 8, 9, 11, 10, 12, 9, 11, 11, 9, 9, 9, 8, 10, 9, 9, 10, 8, 11, 8, 11, 10, 11, 11, 11, 8, 14, 12, 12, 10, 12, 11, 7, 8, 11, 8, 14, 8, 9, 12, 8, 10, 12, 12, 10, 10, 12, 10, 10, 11, 10, 8, 10, 11, 8, 9, 8, 9, 6, 8, 8, 9, 6, 11, 10, 8, 11, 12, 7, 12, 11, 12, 10, 9, 12, 10, 9, 11, 10, 11, 13, 9, 8, 12, 11, 8, 14, 11, 11, 11, 7, 14, 11, 11, 8, 9, 14, 14, 10, 9, 13, 7, 13, 10, 11, 8, 13, 9, 10, 8, 11, 9, 10, 11, 9, 12, 8, 7, 9, 14, 8, 10, 11, 7, 10, 12, 7, 8, 6, 7, 7, 9, 11, 9, 6, 12, 8, 10, 13, 9, 11, 7, 11, 9, 7, 11, 12, 10, 11, 11, 9, 9, 15, 7, 8, 7, 10, 10, 9, 9, 9, 10, 9, 7, 8, 8, 7, 11, 10, 10, 9, 8, 10, 8, 9, 8, 12, 12, 11, 9, 8, 10, 10, 7, 11, 9, 10, 12, 9, 9, 8, 9, 9, 11, 6, 12, 9, 12, 9, 9, 9, 8, 7, 9, 9, 8, 8, 10, 11, 7, 12, 8, 8, 14, 7, 12, 10, 8, 9, 14, 9, 12, 8, 7, 11, 12, 9, 11, 6, 8, 6, 9, 10, 8, 6, 9, 9, 8, 8, 8, 7, 6, 9, 14, 14, 11, 8, 10, 7, 10, 8, 12, 12, 11, 7, 12, 14, 13, 8, 8, 7, 9, 11, 11, 9, 11, 11, 9, 13, 9, 11, 11, 11, 10, 7, 8, 11, 10, 10, 13, 8, 9, 9, 10, 11, 12, 11, 10, 8, 10, 10, 13, 7, 10, 9, 18, 10, 7, 14, 10, 6, 7, 16, 7, 5, 7, 8, 7, 10, 5, 8, 7, 6, 7, 10, 11, 9, 11, 7, 8, 10, 11, 8, 16, 11, 7, 7, 13, 11, 6, 10, 9, 8, 13, 12, 12, 10, 8, 11, 10, 10, 8, 7, 11, 9, 13, 8, 10, 8, 8, 8, 10, 12, 13, 8, 12, 9, 10, 8, 6, 9, 9, 8, 8, 8, 12, 9, 13, 9, 7, 7, 8, 10, 8, 14, 11, 11, 10, 7, 9, 9, 10, 13, 10, 14, 7, 12, 8, 10, 10, 8, 8, 11, 6, 12, 6, 14, 7, 9, 10, 6, 10, 11, 9, 10, 7, 10, 9, 8, 9, 9, 8, 10, 11, 6, 9, 8, 8, 12, 12, 7, 9, 13, 11, 9, 11, 5, 9, 8, 6, 7, 11, 8, 9, 8, 10, 6, 11, 9, 9, 10, 11, 9, 8, 7, 9, 6, 7, 8, 7, 10, 6, 8, 12, 6, 10, 7, 10, 6, 7, 7, 6, 12, 7, 6, 7, 6, 8, 12, 11, 8, 7, 8, 9, 8, 10, 8, 9, 8, 9, 13, 6, 10, 7, 9, 12, 8, 7, 10, 8, 7, 11, 8, 12, 11, 10, 10, 6, 9, 8, 9, 8, 8, 8, 13, 10, 10, 8, 10, 7, 10, 9, 5, 8, 8, 9, 7, 11, 9, 5, 6, 10, 6, 7, 8, 9, 10, 7, 9, 7, 8, 6, 11, 5, 8, 10, 7, 6, 8, 10, 7, 9, 8, 8, 10, 10, 11, 13, 9, 9, 13, 9, 8, 10, 14, 8, 17, 7, 8, 7, 8, 9, 10, 9, 10, 7, 9, 11, 10, 13, 13, 8, 10, 8, 8, 6, 13, 9, 10, 7, 9, 9, 11, 12, 7, 12, 13, 12, 11, 9, 6, 11, 6, 11, 10, 11, 7, 6, 11, 6, 8, 10, 10, 10, 9, 11, 9, 11, 9, 11, 13, 11, 9, 8, 8, 10, 7, 10, 8, 12, 11, 7, 7, 11, 8, 7, 10, 9, 10, 7, 7, 7, 9, 6, 7, 6, 6, 8, 7, 10, 9, 10, 9, 9, 11, 7, 6, 10, 12, 6, 12, 12, 8, 10, 9, 8, 10, 9, 10, 9, 11, 6, 12, 9, 12, 11, 9, 9, 11, 9, 11, 9, 9, 11, 11, 11, 10, 14, 13, 12, 12, 8, 10, 10, 8, 7, 10, 16, 11, 10, 11, 9, 7, 5, 9, 11, 10, 11, 11, 11, 7, 7, 8, 6, 11, 12, 10, 10, 14, 8, 8, 9, 12, 9, 12, 11, 13, 13, 14, 11, 8, 10, 9, 12, 8, 10, 9, 13, 12, 12, 8, 10, 8, 12, 9, 11, 7, 11, 12, 11, 11, 11, 9, 15, 6, 13, 13, 8, 8, 15, 11, 15, 10, 11, 11, 11, 12, 12, 10, 9, 9, 12, 8, 10, 11, 13, 11, 14, 10, 9, 13, 10, 14, 15, 10, 9, 7, 9, 9, 14, 8, 10, 15, 11, 10, 16, 11, 13, 8, 5, 6, 9, 9, 12, 12, 9, 12, 12, 12, 11, 10, 9, 11, 8, 12, 7, 9, 9, 8, 13, 9, 8, 8, 8, 9, 13, 11, 11, 14, 9, 10, 12, 11, 7, 16, 10, 9, 8, 11, 14, 12, 8, 11, 7, 12, 10, 9, 11, 10, 5, 10, 12, 10, 9, 11, 15, 10, 6, 6, 9, 10, 7, 7, 5, 9, 11, 10, 8, 10, 8, 12, 12, 10, 6, 9, 10, 8, 8, 9, 12, 11, 11, 16, 10, 9, 10, 8, 16, 6, 10, 8, 13, 10, 10, 13, 10, 9, 13, 12, 9, 9, 8, 12, 8, 7, 7, 10, 9, 8, 9, 9, 9, 9, 8, 8, 8, 6, 9, 9, 10, 8, 8, 10, 13, 10, 10, 10, 9, 11, 12, 12, 10, 10, 9, 9, 7, 12, 7, 10, 9, 9, 14, 9, 10, 9, 9, 8, 9, 7, 14, 14, 9, 6, 9, 9, 8, 8, 9, 7, 11, 11, 10, 10, 10, 11, 13, 10, 11, 8, 11, 8, 9, 11, 11, 7, 10, 12, 13, 13, 9, 11, 9, 10, 15, 13, 11, 9, 7, 8, 10, 11, 8, 9, 8, 9, 8, 7, 11, 10, 9, 16, 13, 11, 15, 10, 7, 10, 14, 11, 9, 8, 7, 8, 11, 10, 15, 8, 10, 7, 8, 7, 12, 9, 7, 11, 11, 10, 10, 10, 9, 13, 9, 9, 11, 13, 8, 12, 10, 10, 12, 13, 9, 10, 11, 12, 11, 12, 7, 11, 13, 9, 11, 9, 14, 8, 14, 9, 10, 10, 7, 10, 12, 9, 8, 11, 10, 12, 13, 9, 11, 9, 8, 10, 10, 11, 8, 7, 9, 12, 9, 9, 10, 16, 13, 11, 8, 8, 7, 9, 9, 8, 12, 8, 11, 11, 10, 9, 12, 10, 12, 16, 8, 10, 7, 6, 12, 9, 9, 9, 11, 8, 15, 8, 14, 19, 6, 9, 13, 8, 8, 8, 17, 12, 10, 10, 8, 8, 9, 13, 8, 8, 10, 10, 8, 8, 7, 11, 13, 13, 15, 16, 10, 10, 8, 7, 9, 9, 9, 5, 4, 8, 7, 9, 11, 8, 8, 5, 9, 14, 10, 10, 7, 10, 9, 7, 10, 9, 5, 9, 10, 12, 9, 9, 6, 12, 12, 8, 12, 11, 11, 8, 9, 11, 8, 11, 10, 10, 8, 10, 9, 7, 9, 9, 9, 12, 12, 7, 8, 10, 8, 9, 7, 8, 10, 10, 11, 12, 11, 11, 11, 10, 12, 10, 8, 9, 6, 9, 14, 11, 10, 11, 13, 9, 12, 9, 11, 9, 8, 6, 12, 9, 10, 11, 13, 9, 15, 14, 11, 12, 11, 11, 14, 5, 7, 11, 9, 13, 8, 9, 9, 13, 8, 11, 9, 7, 10, 13, 11, 7, 7, 10, 8, 7, 8, 8, 9, 9, 10, 7, 7, 5, 10, 7, 7, 9, 12, 12, 14, 10, 9, 8, 11, 13, 8, 6, 9, 12, 10, 11, 9, 8, 9, 9, 10, 8, 9, 10, 7, 8, 7, 11, 8, 8, 11, 12, 14, 13, 7, 11, 11, 14, 9, 10, 11, 7, 8, 6, 10, 7, 8, 10, 8, 9, 13, 8, 10, 11, 9, 11, 10, 13, 11, 10, 11, 9, 12, 8, 13, 9, 7, 11, 11, 9, 8, 9, 6, 9, 9, 8, 9, 9, 14, 14, 10, 7, 8, 11, 7, 10, 10, 8, 7, 8, 12, 12, 11, 9, 8, 9, 7, 11, 11, 8, 12, 14, 12, 11, 8, 9, 8, 15, 11, 8, 9, 7, 14, 14, 11, 8, 14, 11, 9, 12, 13, 12, 8, 10, 14, 8, 10, 11, 8, 16, 10, 11, 12, 7, 7, 8, 10, 8, 11, 10, 7, 10, 10, 15, 9, 8, 12, 13, 9, 11, 14, 5, 15, 10, 9, 12, 11, 9, 8, 13, 11, 9, 5, 10, 13, 9, 10, 9, 8, 11, 7, 10, 14, 10, 8, 6, 10, 6, 8, 7, 9, 10, 8, 9, 7, 11, 7, 9, 6, 7, 6, 11, 12, 9, 10, 12, 14, 11, 11, 8, 14, 9, 8, 7, 14, 8, 12, 7, 11, 6, 10, 12, 9, 9, 8, 9, 7, 5, 8, 8, 7, 7, 10, 8, 8, 10, 9, 8, 9, 8, 9, 10, 9, 5, 5, 8, 7, 10, 12, 8, 7, 9, 14, 13, 9, 8, 6, 9, 11, 9, 8, 7, 7, 9, 15, 10, 9, 9, 12, 12, 8, 11, 7, 6, 7, 13, 12, 11, 12, 11, 8, 6, 10, 6, 9, 7, 11, 9, 10, 9, 9, 9, 9, 8, 7, 11, 9, 14, 9, 14, 8, 9, 9, 10, 11, 8, 12, 8, 12, 17, 11, 9, 9, 8, 5, 7, 9, 7, 8, 9, 9, 10, 9, 6, 8, 14, 10, 8, 8, 14, 8, 7, 7, 11, 9, 11, 12, 6, 9, 9, 9, 10, 10, 8, 9, 14, 7, 9, 11, 8, 9, 10, 12, 10, 13, 13, 10, 8, 7, 8, 9, 9, 8, 13, 11, 9, 8, 8, 10, 11, 12, 8, 8, 13, 8, 7, 7, 7, 8, 12, 12, 10, 12, 7, 10, 7, 10, 10, 11, 10, 9, 10, 10, 10, 10, 7, 14, 8, 10, 10, 14, 9, 10, 8, 11, 9, 9, 13, 9, 12, 8, 9, 10, 10, 9, 8, 8, 8, 6, 7, 10, 7, 10, 12, 7, 14, 6, 14, 10, 12, 12, 13, 8, 6, 12, 7, 8, 9, 10, 9, 7, 9, 12, 17, 14, 13, 9, 7, 8, 12, 8, 7, 9, 10, 8, 8, 12, 9, 11, 11, 18, 11, 7, 13, 13, 10, 8, 12, 14, 8, 12, 10, 10, 9, 7, 9, 12, 12, 10, 9, 8, 9, 14, 12, 9, 9, 11, 9, 7, 8, 9, 10, 11, 5, 8, 10, 7, 10, 13, 5, 9, 10, 9, 12, 11, 7, 12, 16, 16, 8, 10, 7, 13, 13, 6, 22, 11, 9, 13, 9, 13, 9, 10, 13, 10, 11, 17, 11, 8, 7, 10, 10, 7, 13, 11, 13, 11, 10, 10, 8, 13, 13, 12, 10, 11, 5, 8, 10, 11, 10, 8, 11, 12, 11, 12, 10, 10, 10, 9, 9, 10, 9, 16, 10, 11, 7, 9, 10, 12, 9, 12, 10, 10, 11, 11, 13, 12, 10, 14, 8, 8, 11, 11, 6, 17, 10, 8, 7, 9, 11, 8, 10, 12, 13, 8, 10, 9, 14, 8, 10, 10, 12, 11, 8, 18, 9, 9, 11, 10, 12, 7, 8, 12, 13, 9, 14, 14, 9, 9, 11, 7, 10, 8, 11, 12, 10, 8, 10, 5, 7, 10, 9, 8, 10, 10, 9, 8, 10, 11, 6, 9, 13, 10, 15, 10, 9, 13, 10, 9, 9, 10, 10, 7, 8, 10, 12, 11, 12, 12, 12, 10, 9, 12, 14, 11, 10, 10, 12, 10, 6, 7, 8, 11, 6, 6, 7, 10, 6, 9, 12, 12, 11, 12, 13, 11, 13, 8, 12, 9, 9, 7, 8, 9, 6, 9, 8, 10, 10, 10, 10, 10, 7, 7, 8, 8, 15, 11, 11, 7, 9, 8, 8, 12, 9, 15, 14, 10, 8, 9, 11, 12, 12, 9, 14, 14, 10, 12, 8, 9, 15, 9, 11, 11, 14, 13, 10, 13, 9, 16, 10, 8, 12, 10, 11, 10, 8, 11, 13, 14, 10, 9, 11, 15, 7, 11, 11, 10, 10, 10, 6, 7, 8, 8, 8, 8, 10, 10, 8, 7, 8, 6, 9, 14, 8, 8, 9, 12, 10, 10, 10, 5, 9, 8, 10, 10, 8, 12, 10, 14, 13, 9, 14, 9, 11, 8, 11, 8, 10, 11, 10, 12, 10, 6, 9, 11, 8, 8, 10, 8, 11, 10, 7, 10, 9, 10, 9, 6, 11, 12, 12, 9, 8, 6, 11, 11, 12, 11, 11, 8, 11, 10, 14, 9, 8, 15, 11, 7, 8, 10, 8, 14, 12, 12, 10, 12, 11, 11, 10, 11, 10, 8, 9, 6, 15, 7, 8, 8, 7, 13, 7, 7, 7, 6, 10, 14, 8, 6, 11, 14, 10, 12, 12, 5, 9, 13, 9, 9, 12, 11, 8, 11, 7, 11, 10, 11, 13, 13, 19, 9, 12, 11, 11, 9, 10, 9, 11, 7, 10, 8, 8, 12, 7, 13, 11, 13, 12, 10, 11, 8, 7, 6, 11, 8, 12, 11, 9, 11, 9, 14, 9, 9, 10, 10, 9, 12, 12, 9, 6, 11, 10, 8, 9, 11, 15, 8, 14, 6, 5, 11, 8, 8, 10, 9, 8, 8, 9, 9, 10, 11, 8, 14, 13, 11, 6, 8, 14, 7, 4, 7, 8, 7, 8, 9, 8, 8, 8, 9, 12, 10, 10, 9, 14, 8, 11, 11, 11, 10, 10, 8, 10, 9, 8, 7, 7, 5, 10, 8, 10, 10, 9, 13, 5, 5, 10, 9, 9, 10, 9, 7, 12, 11, 8, 9, 9, 8, 8, 7, 9, 10, 8, 8, 7, 10, 8, 9, 12, 7, 12, 13, 13, 13, 11, 10, 8, 11, 10, 9, 9, 6, 8, 9, 9, 10, 8, 9, 8, 9, 10, 8, 10, 9, 9, 14, 12, 7, 11, 8, 9, 9, 8, 12, 12, 13, 10, 8, 11, 9, 14, 9, 11, 11, 10, 10, 10, 13, 9, 13, 12, 9, 9, 8, 12, 10, 13, 11, 11, 12, 11, 11, 10, 13, 9, 9, 10, 7, 7, 7, 7, 10, 10, 11, 10, 9, 9, 6, 9, 7, 10, 12, 9, 7, 10, 8, 12, 10, 10, 12, 12, 11, 9, 14, 8, 8, 13, 12, 9, 7, 9, 14, 7, 12, 6, 11, 12, 8, 10, 6, 11, 9, 10, 8, 8, 10, 15, 13, 11, 10, 16, 17, 15, 16, 17, 15, 6, 12, 14, 7, 14, 7, 13, 10, 9, 10, 6, 8, 9, 9, 11, 11, 7, 8, 7, 9, 13, 14, 11, 12, 15, 14, 8, 15, 10, 11, 17, 13, 11, 8, 11, 11, 11, 10, 13, 16, 8, 11, 9, 11, 8, 11, 12, 11, 21, 12, 8, 11, 9, 10, 8, 7, 14, 12, 12, 14, 12, 12, 10, 14, 12, 7, 15, 13, 8, 8, 7, 13, 8, 13, 7, 12, 13, 11, 7, 10, 12, 16, 10, 13, 8, 7, 10, 10, 8, 10, 10, 9, 9, 11, 13, 15, 12, 13, 12, 12, 11, 7, 11, 6, 14, 6, 12, 7, 17, 13, 9, 11, 12, 11, 6, 11, 8, 10, 7, 9, 14, 14, 15, 12, 13, 9, 9, 11, 9, 11, 7, 10, 9, 9, 10, 7, 13, 10, 15, 10, 12, 13, 10, 10, 9, 10, 10, 9, 12, 15, 7, 8, 10, 6, 10, 10, 9, 12, 8, 10, 9, 14, 12, 18, 19, 11, 12, 8, 14, 14, 10, 9, 12, 14, 12, 12, 12, 10, 9, 10, 8, 9, 9, 12, 13, 13, 10, 10, 10, 12, 9, 10, 9, 8, 9, 14, 5, 13, 8, 15, 10, 10, 9, 11, 16, 12, 14, 5, 14, 10, 12, 7, 7, 8, 15, 8, 10, 11, 12, 9, 11, 11, 11, 9, 7, 10, 11, 12, 9, 11, 10, 13, 16, 12, 7, 9, 6, 9, 9, 11, 14, 9, 11, 13, 13, 16, 14, 14, 17, 11, 10, 7, 10, 8, 9, 10, 11, 7, 8, 15, 11, 10, 10, 10, 6, 9, 10, 9, 7, 9, 9, 7, 17, 7, 11, 16, 7, 11, 10, 15, 9, 10, 8, 10, 8, 13, 18, 10, 9, 12, 9, 9, 8, 8, 9, 14, 11, 9, 8, 19, 8, 13, 12, 12, 11, 8, 14, 12, 12, 11, 9, 10, 10, 10, 11, 17, 8, 6, 4, 10, 12, 10, 9, 9, 9, 9, 10, 10, 8, 13, 7, 8, 12, 12, 11, 14, 12, 8, 12, 10, 11, 8, 7, 7, 7, 11, 8, 11, 7, 7, 9, 11, 12, 11, 10, 11, 9, 11, 7, 7, 11, 12, 7, 12, 11, 7, 10, 6, 9, 15, 14, 9, 12, 9, 7, 12, 11, 9, 10, 7, 9, 8, 7, 10, 6, 12, 8, 8, 9, 9, 8, 7, 12, 11, 10, 11, 7, 8, 11, 16, 8, 8, 11, 12, 11, 8, 10, 9, 6, 7, 8, 7, 8, 9, 7, 11, 8, 9, 5, 11, 10, 12, 12, 13, 11, 7, 13, 8, 12, 10, 7, 11, 10, 8, 7, 8, 8, 7, 11, 11, 10, 9, 8, 8, 9, 9, 9, 8, 9, 9, 18, 12, 9, 8, 9, 8, 10, 12, 12, 10, 12, 12, 10, 7, 9, 9, 10, 7, 10, 11, 12, 8, 12, 6, 5, 10, 8, 11, 9, 11, 6, 10, 9, 10, 10, 9, 9, 12, 8, 9, 7, 9, 10, 10, 12, 8, 9, 9, 8, 9, 11, 9, 9, 7, 13, 7, 8, 7, 8, 8, 9, 13, 13, 11, 7, 10, 10, 10, 10, 7, 10, 11, 10, 11, 11, 14, 8, 11, 7, 8, 12, 7, 10, 10, 11, 8, 13, 10, 9, 8, 6, 7, 13, 11, 11, 15, 9, 14, 8, 10, 11, 7, 13, 9, 11, 12, 11, 10, 13, 9, 8, 7, 10, 10, 11, 15, 8, 6, 5, 9, 14, 7, 9, 8, 9, 9, 14, 7, 10, 13, 8, 8, 11, 8, 9, 9, 9, 10, 11, 12, 10, 10, 13, 13, 10, 9, 15, 15, 12, 12, 11, 9, 8, 10, 13, 10, 9, 7, 11, 10, 12, 11, 11, 12, 11, 8, 13, 8, 8, 10, 10, 8, 11, 10, 13, 11, 12, 10, 8, 14, 9, 13, 10, 8, 7, 13, 9, 15, 12, 9, 10, 8, 13, 10, 9, 18, 8, 14, 18, 12, 13, 12, 13, 12, 10, 12, 12, 9, 9, 12, 9, 10, 16, 9, 9, 8, 13, 8, 14, 15, 11, 11, 14, 9, 11, 12, 14, 14, 6, 9, 17, 19, 13, 12, 11, 9, 11, 9, 11, 13, 11, 11, 10, 9, 9, 13, 9, 13, 13, 14, 9, 11, 9, 9, 13, 13, 10, 13, 12, 9, 8, 13, 12, 11, 10, 10, 11, 12, 9, 9, 20, 8, 10, 8, 11, 12, 11, 10, 8, 12, 11, 10, 9, 8, 8, 12, 8, 7, 11, 14, 10, 13, 8, 9, 14, 11, 12, 13, 10, 14, 11, 18, 10, 14, 13, 13, 9, 11, 13, 10, 11, 8, 11, 11, 11, 13, 11, 10, 14, 11, 9, 10, 11, 7, 9, 8, 11, 11, 10, 13, 9, 11, 7, 12, 12, 11, 11, 11, 9, 6, 9, 8, 12, 9, 12, 10, 12, 10, 10, 11, 10, 16, 11, 11, 11, 16, 11, 14, 13, 13, 13, 8, 12, 15, 8, 8, 10, 9, 10, 13, 15, 20, 13, 14, 11, 8, 9, 10, 10, 7, 8, 9, 10, 10, 10, 9, 10, 11, 13, 8, 6, 10, 12, 10, 15, 12, 8, 10, 10, 13, 16, 11, 12, 10, 10, 12, 7, 12, 9, 12, 10, 8, 12, 12, 13, 9, 8, 9, 10, 11, 7, 9, 9, 10, 10, 10, 16, 11, 11, 14, 8, 9, 11, 8, 8, 14, 11, 10, 7, 10, 11, 12, 14, 17, 10, 9, 9, 11, 11, 12, 12, 13, 15, 13, 9, 11, 10, 9, 9, 10, 11, 10, 9, 8, 14, 10, 15, 8, 12, 10, 10, 18, 11, 8, 8, 10, 6, 7, 12, 11, 9, 8, 7, 12, 13, 9, 9, 10, 8, 11, 22, 14, 9, 10, 13, 7, 14, 7, 8, 17, 12, 12, 9, 9, 15, 9, 10, 8, 8, 10, 13, 11, 11, 8, 7, 14, 9, 7, 9, 13, 7, 7, 7, 6, 14, 5, 11, 5, 14, 9, 10, 14, 11, 10, 8, 12, 12, 18, 10, 11, 7, 11, 10, 14, 14, 14, 13, 12, 9, 9, 14, 9, 11, 11, 11, 10, 11, 10, 12, 9, 11, 8, 6, 6, 6, 9, 12, 9, 11, 16, 13, 12, 13, 10, 10, 8, 9, 6, 9, 10, 8, 8, 12, 10, 10, 8, 13, 11, 9, 8, 12, 8, 13, 11, 7, 17, 12, 9, 9, 12, 14, 9, 10, 10, 6, 10, 13, 11, 9, 11, 12, 14, 7, 6, 7, 8, 8, 8, 8, 7, 13, 11, 10, 12, 9, 9, 14, 8, 10, 10, 9, 11, 9, 11, 10, 16, 10, 14, 8, 10, 11, 7, 8, 13, 10, 9, 9, 9, 14, 6, 10, 11, 9, 11, 11, 15, 14, 10, 11, 10, 13, 11, 7, 16, 15, 13, 15, 7, 11, 15, 12, 12, 11, 19, 9, 6, 11, 10, 10, 13, 11, 9, 15, 10, 11, 13, 7, 9, 11, 9, 15, 13, 10, 9, 10, 17, 10, 8, 12, 8, 9, 9, 10, 11, 9, 12, 13, 11, 8, 16, 5, 12, 12, 13, 11, 11, 8, 14, 11, 12, 14, 11, 12, 12, 12, 15, 9, 11, 9, 11, 6, 11, 12, 16, 11, 11, 12, 8, 11, 9, 12, 14, 15, 11, 8, 16, 11, 11, 11, 10, 10, 13, 9, 11, 16, 10, 16, 14, 10, 12, 10, 8, 17, 7, 8, 8, 10, 9, 8, 9, 17, 8, 17, 12, 15, 10, 6, 10, 14, 9, 12, 8, 11, 10, 8, 10, 6, 7, 11, 11, 8, 11, 10, 11, 10, 8, 10, 11, 9, 9, 8, 7, 8, 14, 15, 12, 9, 9, 5, 5, 10, 12, 12, 11, 10, 19, 13, 12, 12, 8, 15, 7, 13, 9, 9, 9, 13, 12, 16, 8, 9, 12, 7, 8, 12, 14, 12, 8, 9, 9, 9, 9, 10, 10, 8, 9, 12, 12, 14, 7, 10, 8, 14, 18, 8, 8, 10, 11, 7, 12, 11, 11, 7, 10, 12, 11, 7, 10, 12, 7, 8, 7, 10, 9, 10, 13, 9, 10, 11, 9, 12, 16, 9, 15, 8, 17, 15, 9, 8, 10, 8, 13, 11, 7, 9, 8, 13, 11, 15, 8, 14, 11, 12, 13, 9, 12, 9, 12, 7, 11, 10, 9, 10, 10, 11, 11, 10, 26, 10, 6, 10, 9, 8, 10, 10, 9, 9, 7, 13, 15, 14, 9, 14, 14, 14, 11, 9, 11, 12, 15, 4, 12, 17, 13, 12, 20, 11, 14, 7, 13, 17, 9, 8, 11, 14, 10, 15, 10, 14, 16, 12, 13, 15, 10, 8, 9, 10, 15, 9, 9, 7, 8, 9, 9, 10, 16, 7, 10, 11, 12, 11, 10, 8, 9, 14, 7, 11, 12, 14, 14, 9, 10, 13, 13, 7, 7, 9, 8, 10, 11, 7, 8, 9, 8, 8, 12, 15, 10, 9, 16, 8, 15, 9, 5, 10, 12, 10, 8, 12, 12, 10, 10, 7, 7, 10, 7, 10, 8, 11, 12, 9, 13, 10, 9, 10, 10, 12, 8, 14, 13, 7, 10, 16, 10, 13, 12, 13, 9, 9, 9, 11, 9, 11, 12, 8, 9, 9, 12, 9, 8, 8, 12, 9, 9, 11, 8, 11, 8, 10, 10, 10, 10, 10, 10, 12, 10, 11, 10, 10, 9, 7, 10, 11, 14, 12, 12, 9, 11, 11, 13, 10, 8, 8, 10, 10, 11, 13, 10, 15, 9, 11, 13, 12, 9, 10, 14, 9, 11, 13, 15, 9, 9, 11, 7, 9, 11, 7, 9, 12, 12, 10, 13, 8, 10, 13, 11, 12, 14, 9, 9, 8, 12, 9, 9, 11, 10, 16, 13, 13, 9, 12, 8, 12, 17, 15, 13, 10, 11, 12, 11, 9, 13, 17, 8, 15, 12, 10, 13, 13, 12, 12, 16, 11, 12, 8, 9, 12, 12, 14, 10, 11, 10, 12, 10, 8, 14, 13, 8, 8, 11, 8, 10, 10, 10, 10, 11, 9, 11, 9, 6, 9, 15, 16, 10, 10, 11, 10, 8, 8, 9, 11, 11, 9, 9, 15, 10, 9, 10, 8, 8, 15, 8, 13, 11, 9, 10, 14, 14, 16, 7, 8, 8, 8, 8, 13, 9, 9, 7, 9, 11, 12, 12, 10, 10, 11, 11, 11, 9, 13, 11, 10, 12, 10, 11, 9, 7, 10, 7, 10, 13, 11, 8, 11, 16, 14, 10, 13, 13, 16, 8, 11, 13, 10, 14, 10, 12, 12, 13, 14, 10, 13, 11, 10, 8, 10, 7, 21, 8, 12, 10, 8, 10, 10, 8, 14, 13, 12, 12, 13, 11, 9, 12, 10, 8, 10, 12, 12, 8, 10, 10, 8, 11, 10, 14, 12, 11, 11, 18, 13, 9, 12, 15, 13, 10, 8, 14, 10, 14, 10, 12, 12, 8, 8, 9, 10, 11, 8, 13, 13, 14, 16, 13, 13, 16, 10, 11, 8, 11, 13, 8, 8, 10, 10, 8, 13, 7, 5, 13, 13, 12, 8, 10, 13, 13, 10, 9, 13, 11, 9, 13, 10, 9, 11, 9, 12, 14, 8, 13, 11, 18, 15, 8, 10, 13, 9, 7, 17, 14, 11, 8, 13, 11, 11, 10, 12, 11, 10, 9, 11, 7, 12, 11, 13, 12, 7, 10, 7, 8, 12, 15, 10, 11, 13, 10, 14, 11, 12, 11, 15, 8, 11, 16, 11, 10, 19, 7, 9, 8, 12, 6, 10, 7, 10, 9, 9, 9, 10, 11, 11, 10, 10, 10, 11, 8, 7, 9, 16, 9, 17, 12, 9, 11, 10, 6, 6, 10, 9, 7, 8, 7, 8, 10, 10, 8, 8, 7, 11, 12, 7, 11, 10, 13, 8, 11, 11, 6, 7, 8, 9, 13, 15, 11, 11, 11, 11, 15, 10, 9, 10, 13, 9, 14, 8, 10, 8, 10, 10, 8, 10, 10, 12, 8, 12, 13, 11, 6, 10, 14, 6, 7, 6, 18, 9, 9, 7, 11, 15, 9, 12, 9, 11, 8, 11, 10, 9, 13, 15, 9, 13, 9, 18, 10, 12, 10, 13, 11, 7, 8, 17, 13, 13, 10, 16, 11, 11, 12, 9, 11, 11, 9, 8, 10, 8, 8, 6, 9, 7, 7, 10, 12, 6, 14, 21, 16, 9, 13, 9, 10, 11, 11, 10, 12, 17, 7, 8, 8, 8, 12, 15, 8, 10, 9, 13, 11, 8, 11, 8, 10, 8, 8, 10, 11, 9, 16, 8, 11, 11, 15, 12, 13, 14, 14, 16, 14, 10, 16, 11, 15, 19, 13, 11, 12, 15, 14, 14, 8, 13, 14, 8, 10, 16, 8, 19, 13, 12, 12, 12, 8, 7, 9, 13, 8, 12, 12, 6, 14, 9, 11, 14, 12, 13, 8, 12, 11, 7, 10, 7, 9, 15, 6, 11, 12, 12, 9, 6, 11, 9, 11, 11, 10, 9, 13, 12, 15, 16, 10, 13, 14, 13, 14, 13, 16, 9, 15, 11, 16, 11, 10, 15, 12, 7, 10, 14, 14, 10, 9, 10, 8, 14, 9, 15, 8, 6, 9, 8, 7, 11, 12, 10, 9, 16, 14, 8, 12, 10, 13, 9, 12, 9, 14, 11, 8, 11, 8, 11, 8, 10, 6, 8, 10, 11, 13, 7, 8, 9, 12, 10, 10, 11, 8, 12, 10, 17, 9, 12, 15, 7, 8, 12, 12, 11, 12, 15, 14, 10, 8, 9, 18, 9, 9, 8, 15, 14, 8, 15, 11, 8, 12, 13, 15, 19, 16, 14, 11, 14, 13, 14, 10, 10, 8, 7, 9, 12, 8, 8, 12, 10, 9, 12, 13, 13, 10, 8, 8, 8, 6, 11, 9, 10, 9, 7, 10, 10, 19, 9, 17, 11, 10, 14, 12, 10, 13, 11, 12, 12, 7, 9, 14, 5, 9, 10, 11, 12, 9, 12, 13, 10, 14, 8, 9, 12, 11, 13, 11, 9, 7, 11, 9, 12, 13, 20, 13, 9, 12, 10, 9, 9, 15, 8, 11, 13, 10, 15, 13, 9, 6, 10, 13, 8, 15, 11, 9, 12, 9, 8, 8, 8, 12, 13, 14, 9, 10, 11, 9, 11, 11, 10, 12, 10, 12, 10, 7, 11, 11, 11, 11, 9, 9, 12, 8, 10, 11, 9, 13, 10, 10, 7, 9, 11, 14, 12, 6, 12, 13, 13, 15, 14, 11, 9, 10, 7, 11, 13, 12, 12, 14, 13, 10, 13, 11, 10, 8, 11, 11, 6, 7, 18, 10, 15, 12, 8, 10, 11, 9, 10, 11, 11, 8, 12, 8, 11, 10, 10, 12, 12, 10, 12, 11, 9, 11, 10, 13, 12, 11, 11, 9, 14, 10, 11, 10, 8, 11, 16, 11, 18, 9, 9, 12, 11, 13, 14, 14, 9, 18, 10, 8, 10, 10, 8, 7, 9, 9, 11, 8, 8, 14, 12, 12, 11, 16, 15, 13, 12, 13, 11, 14, 9, 11, 10, 10, 8, 8, 12, 12, 14, 13, 14, 10, 11, 10, 10, 9, 15, 16, 15, 13, 8, 12, 7, 10, 8, 7, 16, 21, 12, 9, 11, 7, 8, 8, 11, 11, 13, 16, 15, 10, 14, 11, 11, 12, 15, 15, 13, 13, 15, 17, 21, 10, 11, 11, 11, 13, 12, 14, 9, 8, 11, 9, 12, 14, 8, 13, 12, 11, 10, 12, 12, 10, 9, 14, 10, 7, 8, 12, 11, 13, 13, 13, 14, 11, 12, 8, 9, 13, 8, 14, 12, 12, 12, 15, 15, 10, 12, 16, 12, 10, 13, 14, 7, 8, 9, 10, 14, 13, 12, 11, 11, 13, 12, 10, 12, 12, 8, 12, 14, 14, 9, 11, 13, 8, 12, 10, 13, 9, 11, 13, 9, 10, 13, 9, 17, 12, 12, 15, 12, 11, 6, 12, 11, 12, 11, 14, 12, 8, 17, 15, 16, 12, 16, 17, 6, 13, 11, 9, 8, 14, 7, 11, 12, 11, 11, 13, 13, 9, 11, 11, 13, 11, 13, 10, 12, 10, 9, 12, 9, 13, 9, 11, 9, 11, 13, 12, 13, 11, 10, 16, 10, 18, 15, 13, 10, 8, 9, 10, 15, 10, 9, 11, 13, 13, 13, 12, 6, 9, 12, 15, 15, 12, 10, 12, 9, 12, 13, 14, 14, 11, 15, 10, 11, 10, 11, 10, 13, 9, 10, 11, 9, 15, 9, 7, 13, 12, 13, 8, 10, 11, 17, 14, 8, 13, 13, 10, 11, 8, 9, 11, 8, 9, 7, 10, 10, 8, 9, 9, 7, 8, 14, 10, 7, 8, 7, 8, 6, 10, 11, 9, 11, 10, 11, 8, 11, 14, 12, 14, 10, 11, 9, 8, 7, 10, 9, 14, 16, 12, 10, 11, 9, 18, 12, 13, 13, 9, 11, 9, 9, 10, 12, 10, 13, 11, 10, 11, 9, 9, 13, 14, 11, 7, 10, 10, 11, 9, 11, 9, 10, 8, 10, 13, 7, 11, 12, 8, 13, 10, 11, 10, 10, 10, 12, 9, 7, 8, 9, 9, 11, 9, 8, 12, 14, 9, 7, 12, 18, 10, 11, 11, 9, 11, 7, 11, 11, 9, 16, 7, 12, 8, 12, 12, 11, 8, 12, 15, 9, 14, 13, 14, 11, 16, 16, 14, 14, 9, 11, 9, 10, 9, 8, 12, 10, 14, 10, 10, 12, 13, 10, 12, 13, 12, 15, 16, 15, 12, 11, 9, 11, 15, 13, 14, 11, 11, 13, 16, 11, 12, 12, 12, 13, 9, 11, 12, 12, 19, 12, 17, 13, 10, 17, 10, 11, 11, 10, 16, 9, 9, 13, 16, 10, 15, 13, 9, 6, 13, 15, 10, 12, 11, 15, 10, 15, 11, 11, 14, 12, 12, 9, 14, 9, 8, 12, 16, 13, 14, 12, 11, 14, 9, 12, 9, 13, 11, 10, 11, 14, 12, 9, 11, 10, 10, 10, 9, 14, 9, 12, 12, 12, 14, 13, 10, 17, 9, 13, 10, 10, 10, 8, 10, 11, 12, 13, 10, 11, 18, 14, 12, 14, 14, 14, 14, 9, 12, 8, 10, 13, 12, 9, 13, 9, 16, 17, 16, 12, 11, 13, 10, 10, 9, 9, 9, 18, 13, 16, 13, 13, 14, 10, 8, 9, 11, 14, 12, 8, 8, 15, 9, 13, 14, 8, 8, 9, 13, 12, 11, 11, 11, 10, 13, 12, 9, 13, 13, 12, 9, 14, 15, 13, 12, 13, 16, 10, 10, 11, 13, 7, 11, 14, 14, 15, 15, 8, 14, 13, 7, 9, 15, 8, 14, 10, 11, 13, 10, 14, 10, 7, 13, 12, 14, 11, 14, 8, 10, 10, 10, 14, 14, 12, 10, 9, 13, 13, 12, 10, 12, 11, 13, 8, 6, 6, 8, 7, 7, 9, 10, 14, 11, 11, 12, 12, 21, 15, 9, 14, 9, 9, 12, 7, 13, 9, 15, 9, 8, 9, 13, 9, 9, 8, 10, 9, 13, 10, 10, 9, 12, 15, 8, 10, 10, 9, 10, 10, 9, 17, 14, 14, 10, 15, 10, 12, 12, 11, 11, 8, 10, 8, 11, 10, 13, 9, 11, 10, 11, 11, 12, 8, 10, 15, 14, 12, 11, 10, 11, 16, 9, 13, 14, 13, 16, 13, 13, 14, 12, 12, 16, 8, 12, 9, 10, 15, 12, 12, 10, 9, 9, 10, 10, 12, 10, 13, 16, 9, 12, 11, 13, 16, 6, 14, 11, 14, 17, 10, 10, 12, 10, 12, 13, 12, 12, 13, 16, 17, 10, 10, 10, 13, 13, 12, 10, 12, 15, 10, 15, 18, 11, 9, 17, 13, 11, 12, 11, 11, 12, 19, 17, 14, 12, 10, 9, 19, 12, 11, 8, 11, 15, 9, 13, 8, 7, 8, 12, 15, 12, 9, 13, 11, 10, 13, 8, 11, 10, 13, 8, 17, 16, 10, 9, 16, 13, 14, 17, 13, 14, 8, 12, 17, 13, 10, 10, 12, 10, 13, 8, 14, 12, 15, 13, 13, 14, 11, 18, 10, 9, 11, 9, 7, 10, 13, 11, 9, 10, 13, 13, 10, 12, 15, 17, 16, 17, 13, 11, 12, 11, 8, 15, 8, 13, 8, 8, 14, 12, 13, 7, 12, 13, 8, 14, 13, 12, 12, 8, 17, 9, 15, 13, 15, 12, 12, 11, 10, 15, 11, 12, 13, 14, 14, 13, 11, 10, 10, 13, 12, 12, 11, 11, 12, 13, 12, 12, 12, 12, 12, 9, 10, 10, 15, 12, 14, 9, 12, 11, 10, 12, 11, 13, 10, 13, 14, 10, 8, 11, 12, 13, 13, 7, 12, 10, 9, 11, 13, 11, 9, 11, 12, 11, 13, 16, 12, 13, 8, 6, 11, 16, 12, 9, 9, 9, 9, 7, 16, 10, 10, 10, 10, 15, 12, 11, 13, 15, 14, 9, 9, 10, 9, 15, 16, 15, 11, 9, 8, 10, 12, 10, 10, 10, 8, 15, 11, 10, 8, 15, 8, 14, 13, 8, 11, 11, 12, 9, 7, 9, 14, 11, 9, 10, 22, 14, 12, 10, 15, 16, 13, 9, 9, 11, 13, 9, 12, 14, 9, 14, 13, 10, 18, 17, 13, 6, 16, 18, 17, 16, 11, 10, 12, 12, 15, 8, 11, 14, 14, 11, 13, 13, 11, 11, 7, 14, 8, 12, 10, 10, 13, 9, 14, 14, 13, 11, 17, 13, 12, 15, 11, 11, 16, 8, 14, 19, 8, 14, 9, 14, 11, 12, 8, 12, 9, 10, 9, 7, 9, 14, 8, 14, 11, 9, 12, 12, 8, 13, 12, 13, 12, 8, 15, 10, 13, 10, 9, 13, 11, 13, 12, 13, 10, 8, 12, 10, 10, 17, 14, 11, 9, 12, 13, 11, 11, 14, 13, 10, 11, 14, 9, 12, 18, 16, 8, 12, 13, 14, 13, 6, 16, 13, 12, 12, 12, 9, 14, 6, 7, 8, 13, 10, 8, 17, 9, 9, 11, 8, 8, 8, 14, 11, 10, 12, 10, 11, 11, 13, 9, 14, 16, 14, 12, 16, 12, 12, 10, 10, 10, 16, 15, 9, 7, 13, 10, 12, 14, 18, 15, 11, 14, 12, 12, 9, 15, 9, 14, 10, 10, 14, 10, 17, 9, 15, 8, 10, 13, 10, 12, 9, 11, 9, 8, 9, 13, 11, 16, 8, 15, 10, 10, 13, 15, 10, 13, 13, 10, 10, 11, 10, 10, 9, 13, 11, 8, 7, 9, 8, 15, 9, 10, 12, 12, 12, 11, 13, 12, 11, 7, 10, 11, 9, 11, 12, 11, 10, 9, 13, 10, 13, 9, 7, 13, 7, 14, 14, 17, 13, 17, 8, 16, 14, 11, 12, 7, 15, 16, 17, 9, 14, 11, 10, 7, 15, 17, 9, 11, 9, 10, 13, 13, 9, 10, 9, 12, 10, 14, 8, 10, 16, 15, 15, 10, 19, 11, 14, 13, 28, 16, 15, 11, 18, 14, 17, 17, 14, 12, 13, 12, 11, 11, 11, 14, 11, 11, 12, 10, 10, 17, 12, 14, 11, 11, 9, 15, 14, 14, 11, 16, 12, 11, 11, 19, 17, 11, 14, 11, 13, 11, 12, 14, 12, 19, 18, 16, 13, 13, 16, 14, 12, 10, 15, 14, 16, 14, 12, 17, 13, 14, 18, 13, 12, 10, 8, 16, 13, 11, 12, 12, 10, 10, 16, 10, 18, 11, 11, 13, 11, 14, 11, 9, 14, 13, 13, 9, 11, 7, 9, 12, 8, 15, 21, 11, 13, 11, 12, 16, 11, 7, 7, 14, 9, 14, 11, 15, 18, 16, 18, 14, 14, 13, 12, 11, 10, 14, 10, 9, 15, 16, 18, 12, 10, 12, 14, 9, 10, 15, 10, 11, 8, 13, 12, 12, 14, 12, 11, 14, 13, 16, 13, 18, 8, 13, 10, 10, 11, 10, 11, 13, 15, 7, 12, 15, 9, 14, 10, 16, 16, 18, 18, 13, 9, 13, 9, 8, 9, 17, 11, 12, 8, 11, 12, 12, 9, 13, 10, 13, 20, 16, 13, 9, 8, 9, 18, 12, 8, 11, 14, 10, 11, 7, 8, 8, 12, 13, 10, 9, 12, 8, 12, 10, 9, 9, 11, 14, 13, 9, 8, 8, 8, 8, 9, 11, 17, 8, 14, 12, 10, 14, 14, 15, 12, 10, 11, 12, 10, 10, 18, 9, 12, 10, 13, 8, 11, 15, 12, 19, 10, 14, 12, 10, 8, 10, 17, 16, 14, 14, 13, 9, 10, 12, 10, 19, 13, 13, 12, 21, 16, 14, 12, 11, 13, 16, 13, 11, 11, 10, 15, 14, 14, 12, 12, 17, 13, 17, 16, 17, 10, 11, 11, 19, 13, 12, 9, 14, 13, 18, 7, 18, 14, 11, 18, 9, 12, 10, 13, 12, 13, 9, 20, 13, 10, 15, 10, 17, 16, 18, 14, 7, 11, 13, 14, 14, 8, 10, 8, 12, 13, 14, 21, 15, 18, 17, 14, 19, 14, 12, 18, 15, 11, 9, 11, 9, 10, 13, 16, 11, 13, 12, 13, 16, 11, 11, 14, 8, 14, 11, 9, 16, 10, 10, 16, 9, 10, 14, 12, 10, 17, 8, 10, 11, 11, 9, 11, 11, 11, 12, 15, 14, 15, 12, 13, 12, 12, 14, 11, 14, 12, 13, 11, 9, 10, 8, 9, 13, 12, 9, 14, 13, 9, 14, 18, 13, 9, 12, 9, 14, 11, 10, 17, 17, 10, 17, 11, 6, 10, 14, 18, 7, 11, 7, 12, 13, 12, 11, 13, 14, 8, 13, 8, 15, 12, 13, 17, 17, 9, 11, 15, 13, 17, 11, 11, 15, 11, 12, 15, 21, 10, 12, 14, 9, 10, 10, 11, 17, 19, 14, 12, 14, 10, 19, 15, 14, 15, 8, 12, 12, 13, 14, 14, 12, 18, 11, 14, 14, 14, 8, 17, 10, 12, 13, 15, 12, 15, 12, 16, 15, 14, 12, 18, 12, 16, 7, 13, 19, 14, 9, 13, 12, 11, 15, 15, 11, 13, 15, 11, 16, 12, 12, 9, 15, 13, 12, 18, 10, 12, 12, 12, 13, 16, 10, 13, 13, 14, 12, 17, 13, 9, 11, 12, 13, 21, 19, 14, 10, 10, 13, 17, 12, 13, 20, 14, 8, 16, 13, 17, 11, 11, 8, 10, 18, 17, 16, 14, 15, 10, 8, 9, 15, 13, 11, 18, 14, 15, 11, 19, 11, 11, 12, 11, 13, 8, 11, 13, 15, 13, 11, 18, 17, 15, 13, 15, 8, 10, 11, 15, 17, 14, 15, 14, 12, 11, 15, 12, 10, 9, 15, 18, 8, 14, 14, 10, 11, 15, 12, 15, 17, 10, 16, 10, 13, 9, 9, 8, 10, 11, 9, 10, 13, 14, 13, 14, 13, 12, 14, 16, 9, 11, 10, 17, 12, 11, 11, 14, 16, 7, 10, 13, 15, 14, 18, 12, 13, 15, 10, 12, 8, 13, 18, 9, 15, 11, 19, 24, 19, 19, 11, 20, 14, 15, 15, 19, 14, 20, 15, 17, 12, 13, 15, 19, 13, 14, 19, 19, 20, 21, 20, 17, 11, 13, 14, 16, 12, 10, 16, 14, 11, 13, 21, 18, 10, 12, 15, 12, 15, 10, 13, 18, 14, 15, 13, 14, 16, 8, 10, 11, 14, 11, 10, 19, 8, 16, 18, 17, 11, 13, 14, 13, 13, 12, 15, 12, 16, 11, 11, 10, 12, 14, 11, 10, 14, 12, 11, 11, 15, 11, 17, 16, 21, 13, 9, 13, 11, 15, 15, 16, 14, 12, 10, 8, 11, 13, 11, 19, 12, 16, 15, 18, 17, 12, 14, 7, 15, 15, 14, 12, 17, 12, 10, 11, 10, 12, 10, 11, 15, 12, 12, 15, 10, 13, 15, 20, 12, 16, 10, 12, 12, 17, 16, 16, 14, 9, 13, 19, 12, 15, 12, 18, 13, 19, 11, 11, 14, 13, 14, 10, 13, 9, 9, 10, 11, 10, 12, 12, 12, 18, 15, 14, 12, 12, 12, 10, 14, 14, 9, 8, 15, 10, 16, 12, 10, 11, 12, 12, 12, 16, 12, 13, 8, 15, 8, 14, 16, 12, 12, 15, 11, 12, 12, 13, 15, 15, 11, 10, 15, 13, 11, 12, 13, 16, 14, 16, 14, 11, 17, 11, 18, 13, 16, 10, 20, 14, 15, 15, 17, 13, 15, 16, 10, 13, 14, 11, 15, 10, 13, 11, 14, 9, 10, 12, 20, 10, 15, 13, 7, 12, 13, 14, 13, 14, 12, 12, 14, 13, 13, 10, 12, 15, 17, 11, 14, 10, 14, 10, 22, 12, 15, 13, 17, 18, 14, 14, 11, 12, 12, 8, 14, 11, 15, 13, 16, 12, 18, 18, 10, 21, 17, 11, 14, 14, 9, 14, 10, 17, 14, 12, 15, 18, 12, 12, 14, 19, 12, 11, 14, 13, 16, 15, 11, 12, 16, 10, 12, 11, 11, 15, 14, 11, 15, 12, 13, 17, 9, 13, 13, 17, 14, 9, 10, 14, 15, 11, 12, 9, 8, 14, 18, 10, 15, 18, 9, 11, 10, 13, 9, 10, 14, 9, 16, 13, 10, 22, 11, 14, 10, 9, 8, 13, 15, 17, 13, 13, 10, 17, 21, 18, 11, 14, 12, 17, 8, 13, 18, 9, 13, 14, 12, 8, 12, 19, 12, 12, 13, 11, 14, 12, 10, 12, 19, 14, 13, 14, 14, 12, 21, 14, 17, 14, 15, 18, 15, 20, 12, 15, 12, 14, 12, 12, 13, 15, 10, 15, 13, 10, 11, 13, 10, 16, 17, 14, 12, 11, 19, 13, 11, 16, 14, 13, 11, 13, 9, 13, 13, 14, 20, 12, 13, 13, 11, 13, 16, 13, 16, 13, 9, 8, 13, 14, 16, 5, 17, 11, 16, 12, 11, 14, 15, 14, 15, 15, 13, 16, 9, 12, 16, 14, 13, 11, 13, 16, 9, 15, 17, 20, 15, 13, 7, 10, 9, 11, 18, 11, 21, 9, 11, 13, 12, 14, 8, 10, 14, 13, 15, 10, 11, 10, 11, 14, 15, 13, 17, 15, 13, 14, 10, 12, 8, 18, 14, 13, 10, 14, 12, 13, 8, 18, 11, 14, 17, 17, 17, 14, 10, 17, 17, 14, 12, 10, 12, 11, 12, 13, 13, 20, 17, 12, 9, 17, 14, 22, 17, 11, 9, 13, 16, 16, 12, 18, 14, 16, 12, 9, 17, 16, 12, 16, 12, 10, 15, 15, 19, 21, 16, 18, 18, 15, 11, 14, 10, 15, 9, 9, 14, 16, 14, 11, 16, 11, 14, 13, 9, 16, 19, 8, 9, 15, 11, 19, 15, 12, 15, 10, 17, 13, 15, 8, 16, 8, 15, 11, 17, 11, 15, 16, 15, 9, 17, 7, 13, 15, 10, 19, 16, 19, 18, 19, 16, 13, 21, 14, 17, 15, 12, 12, 18, 19, 13, 7, 12, 14, 18, 16, 10, 12, 11, 15, 13, 13, 21, 11, 9, 13, 16, 10, 17, 14, 20, 13, 11, 18, 15, 11, 14, 14, 16, 16, 14, 11, 11, 13, 10, 12, 14, 11, 11, 18, 8, 11, 18, 10, 17, 10, 12, 15, 13, 18, 9, 21, 16, 16, 12, 16, 13, 10, 15, 12, 15, 16, 14, 14, 18, 20, 16, 11, 11, 12, 16, 18, 14, 10, 14, 11, 20, 12, 11, 13, 14, 14, 16, 12, 16, 14, 14, 33, 12, 10, 20, 18, 16, 9, 10, 10, 11, 18, 11, 12, 16, 15, 11, 14, 19, 11, 9, 17, 20, 12, 15, 9, 16, 12, 14, 12, 17, 13, 14, 12, 15, 15, 9, 18, 12, 12, 9, 15, 15, 17, 13, 16, 17, 10, 12, 14, 21, 14, 13, 18, 16, 17, 15, 18, 14, 11, 11, 14, 14, 13, 18, 17, 14, 13, 21, 10, 16, 14, 12, 12, 12, 13, 15, 12, 18, 14, 19, 19, 14, 17, 15, 13, 14, 14, 11, 12, 12, 15, 20, 15, 19, 18, 15, 13, 16, 12, 11, 13, 13, 15, 20, 14, 11, 19, 14, 16, 14, 10, 17, 16, 17, 13, 16, 13, 12, 14, 11, 14, 16, 19, 12, 14, 15, 10, 13, 11, 10, 13, 8, 15, 15, 12, 15, 16, 19, 13, 14, 7, 13, 16, 14, 13, 20, 14, 17, 14, 14, 12, 15, 19, 13, 17, 20, 18, 10, 16, 23, 18, 16, 16, 16, 8, 19, 17, 12, 14, 11, 12, 18, 15, 12, 11, 15, 12, 6, 15, 13, 13, 22, 9, 20, 13, 14, 13, 13, 9, 16, 15, 17, 13, 15, 13, 11, 18, 16, 14, 11, 17, 9, 18, 15, 20, 14, 15, 15, 14, 14, 17, 17, 16, 9, 11, 13, 18, 20, 12, 11, 13, 13, 14, 10, 11, 15, 16, 12, 12, 17, 13, 16, 21, 14, 16, 19, 12, 10, 8, 14, 9, 17, 16, 11, 11, 12, 10, 9, 17, 13, 13, 14, 10, 12, 17, 9, 14, 18, 17, 17, 22, 14, 19, 17, 22, 14, 14, 20, 15, 13, 19, 12, 16, 15, 14, 11, 14, 13, 14, 13, 17, 15, 21, 12, 13, 12, 18, 14, 12, 16, 13, 15, 8, 16, 12, 14, 16, 15, 20, 15, 13, 13, 12, 16, 17, 12, 15, 9, 10, 16, 14, 18, 17, 12, 10, 12, 18, 13, 9, 14, 15, 14, 11, 11, 17, 12, 10, 11, 9, 12, 18, 10, 15, 16, 10, 11, 15, 14, 11, 11, 15, 12, 13, 9, 15, 18, 15, 14, 11, 17, 17, 11, 13, 12, 21, 13, 17, 23, 20, 13, 10, 11, 15, 17, 17, 12, 14, 13, 18, 20, 19, 12, 14, 15, 14, 17, 14, 15, 11, 16, 15, 18, 21, 18, 11, 11, 19, 12, 17, 17, 11, 12, 15, 9, 13, 22, 19, 10, 15, 15, 15, 8, 10, 9, 15, 12, 11, 16, 14, 16, 17, 12, 16, 18, 16, 15, 12, 16, 13, 13, 15, 19, 22, 15, 12, 20, 16, 18, 24, 11, 21, 20, 14, 11, 14, 11, 12, 16, 14, 24, 16, 14, 16, 19, 15, 18, 13, 12, 17, 14, 20, 16, 13, 18, 13, 14, 15, 15, 13, 14, 13, 14, 13, 21, 14, 15, 12, 20, 18, 13, 17, 15, 11, 16, 11, 17, 21, 18, 18, 11, 17, 10, 13, 12, 10, 9, 13, 16, 15, 20, 13, 13, 14, 24, 21, 21, 18, 12, 14, 12, 15, 14, 19, 16, 17, 23, 18, 20, 21, 14, 15, 13, 18, 18, 8, 13, 11, 14, 19, 17, 15, 26, 17, 19, 19, 13, 15, 15, 18, 13, 16, 13, 17, 13, 17, 10, 13, 10, 10, 15, 15, 17, 18, 15, 15, 15, 14, 14, 18, 12, 8, 17, 26, 12, 16, 16, 20, 10, 13, 15, 12, 15, 15, 14, 10, 17, 17, 13, 17, 11, 18, 17, 16, 13, 17, 18, 16, 18, 17, 15, 12, 15, 18, 22, 17, 21, 15, 20, 16, 24, 14, 16, 20, 13, 24, 14, 18, 20, 23, 20, 17, 17, 9, 16, 23, 13, 12, 15, 16, 11, 12, 10, 15, 14, 13, 10, 17, 16, 16, 17, 17, 16, 19, 27, 12, 19, 20, 13, 26, 24, 20, 19, 20, 23, 15, 20, 24, 22, 13, 11, 12, 12, 18, 18, 16, 13, 20, 8, 18, 20, 16, 21, 19, 16, 14, 17, 14, 13, 10, 18, 16, 14, 13, 11, 13, 16, 17, 18, 24, 14, 9, 15, 19, 21, 13, 11, 18, 16, 15, 13, 10, 13, 17, 15, 17, 20, 12, 10, 14, 16, 14, 15, 15, 18, 16, 14, 19, 22, 16, 12, 17, 19, 17, 14, 21, 19, 18, 19, 19, 15, 15, 13, 20, 13, 15, 17, 23, 12, 13, 17, 16, 16, 9, 12, 17, 17, 17, 16, 12, 18, 17, 17, 21, 15, 17, 17, 15, 14, 17, 10, 20, 29, 15, 22, 15, 13, 20, 19, 15, 18, 15, 26, 15, 15, 20, 21, 17, 17, 16, 17, 19, 18, 10, 15, 13, 12, 13, 18, 13, 13, 14, 16, 20, 19, 15, 16, 12, 15, 12, 13, 18, 16, 21, 19, 16, 25, 14, 15, 19, 21, 15, 24, 19, 15, 17, 21, 18, 15, 17, 17, 27, 20, 15, 14, 22, 14, 18, 13, 13, 18, 13, 8, 16, 20, 13, 13, 14, 18, 18, 20, 18, 20, 19, 21, 20, 12, 13, 17, 14, 17, 18, 16, 21, 19, 17, 23, 15, 12, 17, 14, 14, 16, 24, 18, 18, 17, 21, 15, 22, 16, 13, 20, 19, 18, 15, 24, 13, 17, 19, 21, 14, 19, 16, 17, 23, 12, 17, 16, 11, 23, 17, 22, 13, 20, 15, 21, 21, 13, 19, 17, 18, 21, 16, 20, 19, 13, 10, 18, 20, 21, 23, 22, 13, 12, 18, 19, 16, 17, 18, 16, 16, 10, 12, 19, 21, 12, 20, 20, 15, 17, 16, 12, 30, 18, 21, 25, 22, 26, 12, 18, 16, 25, 14, 17, 23, 17, 17, 15, 20, 18, 19, 17, 26, 22, 13, 16, 15, 15, 18, 16, 18, 22, 16, 11, 16, 12, 14, 16, 20, 19, 6, 10, 26, 19, 14, 21, 14, 21, 19, 19, 21, 24, 22, 20, 16, 21, 18, 16, 12, 22, 16, 17, 20, 21, 15, 25, 14, 14, 15, 18, 18, 23, 20, 15, 23, 18, 15, 16, 17, 15, 29, 13, 15, 24, 18, 21, 27, 19, 25, 26, 16, 19, 19, 23, 22, 25, 22, 28, 16, 11, 21, 24, 10, 15, 20, 17, 20, 18, 25, 26, 13, 23, 17, 26, 18, 20, 15, 14, 22, 12, 14, 11, 21, 20, 24, 16, 21, 18, 15, 14, 23, 26, 17, 17, 25, 18, 19, 34, 19, 14, 9, 18, 15, 20, 20, 22, 22, 22, 20, 29, 27, 22, 16, 15, 21, 18, 17, 23, 25, 22, 23, 19, 21, 17, 25, 20, 21, 34, 19, 23, 20, 17, 15, 23, 14, 25, 26, 26, 18, 16, 21, 28, 21, 17, 19, 18, 23, 19, 25, 26, 23, 28, 24, 12, 17, 27, 26, 21, 17, 22, 20, 22, 21, 21, 26, 23, 18, 31, 18, 26, 29, 17, 26, 18, 18, 29, 31, 16, 25, 22, 26, 22, 22, 26, 29, 28, 31, 21, 18, 23, 29, 36, 29, 25, 18, 27, 32, 9, 18, 25, 32, 22, 29, 32, 29, 25, 27, 29, 22, 43, 31, 31, 27, 25, 26, 39, 26, 26, 33, 28, 30, 38]}],\n",
              "                        {\"barmode\": \"overlay\", \"template\": {\"data\": {\"bar\": [{\"error_x\": {\"color\": \"#2a3f5f\"}, \"error_y\": {\"color\": \"#2a3f5f\"}, \"marker\": {\"line\": {\"color\": \"#E5ECF6\", \"width\": 0.5}}, \"type\": \"bar\"}], \"barpolar\": [{\"marker\": {\"line\": {\"color\": \"#E5ECF6\", \"width\": 0.5}}, \"type\": \"barpolar\"}], \"carpet\": [{\"aaxis\": {\"endlinecolor\": \"#2a3f5f\", \"gridcolor\": \"white\", \"linecolor\": \"white\", \"minorgridcolor\": \"white\", \"startlinecolor\": \"#2a3f5f\"}, \"baxis\": {\"endlinecolor\": \"#2a3f5f\", \"gridcolor\": \"white\", \"linecolor\": \"white\", \"minorgridcolor\": \"white\", \"startlinecolor\": \"#2a3f5f\"}, \"type\": \"carpet\"}], \"choropleth\": [{\"colorbar\": {\"outlinewidth\": 0, \"ticks\": \"\"}, \"type\": \"choropleth\"}], \"contour\": [{\"colorbar\": {\"outlinewidth\": 0, \"ticks\": \"\"}, \"colorscale\": [[0.0, \"#0d0887\"], [0.1111111111111111, \"#46039f\"], [0.2222222222222222, \"#7201a8\"], [0.3333333333333333, \"#9c179e\"], [0.4444444444444444, \"#bd3786\"], [0.5555555555555556, \"#d8576b\"], [0.6666666666666666, \"#ed7953\"], [0.7777777777777778, \"#fb9f3a\"], [0.8888888888888888, \"#fdca26\"], [1.0, \"#f0f921\"]], \"type\": \"contour\"}], \"contourcarpet\": [{\"colorbar\": {\"outlinewidth\": 0, \"ticks\": \"\"}, \"type\": \"contourcarpet\"}], \"heatmap\": [{\"colorbar\": {\"outlinewidth\": 0, \"ticks\": \"\"}, \"colorscale\": [[0.0, \"#0d0887\"], [0.1111111111111111, \"#46039f\"], [0.2222222222222222, \"#7201a8\"], [0.3333333333333333, \"#9c179e\"], [0.4444444444444444, \"#bd3786\"], [0.5555555555555556, \"#d8576b\"], [0.6666666666666666, \"#ed7953\"], [0.7777777777777778, \"#fb9f3a\"], [0.8888888888888888, \"#fdca26\"], [1.0, \"#f0f921\"]], \"type\": \"heatmap\"}], \"heatmapgl\": [{\"colorbar\": {\"outlinewidth\": 0, \"ticks\": \"\"}, \"colorscale\": [[0.0, \"#0d0887\"], [0.1111111111111111, \"#46039f\"], [0.2222222222222222, \"#7201a8\"], [0.3333333333333333, \"#9c179e\"], [0.4444444444444444, \"#bd3786\"], [0.5555555555555556, \"#d8576b\"], [0.6666666666666666, \"#ed7953\"], [0.7777777777777778, \"#fb9f3a\"], [0.8888888888888888, \"#fdca26\"], [1.0, \"#f0f921\"]], \"type\": \"heatmapgl\"}], \"histogram\": [{\"marker\": {\"colorbar\": {\"outlinewidth\": 0, \"ticks\": \"\"}}, \"type\": \"histogram\"}], \"histogram2d\": [{\"colorbar\": {\"outlinewidth\": 0, \"ticks\": \"\"}, \"colorscale\": [[0.0, \"#0d0887\"], [0.1111111111111111, \"#46039f\"], [0.2222222222222222, \"#7201a8\"], [0.3333333333333333, \"#9c179e\"], [0.4444444444444444, \"#bd3786\"], [0.5555555555555556, \"#d8576b\"], [0.6666666666666666, \"#ed7953\"], [0.7777777777777778, \"#fb9f3a\"], [0.8888888888888888, \"#fdca26\"], [1.0, \"#f0f921\"]], \"type\": \"histogram2d\"}], \"histogram2dcontour\": [{\"colorbar\": {\"outlinewidth\": 0, \"ticks\": \"\"}, \"colorscale\": [[0.0, \"#0d0887\"], [0.1111111111111111, \"#46039f\"], [0.2222222222222222, \"#7201a8\"], [0.3333333333333333, \"#9c179e\"], [0.4444444444444444, \"#bd3786\"], [0.5555555555555556, \"#d8576b\"], [0.6666666666666666, \"#ed7953\"], [0.7777777777777778, \"#fb9f3a\"], [0.8888888888888888, \"#fdca26\"], [1.0, \"#f0f921\"]], \"type\": \"histogram2dcontour\"}], \"mesh3d\": [{\"colorbar\": {\"outlinewidth\": 0, \"ticks\": \"\"}, \"type\": \"mesh3d\"}], \"parcoords\": [{\"line\": {\"colorbar\": {\"outlinewidth\": 0, \"ticks\": \"\"}}, \"type\": \"parcoords\"}], \"pie\": [{\"automargin\": true, \"type\": \"pie\"}], \"scatter\": [{\"marker\": {\"colorbar\": {\"outlinewidth\": 0, \"ticks\": \"\"}}, \"type\": \"scatter\"}], \"scatter3d\": [{\"line\": {\"colorbar\": {\"outlinewidth\": 0, \"ticks\": \"\"}}, \"marker\": {\"colorbar\": {\"outlinewidth\": 0, \"ticks\": \"\"}}, \"type\": \"scatter3d\"}], \"scattercarpet\": [{\"marker\": {\"colorbar\": {\"outlinewidth\": 0, \"ticks\": \"\"}}, \"type\": \"scattercarpet\"}], \"scattergeo\": [{\"marker\": {\"colorbar\": {\"outlinewidth\": 0, \"ticks\": \"\"}}, \"type\": \"scattergeo\"}], \"scattergl\": [{\"marker\": {\"colorbar\": {\"outlinewidth\": 0, \"ticks\": \"\"}}, \"type\": \"scattergl\"}], \"scattermapbox\": [{\"marker\": {\"colorbar\": {\"outlinewidth\": 0, \"ticks\": \"\"}}, \"type\": \"scattermapbox\"}], \"scatterpolar\": [{\"marker\": {\"colorbar\": {\"outlinewidth\": 0, \"ticks\": \"\"}}, \"type\": \"scatterpolar\"}], \"scatterpolargl\": [{\"marker\": {\"colorbar\": {\"outlinewidth\": 0, \"ticks\": \"\"}}, \"type\": \"scatterpolargl\"}], \"scatterternary\": [{\"marker\": {\"colorbar\": {\"outlinewidth\": 0, \"ticks\": \"\"}}, \"type\": \"scatterternary\"}], \"surface\": [{\"colorbar\": {\"outlinewidth\": 0, \"ticks\": \"\"}, \"colorscale\": [[0.0, \"#0d0887\"], [0.1111111111111111, \"#46039f\"], [0.2222222222222222, \"#7201a8\"], [0.3333333333333333, \"#9c179e\"], [0.4444444444444444, \"#bd3786\"], [0.5555555555555556, \"#d8576b\"], [0.6666666666666666, \"#ed7953\"], [0.7777777777777778, \"#fb9f3a\"], [0.8888888888888888, \"#fdca26\"], [1.0, \"#f0f921\"]], \"type\": \"surface\"}], \"table\": [{\"cells\": {\"fill\": {\"color\": \"#EBF0F8\"}, \"line\": {\"color\": \"white\"}}, \"header\": {\"fill\": {\"color\": \"#C8D4E3\"}, \"line\": {\"color\": \"white\"}}, \"type\": \"table\"}]}, \"layout\": {\"annotationdefaults\": {\"arrowcolor\": \"#2a3f5f\", \"arrowhead\": 0, \"arrowwidth\": 1}, \"coloraxis\": {\"colorbar\": {\"outlinewidth\": 0, \"ticks\": \"\"}}, \"colorscale\": {\"diverging\": [[0, \"#8e0152\"], [0.1, \"#c51b7d\"], [0.2, \"#de77ae\"], [0.3, \"#f1b6da\"], [0.4, \"#fde0ef\"], [0.5, \"#f7f7f7\"], [0.6, \"#e6f5d0\"], [0.7, \"#b8e186\"], [0.8, \"#7fbc41\"], [0.9, \"#4d9221\"], [1, \"#276419\"]], \"sequential\": [[0.0, \"#0d0887\"], [0.1111111111111111, \"#46039f\"], [0.2222222222222222, \"#7201a8\"], [0.3333333333333333, \"#9c179e\"], [0.4444444444444444, \"#bd3786\"], [0.5555555555555556, \"#d8576b\"], [0.6666666666666666, \"#ed7953\"], [0.7777777777777778, \"#fb9f3a\"], [0.8888888888888888, \"#fdca26\"], [1.0, \"#f0f921\"]], \"sequentialminus\": [[0.0, \"#0d0887\"], [0.1111111111111111, \"#46039f\"], [0.2222222222222222, \"#7201a8\"], [0.3333333333333333, \"#9c179e\"], [0.4444444444444444, \"#bd3786\"], [0.5555555555555556, \"#d8576b\"], [0.6666666666666666, \"#ed7953\"], [0.7777777777777778, \"#fb9f3a\"], [0.8888888888888888, \"#fdca26\"], [1.0, \"#f0f921\"]]}, \"colorway\": [\"#636efa\", \"#EF553B\", \"#00cc96\", \"#ab63fa\", \"#FFA15A\", \"#19d3f3\", \"#FF6692\", \"#B6E880\", \"#FF97FF\", \"#FECB52\"], \"font\": {\"color\": \"#2a3f5f\"}, \"geo\": {\"bgcolor\": \"white\", \"lakecolor\": \"white\", \"landcolor\": \"#E5ECF6\", \"showlakes\": true, \"showland\": true, \"subunitcolor\": \"white\"}, \"hoverlabel\": {\"align\": \"left\"}, \"hovermode\": \"closest\", \"mapbox\": {\"style\": \"light\"}, \"paper_bgcolor\": \"white\", \"plot_bgcolor\": \"#E5ECF6\", \"polar\": {\"angularaxis\": {\"gridcolor\": \"white\", \"linecolor\": \"white\", \"ticks\": \"\"}, \"bgcolor\": \"#E5ECF6\", \"radialaxis\": {\"gridcolor\": \"white\", \"linecolor\": \"white\", \"ticks\": \"\"}}, \"scene\": {\"xaxis\": {\"backgroundcolor\": \"#E5ECF6\", \"gridcolor\": \"white\", \"gridwidth\": 2, \"linecolor\": \"white\", \"showbackground\": true, \"ticks\": \"\", \"zerolinecolor\": \"white\"}, \"yaxis\": {\"backgroundcolor\": \"#E5ECF6\", \"gridcolor\": \"white\", \"gridwidth\": 2, \"linecolor\": \"white\", \"showbackground\": true, \"ticks\": \"\", \"zerolinecolor\": \"white\"}, \"zaxis\": {\"backgroundcolor\": \"#E5ECF6\", \"gridcolor\": \"white\", \"gridwidth\": 2, \"linecolor\": \"white\", \"showbackground\": true, \"ticks\": \"\", \"zerolinecolor\": \"white\"}}, \"shapedefaults\": {\"line\": {\"color\": \"#2a3f5f\"}}, \"ternary\": {\"aaxis\": {\"gridcolor\": \"white\", \"linecolor\": \"white\", \"ticks\": \"\"}, \"baxis\": {\"gridcolor\": \"white\", \"linecolor\": \"white\", \"ticks\": \"\"}, \"bgcolor\": \"#E5ECF6\", \"caxis\": {\"gridcolor\": \"white\", \"linecolor\": \"white\", \"ticks\": \"\"}}, \"title\": {\"x\": 0.05}, \"xaxis\": {\"automargin\": true, \"gridcolor\": \"white\", \"linecolor\": \"white\", \"ticks\": \"\", \"title\": {\"standoff\": 15}, \"zerolinecolor\": \"white\", \"zerolinewidth\": 2}, \"yaxis\": {\"automargin\": true, \"gridcolor\": \"white\", \"linecolor\": \"white\", \"ticks\": \"\", \"title\": {\"standoff\": 15}, \"zerolinecolor\": \"white\", \"zerolinewidth\": 2}}}, \"title\": {\"text\": \"Lengths of EN and NL sentences\"}, \"xaxis\": {\"title\": {\"text\": \"Length\"}}, \"yaxis\": {\"title\": {\"text\": \"Count\"}}},\n",
              "                        {\"showLink\": true, \"linkText\": \"Export to plot.ly\", \"plotlyServerURL\": \"https://plot.ly\", \"responsive\": true}\n",
              "                    ).then(function(){\n",
              "                            \n",
              "var gd = document.getElementById('8e1def5e-068d-4fef-a012-e9844c340407');\n",
              "var x = new MutationObserver(function (mutations, observer) {{\n",
              "        var display = window.getComputedStyle(gd).display;\n",
              "        if (!display || display === 'none') {{\n",
              "            console.log([gd, 'removed!']);\n",
              "            Plotly.purge(gd);\n",
              "            observer.disconnect();\n",
              "        }}\n",
              "}});\n",
              "\n",
              "// Listen for the removal of the full notebook cells\n",
              "var notebookContainer = gd.closest('#notebook-container');\n",
              "if (notebookContainer) {{\n",
              "    x.observe(notebookContainer, {childList: true});\n",
              "}}\n",
              "\n",
              "// Listen for the clearing of the current output cell\n",
              "var outputEl = gd.closest('.output');\n",
              "if (outputEl) {{\n",
              "    x.observe(outputEl, {childList: true});\n",
              "}}\n",
              "\n",
              "                        })\n",
              "                };\n",
              "                \n",
              "            </script>\n",
              "        </div>\n",
              "</body>\n",
              "</html>"
            ]
          },
          "metadata": {}
        }
      ]
    },
    {
      "cell_type": "code",
      "metadata": {
        "id": "bPHNmPPTzLbO",
        "colab": {
          "base_uri": "https://localhost:8080/"
        },
        "outputId": "f987df04-8b77-4f6b-eb54-5452bf40d9dc"
      },
      "source": [
        "en_vocab_size = en_sp.get_piece_size()\n",
        "nl_vocab_size = nl_sp.get_piece_size()\n",
        "print(f\"EN vocab size: {en_vocab_size}\")\n",
        "print(f\"NL vocab size: {nl_vocab_size}\")"
      ],
      "execution_count": 27,
      "outputs": [
        {
          "output_type": "stream",
          "name": "stdout",
          "text": [
            "EN vocab size: 6100\n",
            "NL vocab size: 6500\n"
          ]
        }
      ]
    },
    {
      "cell_type": "code",
      "metadata": {
        "id": "iTFei930zNk4",
        "colab": {
          "base_uri": "https://localhost:8080/"
        },
        "outputId": "565e403a-c73b-4e1a-81b6-c95506f424b7"
      },
      "source": [
        "print(en_sp.piece_to_id('__MUST_BE_UNKNOWN__'))\n",
        "print(en_sp.id_to_piece(0))"
      ],
      "execution_count": 28,
      "outputs": [
        {
          "output_type": "stream",
          "name": "stdout",
          "text": [
            "0\n",
            "<unk>\n"
          ]
        }
      ]
    },
    {
      "cell_type": "code",
      "metadata": {
        "id": "l-SlpKKYzPfm",
        "colab": {
          "base_uri": "https://localhost:8080/"
        },
        "outputId": "6f892916-c5d9-4a1d-8b8c-be7914c5cd72"
      },
      "source": [
        "en_max_length = train_df[\"EN_len\"].max()\n",
        "nl_max_length = train_df[\"NL_len\"].max()\n",
        "#30 for faster processing time\n",
        "en_max_length=30\n",
        "nl_max_length=en_max_length\n",
        "print(en_max_length)\n",
        "print(nl_max_length)"
      ],
      "execution_count": 29,
      "outputs": [
        {
          "output_type": "stream",
          "name": "stdout",
          "text": [
            "30\n",
            "30\n"
          ]
        }
      ]
    },
    {
      "cell_type": "code",
      "metadata": {
        "id": "J2nJ6Q5EuiAu"
      },
      "source": [
        "#use post padding to fill up short sentence with 0\n",
        "en_padded_seq = pad_sequences(train_df[\"EN_pieces\"].tolist(), maxlen=en_max_length, padding='post')\n",
        "nl_padded_seq = pad_sequences(train_df[\"NL_pieces\"].tolist(), maxlen=nl_max_length, padding='post')"
      ],
      "execution_count": 30,
      "outputs": []
    },
    {
      "cell_type": "code",
      "metadata": {
        "colab": {
          "base_uri": "https://localhost:8080/"
        },
        "id": "hkrLQfJ-ulH5",
        "outputId": "818f2d78-e7f5-4192-c16d-e4a360501e82"
      },
      "source": [
        "#pick a sample\n",
        "en_padded_seq[2]"
      ],
      "execution_count": 31,
      "outputs": [
        {
          "output_type": "execute_result",
          "data": {
            "text/plain": [
              "array([2884,    3,    0,    0,    0,    0,    0,    0,    0,    0,    0,\n",
              "          0,    0,    0,    0,    0,    0,    0,    0,    0,    0,    0,\n",
              "          0,    0,    0,    0,    0,    0,    0,    0], dtype=int32)"
            ]
          },
          "metadata": {},
          "execution_count": 31
        }
      ]
    },
    {
      "cell_type": "code",
      "metadata": {
        "id": "N6iP1e3gumt2"
      },
      "source": [
        "train_seq_df = pd.DataFrame( {'en_seq':en_padded_seq.tolist(), 'nl_seq':nl_padded_seq.tolist()})"
      ],
      "execution_count": 32,
      "outputs": []
    },
    {
      "cell_type": "code",
      "metadata": {
        "colab": {
          "base_uri": "https://localhost:8080/",
          "height": 203
        },
        "id": "fKiVpA5huotl",
        "outputId": "5e499cc5-ee6f-4796-fc37-4d04ed7a507c"
      },
      "source": [
        "train_seq_df.tail()"
      ],
      "execution_count": 33,
      "outputs": [
        {
          "output_type": "execute_result",
          "data": {
            "text/html": [
              "<div>\n",
              "<style scoped>\n",
              "    .dataframe tbody tr th:only-of-type {\n",
              "        vertical-align: middle;\n",
              "    }\n",
              "\n",
              "    .dataframe tbody tr th {\n",
              "        vertical-align: top;\n",
              "    }\n",
              "\n",
              "    .dataframe thead th {\n",
              "        text-align: right;\n",
              "    }\n",
              "</style>\n",
              "<table border=\"1\" class=\"dataframe\">\n",
              "  <thead>\n",
              "    <tr style=\"text-align: right;\">\n",
              "      <th></th>\n",
              "      <th>en_seq</th>\n",
              "      <th>nl_seq</th>\n",
              "    </tr>\n",
              "  </thead>\n",
              "  <tbody>\n",
              "    <tr>\n",
              "      <th>26383</th>\n",
              "      <td>[14, 52, 19, 5, 13, 55, 185, 6, 1604, 7, 538, ...</td>\n",
              "      <td>[15, 3458, 120, 466, 2129, 325, 3373, 330, 18,...</td>\n",
              "    </tr>\n",
              "    <tr>\n",
              "      <th>26384</th>\n",
              "      <td>[109, 21, 4, 2037, 73, 4, 5, 44, 39, 6, 113, 9...</td>\n",
              "      <td>[189, 41, 4, 16, 5, 1784, 1457, 146, 44, 29, 4...</td>\n",
              "    </tr>\n",
              "    <tr>\n",
              "      <th>26385</th>\n",
              "      <td>[10, 64, 376, 6, 885, 1605, 264, 16, 34, 486, ...</td>\n",
              "      <td>[8, 19, 445, 413, 42, 422, 530, 52, 78, 427, 3...</td>\n",
              "    </tr>\n",
              "    <tr>\n",
              "      <th>26386</th>\n",
              "      <td>[84, 7, 662, 21, 136, 609, 4, 23, 8, 204, 133,...</td>\n",
              "      <td>[4, 2280, 320, 5, 74, 770, 492, 3518, 7, 4, 16...</td>\n",
              "    </tr>\n",
              "    <tr>\n",
              "      <th>26387</th>\n",
              "      <td>[4359, 45, 2831, 537, 85, 7, 67, 46, 5, 10, 72...</td>\n",
              "      <td>[75, 17, 1179, 684, 78, 1664, 2754, 1036, 4, 1...</td>\n",
              "    </tr>\n",
              "  </tbody>\n",
              "</table>\n",
              "</div>"
            ],
            "text/plain": [
              "                                                  en_seq                                             nl_seq\n",
              "26383  [14, 52, 19, 5, 13, 55, 185, 6, 1604, 7, 538, ...  [15, 3458, 120, 466, 2129, 325, 3373, 330, 18,...\n",
              "26384  [109, 21, 4, 2037, 73, 4, 5, 44, 39, 6, 113, 9...  [189, 41, 4, 16, 5, 1784, 1457, 146, 44, 29, 4...\n",
              "26385  [10, 64, 376, 6, 885, 1605, 264, 16, 34, 486, ...  [8, 19, 445, 413, 42, 422, 530, 52, 78, 427, 3...\n",
              "26386  [84, 7, 662, 21, 136, 609, 4, 23, 8, 204, 133,...  [4, 2280, 320, 5, 74, 770, 492, 3518, 7, 4, 16...\n",
              "26387  [4359, 45, 2831, 537, 85, 7, 67, 46, 5, 10, 72...  [75, 17, 1179, 684, 78, 1664, 2754, 1036, 4, 1..."
            ]
          },
          "metadata": {},
          "execution_count": 33
        }
      ]
    },
    {
      "cell_type": "code",
      "metadata": {
        "id": "ZVLUGXP1uprh"
      },
      "source": [
        "def define_model(input_vocab,output_vocab, input_length,output_length,output_dim):\n",
        "      model = Sequential()\n",
        "      #mark_zero , set 0 as special character reserved for unknown words  \n",
        "      model.add(Embedding(input_vocab, output_dim, input_length=input_length, mask_zero=True))\n",
        "      model.add(LSTM(output_dim))\n",
        "      #repeat the input (n) times\n",
        "#return_sequences=True returns all the outputs the encoder observed in the past, while RepeatVector repeats the very last output of the encoder.    \n",
        "      model.add(RepeatVector(output_length))\n",
        "    #return the full sequences\n",
        "      model.add(LSTM(output_dim, return_sequences=True))\n",
        "      #model.add(TimeDistributed(Dense(output_vocab, activation='softmax')))\n",
        "      \n",
        "      model.add(Dense(output_vocab, activation='softmax'))\n",
        "      return model"
      ],
      "execution_count": 34,
      "outputs": []
    },
    {
      "cell_type": "code",
      "metadata": {
        "colab": {
          "base_uri": "https://localhost:8080/"
        },
        "id": "V7RWeiDAuro2",
        "outputId": "dbde21fa-c343-40b4-8ac9-7b23ae3ce3e3"
      },
      "source": [
        "train_seq_df.shape"
      ],
      "execution_count": 35,
      "outputs": [
        {
          "output_type": "execute_result",
          "data": {
            "text/plain": [
              "(26388, 2)"
            ]
          },
          "metadata": {},
          "execution_count": 35
        }
      ]
    },
    {
      "cell_type": "code",
      "metadata": {
        "id": "5AUn7tmvus3D"
      },
      "source": [
        "train, test = train_test_split(train_seq_df, test_size=0.1, random_state = 3)"
      ],
      "execution_count": 36,
      "outputs": []
    },
    {
      "cell_type": "code",
      "metadata": {
        "id": "aaGp_2XHuuob"
      },
      "source": [
        "trainX = np.asarray(train[\"nl_seq\"].tolist())\n",
        "trainY = np.asarray(train[\"en_seq\"].tolist())\n",
        "\n",
        "testX = np.asarray(test[\"nl_seq\"].tolist())\n",
        "testY = np.asarray(test[\"en_seq\"].tolist())"
      ],
      "execution_count": 37,
      "outputs": []
    },
    {
      "cell_type": "code",
      "metadata": {
        "id": "UCiaJRmpuwpz"
      },
      "source": [
        "model = define_model(nl_vocab_size, en_vocab_size, nl_max_length, en_max_length, 1024)"
      ],
      "execution_count": 38,
      "outputs": []
    },
    {
      "cell_type": "code",
      "metadata": {
        "colab": {
          "base_uri": "https://localhost:8080/"
        },
        "id": "_j3ICvA8vIE1",
        "outputId": "e2b27d5d-0988-44fe-a4f2-6b4118131e0c"
      },
      "source": [
        "#RMSprop is recommended for RNN, sparse_categorical_crossentropy for densed target output as integers\n",
        "model.compile(optimizer=tf.keras.optimizers.RMSprop(lr=0.001), loss='sparse_categorical_crossentropy')"
      ],
      "execution_count": 39,
      "outputs": [
        {
          "output_type": "stream",
          "name": "stderr",
          "text": [
            "/usr/local/lib/python3.7/dist-packages/keras/optimizer_v2/rmsprop.py:130: UserWarning:\n",
            "\n",
            "The `lr` argument is deprecated, use `learning_rate` instead.\n",
            "\n"
          ]
        }
      ]
    },
    {
      "cell_type": "code",
      "metadata": {
        "id": "Rvq7EHgGuxzh"
      },
      "source": [
        "def encode_output(sequences, vocab_size):\n",
        "   ylist = list()\n",
        "   for sequence in sequences:\n",
        "    encoded = to_categorical(sequence, num_classes=vocab_size)\n",
        "    ylist.append(encoded)\n",
        "    y = array(ylist)\n",
        "    y = y.reshape(sequences.shape[0], sequences.shape[1], vocab_size)\n",
        "    return y"
      ],
      "execution_count": 40,
      "outputs": []
    },
    {
      "cell_type": "code",
      "metadata": {
        "colab": {
          "base_uri": "https://localhost:8080/"
        },
        "id": "E4bd1Ueku3An",
        "outputId": "a3e675c9-16c2-404d-a916-8457e8990da1"
      },
      "source": [
        "filename = 'nmt_model'\n",
        "checkpoint = ModelCheckpoint(filename, monitor='val_loss', verbose=1, save_best_only=True, mode='min')\n",
        "\n",
        "# train model\n",
        "history = model.fit(trainX, trainY.reshape(trainY.shape[0], trainY.shape[1], 1),\n",
        "                    epochs=15, batch_size=64, validation_split = 0.1,callbacks=[checkpoint], \n",
        "                    verbose=1)"
      ],
      "execution_count": 41,
      "outputs": [
        {
          "output_type": "stream",
          "name": "stdout",
          "text": [
            "Epoch 1/15\n",
            "334/334 [==============================] - ETA: 0s - loss: 1.8158\n",
            "Epoch 00001: val_loss improved from inf to 1.60443, saving model to nmt_model\n"
          ]
        },
        {
          "output_type": "stream",
          "name": "stderr",
          "text": [
            "WARNING:absl:Found untraced functions such as lstm_cell_layer_call_fn, lstm_cell_layer_call_and_return_conditional_losses, lstm_cell_1_layer_call_fn, lstm_cell_1_layer_call_and_return_conditional_losses, lstm_cell_layer_call_fn while saving (showing 5 of 10). These functions will not be directly callable after loading.\n"
          ]
        },
        {
          "output_type": "stream",
          "name": "stdout",
          "text": [
            "INFO:tensorflow:Assets written to: nmt_model/assets\n"
          ]
        },
        {
          "output_type": "stream",
          "name": "stderr",
          "text": [
            "INFO:tensorflow:Assets written to: nmt_model/assets\n",
            "WARNING:absl:<keras.layers.recurrent.LSTMCell object at 0x7f89a02a9350> has the same name 'LSTMCell' as a built-in Keras object. Consider renaming <class 'keras.layers.recurrent.LSTMCell'> to avoid naming conflicts when loading with `tf.keras.models.load_model`. If renaming is not possible, pass the object in the `custom_objects` parameter of the load function.\n",
            "WARNING:absl:<keras.layers.recurrent.LSTMCell object at 0x7f89301d7750> has the same name 'LSTMCell' as a built-in Keras object. Consider renaming <class 'keras.layers.recurrent.LSTMCell'> to avoid naming conflicts when loading with `tf.keras.models.load_model`. If renaming is not possible, pass the object in the `custom_objects` parameter of the load function.\n"
          ]
        },
        {
          "output_type": "stream",
          "name": "stdout",
          "text": [
            "334/334 [==============================] - 44s 110ms/step - loss: 1.8158 - val_loss: 1.6044\n",
            "Epoch 2/15\n",
            "333/334 [============================>.] - ETA: 0s - loss: 1.4837\n",
            "Epoch 00002: val_loss improved from 1.60443 to 1.45099, saving model to nmt_model\n"
          ]
        },
        {
          "output_type": "stream",
          "name": "stderr",
          "text": [
            "WARNING:absl:Found untraced functions such as lstm_cell_layer_call_fn, lstm_cell_layer_call_and_return_conditional_losses, lstm_cell_1_layer_call_fn, lstm_cell_1_layer_call_and_return_conditional_losses, lstm_cell_layer_call_fn while saving (showing 5 of 10). These functions will not be directly callable after loading.\n"
          ]
        },
        {
          "output_type": "stream",
          "name": "stdout",
          "text": [
            "INFO:tensorflow:Assets written to: nmt_model/assets\n"
          ]
        },
        {
          "output_type": "stream",
          "name": "stderr",
          "text": [
            "INFO:tensorflow:Assets written to: nmt_model/assets\n",
            "WARNING:absl:<keras.layers.recurrent.LSTMCell object at 0x7f89a02a9350> has the same name 'LSTMCell' as a built-in Keras object. Consider renaming <class 'keras.layers.recurrent.LSTMCell'> to avoid naming conflicts when loading with `tf.keras.models.load_model`. If renaming is not possible, pass the object in the `custom_objects` parameter of the load function.\n",
            "WARNING:absl:<keras.layers.recurrent.LSTMCell object at 0x7f89301d7750> has the same name 'LSTMCell' as a built-in Keras object. Consider renaming <class 'keras.layers.recurrent.LSTMCell'> to avoid naming conflicts when loading with `tf.keras.models.load_model`. If renaming is not possible, pass the object in the `custom_objects` parameter of the load function.\n"
          ]
        },
        {
          "output_type": "stream",
          "name": "stdout",
          "text": [
            "334/334 [==============================] - 36s 107ms/step - loss: 1.4836 - val_loss: 1.4510\n",
            "Epoch 3/15\n",
            "333/334 [============================>.] - ETA: 0s - loss: 1.3706\n",
            "Epoch 00003: val_loss improved from 1.45099 to 1.36843, saving model to nmt_model\n"
          ]
        },
        {
          "output_type": "stream",
          "name": "stderr",
          "text": [
            "WARNING:absl:Found untraced functions such as lstm_cell_layer_call_fn, lstm_cell_layer_call_and_return_conditional_losses, lstm_cell_1_layer_call_fn, lstm_cell_1_layer_call_and_return_conditional_losses, lstm_cell_layer_call_fn while saving (showing 5 of 10). These functions will not be directly callable after loading.\n"
          ]
        },
        {
          "output_type": "stream",
          "name": "stdout",
          "text": [
            "INFO:tensorflow:Assets written to: nmt_model/assets\n"
          ]
        },
        {
          "output_type": "stream",
          "name": "stderr",
          "text": [
            "INFO:tensorflow:Assets written to: nmt_model/assets\n",
            "WARNING:absl:<keras.layers.recurrent.LSTMCell object at 0x7f89a02a9350> has the same name 'LSTMCell' as a built-in Keras object. Consider renaming <class 'keras.layers.recurrent.LSTMCell'> to avoid naming conflicts when loading with `tf.keras.models.load_model`. If renaming is not possible, pass the object in the `custom_objects` parameter of the load function.\n",
            "WARNING:absl:<keras.layers.recurrent.LSTMCell object at 0x7f89301d7750> has the same name 'LSTMCell' as a built-in Keras object. Consider renaming <class 'keras.layers.recurrent.LSTMCell'> to avoid naming conflicts when loading with `tf.keras.models.load_model`. If renaming is not possible, pass the object in the `custom_objects` parameter of the load function.\n"
          ]
        },
        {
          "output_type": "stream",
          "name": "stdout",
          "text": [
            "334/334 [==============================] - 36s 107ms/step - loss: 1.3706 - val_loss: 1.3684\n",
            "Epoch 4/15\n",
            "334/334 [==============================] - ETA: 0s - loss: 1.2785\n",
            "Epoch 00004: val_loss improved from 1.36843 to 1.31785, saving model to nmt_model\n"
          ]
        },
        {
          "output_type": "stream",
          "name": "stderr",
          "text": [
            "WARNING:absl:Found untraced functions such as lstm_cell_layer_call_fn, lstm_cell_layer_call_and_return_conditional_losses, lstm_cell_1_layer_call_fn, lstm_cell_1_layer_call_and_return_conditional_losses, lstm_cell_layer_call_fn while saving (showing 5 of 10). These functions will not be directly callable after loading.\n"
          ]
        },
        {
          "output_type": "stream",
          "name": "stdout",
          "text": [
            "INFO:tensorflow:Assets written to: nmt_model/assets\n"
          ]
        },
        {
          "output_type": "stream",
          "name": "stderr",
          "text": [
            "INFO:tensorflow:Assets written to: nmt_model/assets\n",
            "WARNING:absl:<keras.layers.recurrent.LSTMCell object at 0x7f89a02a9350> has the same name 'LSTMCell' as a built-in Keras object. Consider renaming <class 'keras.layers.recurrent.LSTMCell'> to avoid naming conflicts when loading with `tf.keras.models.load_model`. If renaming is not possible, pass the object in the `custom_objects` parameter of the load function.\n",
            "WARNING:absl:<keras.layers.recurrent.LSTMCell object at 0x7f89301d7750> has the same name 'LSTMCell' as a built-in Keras object. Consider renaming <class 'keras.layers.recurrent.LSTMCell'> to avoid naming conflicts when loading with `tf.keras.models.load_model`. If renaming is not possible, pass the object in the `custom_objects` parameter of the load function.\n"
          ]
        },
        {
          "output_type": "stream",
          "name": "stdout",
          "text": [
            "334/334 [==============================] - 36s 106ms/step - loss: 1.2785 - val_loss: 1.3178\n",
            "Epoch 5/15\n",
            "334/334 [==============================] - ETA: 0s - loss: 1.1934\n",
            "Epoch 00005: val_loss improved from 1.31785 to 1.27727, saving model to nmt_model\n"
          ]
        },
        {
          "output_type": "stream",
          "name": "stderr",
          "text": [
            "WARNING:absl:Found untraced functions such as lstm_cell_layer_call_fn, lstm_cell_layer_call_and_return_conditional_losses, lstm_cell_1_layer_call_fn, lstm_cell_1_layer_call_and_return_conditional_losses, lstm_cell_layer_call_fn while saving (showing 5 of 10). These functions will not be directly callable after loading.\n"
          ]
        },
        {
          "output_type": "stream",
          "name": "stdout",
          "text": [
            "INFO:tensorflow:Assets written to: nmt_model/assets\n"
          ]
        },
        {
          "output_type": "stream",
          "name": "stderr",
          "text": [
            "INFO:tensorflow:Assets written to: nmt_model/assets\n",
            "WARNING:absl:<keras.layers.recurrent.LSTMCell object at 0x7f89a02a9350> has the same name 'LSTMCell' as a built-in Keras object. Consider renaming <class 'keras.layers.recurrent.LSTMCell'> to avoid naming conflicts when loading with `tf.keras.models.load_model`. If renaming is not possible, pass the object in the `custom_objects` parameter of the load function.\n",
            "WARNING:absl:<keras.layers.recurrent.LSTMCell object at 0x7f89301d7750> has the same name 'LSTMCell' as a built-in Keras object. Consider renaming <class 'keras.layers.recurrent.LSTMCell'> to avoid naming conflicts when loading with `tf.keras.models.load_model`. If renaming is not possible, pass the object in the `custom_objects` parameter of the load function.\n"
          ]
        },
        {
          "output_type": "stream",
          "name": "stdout",
          "text": [
            "334/334 [==============================] - 35s 106ms/step - loss: 1.1934 - val_loss: 1.2773\n",
            "Epoch 6/15\n",
            "334/334 [==============================] - ETA: 0s - loss: 1.1085\n",
            "Epoch 00006: val_loss improved from 1.27727 to 1.24923, saving model to nmt_model\n"
          ]
        },
        {
          "output_type": "stream",
          "name": "stderr",
          "text": [
            "WARNING:absl:Found untraced functions such as lstm_cell_layer_call_fn, lstm_cell_layer_call_and_return_conditional_losses, lstm_cell_1_layer_call_fn, lstm_cell_1_layer_call_and_return_conditional_losses, lstm_cell_layer_call_fn while saving (showing 5 of 10). These functions will not be directly callable after loading.\n"
          ]
        },
        {
          "output_type": "stream",
          "name": "stdout",
          "text": [
            "INFO:tensorflow:Assets written to: nmt_model/assets\n"
          ]
        },
        {
          "output_type": "stream",
          "name": "stderr",
          "text": [
            "INFO:tensorflow:Assets written to: nmt_model/assets\n",
            "WARNING:absl:<keras.layers.recurrent.LSTMCell object at 0x7f89a02a9350> has the same name 'LSTMCell' as a built-in Keras object. Consider renaming <class 'keras.layers.recurrent.LSTMCell'> to avoid naming conflicts when loading with `tf.keras.models.load_model`. If renaming is not possible, pass the object in the `custom_objects` parameter of the load function.\n",
            "WARNING:absl:<keras.layers.recurrent.LSTMCell object at 0x7f89301d7750> has the same name 'LSTMCell' as a built-in Keras object. Consider renaming <class 'keras.layers.recurrent.LSTMCell'> to avoid naming conflicts when loading with `tf.keras.models.load_model`. If renaming is not possible, pass the object in the `custom_objects` parameter of the load function.\n"
          ]
        },
        {
          "output_type": "stream",
          "name": "stdout",
          "text": [
            "334/334 [==============================] - 35s 106ms/step - loss: 1.1085 - val_loss: 1.2492\n",
            "Epoch 7/15\n",
            "333/334 [============================>.] - ETA: 0s - loss: 1.0259\n",
            "Epoch 00007: val_loss improved from 1.24923 to 1.23458, saving model to nmt_model\n"
          ]
        },
        {
          "output_type": "stream",
          "name": "stderr",
          "text": [
            "WARNING:absl:Found untraced functions such as lstm_cell_layer_call_fn, lstm_cell_layer_call_and_return_conditional_losses, lstm_cell_1_layer_call_fn, lstm_cell_1_layer_call_and_return_conditional_losses, lstm_cell_layer_call_fn while saving (showing 5 of 10). These functions will not be directly callable after loading.\n"
          ]
        },
        {
          "output_type": "stream",
          "name": "stdout",
          "text": [
            "INFO:tensorflow:Assets written to: nmt_model/assets\n"
          ]
        },
        {
          "output_type": "stream",
          "name": "stderr",
          "text": [
            "INFO:tensorflow:Assets written to: nmt_model/assets\n",
            "WARNING:absl:<keras.layers.recurrent.LSTMCell object at 0x7f89a02a9350> has the same name 'LSTMCell' as a built-in Keras object. Consider renaming <class 'keras.layers.recurrent.LSTMCell'> to avoid naming conflicts when loading with `tf.keras.models.load_model`. If renaming is not possible, pass the object in the `custom_objects` parameter of the load function.\n",
            "WARNING:absl:<keras.layers.recurrent.LSTMCell object at 0x7f89301d7750> has the same name 'LSTMCell' as a built-in Keras object. Consider renaming <class 'keras.layers.recurrent.LSTMCell'> to avoid naming conflicts when loading with `tf.keras.models.load_model`. If renaming is not possible, pass the object in the `custom_objects` parameter of the load function.\n"
          ]
        },
        {
          "output_type": "stream",
          "name": "stdout",
          "text": [
            "334/334 [==============================] - 35s 105ms/step - loss: 1.0263 - val_loss: 1.2346\n",
            "Epoch 8/15\n",
            "334/334 [==============================] - ETA: 0s - loss: 0.9482\n",
            "Epoch 00008: val_loss improved from 1.23458 to 1.22957, saving model to nmt_model\n"
          ]
        },
        {
          "output_type": "stream",
          "name": "stderr",
          "text": [
            "WARNING:absl:Found untraced functions such as lstm_cell_layer_call_fn, lstm_cell_layer_call_and_return_conditional_losses, lstm_cell_1_layer_call_fn, lstm_cell_1_layer_call_and_return_conditional_losses, lstm_cell_layer_call_fn while saving (showing 5 of 10). These functions will not be directly callable after loading.\n"
          ]
        },
        {
          "output_type": "stream",
          "name": "stdout",
          "text": [
            "INFO:tensorflow:Assets written to: nmt_model/assets\n"
          ]
        },
        {
          "output_type": "stream",
          "name": "stderr",
          "text": [
            "INFO:tensorflow:Assets written to: nmt_model/assets\n",
            "WARNING:absl:<keras.layers.recurrent.LSTMCell object at 0x7f89a02a9350> has the same name 'LSTMCell' as a built-in Keras object. Consider renaming <class 'keras.layers.recurrent.LSTMCell'> to avoid naming conflicts when loading with `tf.keras.models.load_model`. If renaming is not possible, pass the object in the `custom_objects` parameter of the load function.\n",
            "WARNING:absl:<keras.layers.recurrent.LSTMCell object at 0x7f89301d7750> has the same name 'LSTMCell' as a built-in Keras object. Consider renaming <class 'keras.layers.recurrent.LSTMCell'> to avoid naming conflicts when loading with `tf.keras.models.load_model`. If renaming is not possible, pass the object in the `custom_objects` parameter of the load function.\n"
          ]
        },
        {
          "output_type": "stream",
          "name": "stdout",
          "text": [
            "334/334 [==============================] - 35s 105ms/step - loss: 0.9482 - val_loss: 1.2296\n",
            "Epoch 9/15\n",
            "334/334 [==============================] - ETA: 0s - loss: 0.8675\n",
            "Epoch 00009: val_loss did not improve from 1.22957\n",
            "334/334 [==============================] - 23s 69ms/step - loss: 0.8675 - val_loss: 1.2337\n",
            "Epoch 10/15\n",
            "334/334 [==============================] - ETA: 0s - loss: 0.7904\n",
            "Epoch 00010: val_loss did not improve from 1.22957\n",
            "334/334 [==============================] - 23s 70ms/step - loss: 0.7904 - val_loss: 1.2519\n",
            "Epoch 11/15\n",
            "333/334 [============================>.] - ETA: 0s - loss: 0.7164\n",
            "Epoch 00011: val_loss did not improve from 1.22957\n",
            "334/334 [==============================] - 23s 69ms/step - loss: 0.7162 - val_loss: 1.2663\n",
            "Epoch 12/15\n",
            "334/334 [==============================] - ETA: 0s - loss: 0.6410\n",
            "Epoch 00012: val_loss did not improve from 1.22957\n",
            "334/334 [==============================] - 23s 68ms/step - loss: 0.6410 - val_loss: 1.2957\n",
            "Epoch 13/15\n",
            "333/334 [============================>.] - ETA: 0s - loss: 0.5777\n",
            "Epoch 00013: val_loss did not improve from 1.22957\n",
            "334/334 [==============================] - 23s 70ms/step - loss: 0.5781 - val_loss: 1.3210\n",
            "Epoch 14/15\n",
            "334/334 [==============================] - ETA: 0s - loss: 0.5182\n",
            "Epoch 00014: val_loss did not improve from 1.22957\n",
            "334/334 [==============================] - 23s 69ms/step - loss: 0.5182 - val_loss: 1.3496\n",
            "Epoch 15/15\n",
            "334/334 [==============================] - ETA: 0s - loss: 0.4648\n",
            "Epoch 00015: val_loss did not improve from 1.22957\n",
            "334/334 [==============================] - 23s 69ms/step - loss: 0.4648 - val_loss: 1.3842\n"
          ]
        }
      ]
    },
    {
      "cell_type": "code",
      "metadata": {
        "colab": {
          "base_uri": "https://localhost:8080/",
          "height": 542
        },
        "id": "bWqbZMa4vEeU",
        "outputId": "867335f1-d835-4368-8b0a-3f8cb237ea18"
      },
      "source": [
        "trace1 = go.Scatter(\n",
        "    y=history.history['loss'],\n",
        "    name = \"Training Loss\",\n",
        "    marker=dict(color='rgba(171, 50, 96, 0.6)'))\n",
        "trace2 = go.Scatter(\n",
        "    y=history.history['val_loss'],\n",
        "    name = \"Validation Loss\",\n",
        "    marker=dict(color='rgba(12, 50, 196, 0.6)'))\n",
        "\n",
        "data = [trace1, trace2]\n",
        "layout = go.Layout(title='Loss and Val_Loss in 15 Epochs',\n",
        "                   xaxis=dict(title='Epoch'),\n",
        "                   yaxis=dict( title='Loss'),\n",
        ")\n",
        "fig = go.Figure(data=data, layout=layout)\n",
        "iplot(fig, config={'showLink': True})"
      ],
      "execution_count": 42,
      "outputs": [
        {
          "output_type": "display_data",
          "data": {
            "text/html": [
              "<html>\n",
              "<head><meta charset=\"utf-8\" /></head>\n",
              "<body>\n",
              "    <div>\n",
              "            <script src=\"https://cdnjs.cloudflare.com/ajax/libs/mathjax/2.7.5/MathJax.js?config=TeX-AMS-MML_SVG\"></script><script type=\"text/javascript\">if (window.MathJax) {MathJax.Hub.Config({SVG: {font: \"STIX-Web\"}});}</script>\n",
              "                <script type=\"text/javascript\">window.PlotlyConfig = {MathJaxConfig: 'local'};</script>\n",
              "        <script src=\"https://cdn.plot.ly/plotly-latest.min.js\"></script>    \n",
              "            <div id=\"54f217a3-ea4d-4fff-9bc3-ae9b850eb38b\" class=\"plotly-graph-div\" style=\"height:525px; width:100%;\"></div>\n",
              "            <script type=\"text/javascript\">\n",
              "                \n",
              "                    window.PLOTLYENV=window.PLOTLYENV || {};\n",
              "                    window.PLOTLYENV.BASE_URL='https://plot.ly';\n",
              "                    \n",
              "                if (document.getElementById(\"54f217a3-ea4d-4fff-9bc3-ae9b850eb38b\")) {\n",
              "                    Plotly.newPlot(\n",
              "                        '54f217a3-ea4d-4fff-9bc3-ae9b850eb38b',\n",
              "                        [{\"marker\": {\"color\": \"rgba(171, 50, 96, 0.6)\"}, \"name\": \"Training Loss\", \"type\": \"scatter\", \"y\": [1.8157715797424316, 1.4835715293884277, 1.3705898523330688, 1.2785199880599976, 1.19338059425354, 1.1085284948349, 1.0263056755065918, 0.9481796622276306, 0.8674870133399963, 0.7904214859008789, 0.7162399888038635, 0.6410055160522461, 0.5781455636024475, 0.5182031393051147, 0.46480345726013184]}, {\"marker\": {\"color\": \"rgba(12, 50, 196, 0.6)\"}, \"name\": \"Validation Loss\", \"type\": \"scatter\", \"y\": [1.6044343709945679, 1.4509915113449097, 1.3684250116348267, 1.3178499937057495, 1.2772672176361084, 1.2492328882217407, 1.2345821857452393, 1.2295728921890259, 1.2337219715118408, 1.2519021034240723, 1.2663425207138062, 1.2957470417022705, 1.3209805488586426, 1.3496206998825073, 1.3842111825942993]}],\n",
              "                        {\"template\": {\"data\": {\"bar\": [{\"error_x\": {\"color\": \"#2a3f5f\"}, \"error_y\": {\"color\": \"#2a3f5f\"}, \"marker\": {\"line\": {\"color\": \"#E5ECF6\", \"width\": 0.5}}, \"type\": \"bar\"}], \"barpolar\": [{\"marker\": {\"line\": {\"color\": \"#E5ECF6\", \"width\": 0.5}}, \"type\": \"barpolar\"}], \"carpet\": [{\"aaxis\": {\"endlinecolor\": \"#2a3f5f\", \"gridcolor\": \"white\", \"linecolor\": \"white\", \"minorgridcolor\": \"white\", \"startlinecolor\": \"#2a3f5f\"}, \"baxis\": {\"endlinecolor\": \"#2a3f5f\", \"gridcolor\": \"white\", \"linecolor\": \"white\", \"minorgridcolor\": \"white\", \"startlinecolor\": \"#2a3f5f\"}, \"type\": \"carpet\"}], \"choropleth\": [{\"colorbar\": {\"outlinewidth\": 0, \"ticks\": \"\"}, \"type\": \"choropleth\"}], \"contour\": [{\"colorbar\": {\"outlinewidth\": 0, \"ticks\": \"\"}, \"colorscale\": [[0.0, \"#0d0887\"], [0.1111111111111111, \"#46039f\"], [0.2222222222222222, \"#7201a8\"], [0.3333333333333333, \"#9c179e\"], [0.4444444444444444, \"#bd3786\"], [0.5555555555555556, \"#d8576b\"], [0.6666666666666666, \"#ed7953\"], [0.7777777777777778, \"#fb9f3a\"], [0.8888888888888888, \"#fdca26\"], [1.0, \"#f0f921\"]], \"type\": \"contour\"}], \"contourcarpet\": [{\"colorbar\": {\"outlinewidth\": 0, \"ticks\": \"\"}, \"type\": \"contourcarpet\"}], \"heatmap\": [{\"colorbar\": {\"outlinewidth\": 0, \"ticks\": \"\"}, \"colorscale\": [[0.0, \"#0d0887\"], [0.1111111111111111, \"#46039f\"], [0.2222222222222222, \"#7201a8\"], [0.3333333333333333, \"#9c179e\"], [0.4444444444444444, \"#bd3786\"], [0.5555555555555556, \"#d8576b\"], [0.6666666666666666, \"#ed7953\"], [0.7777777777777778, \"#fb9f3a\"], [0.8888888888888888, \"#fdca26\"], [1.0, \"#f0f921\"]], \"type\": \"heatmap\"}], \"heatmapgl\": [{\"colorbar\": {\"outlinewidth\": 0, \"ticks\": \"\"}, \"colorscale\": [[0.0, \"#0d0887\"], [0.1111111111111111, \"#46039f\"], [0.2222222222222222, \"#7201a8\"], [0.3333333333333333, \"#9c179e\"], [0.4444444444444444, \"#bd3786\"], [0.5555555555555556, \"#d8576b\"], [0.6666666666666666, \"#ed7953\"], [0.7777777777777778, \"#fb9f3a\"], [0.8888888888888888, \"#fdca26\"], [1.0, \"#f0f921\"]], \"type\": \"heatmapgl\"}], \"histogram\": [{\"marker\": {\"colorbar\": {\"outlinewidth\": 0, \"ticks\": \"\"}}, \"type\": \"histogram\"}], \"histogram2d\": [{\"colorbar\": {\"outlinewidth\": 0, \"ticks\": \"\"}, \"colorscale\": [[0.0, \"#0d0887\"], [0.1111111111111111, \"#46039f\"], [0.2222222222222222, \"#7201a8\"], [0.3333333333333333, \"#9c179e\"], [0.4444444444444444, \"#bd3786\"], [0.5555555555555556, \"#d8576b\"], [0.6666666666666666, \"#ed7953\"], [0.7777777777777778, \"#fb9f3a\"], [0.8888888888888888, \"#fdca26\"], [1.0, \"#f0f921\"]], \"type\": \"histogram2d\"}], \"histogram2dcontour\": [{\"colorbar\": {\"outlinewidth\": 0, \"ticks\": \"\"}, \"colorscale\": [[0.0, \"#0d0887\"], [0.1111111111111111, \"#46039f\"], [0.2222222222222222, \"#7201a8\"], [0.3333333333333333, \"#9c179e\"], [0.4444444444444444, \"#bd3786\"], [0.5555555555555556, \"#d8576b\"], [0.6666666666666666, \"#ed7953\"], [0.7777777777777778, \"#fb9f3a\"], [0.8888888888888888, \"#fdca26\"], [1.0, \"#f0f921\"]], \"type\": \"histogram2dcontour\"}], \"mesh3d\": [{\"colorbar\": {\"outlinewidth\": 0, \"ticks\": \"\"}, \"type\": \"mesh3d\"}], \"parcoords\": [{\"line\": {\"colorbar\": {\"outlinewidth\": 0, \"ticks\": \"\"}}, \"type\": \"parcoords\"}], \"pie\": [{\"automargin\": true, \"type\": \"pie\"}], \"scatter\": [{\"marker\": {\"colorbar\": {\"outlinewidth\": 0, \"ticks\": \"\"}}, \"type\": \"scatter\"}], \"scatter3d\": [{\"line\": {\"colorbar\": {\"outlinewidth\": 0, \"ticks\": \"\"}}, \"marker\": {\"colorbar\": {\"outlinewidth\": 0, \"ticks\": \"\"}}, \"type\": \"scatter3d\"}], \"scattercarpet\": [{\"marker\": {\"colorbar\": {\"outlinewidth\": 0, \"ticks\": \"\"}}, \"type\": \"scattercarpet\"}], \"scattergeo\": [{\"marker\": {\"colorbar\": {\"outlinewidth\": 0, \"ticks\": \"\"}}, \"type\": \"scattergeo\"}], \"scattergl\": [{\"marker\": {\"colorbar\": {\"outlinewidth\": 0, \"ticks\": \"\"}}, \"type\": \"scattergl\"}], \"scattermapbox\": [{\"marker\": {\"colorbar\": {\"outlinewidth\": 0, \"ticks\": \"\"}}, \"type\": \"scattermapbox\"}], \"scatterpolar\": [{\"marker\": {\"colorbar\": {\"outlinewidth\": 0, \"ticks\": \"\"}}, \"type\": \"scatterpolar\"}], \"scatterpolargl\": [{\"marker\": {\"colorbar\": {\"outlinewidth\": 0, \"ticks\": \"\"}}, \"type\": \"scatterpolargl\"}], \"scatterternary\": [{\"marker\": {\"colorbar\": {\"outlinewidth\": 0, \"ticks\": \"\"}}, \"type\": \"scatterternary\"}], \"surface\": [{\"colorbar\": {\"outlinewidth\": 0, \"ticks\": \"\"}, \"colorscale\": [[0.0, \"#0d0887\"], [0.1111111111111111, \"#46039f\"], [0.2222222222222222, \"#7201a8\"], [0.3333333333333333, \"#9c179e\"], [0.4444444444444444, \"#bd3786\"], [0.5555555555555556, \"#d8576b\"], [0.6666666666666666, \"#ed7953\"], [0.7777777777777778, \"#fb9f3a\"], [0.8888888888888888, \"#fdca26\"], [1.0, \"#f0f921\"]], \"type\": \"surface\"}], \"table\": [{\"cells\": {\"fill\": {\"color\": \"#EBF0F8\"}, \"line\": {\"color\": \"white\"}}, \"header\": {\"fill\": {\"color\": \"#C8D4E3\"}, \"line\": {\"color\": \"white\"}}, \"type\": \"table\"}]}, \"layout\": {\"annotationdefaults\": {\"arrowcolor\": \"#2a3f5f\", \"arrowhead\": 0, \"arrowwidth\": 1}, \"coloraxis\": {\"colorbar\": {\"outlinewidth\": 0, \"ticks\": \"\"}}, \"colorscale\": {\"diverging\": [[0, \"#8e0152\"], [0.1, \"#c51b7d\"], [0.2, \"#de77ae\"], [0.3, \"#f1b6da\"], [0.4, \"#fde0ef\"], [0.5, \"#f7f7f7\"], [0.6, \"#e6f5d0\"], [0.7, \"#b8e186\"], [0.8, \"#7fbc41\"], [0.9, \"#4d9221\"], [1, \"#276419\"]], \"sequential\": [[0.0, \"#0d0887\"], [0.1111111111111111, \"#46039f\"], [0.2222222222222222, \"#7201a8\"], [0.3333333333333333, \"#9c179e\"], [0.4444444444444444, \"#bd3786\"], [0.5555555555555556, \"#d8576b\"], [0.6666666666666666, \"#ed7953\"], [0.7777777777777778, \"#fb9f3a\"], [0.8888888888888888, \"#fdca26\"], [1.0, \"#f0f921\"]], \"sequentialminus\": [[0.0, \"#0d0887\"], [0.1111111111111111, \"#46039f\"], [0.2222222222222222, \"#7201a8\"], [0.3333333333333333, \"#9c179e\"], [0.4444444444444444, \"#bd3786\"], [0.5555555555555556, \"#d8576b\"], [0.6666666666666666, \"#ed7953\"], [0.7777777777777778, \"#fb9f3a\"], [0.8888888888888888, \"#fdca26\"], [1.0, \"#f0f921\"]]}, \"colorway\": [\"#636efa\", \"#EF553B\", \"#00cc96\", \"#ab63fa\", \"#FFA15A\", \"#19d3f3\", \"#FF6692\", \"#B6E880\", \"#FF97FF\", \"#FECB52\"], \"font\": {\"color\": \"#2a3f5f\"}, \"geo\": {\"bgcolor\": \"white\", \"lakecolor\": \"white\", \"landcolor\": \"#E5ECF6\", \"showlakes\": true, \"showland\": true, \"subunitcolor\": \"white\"}, \"hoverlabel\": {\"align\": \"left\"}, \"hovermode\": \"closest\", \"mapbox\": {\"style\": \"light\"}, \"paper_bgcolor\": \"white\", \"plot_bgcolor\": \"#E5ECF6\", \"polar\": {\"angularaxis\": {\"gridcolor\": \"white\", \"linecolor\": \"white\", \"ticks\": \"\"}, \"bgcolor\": \"#E5ECF6\", \"radialaxis\": {\"gridcolor\": \"white\", \"linecolor\": \"white\", \"ticks\": \"\"}}, \"scene\": {\"xaxis\": {\"backgroundcolor\": \"#E5ECF6\", \"gridcolor\": \"white\", \"gridwidth\": 2, \"linecolor\": \"white\", \"showbackground\": true, \"ticks\": \"\", \"zerolinecolor\": \"white\"}, \"yaxis\": {\"backgroundcolor\": \"#E5ECF6\", \"gridcolor\": \"white\", \"gridwidth\": 2, \"linecolor\": \"white\", \"showbackground\": true, \"ticks\": \"\", \"zerolinecolor\": \"white\"}, \"zaxis\": {\"backgroundcolor\": \"#E5ECF6\", \"gridcolor\": \"white\", \"gridwidth\": 2, \"linecolor\": \"white\", \"showbackground\": true, \"ticks\": \"\", \"zerolinecolor\": \"white\"}}, \"shapedefaults\": {\"line\": {\"color\": \"#2a3f5f\"}}, \"ternary\": {\"aaxis\": {\"gridcolor\": \"white\", \"linecolor\": \"white\", \"ticks\": \"\"}, \"baxis\": {\"gridcolor\": \"white\", \"linecolor\": \"white\", \"ticks\": \"\"}, \"bgcolor\": \"#E5ECF6\", \"caxis\": {\"gridcolor\": \"white\", \"linecolor\": \"white\", \"ticks\": \"\"}}, \"title\": {\"x\": 0.05}, \"xaxis\": {\"automargin\": true, \"gridcolor\": \"white\", \"linecolor\": \"white\", \"ticks\": \"\", \"title\": {\"standoff\": 15}, \"zerolinecolor\": \"white\", \"zerolinewidth\": 2}, \"yaxis\": {\"automargin\": true, \"gridcolor\": \"white\", \"linecolor\": \"white\", \"ticks\": \"\", \"title\": {\"standoff\": 15}, \"zerolinecolor\": \"white\", \"zerolinewidth\": 2}}}, \"title\": {\"text\": \"Loss and Val_Loss in 15 Epochs\"}, \"xaxis\": {\"title\": {\"text\": \"Epoch\"}}, \"yaxis\": {\"title\": {\"text\": \"Loss\"}}},\n",
              "                        {\"showLink\": true, \"linkText\": \"Export to plot.ly\", \"plotlyServerURL\": \"https://plot.ly\", \"responsive\": true}\n",
              "                    ).then(function(){\n",
              "                            \n",
              "var gd = document.getElementById('54f217a3-ea4d-4fff-9bc3-ae9b850eb38b');\n",
              "var x = new MutationObserver(function (mutations, observer) {{\n",
              "        var display = window.getComputedStyle(gd).display;\n",
              "        if (!display || display === 'none') {{\n",
              "            console.log([gd, 'removed!']);\n",
              "            Plotly.purge(gd);\n",
              "            observer.disconnect();\n",
              "        }}\n",
              "}});\n",
              "\n",
              "// Listen for the removal of the full notebook cells\n",
              "var notebookContainer = gd.closest('#notebook-container');\n",
              "if (notebookContainer) {{\n",
              "    x.observe(notebookContainer, {childList: true});\n",
              "}}\n",
              "\n",
              "// Listen for the clearing of the current output cell\n",
              "var outputEl = gd.closest('.output');\n",
              "if (outputEl) {{\n",
              "    x.observe(outputEl, {childList: true});\n",
              "}}\n",
              "\n",
              "                        })\n",
              "                };\n",
              "                \n",
              "            </script>\n",
              "        </div>\n",
              "</body>\n",
              "</html>"
            ]
          },
          "metadata": {}
        }
      ]
    },
    {
      "cell_type": "code",
      "metadata": {
        "id": "Xh6W80okx1am"
      },
      "source": [
        "model = load_model('nmt_model')"
      ],
      "execution_count": 43,
      "outputs": []
    },
    {
      "cell_type": "code",
      "metadata": {
        "id": "2aw-RGuwx6TP"
      },
      "source": [
        "preds = np.argmax(model.predict(testX.reshape((testX.shape[0],testX.shape[1]))), axis=-1)"
      ],
      "execution_count": 44,
      "outputs": []
    },
    {
      "cell_type": "code",
      "metadata": {
        "id": "n-ygTHGVx7uI"
      },
      "source": [
        "def get_word(ids, tokenizer):\n",
        "    return tokenizer.DecodeIds(list(filter(lambda a: a != 0, ids.tolist())))"
      ],
      "execution_count": 45,
      "outputs": []
    },
    {
      "cell_type": "code",
      "metadata": {
        "id": "KY7unM4jyX1R"
      },
      "source": [
        "import random"
      ],
      "execution_count": 46,
      "outputs": []
    },
    {
      "cell_type": "code",
      "metadata": {
        "id": "L-fTM8sRtsxM"
      },
      "source": [
        ""
      ],
      "execution_count": 46,
      "outputs": []
    },
    {
      "cell_type": "code",
      "metadata": {
        "colab": {
          "base_uri": "https://localhost:8080/"
        },
        "id": "S2UcVF_NyZwo",
        "outputId": "3c443936-980a-4398-9f37-c8711e4fea02"
      },
      "source": [
        "y_indexs = random.sample(range(len(testY)),  30)\n",
        "\n",
        "for y_index in y_indexs: \n",
        "  print(f\"--- Index: {y_index}\")\n",
        "  print(f\"NL: {get_word(testX[y_index], nl_sp)}\") \n",
        "  print(f\"EN: {get_word(testY[y_index], en_sp)}\") \n",
        "  print(f\"MT: {get_word(preds[y_index], en_sp)}\")\n",
        " # print(get_word(k_preds[0][y_index], en_sp))\n",
        " # print(get_word(k_preds[1][y_index], en_sp))\n",
        " # print(get_word(k_preds[2][y_index], en_sp))"
      ],
      "execution_count": 47,
      "outputs": [
        {
          "output_type": "stream",
          "name": "stdout",
          "text": [
            "--- Index: 2430\n",
            "NL: 我 讓 我 的 哥哥 修理 我 的 腳踏車 。\n",
            "EN: I had my brother repair my bicycle.\n",
            "MT: I've brother my my my my..\n",
            "--- Index: 1600\n",
            "NL: 全家 都 病倒 了 。\n",
            "EN: The whole family was sick in bed.\n",
            "MT: The train was coming..\n",
            "--- Index: 2261\n",
            "NL: 甲 之 蜜糖 , 乙 之 砒霜 。\n",
            "EN: One man's meat is another man's poison.\n",
            "MT: An,,,,, the the..\n",
            "--- Index: 1183\n",
            "NL: 跟 你 一起 吃午 飯會 讓 我 高興 。\n",
            "EN: Eating lunch with you would make me happy.\n",
            "MT: Your you help me me me..\n",
            "--- Index: 1773\n",
            "NL: 你 也 是 学生 不是 吗 ?\n",
            "EN: You're a student, too, aren't you?\n",
            "MT: Younnnt you you you?\n",
            "--- Index: 180\n",
            "NL: 把 我 的 啤酒 給我 。\n",
            "EN: Give me my beer.\n",
            "MT: Bring me me me salt.\n",
            "--- Index: 2397\n",
            "NL: 他们 每天 必须 工作 8 小时 。\n",
            "EN: They must work  hours a day.\n",
            "MT: They work to a a last..\n",
            "--- Index: 408\n",
            "NL: 汤姆 希望 玛丽 不会 跟 约翰 谈恋爱 。\n",
            "EN: Tom didn't like the idea of Mary going out with John.\n",
            "MT: Tom told Mary''' would to to to..\n",
            "--- Index: 1941\n",
            "NL: 我們 要 等等 看會 發生 甚麼 。\n",
            "EN: We'll wait and see what happens.\n",
            "MT: We'll do to what what we do..\n",
            "--- Index: 2385\n",
            "NL: 我 没法 改变 昨天 发生 的 事情 。\n",
            "EN: I can't change what happened yesterday.\n",
            "MT: I haven't anything the that..\n",
            "--- Index: 336\n",
            "NL: 他 的 年紀 可以 開車 了 。\n",
            "EN: He is old enough to drive a car.\n",
            "MT: He's been to to..\n",
            "--- Index: 405\n",
            "NL: 那猫 没死 。\n",
            "EN: The cat is not dead.\n",
            "MT: That was is nottt.\n",
            "--- Index: 2599\n",
            "NL: 請安靜 地 關門 。\n",
            "EN: Please close the door quietly.\n",
            "MT: Please turn the the,..\n",
            "--- Index: 2077\n",
            "NL: 我 一切 都 很 好 。\n",
            "EN: I am quite all right now.\n",
            "MT: I'm good..\n",
            "--- Index: 1072\n",
            "NL: 他 和 她 一样 高 。\n",
            "EN: He is as tall as her.\n",
            "MT: He's as as as..\n",
            "--- Index: 996\n",
            "NL: 这 本书 对 你 来说 读 起来 太难 了 。\n",
            "EN: This book is too difficult for you to read.\n",
            "MT: This too too too too too too..\n",
            "--- Index: 2421\n",
            "NL: 突然 開始 下雨 。\n",
            "EN: Suddenly it began to rain.\n",
            "MT: It, started raining..\n",
            "--- Index: 129\n",
            "NL: 那 你 会 给 我 什么 ?\n",
            "EN: So, what'll you give me?\n",
            "MT: What will you make???\n",
            "--- Index: 1345\n",
            "NL: 你 應該 來 跟 我 說 。\n",
            "EN: You should've come and talked to me.\n",
            "MT: You should haveve..\n",
            "--- Index: 916\n",
            "NL: 一个 人 帮不了 许多 个 , 但 许多 人能 帮助 一个 。\n",
            "EN: One can't help many, but many can help one.\n",
            "MT: A cans,,,, can can can..\n",
            "--- Index: 1462\n",
            "NL: 任务 完成 。\n",
            "EN: Mission accomplished.\n",
            "MT: The' is at at the the..\n",
            "--- Index: 2349\n",
            "NL: 你 从来 没有 快乐 过 。\n",
            "EN: You've never been happy.\n",
            "MT: You'rewaysways..\n",
            "--- Index: 2500\n",
            "NL: 我 有 個 提案 。\n",
            "EN: I have a proposal.\n",
            "MT: I have a a..\n",
            "--- Index: 55\n",
            "NL: 学生 们 在 探讨 语言 和 文化 。\n",
            "EN: The students are talking about language and culture.\n",
            "MT: The are are are at at  and...\n",
            "--- Index: 114\n",
            "NL: 他們 往小鎮 方向 去 了 。\n",
            "EN: They made their way toward the town.\n",
            "MT: They goted the the..\n",
            "--- Index: 1851\n",
            "NL: 我 拿到 了 他 還給 我 的 錢 。\n",
            "EN: I got the money back from him.\n",
            "MT: I gave me to to..\n",
            "--- Index: 1948\n",
            "NL: 請 不要 問 。\n",
            "EN: Please don't ask.\n",
            "MT: Please don...\n",
            "--- Index: 1255\n",
            "NL: 小洞 及 時補 , 免遭 大洞 苦 。\n",
            "EN: A stitch in time saves nine.\n",
            "MT: The's too,,   ...\n",
            "--- Index: 2612\n",
            "NL: 太棒了 ! 你 一定 會 笑 的 。\n",
            "EN: It's great! You'll laugh for sure.\n",
            "MT: It's too too you you you...\n",
            "--- Index: 1572\n",
            "NL: 那 是 新 买 的 鞋子 吗 ?\n",
            "EN: Are those new shoes?\n",
            "MT: Is it a picture picture??\n"
          ]
        }
      ]
    },
    {
      "cell_type": "code",
      "metadata": {
        "id": "2SQyuM8Bya5q"
      },
      "source": [
        ""
      ],
      "execution_count": 47,
      "outputs": []
    }
  ]
}